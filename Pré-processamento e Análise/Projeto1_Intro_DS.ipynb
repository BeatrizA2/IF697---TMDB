{
  "cells": [
    {
      "cell_type": "markdown",
      "metadata": {
        "id": "7avPWzT6NYSa"
      },
      "source": [
        "Grupo:\n",
        "- Beatriz de Araújo Andrade (baa)\n",
        "- Thiago de Souza Farias (tsf)"
      ]
    },
    {
      "cell_type": "markdown",
      "metadata": {
        "id": "1N3vOiAueHds"
      },
      "source": [
        "## Descrição do Projeto"
      ]
    },
    {
      "cell_type": "markdown",
      "metadata": {
        "id": "O5siQyOwk4qK"
      },
      "source": [
        "Este projeto tem como objetivo analisar a relação entre diversas informações sobre filmes, visando entender melhor os padrões e tendências dentro da indústria cinematográfica. O conjunto de dados examinado contém informações detalhadas sobre os filmes, como popularidade, gênero, orçamento, receita, votos, data de lançamento e duração.\n",
        "\n",
        "Para enriquecer nossa análise, utilizamos a API do JustWatch para coletar os nomes das plataformas de streaming que disponibilizam cada filme, integrando essa informação ao dataset para uma análise posterior.\n",
        "\n",
        "O projeto está dividido em etapas distintas:\n",
        "\n",
        "1. **Coleta de Dados:** Inicialmente, coletamos os nomes das plataformas de streaming que disponibilizam cada filme, utilizando a API do JustWatch. (outro notebook), integrando-os ao dataset do TMDB.\n",
        "\n",
        "2. **Pré-processamento dos Dados:** Nesta etapa, realizamos diversas tarefas de preparação dos dados, como definição dos tipos de dados, tratamento de dados ausentes, normalização e discretização, e limpeza de dados univariada, bivariada e multivariada.\n",
        "\n",
        "3. **Análise Descritiva:** Apresentamos estatísticas descritivas dos dados por meio de visualizações, proporcionando insights sobre as características e distribuições das variáveis analisadas.\n",
        "\n",
        "4. **Teste de Hipóteses:** Realizamos testes de hipóteses para comparar valores de categorias e visualizar diferenças significativas entre os grupos analisados, ajudando a confirmar ou refutar suposições sobre as relações entre as variáveis.\n",
        "\n",
        "Este projeto visa fornecer uma compreensão mais profunda das dinâmicas presentes na indústria cinematográfica, explorando como diferentes variáveis estão inter-relacionadas e contribuem para o sucesso e recepção dos filmes."
      ]
    },
    {
      "cell_type": "markdown",
      "metadata": {
        "id": "vaEzeBNfLlGu"
      },
      "source": [
        "## Preparação do Ambiente e Carregamento dos dados"
      ]
    },
    {
      "cell_type": "code",
      "execution_count": null,
      "metadata": {
        "id": "mKIuavCHLYNA"
      },
      "outputs": [],
      "source": [
        "import pandas as pd\n",
        "import ast\n",
        "import numpy as np\n",
        "from sklearn.model_selection import train_test_split\n",
        "from sklearn.ensemble import RandomForestClassifier\n",
        "from sklearn.preprocessing import MultiLabelBinarizer\n",
        "from sklearn.multioutput import MultiOutputClassifier\n",
        "from sklearn.pipeline import Pipeline\n",
        "from sklearn.preprocessing import MinMaxScaler\n",
        "from sklearn.compose import ColumnTransformer\n",
        "from sklearn.impute import SimpleImputer\n",
        "from matplotlib import pyplot as plt\n",
        "import seaborn as sns"
      ]
    },
    {
      "cell_type": "code",
      "execution_count": null,
      "metadata": {
        "id": "fHDa2OYiLr25"
      },
      "outputs": [],
      "source": [
        "df = pd.read_csv('../Datasets/movies_with_streamings.csv')"
      ]
    },
    {
      "cell_type": "markdown",
      "metadata": {
        "id": "BjdIl_RmNA_7"
      },
      "source": [
        "## Contextualização dos dados"
      ]
    },
    {
      "cell_type": "code",
      "execution_count": null,
      "metadata": {
        "colab": {
          "base_uri": "https://localhost:8080/"
        },
        "id": "NfVYmd8DNG-4",
        "outputId": "6e314419-b5ef-4266-88c1-b88cba511b78"
      },
      "outputs": [
        {
          "data": {
            "text/plain": [
              "(10866, 22)"
            ]
          },
          "execution_count": 6,
          "metadata": {},
          "output_type": "execute_result"
        }
      ],
      "source": [
        "df.shape"
      ]
    },
    {
      "cell_type": "code",
      "execution_count": null,
      "metadata": {
        "colab": {
          "base_uri": "https://localhost:8080/",
          "height": 550
        },
        "id": "7kRJYFEjUnty",
        "outputId": "5e6de822-2271-4046-d001-10b21f5ff802"
      },
      "outputs": [
        {
          "data": {
            "text/html": [
              "<div>\n",
              "<style scoped>\n",
              "    .dataframe tbody tr th:only-of-type {\n",
              "        vertical-align: middle;\n",
              "    }\n",
              "\n",
              "    .dataframe tbody tr th {\n",
              "        vertical-align: top;\n",
              "    }\n",
              "\n",
              "    .dataframe thead th {\n",
              "        text-align: right;\n",
              "    }\n",
              "</style>\n",
              "<table border=\"1\" class=\"dataframe\">\n",
              "  <thead>\n",
              "    <tr style=\"text-align: right;\">\n",
              "      <th></th>\n",
              "      <th>id</th>\n",
              "      <th>imdb_id</th>\n",
              "      <th>popularity</th>\n",
              "      <th>budget</th>\n",
              "      <th>revenue</th>\n",
              "      <th>original_title</th>\n",
              "      <th>cast</th>\n",
              "      <th>homepage</th>\n",
              "      <th>director</th>\n",
              "      <th>tagline</th>\n",
              "      <th>...</th>\n",
              "      <th>runtime</th>\n",
              "      <th>genres</th>\n",
              "      <th>production_companies</th>\n",
              "      <th>release_date</th>\n",
              "      <th>vote_count</th>\n",
              "      <th>vote_average</th>\n",
              "      <th>release_year</th>\n",
              "      <th>budget_adj</th>\n",
              "      <th>revenue_adj</th>\n",
              "      <th>streaming_services</th>\n",
              "    </tr>\n",
              "  </thead>\n",
              "  <tbody>\n",
              "    <tr>\n",
              "      <th>0</th>\n",
              "      <td>135397</td>\n",
              "      <td>tt0369610</td>\n",
              "      <td>32.985763</td>\n",
              "      <td>150000000</td>\n",
              "      <td>1513528810</td>\n",
              "      <td>Jurassic World</td>\n",
              "      <td>Chris Pratt|Bryce Dallas Howard|Irrfan Khan|Vi...</td>\n",
              "      <td>http://www.jurassicworld.com/</td>\n",
              "      <td>Colin Trevorrow</td>\n",
              "      <td>The park is open.</td>\n",
              "      <td>...</td>\n",
              "      <td>124</td>\n",
              "      <td>Action|Adventure|Science Fiction|Thriller</td>\n",
              "      <td>Universal Studios|Amblin Entertainment|Legenda...</td>\n",
              "      <td>6/9/15</td>\n",
              "      <td>5562</td>\n",
              "      <td>6.5</td>\n",
              "      <td>2015</td>\n",
              "      <td>1.379999e+08</td>\n",
              "      <td>1.392446e+09</td>\n",
              "      <td>['Apple TV', 'Max', 'Google Play Movies', 'Max...</td>\n",
              "    </tr>\n",
              "    <tr>\n",
              "      <th>1</th>\n",
              "      <td>76341</td>\n",
              "      <td>tt1392190</td>\n",
              "      <td>28.419936</td>\n",
              "      <td>150000000</td>\n",
              "      <td>378436354</td>\n",
              "      <td>Mad Max: Fury Road</td>\n",
              "      <td>Tom Hardy|Charlize Theron|Hugh Keays-Byrne|Nic...</td>\n",
              "      <td>http://www.madmaxmovie.com/</td>\n",
              "      <td>George Miller</td>\n",
              "      <td>What a Lovely Day.</td>\n",
              "      <td>...</td>\n",
              "      <td>120</td>\n",
              "      <td>Action|Adventure|Science Fiction|Thriller</td>\n",
              "      <td>Village Roadshow Pictures|Kennedy Miller Produ...</td>\n",
              "      <td>5/13/15</td>\n",
              "      <td>6185</td>\n",
              "      <td>7.1</td>\n",
              "      <td>2015</td>\n",
              "      <td>1.379999e+08</td>\n",
              "      <td>3.481613e+08</td>\n",
              "      <td>['Apple TV', 'Max', 'TBS', 'tru TV', 'Google P...</td>\n",
              "    </tr>\n",
              "    <tr>\n",
              "      <th>2</th>\n",
              "      <td>262500</td>\n",
              "      <td>tt2908446</td>\n",
              "      <td>13.112507</td>\n",
              "      <td>110000000</td>\n",
              "      <td>295238201</td>\n",
              "      <td>Insurgent</td>\n",
              "      <td>Shailene Woodley|Theo James|Kate Winslet|Ansel...</td>\n",
              "      <td>http://www.thedivergentseries.movie/#insurgent</td>\n",
              "      <td>Robert Schwentke</td>\n",
              "      <td>One Choice Can Destroy You</td>\n",
              "      <td>...</td>\n",
              "      <td>119</td>\n",
              "      <td>Adventure|Science Fiction|Thriller</td>\n",
              "      <td>Summit Entertainment|Mandeville Films|Red Wago...</td>\n",
              "      <td>3/18/15</td>\n",
              "      <td>2480</td>\n",
              "      <td>6.3</td>\n",
              "      <td>2015</td>\n",
              "      <td>1.012000e+08</td>\n",
              "      <td>2.716190e+08</td>\n",
              "      <td>['Apple TV', 'Hulu', 'Google Play Movies', 'Mi...</td>\n",
              "    </tr>\n",
              "    <tr>\n",
              "      <th>3</th>\n",
              "      <td>140607</td>\n",
              "      <td>tt2488496</td>\n",
              "      <td>11.173104</td>\n",
              "      <td>200000000</td>\n",
              "      <td>2068178225</td>\n",
              "      <td>Star Wars: The Force Awakens</td>\n",
              "      <td>Harrison Ford|Mark Hamill|Carrie Fisher|Adam D...</td>\n",
              "      <td>http://www.starwars.com/films/star-wars-episod...</td>\n",
              "      <td>J.J. Abrams</td>\n",
              "      <td>Every generation has a story.</td>\n",
              "      <td>...</td>\n",
              "      <td>136</td>\n",
              "      <td>Action|Adventure|Science Fiction|Fantasy</td>\n",
              "      <td>Lucasfilm|Truenorth Productions|Bad Robot</td>\n",
              "      <td>12/15/15</td>\n",
              "      <td>5292</td>\n",
              "      <td>7.5</td>\n",
              "      <td>2015</td>\n",
              "      <td>1.839999e+08</td>\n",
              "      <td>1.902723e+09</td>\n",
              "      <td>['fuboTV', 'Apple TV', 'TBS', 'FXNow', 'tru TV...</td>\n",
              "    </tr>\n",
              "    <tr>\n",
              "      <th>4</th>\n",
              "      <td>168259</td>\n",
              "      <td>tt2820852</td>\n",
              "      <td>9.335014</td>\n",
              "      <td>190000000</td>\n",
              "      <td>1506249360</td>\n",
              "      <td>Furious 7</td>\n",
              "      <td>Vin Diesel|Paul Walker|Jason Statham|Michelle ...</td>\n",
              "      <td>http://www.furious7.com/</td>\n",
              "      <td>James Wan</td>\n",
              "      <td>Vengeance Hits Home</td>\n",
              "      <td>...</td>\n",
              "      <td>137</td>\n",
              "      <td>Action|Crime|Thriller</td>\n",
              "      <td>Universal Pictures|Original Film|Media Rights ...</td>\n",
              "      <td>4/1/15</td>\n",
              "      <td>2947</td>\n",
              "      <td>7.3</td>\n",
              "      <td>2015</td>\n",
              "      <td>1.747999e+08</td>\n",
              "      <td>1.385749e+09</td>\n",
              "      <td>['Apple TV', 'Max', 'Google Play Movies', 'Max...</td>\n",
              "    </tr>\n",
              "  </tbody>\n",
              "</table>\n",
              "<p>5 rows × 22 columns</p>\n",
              "</div>"
            ],
            "text/plain": [
              "       id    imdb_id  popularity     budget     revenue  \\\n",
              "0  135397  tt0369610   32.985763  150000000  1513528810   \n",
              "1   76341  tt1392190   28.419936  150000000   378436354   \n",
              "2  262500  tt2908446   13.112507  110000000   295238201   \n",
              "3  140607  tt2488496   11.173104  200000000  2068178225   \n",
              "4  168259  tt2820852    9.335014  190000000  1506249360   \n",
              "\n",
              "                 original_title  \\\n",
              "0                Jurassic World   \n",
              "1            Mad Max: Fury Road   \n",
              "2                     Insurgent   \n",
              "3  Star Wars: The Force Awakens   \n",
              "4                     Furious 7   \n",
              "\n",
              "                                                cast  \\\n",
              "0  Chris Pratt|Bryce Dallas Howard|Irrfan Khan|Vi...   \n",
              "1  Tom Hardy|Charlize Theron|Hugh Keays-Byrne|Nic...   \n",
              "2  Shailene Woodley|Theo James|Kate Winslet|Ansel...   \n",
              "3  Harrison Ford|Mark Hamill|Carrie Fisher|Adam D...   \n",
              "4  Vin Diesel|Paul Walker|Jason Statham|Michelle ...   \n",
              "\n",
              "                                            homepage          director  \\\n",
              "0                      http://www.jurassicworld.com/   Colin Trevorrow   \n",
              "1                        http://www.madmaxmovie.com/     George Miller   \n",
              "2     http://www.thedivergentseries.movie/#insurgent  Robert Schwentke   \n",
              "3  http://www.starwars.com/films/star-wars-episod...       J.J. Abrams   \n",
              "4                           http://www.furious7.com/         James Wan   \n",
              "\n",
              "                         tagline  ... runtime  \\\n",
              "0              The park is open.  ...     124   \n",
              "1             What a Lovely Day.  ...     120   \n",
              "2     One Choice Can Destroy You  ...     119   \n",
              "3  Every generation has a story.  ...     136   \n",
              "4            Vengeance Hits Home  ...     137   \n",
              "\n",
              "                                      genres  \\\n",
              "0  Action|Adventure|Science Fiction|Thriller   \n",
              "1  Action|Adventure|Science Fiction|Thriller   \n",
              "2         Adventure|Science Fiction|Thriller   \n",
              "3   Action|Adventure|Science Fiction|Fantasy   \n",
              "4                      Action|Crime|Thriller   \n",
              "\n",
              "                                production_companies release_date vote_count  \\\n",
              "0  Universal Studios|Amblin Entertainment|Legenda...       6/9/15       5562   \n",
              "1  Village Roadshow Pictures|Kennedy Miller Produ...      5/13/15       6185   \n",
              "2  Summit Entertainment|Mandeville Films|Red Wago...      3/18/15       2480   \n",
              "3          Lucasfilm|Truenorth Productions|Bad Robot     12/15/15       5292   \n",
              "4  Universal Pictures|Original Film|Media Rights ...       4/1/15       2947   \n",
              "\n",
              "  vote_average  release_year    budget_adj   revenue_adj  \\\n",
              "0          6.5          2015  1.379999e+08  1.392446e+09   \n",
              "1          7.1          2015  1.379999e+08  3.481613e+08   \n",
              "2          6.3          2015  1.012000e+08  2.716190e+08   \n",
              "3          7.5          2015  1.839999e+08  1.902723e+09   \n",
              "4          7.3          2015  1.747999e+08  1.385749e+09   \n",
              "\n",
              "                                  streaming_services  \n",
              "0  ['Apple TV', 'Max', 'Google Play Movies', 'Max...  \n",
              "1  ['Apple TV', 'Max', 'TBS', 'tru TV', 'Google P...  \n",
              "2  ['Apple TV', 'Hulu', 'Google Play Movies', 'Mi...  \n",
              "3  ['fuboTV', 'Apple TV', 'TBS', 'FXNow', 'tru TV...  \n",
              "4  ['Apple TV', 'Max', 'Google Play Movies', 'Max...  \n",
              "\n",
              "[5 rows x 22 columns]"
            ]
          },
          "execution_count": 7,
          "metadata": {},
          "output_type": "execute_result"
        }
      ],
      "source": [
        "df.head()"
      ]
    },
    {
      "cell_type": "code",
      "execution_count": null,
      "metadata": {
        "colab": {
          "base_uri": "https://localhost:8080/"
        },
        "id": "BRCzFCLMNP2V",
        "outputId": "721c17c9-9f3e-4b31-c5bc-b991eb4ed81c"
      },
      "outputs": [
        {
          "data": {
            "text/plain": [
              "Index(['id', 'imdb_id', 'popularity', 'budget', 'revenue', 'original_title',\n",
              "       'cast', 'homepage', 'director', 'tagline', 'keywords', 'overview',\n",
              "       'runtime', 'genres', 'production_companies', 'release_date',\n",
              "       'vote_count', 'vote_average', 'release_year', 'budget_adj',\n",
              "       'revenue_adj', 'streaming_services'],\n",
              "      dtype='object')"
            ]
          },
          "execution_count": 8,
          "metadata": {},
          "output_type": "execute_result"
        }
      ],
      "source": [
        "df.columns"
      ]
    },
    {
      "cell_type": "markdown",
      "metadata": {
        "id": "RtGj_QsnTThm"
      },
      "source": [
        "Ao realizar uma análise preliminar do nosso conjunto de dados, observamos que ele contém 10.866 amostras, com informações divididas em 6 variáveis nominais, 7 variáveis categóricas, 8 variáveis numéricas e 1 variável temporal.\n",
        "\n",
        "- **Variável nominal:**\n",
        "  - **original_title**: Título original do filme.\n",
        "  - **id**: Identificador único do filme.\n",
        "  - **imdb_id**: Identificador IMDb do filme.\n",
        "  - **tagline**: Frase de efeito associada ao filme.\n",
        "  - **overview**: Resumo do filme.\n",
        "  - **homepage**: Endereço do website do filme.\n",
        "\n",
        "\n",
        "- **Variáveis categóricas:**\n",
        "  - **cast**: Lista de atores principais do filme.\n",
        "  - **director**: Nome do diretor do filme.\n",
        "  - **keywords**: Palavras-chave associadas ao filme.\n",
        "  - **genres**: Gêneros aos quais o filme pertence.\n",
        "  - **production_companies**: Lista das produtoras que participaram do filme.\n",
        "  - **streaming_services**: Nomes das plataformas de streaming que disponibilizam o filme.\n",
        "  - **release_year**: Ano de lançamento do filme.\n",
        "\n",
        "- **Variáveis numéricas:**\n",
        "  - **popularity**: Medida de popularidade do filme.\n",
        "  - **budget**: Orçamento do filme em dólares.\n",
        "  - **revenue**: Receita gerada pelo filme em dólares.\n",
        "  - **runtime**: Duração do filme em minutos.\n",
        "  - **vote_count**: Número de votos recebidos.\n",
        "  - **vote_average**: Média das avaliações recebidas (valor de 0 a 10, baseado na plataforma IMDb).\n",
        "  - **budget_adj**: Orçamento ajustado pela inflação.\n",
        "  - **revenue_adj**: Receita ajustada pela inflação.\n",
        "\n",
        "- **Variável temporal**\n",
        "    - **release_date**:Data de lançamento do filme.\n"
      ]
    },
    {
      "cell_type": "markdown",
      "metadata": {
        "id": "wQdMlSGqwpYe"
      },
      "source": [
        "## Pré-processamento dos Dados"
      ]
    },
    {
      "cell_type": "markdown",
      "metadata": {
        "id": "RRqJvohzjeTs"
      },
      "source": [
        "### Remoção de colunas irrelevantes"
      ]
    },
    {
      "cell_type": "markdown",
      "metadata": {
        "id": "nMjC-KiBQHNs"
      },
      "source": [
        "Ao avaliar as variáveis do dataset, observamos que algumas são desnecessárias para a análise. Portanto, removeremos do DataFrame as seguintes colunas:\n",
        "\n",
        "- **id**, **imdb_id**, **tagline**, **overview**, **homepage**, **original_title**, **keywords**, **cast**, **director**, **production_company**, **release_date**, **runtime**: Estas colunas são consideradas desnecessárias para a análise.\n",
        "\n",
        "Essa simplificação ajudará a focar na análise das variáveis mais relevantes e a evitar redundâncias no dataset."
      ]
    },
    {
      "cell_type": "code",
      "execution_count": null,
      "metadata": {
        "colab": {
          "base_uri": "https://localhost:8080/"
        },
        "id": "ipLH16DVmxYo",
        "outputId": "182b2ff4-66a2-4fc7-8a16-b315d9b107de"
      },
      "outputs": [
        {
          "data": {
            "text/html": [
              "<div>\n",
              "<style scoped>\n",
              "    .dataframe tbody tr th:only-of-type {\n",
              "        vertical-align: middle;\n",
              "    }\n",
              "\n",
              "    .dataframe tbody tr th {\n",
              "        vertical-align: top;\n",
              "    }\n",
              "\n",
              "    .dataframe thead th {\n",
              "        text-align: right;\n",
              "    }\n",
              "</style>\n",
              "<table border=\"1\" class=\"dataframe\">\n",
              "  <thead>\n",
              "    <tr style=\"text-align: right;\">\n",
              "      <th></th>\n",
              "      <th>popularity</th>\n",
              "      <th>budget</th>\n",
              "      <th>revenue</th>\n",
              "      <th>genres</th>\n",
              "      <th>vote_count</th>\n",
              "      <th>vote_average</th>\n",
              "      <th>release_year</th>\n",
              "      <th>budget_adj</th>\n",
              "      <th>revenue_adj</th>\n",
              "      <th>streaming_services</th>\n",
              "    </tr>\n",
              "  </thead>\n",
              "  <tbody>\n",
              "    <tr>\n",
              "      <th>0</th>\n",
              "      <td>32.985763</td>\n",
              "      <td>150000000</td>\n",
              "      <td>1513528810</td>\n",
              "      <td>Action|Adventure|Science Fiction|Thriller</td>\n",
              "      <td>5562</td>\n",
              "      <td>6.5</td>\n",
              "      <td>2015</td>\n",
              "      <td>1.379999e+08</td>\n",
              "      <td>1.392446e+09</td>\n",
              "      <td>['Apple TV', 'Max', 'Google Play Movies', 'Max...</td>\n",
              "    </tr>\n",
              "    <tr>\n",
              "      <th>1</th>\n",
              "      <td>28.419936</td>\n",
              "      <td>150000000</td>\n",
              "      <td>378436354</td>\n",
              "      <td>Action|Adventure|Science Fiction|Thriller</td>\n",
              "      <td>6185</td>\n",
              "      <td>7.1</td>\n",
              "      <td>2015</td>\n",
              "      <td>1.379999e+08</td>\n",
              "      <td>3.481613e+08</td>\n",
              "      <td>['Apple TV', 'Max', 'TBS', 'tru TV', 'Google P...</td>\n",
              "    </tr>\n",
              "    <tr>\n",
              "      <th>2</th>\n",
              "      <td>13.112507</td>\n",
              "      <td>110000000</td>\n",
              "      <td>295238201</td>\n",
              "      <td>Adventure|Science Fiction|Thriller</td>\n",
              "      <td>2480</td>\n",
              "      <td>6.3</td>\n",
              "      <td>2015</td>\n",
              "      <td>1.012000e+08</td>\n",
              "      <td>2.716190e+08</td>\n",
              "      <td>['Apple TV', 'Hulu', 'Google Play Movies', 'Mi...</td>\n",
              "    </tr>\n",
              "    <tr>\n",
              "      <th>3</th>\n",
              "      <td>11.173104</td>\n",
              "      <td>200000000</td>\n",
              "      <td>2068178225</td>\n",
              "      <td>Action|Adventure|Science Fiction|Fantasy</td>\n",
              "      <td>5292</td>\n",
              "      <td>7.5</td>\n",
              "      <td>2015</td>\n",
              "      <td>1.839999e+08</td>\n",
              "      <td>1.902723e+09</td>\n",
              "      <td>['fuboTV', 'Apple TV', 'TBS', 'FXNow', 'tru TV...</td>\n",
              "    </tr>\n",
              "    <tr>\n",
              "      <th>4</th>\n",
              "      <td>9.335014</td>\n",
              "      <td>190000000</td>\n",
              "      <td>1506249360</td>\n",
              "      <td>Action|Crime|Thriller</td>\n",
              "      <td>2947</td>\n",
              "      <td>7.3</td>\n",
              "      <td>2015</td>\n",
              "      <td>1.747999e+08</td>\n",
              "      <td>1.385749e+09</td>\n",
              "      <td>['Apple TV', 'Max', 'Google Play Movies', 'Max...</td>\n",
              "    </tr>\n",
              "  </tbody>\n",
              "</table>\n",
              "</div>"
            ],
            "text/plain": [
              "   popularity     budget     revenue  \\\n",
              "0   32.985763  150000000  1513528810   \n",
              "1   28.419936  150000000   378436354   \n",
              "2   13.112507  110000000   295238201   \n",
              "3   11.173104  200000000  2068178225   \n",
              "4    9.335014  190000000  1506249360   \n",
              "\n",
              "                                      genres  vote_count  vote_average  \\\n",
              "0  Action|Adventure|Science Fiction|Thriller        5562           6.5   \n",
              "1  Action|Adventure|Science Fiction|Thriller        6185           7.1   \n",
              "2         Adventure|Science Fiction|Thriller        2480           6.3   \n",
              "3   Action|Adventure|Science Fiction|Fantasy        5292           7.5   \n",
              "4                      Action|Crime|Thriller        2947           7.3   \n",
              "\n",
              "   release_year    budget_adj   revenue_adj  \\\n",
              "0          2015  1.379999e+08  1.392446e+09   \n",
              "1          2015  1.379999e+08  3.481613e+08   \n",
              "2          2015  1.012000e+08  2.716190e+08   \n",
              "3          2015  1.839999e+08  1.902723e+09   \n",
              "4          2015  1.747999e+08  1.385749e+09   \n",
              "\n",
              "                                  streaming_services  \n",
              "0  ['Apple TV', 'Max', 'Google Play Movies', 'Max...  \n",
              "1  ['Apple TV', 'Max', 'TBS', 'tru TV', 'Google P...  \n",
              "2  ['Apple TV', 'Hulu', 'Google Play Movies', 'Mi...  \n",
              "3  ['fuboTV', 'Apple TV', 'TBS', 'FXNow', 'tru TV...  \n",
              "4  ['Apple TV', 'Max', 'Google Play Movies', 'Max...  "
            ]
          },
          "execution_count": 9,
          "metadata": {},
          "output_type": "execute_result"
        }
      ],
      "source": [
        "col_to_drop = ['id', 'imdb_id', 'tagline', 'overview', 'homepage', 'original_title', 'keywords', 'cast', 'director', 'production_companies', 'release_date', 'runtime']\n",
        "df.drop(columns=col_to_drop, inplace=True)\n",
        "df.head()"
      ]
    },
    {
      "cell_type": "code",
      "execution_count": null,
      "metadata": {
        "colab": {
          "base_uri": "https://localhost:8080/"
        },
        "id": "z7VxFAFet2Fq",
        "outputId": "06b25009-f011-4007-9b88-342cb57d4928"
      },
      "outputs": [
        {
          "data": {
            "text/plain": [
              "Index(['popularity', 'budget', 'revenue', 'genres', 'vote_count',\n",
              "       'vote_average', 'release_year', 'budget_adj', 'revenue_adj',\n",
              "       'streaming_services'],\n",
              "      dtype='object')"
            ]
          },
          "execution_count": 10,
          "metadata": {},
          "output_type": "execute_result"
        }
      ],
      "source": [
        "df.columns"
      ]
    },
    {
      "cell_type": "markdown",
      "metadata": {
        "id": "Ekt-1la_JmcA"
      },
      "source": [
        "#### Remoção de colunas com muitos dados zerados"
      ]
    },
    {
      "cell_type": "code",
      "execution_count": null,
      "metadata": {
        "colab": {
          "base_uri": "https://localhost:8080/"
        },
        "id": "34Ym-X0IJmcA",
        "outputId": "b86581b4-4244-4e6c-9899-303e130ccd1c"
      },
      "outputs": [
        {
          "data": {
            "text/plain": [
              "popularity         0\n",
              "budget          5696\n",
              "revenue         6016\n",
              "vote_average       0\n",
              "vote_count         0\n",
              "budget_adj      5696\n",
              "revenue_adj     6016\n",
              "dtype: int64"
            ]
          },
          "execution_count": 11,
          "metadata": {},
          "output_type": "execute_result"
        }
      ],
      "source": [
        "colunas_numericas = ['popularity', 'budget', 'revenue', 'vote_average', 'vote_count', 'budget_adj', 'revenue_adj']\n",
        "\n",
        "df[colunas_numericas][df[colunas_numericas] == 0].count()"
      ]
    },
    {
      "cell_type": "markdown",
      "metadata": {
        "id": "B3I5sHHSJmcB"
      },
      "source": [
        "É importante avaliar as colunas numéricas do dataset para identificar e remover aquelas que apresentam uma quantidade significativa de valores zero, não sendo possível fazer uma inputação relevante.\n",
        " E como mais da metade dos valores para **budget**, **revenue**, **budget_adj** e **revenue_adj** são iguais a zero, então removeremos essas colunas."
      ]
    },
    {
      "cell_type": "code",
      "execution_count": null,
      "metadata": {
        "colab": {
          "base_uri": "https://localhost:8080/"
        },
        "id": "G0dnpOtRJmcB",
        "outputId": "ebce331d-9562-4cc6-f3c3-55f40eac6098"
      },
      "outputs": [
        {
          "data": {
            "text/html": [
              "<div>\n",
              "<style scoped>\n",
              "    .dataframe tbody tr th:only-of-type {\n",
              "        vertical-align: middle;\n",
              "    }\n",
              "\n",
              "    .dataframe tbody tr th {\n",
              "        vertical-align: top;\n",
              "    }\n",
              "\n",
              "    .dataframe thead th {\n",
              "        text-align: right;\n",
              "    }\n",
              "</style>\n",
              "<table border=\"1\" class=\"dataframe\">\n",
              "  <thead>\n",
              "    <tr style=\"text-align: right;\">\n",
              "      <th></th>\n",
              "      <th>popularity</th>\n",
              "      <th>genres</th>\n",
              "      <th>vote_count</th>\n",
              "      <th>vote_average</th>\n",
              "      <th>release_year</th>\n",
              "      <th>streaming_services</th>\n",
              "    </tr>\n",
              "  </thead>\n",
              "  <tbody>\n",
              "    <tr>\n",
              "      <th>0</th>\n",
              "      <td>32.985763</td>\n",
              "      <td>Action|Adventure|Science Fiction|Thriller</td>\n",
              "      <td>5562</td>\n",
              "      <td>6.5</td>\n",
              "      <td>2015</td>\n",
              "      <td>['Apple TV', 'Max', 'Google Play Movies', 'Max...</td>\n",
              "    </tr>\n",
              "    <tr>\n",
              "      <th>1</th>\n",
              "      <td>28.419936</td>\n",
              "      <td>Action|Adventure|Science Fiction|Thriller</td>\n",
              "      <td>6185</td>\n",
              "      <td>7.1</td>\n",
              "      <td>2015</td>\n",
              "      <td>['Apple TV', 'Max', 'TBS', 'tru TV', 'Google P...</td>\n",
              "    </tr>\n",
              "    <tr>\n",
              "      <th>2</th>\n",
              "      <td>13.112507</td>\n",
              "      <td>Adventure|Science Fiction|Thriller</td>\n",
              "      <td>2480</td>\n",
              "      <td>6.3</td>\n",
              "      <td>2015</td>\n",
              "      <td>['Apple TV', 'Hulu', 'Google Play Movies', 'Mi...</td>\n",
              "    </tr>\n",
              "    <tr>\n",
              "      <th>3</th>\n",
              "      <td>11.173104</td>\n",
              "      <td>Action|Adventure|Science Fiction|Fantasy</td>\n",
              "      <td>5292</td>\n",
              "      <td>7.5</td>\n",
              "      <td>2015</td>\n",
              "      <td>['fuboTV', 'Apple TV', 'TBS', 'FXNow', 'tru TV...</td>\n",
              "    </tr>\n",
              "    <tr>\n",
              "      <th>4</th>\n",
              "      <td>9.335014</td>\n",
              "      <td>Action|Crime|Thriller</td>\n",
              "      <td>2947</td>\n",
              "      <td>7.3</td>\n",
              "      <td>2015</td>\n",
              "      <td>['Apple TV', 'Max', 'Google Play Movies', 'Max...</td>\n",
              "    </tr>\n",
              "  </tbody>\n",
              "</table>\n",
              "</div>"
            ],
            "text/plain": [
              "   popularity                                     genres  vote_count  \\\n",
              "0   32.985763  Action|Adventure|Science Fiction|Thriller        5562   \n",
              "1   28.419936  Action|Adventure|Science Fiction|Thriller        6185   \n",
              "2   13.112507         Adventure|Science Fiction|Thriller        2480   \n",
              "3   11.173104   Action|Adventure|Science Fiction|Fantasy        5292   \n",
              "4    9.335014                      Action|Crime|Thriller        2947   \n",
              "\n",
              "   vote_average  release_year  \\\n",
              "0           6.5          2015   \n",
              "1           7.1          2015   \n",
              "2           6.3          2015   \n",
              "3           7.5          2015   \n",
              "4           7.3          2015   \n",
              "\n",
              "                                  streaming_services  \n",
              "0  ['Apple TV', 'Max', 'Google Play Movies', 'Max...  \n",
              "1  ['Apple TV', 'Max', 'TBS', 'tru TV', 'Google P...  \n",
              "2  ['Apple TV', 'Hulu', 'Google Play Movies', 'Mi...  \n",
              "3  ['fuboTV', 'Apple TV', 'TBS', 'FXNow', 'tru TV...  \n",
              "4  ['Apple TV', 'Max', 'Google Play Movies', 'Max...  "
            ]
          },
          "execution_count": 12,
          "metadata": {},
          "output_type": "execute_result"
        }
      ],
      "source": [
        "col_to_drop = ['budget', 'revenue', 'budget_adj', 'revenue_adj']\n",
        "df.drop(columns=col_to_drop, inplace=True)\n",
        "df.head()"
      ]
    },
    {
      "cell_type": "markdown",
      "metadata": {
        "id": "vzk39A7JwTgU"
      },
      "source": [
        "### Tratamento de dados replicados"
      ]
    },
    {
      "cell_type": "markdown",
      "metadata": {
        "id": "rmyBHUGkwm4s"
      },
      "source": [
        "Antes de definirmos os tipos de dados, é necessário tratá-los, especialmente considerando a possibilidade de duplicações. Isso se deve ao fato de que uma das variáveis será convertida em uma lista, e esse tipo de dado é considerado \"unhashable\", o que pode interferir no funcionamento adequado da função \"duplicated\", que é utilizada para identificar duplicatas nos dados."
      ]
    },
    {
      "cell_type": "markdown",
      "metadata": {
        "id": "eNVdkLb0wbZH"
      },
      "source": [
        "**Verificando a existência de dados duplicados e removendo-os**"
      ]
    },
    {
      "cell_type": "code",
      "execution_count": null,
      "metadata": {
        "colab": {
          "base_uri": "https://localhost:8080/"
        },
        "id": "9jmaLwTSwaNc",
        "outputId": "77cbda7a-8074-47d8-d40a-f8b60910f30c"
      },
      "outputs": [
        {
          "data": {
            "text/plain": [
              "1"
            ]
          },
          "execution_count": 13,
          "metadata": {},
          "output_type": "execute_result"
        }
      ],
      "source": [
        "df.duplicated().sum()"
      ]
    },
    {
      "cell_type": "code",
      "execution_count": null,
      "metadata": {
        "colab": {
          "base_uri": "https://localhost:8080/"
        },
        "id": "OsY861tzwepd",
        "outputId": "4ae94a65-8c79-480f-f46c-7b9826ff21c7"
      },
      "outputs": [
        {
          "data": {
            "text/plain": [
              "(10865, 6)"
            ]
          },
          "execution_count": 14,
          "metadata": {},
          "output_type": "execute_result"
        }
      ],
      "source": [
        "df.drop_duplicates(inplace=True)\n",
        "df.shape"
      ]
    },
    {
      "cell_type": "markdown",
      "metadata": {
        "id": "GlA2YDRMuH9b"
      },
      "source": [
        "### Definição dos tipos dos dados"
      ]
    },
    {
      "cell_type": "code",
      "execution_count": null,
      "metadata": {
        "colab": {
          "base_uri": "https://localhost:8080/"
        },
        "id": "ub7SUjwu0tGG",
        "outputId": "0d265ae3-f01e-4f9f-eb79-6c8f30e420c0"
      },
      "outputs": [
        {
          "data": {
            "text/plain": [
              "popularity            float64\n",
              "genres                 object\n",
              "vote_count              int64\n",
              "vote_average          float64\n",
              "release_year            int64\n",
              "streaming_services     object\n",
              "dtype: object"
            ]
          },
          "execution_count": 15,
          "metadata": {},
          "output_type": "execute_result"
        }
      ],
      "source": [
        "df.dtypes"
      ]
    },
    {
      "cell_type": "markdown",
      "metadata": {
        "id": "oGyELMF16Z84"
      },
      "source": [
        "Ao examinarmos os tipos das nossas variáveis, notamos que as variáveis categóricas \"genres\", \"streaming_services\" e \"release_year\" não foram definidas adequadamente.\n",
        "\n",
        "Dessa forma, vamos implementar as seguintes modificações:\n",
        "\n",
        "- A variável \"release_year\" será convertida para o tipo categoria.\n",
        "- As variáveis \"genres\" e \"streaming_services\" terão seus valores transformados em listas para serem tratadas posteriormente.\n",
        "\n",
        "Para a variável \"genres\", as categorias estão agrupadas em uma única string, com os gêneros separados por \"|\". Portanto, iremos dividir a string usando o delimitador mencionado e converter os valores em uma lista.\n",
        "\n",
        "No caso da variável \"streaming_services\", as categorias já estão em formato de lista, mas foram importadas como tipo \"object\", o que, a priori, significa que são tratadas como strings. Além disso, iremos remover das listas os nomes das plataformas de streaming que não serão analisadas. As plataformas que serão analisadas são: Netflix, Max, Amazon Prime, Disney Plus e Hulu, as mais populares no Brasil."
      ]
    },
    {
      "cell_type": "markdown",
      "metadata": {
        "id": "rG9Nh6WzkOdV"
      },
      "source": [
        "**Definindo o tipo de release_date como \"category\"**"
      ]
    },
    {
      "cell_type": "code",
      "execution_count": null,
      "metadata": {
        "colab": {
          "base_uri": "https://localhost:8080/"
        },
        "id": "Y_hRSDuU2XDj",
        "outputId": "e4d836f7-a2a0-4cbd-de51-860a2f2d75cb"
      },
      "outputs": [
        {
          "data": {
            "text/html": [
              "<div>\n",
              "<style scoped>\n",
              "    .dataframe tbody tr th:only-of-type {\n",
              "        vertical-align: middle;\n",
              "    }\n",
              "\n",
              "    .dataframe tbody tr th {\n",
              "        vertical-align: top;\n",
              "    }\n",
              "\n",
              "    .dataframe thead th {\n",
              "        text-align: right;\n",
              "    }\n",
              "</style>\n",
              "<table border=\"1\" class=\"dataframe\">\n",
              "  <thead>\n",
              "    <tr style=\"text-align: right;\">\n",
              "      <th></th>\n",
              "      <th>popularity</th>\n",
              "      <th>genres</th>\n",
              "      <th>vote_count</th>\n",
              "      <th>vote_average</th>\n",
              "      <th>release_year</th>\n",
              "      <th>streaming_services</th>\n",
              "    </tr>\n",
              "  </thead>\n",
              "  <tbody>\n",
              "    <tr>\n",
              "      <th>0</th>\n",
              "      <td>32.985763</td>\n",
              "      <td>Action|Adventure|Science Fiction|Thriller</td>\n",
              "      <td>5562</td>\n",
              "      <td>6.5</td>\n",
              "      <td>55</td>\n",
              "      <td>['Apple TV', 'Max', 'Google Play Movies', 'Max...</td>\n",
              "    </tr>\n",
              "    <tr>\n",
              "      <th>1</th>\n",
              "      <td>28.419936</td>\n",
              "      <td>Action|Adventure|Science Fiction|Thriller</td>\n",
              "      <td>6185</td>\n",
              "      <td>7.1</td>\n",
              "      <td>55</td>\n",
              "      <td>['Apple TV', 'Max', 'TBS', 'tru TV', 'Google P...</td>\n",
              "    </tr>\n",
              "    <tr>\n",
              "      <th>2</th>\n",
              "      <td>13.112507</td>\n",
              "      <td>Adventure|Science Fiction|Thriller</td>\n",
              "      <td>2480</td>\n",
              "      <td>6.3</td>\n",
              "      <td>55</td>\n",
              "      <td>['Apple TV', 'Hulu', 'Google Play Movies', 'Mi...</td>\n",
              "    </tr>\n",
              "    <tr>\n",
              "      <th>3</th>\n",
              "      <td>11.173104</td>\n",
              "      <td>Action|Adventure|Science Fiction|Fantasy</td>\n",
              "      <td>5292</td>\n",
              "      <td>7.5</td>\n",
              "      <td>55</td>\n",
              "      <td>['fuboTV', 'Apple TV', 'TBS', 'FXNow', 'tru TV...</td>\n",
              "    </tr>\n",
              "    <tr>\n",
              "      <th>4</th>\n",
              "      <td>9.335014</td>\n",
              "      <td>Action|Crime|Thriller</td>\n",
              "      <td>2947</td>\n",
              "      <td>7.3</td>\n",
              "      <td>55</td>\n",
              "      <td>['Apple TV', 'Max', 'Google Play Movies', 'Max...</td>\n",
              "    </tr>\n",
              "  </tbody>\n",
              "</table>\n",
              "</div>"
            ],
            "text/plain": [
              "   popularity                                     genres  vote_count  \\\n",
              "0   32.985763  Action|Adventure|Science Fiction|Thriller        5562   \n",
              "1   28.419936  Action|Adventure|Science Fiction|Thriller        6185   \n",
              "2   13.112507         Adventure|Science Fiction|Thriller        2480   \n",
              "3   11.173104   Action|Adventure|Science Fiction|Fantasy        5292   \n",
              "4    9.335014                      Action|Crime|Thriller        2947   \n",
              "\n",
              "   vote_average  release_year  \\\n",
              "0           6.5            55   \n",
              "1           7.1            55   \n",
              "2           6.3            55   \n",
              "3           7.5            55   \n",
              "4           7.3            55   \n",
              "\n",
              "                                  streaming_services  \n",
              "0  ['Apple TV', 'Max', 'Google Play Movies', 'Max...  \n",
              "1  ['Apple TV', 'Max', 'TBS', 'tru TV', 'Google P...  \n",
              "2  ['Apple TV', 'Hulu', 'Google Play Movies', 'Mi...  \n",
              "3  ['fuboTV', 'Apple TV', 'TBS', 'FXNow', 'tru TV...  \n",
              "4  ['Apple TV', 'Max', 'Google Play Movies', 'Max...  "
            ]
          },
          "execution_count": 16,
          "metadata": {},
          "output_type": "execute_result"
        }
      ],
      "source": [
        "df['release_year'] = df['release_year'].astype(\"category\")\n",
        "df['release_year'] = df['release_year'].cat.codes\n",
        "df.head()"
      ]
    },
    {
      "cell_type": "code",
      "execution_count": null,
      "metadata": {
        "colab": {
          "base_uri": "https://localhost:8080/"
        },
        "id": "jQD-7fj-VIlc",
        "outputId": "b3d89a69-3c4e-4600-bfa8-52aa64665b06"
      },
      "outputs": [
        {
          "data": {
            "text/plain": [
              "56"
            ]
          },
          "execution_count": 17,
          "metadata": {},
          "output_type": "execute_result"
        }
      ],
      "source": [
        "len(df['release_year'].unique())"
      ]
    },
    {
      "cell_type": "markdown",
      "metadata": {
        "id": "LF1ckV7HVPmU"
      },
      "source": [
        "Observa-se que a variável \"release_year\" apresenta 56 categorias distintas. Isso representa um desafio futuro, pois a aplicação de one-hot encoding para todas as categorias seria inviável, resultando em um acréscimo de 56 colunas no conjunto de dados. Esse aumento significativo de dimensões dificulta o treinamento do modelo e pode comprometer sua performance."
      ]
    },
    {
      "cell_type": "markdown",
      "metadata": {
        "id": "4v_krzfGsYVo"
      },
      "source": [
        "**Transformando os valores de \"genres\" em listas**"
      ]
    },
    {
      "cell_type": "code",
      "execution_count": null,
      "metadata": {
        "colab": {
          "base_uri": "https://localhost:8080/"
        },
        "id": "u1bzV4BcsdAg",
        "outputId": "47d8a2ae-538c-4166-f2cd-0c7ecc6e9fce"
      },
      "outputs": [
        {
          "data": {
            "text/html": [
              "<div>\n",
              "<style scoped>\n",
              "    .dataframe tbody tr th:only-of-type {\n",
              "        vertical-align: middle;\n",
              "    }\n",
              "\n",
              "    .dataframe tbody tr th {\n",
              "        vertical-align: top;\n",
              "    }\n",
              "\n",
              "    .dataframe thead th {\n",
              "        text-align: right;\n",
              "    }\n",
              "</style>\n",
              "<table border=\"1\" class=\"dataframe\">\n",
              "  <thead>\n",
              "    <tr style=\"text-align: right;\">\n",
              "      <th></th>\n",
              "      <th>popularity</th>\n",
              "      <th>genres</th>\n",
              "      <th>vote_count</th>\n",
              "      <th>vote_average</th>\n",
              "      <th>release_year</th>\n",
              "      <th>streaming_services</th>\n",
              "    </tr>\n",
              "  </thead>\n",
              "  <tbody>\n",
              "    <tr>\n",
              "      <th>0</th>\n",
              "      <td>32.985763</td>\n",
              "      <td>[Action, Adventure, Science Fiction, Thriller]</td>\n",
              "      <td>5562</td>\n",
              "      <td>6.5</td>\n",
              "      <td>55</td>\n",
              "      <td>['Apple TV', 'Max', 'Google Play Movies', 'Max...</td>\n",
              "    </tr>\n",
              "    <tr>\n",
              "      <th>1</th>\n",
              "      <td>28.419936</td>\n",
              "      <td>[Action, Adventure, Science Fiction, Thriller]</td>\n",
              "      <td>6185</td>\n",
              "      <td>7.1</td>\n",
              "      <td>55</td>\n",
              "      <td>['Apple TV', 'Max', 'TBS', 'tru TV', 'Google P...</td>\n",
              "    </tr>\n",
              "    <tr>\n",
              "      <th>2</th>\n",
              "      <td>13.112507</td>\n",
              "      <td>[Adventure, Science Fiction, Thriller]</td>\n",
              "      <td>2480</td>\n",
              "      <td>6.3</td>\n",
              "      <td>55</td>\n",
              "      <td>['Apple TV', 'Hulu', 'Google Play Movies', 'Mi...</td>\n",
              "    </tr>\n",
              "    <tr>\n",
              "      <th>3</th>\n",
              "      <td>11.173104</td>\n",
              "      <td>[Action, Adventure, Science Fiction, Fantasy]</td>\n",
              "      <td>5292</td>\n",
              "      <td>7.5</td>\n",
              "      <td>55</td>\n",
              "      <td>['fuboTV', 'Apple TV', 'TBS', 'FXNow', 'tru TV...</td>\n",
              "    </tr>\n",
              "    <tr>\n",
              "      <th>4</th>\n",
              "      <td>9.335014</td>\n",
              "      <td>[Action, Crime, Thriller]</td>\n",
              "      <td>2947</td>\n",
              "      <td>7.3</td>\n",
              "      <td>55</td>\n",
              "      <td>['Apple TV', 'Max', 'Google Play Movies', 'Max...</td>\n",
              "    </tr>\n",
              "  </tbody>\n",
              "</table>\n",
              "</div>"
            ],
            "text/plain": [
              "   popularity                                          genres  vote_count  \\\n",
              "0   32.985763  [Action, Adventure, Science Fiction, Thriller]        5562   \n",
              "1   28.419936  [Action, Adventure, Science Fiction, Thriller]        6185   \n",
              "2   13.112507          [Adventure, Science Fiction, Thriller]        2480   \n",
              "3   11.173104   [Action, Adventure, Science Fiction, Fantasy]        5292   \n",
              "4    9.335014                       [Action, Crime, Thriller]        2947   \n",
              "\n",
              "   vote_average  release_year  \\\n",
              "0           6.5            55   \n",
              "1           7.1            55   \n",
              "2           6.3            55   \n",
              "3           7.5            55   \n",
              "4           7.3            55   \n",
              "\n",
              "                                  streaming_services  \n",
              "0  ['Apple TV', 'Max', 'Google Play Movies', 'Max...  \n",
              "1  ['Apple TV', 'Max', 'TBS', 'tru TV', 'Google P...  \n",
              "2  ['Apple TV', 'Hulu', 'Google Play Movies', 'Mi...  \n",
              "3  ['fuboTV', 'Apple TV', 'TBS', 'FXNow', 'tru TV...  \n",
              "4  ['Apple TV', 'Max', 'Google Play Movies', 'Max...  "
            ]
          },
          "execution_count": 18,
          "metadata": {},
          "output_type": "execute_result"
        }
      ],
      "source": [
        "df['genres'] = df['genres'].str.split('|')\n",
        "df.head()"
      ]
    },
    {
      "cell_type": "code",
      "execution_count": null,
      "metadata": {
        "colab": {
          "base_uri": "https://localhost:8080/"
        },
        "id": "BK5YRZ1dZgzH",
        "outputId": "c5800b38-4a36-4367-fc8b-3b308f4603e8"
      },
      "outputs": [
        {
          "name": "stdout",
          "output_type": "stream",
          "text": [
            "Número de gêneros analisados: 21\n"
          ]
        },
        {
          "data": {
            "text/plain": [
              "array(['Action', 'Adventure', 'Science Fiction', 'Thriller', 'Fantasy',\n",
              "       'Crime', 'Western', 'Drama', 'Family', 'Animation', 'Comedy',\n",
              "       'Mystery', 'Romance', 'War', 'History', 'Music', 'Horror',\n",
              "       'Documentary', 'TV Movie', nan, 'Foreign'], dtype=object)"
            ]
          },
          "execution_count": 19,
          "metadata": {},
          "output_type": "execute_result"
        }
      ],
      "source": [
        "#\"Explode\" as listas de gêneros para criar uma nova linha para cada elemento da lista\n",
        "exploded_genres = df.explode('genres')\n",
        "\n",
        "#Obtem todos os valores únicos da coluna 'genres'\n",
        "all_genres = exploded_genres['genres'].unique()\n",
        "print(f\"Número de gêneros analisados: {len(all_genres)}\")\n",
        "all_genres"
      ]
    },
    {
      "cell_type": "markdown",
      "metadata": {
        "id": "N1mbhAKGadLo"
      },
      "source": [
        "Aplicar One Hot Encoding na coluna de gênero iria gerar 20 colunas novas, já que uma das colunas identificadas foi \"nan\". Portanto, como a grande maioria dos modelos não consegue lidar com listas e dados nominais, iremos usar essa técnica mais adiante para que isso não seja um problema."
      ]
    },
    {
      "cell_type": "markdown",
      "metadata": {
        "id": "Um4aPbHBoc18"
      },
      "source": [
        "**Conversão de streaming_services de string para lista**"
      ]
    },
    {
      "cell_type": "code",
      "execution_count": null,
      "metadata": {
        "id": "xInYvF-aocZr"
      },
      "outputs": [],
      "source": [
        "df['streaming_services'] = df['streaming_services'].apply(ast.literal_eval)"
      ]
    },
    {
      "cell_type": "markdown",
      "metadata": {
        "id": "S4SGWOEBs3f9"
      },
      "source": [
        "**Filtrando as listas de streaming services para manter apenas os valores de interesse**"
      ]
    },
    {
      "cell_type": "code",
      "execution_count": null,
      "metadata": {
        "colab": {
          "base_uri": "https://localhost:8080/"
        },
        "id": "nQlPLNqlFz9Q",
        "outputId": "d22d78ef-71e2-4641-dc50-e603dc717afa"
      },
      "outputs": [
        {
          "data": {
            "text/plain": [
              "{'ALLBLK Apple TV channel',\n",
              " 'AMC',\n",
              " 'AMC Plus Apple TV Channel ',\n",
              " 'AMC on Demand',\n",
              " 'AMC+',\n",
              " 'AMC+ Amazon Channel',\n",
              " 'AMC+ Roku Premium Channel',\n",
              " 'ARROW',\n",
              " 'Acorn TV',\n",
              " 'Acorn TV Apple TV',\n",
              " 'AcornTV Amazon Channel',\n",
              " 'Amazon Prime Video',\n",
              " 'Amazon Prime Video with Ads',\n",
              " 'Amazon Video',\n",
              " 'Apple TV',\n",
              " 'Apple TV Plus',\n",
              " 'AsianCrush',\n",
              " 'Atom Tickets',\n",
              " 'B&B Theatres',\n",
              " 'BBC America',\n",
              " 'BET+  Apple TV channel',\n",
              " 'Bet+ Amazon Channel',\n",
              " 'Boomerang',\n",
              " 'Boomerang Amazon Channel',\n",
              " 'BritBox',\n",
              " 'BritBox Amazon Channel',\n",
              " 'Britbox Apple TV Channel ',\n",
              " 'BroadwayHD',\n",
              " 'Chai Flicks',\n",
              " 'Cinemark',\n",
              " 'Cinemax Amazon Channel',\n",
              " 'Cinemax Apple TV Channel',\n",
              " 'Cinepolis USA',\n",
              " 'Cineverse',\n",
              " 'Classix',\n",
              " 'Cohen Media Amazon Channel',\n",
              " 'Crackle',\n",
              " 'Criterion Channel',\n",
              " 'Crunchyroll',\n",
              " 'Crunchyroll Amazon Channel',\n",
              " 'Cultpix',\n",
              " 'Curiosity Stream',\n",
              " 'CuriosityStream Apple TV Channel',\n",
              " 'DOCSVILLE',\n",
              " 'Dekkoo',\n",
              " 'Disney Plus',\n",
              " 'DisneyNOW',\n",
              " 'DistroTV',\n",
              " 'DocAlliance Films',\n",
              " 'Dogwoof On Demand',\n",
              " 'Eros Now',\n",
              " 'Eros Now Select Apple TV Channel',\n",
              " 'FXNow',\n",
              " 'Fandango',\n",
              " 'Fandor',\n",
              " 'Fandor Amazon Channel',\n",
              " 'Film Movement Plus',\n",
              " 'FilmBox+',\n",
              " 'Filmzie',\n",
              " 'Flix Premiere',\n",
              " 'FlixFling',\n",
              " 'Freeform',\n",
              " 'Freevee',\n",
              " 'Full Moon Amazon Channel',\n",
              " 'GlewedTV',\n",
              " 'Google Play Movies',\n",
              " 'GuideDoc',\n",
              " 'Hallmark Movies Now Amazon Channel',\n",
              " 'Hallmark Movies Now Apple TV Channel',\n",
              " 'Harkins Theatres',\n",
              " 'Here TV',\n",
              " 'Hi-YAH',\n",
              " 'History Vault',\n",
              " 'Hoopla',\n",
              " 'Hulu',\n",
              " 'IFC Films Unlimited Apple TV Channel',\n",
              " 'IndieFlix',\n",
              " 'Kanopy',\n",
              " 'Kocowa',\n",
              " 'Laugh Out Loud',\n",
              " 'Lifetime Movie Club',\n",
              " 'Lifetime Movie Club Amazon Channel',\n",
              " 'Lifetime Movie Club Apple TV Channel',\n",
              " 'MGM Plus',\n",
              " 'MGM Plus Amazon Channel',\n",
              " 'MGM Plus Roku Premium Channel',\n",
              " 'MUBI',\n",
              " 'MUBI Amazon Channel',\n",
              " 'MZ Choice Amazon Channel',\n",
              " 'Magellan TV',\n",
              " 'Marcus Theatres',\n",
              " 'Max',\n",
              " 'Max Amazon Channel',\n",
              " 'Metrograph',\n",
              " 'Microsoft Store',\n",
              " 'Midnight Pulp',\n",
              " 'MovieSaints',\n",
              " 'Netflix',\n",
              " 'Netflix basic with Ads',\n",
              " 'Night Flight Plus',\n",
              " 'OUTtv Apple TV Channel',\n",
              " 'OVID',\n",
              " 'Outside Watch',\n",
              " 'PBS Masterpiece Amazon Channel',\n",
              " 'Paramount Plus',\n",
              " 'Paramount Plus Apple TV Channel ',\n",
              " 'Paramount+ Amazon Channel',\n",
              " 'Paramount+ Roku Premium Channel',\n",
              " 'Paramount+ with Showtime',\n",
              " 'Peacock',\n",
              " 'Plex',\n",
              " 'Pluto TV',\n",
              " 'Popcornflix',\n",
              " 'Popflick',\n",
              " 'Public Domain Movies',\n",
              " 'Pure Flix',\n",
              " 'Rakuten Viki',\n",
              " 'Redbox',\n",
              " 'Retrocrush',\n",
              " 'Reveel',\n",
              " 'Revry',\n",
              " 'Runtime',\n",
              " 'Screambox',\n",
              " 'Screambox Amazon Channel',\n",
              " 'ScreenPix Apple TV Channel',\n",
              " 'ShortsTV Amazon Channel',\n",
              " 'Shout! Factory TV',\n",
              " 'Showtime Apple TV Channel',\n",
              " 'Shudder',\n",
              " 'Shudder Amazon Channel',\n",
              " 'Shudder Apple TV Channel',\n",
              " 'Spamflix',\n",
              " 'Spectrum On Demand',\n",
              " 'Starz',\n",
              " 'Starz Amazon Channel',\n",
              " 'Starz Apple TV Channel',\n",
              " 'Starz Roku Premium Channel',\n",
              " 'Sun Nxt',\n",
              " 'Sundance Now',\n",
              " 'TBS',\n",
              " 'TCM',\n",
              " 'TNT',\n",
              " 'The CW',\n",
              " 'The Roku Channel',\n",
              " 'Topic',\n",
              " 'Topic Apple TV Channel',\n",
              " 'Troma NOW',\n",
              " 'Tubi TV',\n",
              " 'UP Faith & Family Apple TV Channel',\n",
              " 'USA Network',\n",
              " 'Urban Movie Channel',\n",
              " 'VIX ',\n",
              " 'VUDU Free',\n",
              " 'Viewster Amazon Channel',\n",
              " 'Vudu',\n",
              " 'WOW Presents Plus',\n",
              " 'Xumo Play',\n",
              " 'YouTube',\n",
              " 'YouTube Free',\n",
              " 'Yupp TV',\n",
              " 'aha',\n",
              " 'fuboTV',\n",
              " 'tru TV'}"
            ]
          },
          "execution_count": 21,
          "metadata": {},
          "output_type": "execute_result"
        }
      ],
      "source": [
        "#Apresenta todas as plataformas de streaming abarcadas no dataset\n",
        "set(y for x in df['streaming_services'] for y in x)"
      ]
    },
    {
      "cell_type": "code",
      "execution_count": null,
      "metadata": {
        "colab": {
          "base_uri": "https://localhost:8080/"
        },
        "id": "rmqQBt92sqaL",
        "outputId": "a936e7c5-340f-47a2-92ed-6b51cf3ac6e8"
      },
      "outputs": [
        {
          "data": {
            "text/html": [
              "<div>\n",
              "<style scoped>\n",
              "    .dataframe tbody tr th:only-of-type {\n",
              "        vertical-align: middle;\n",
              "    }\n",
              "\n",
              "    .dataframe tbody tr th {\n",
              "        vertical-align: top;\n",
              "    }\n",
              "\n",
              "    .dataframe thead th {\n",
              "        text-align: right;\n",
              "    }\n",
              "</style>\n",
              "<table border=\"1\" class=\"dataframe\">\n",
              "  <thead>\n",
              "    <tr style=\"text-align: right;\">\n",
              "      <th></th>\n",
              "      <th>popularity</th>\n",
              "      <th>genres</th>\n",
              "      <th>vote_count</th>\n",
              "      <th>vote_average</th>\n",
              "      <th>release_year</th>\n",
              "      <th>streaming_services</th>\n",
              "    </tr>\n",
              "  </thead>\n",
              "  <tbody>\n",
              "    <tr>\n",
              "      <th>0</th>\n",
              "      <td>32.985763</td>\n",
              "      <td>[Action, Adventure, Science Fiction, Thriller]</td>\n",
              "      <td>5562</td>\n",
              "      <td>6.5</td>\n",
              "      <td>55</td>\n",
              "      <td>[Max]</td>\n",
              "    </tr>\n",
              "    <tr>\n",
              "      <th>1</th>\n",
              "      <td>28.419936</td>\n",
              "      <td>[Action, Adventure, Science Fiction, Thriller]</td>\n",
              "      <td>6185</td>\n",
              "      <td>7.1</td>\n",
              "      <td>55</td>\n",
              "      <td>[Max]</td>\n",
              "    </tr>\n",
              "    <tr>\n",
              "      <th>2</th>\n",
              "      <td>13.112507</td>\n",
              "      <td>[Adventure, Science Fiction, Thriller]</td>\n",
              "      <td>2480</td>\n",
              "      <td>6.3</td>\n",
              "      <td>55</td>\n",
              "      <td>[Hulu]</td>\n",
              "    </tr>\n",
              "    <tr>\n",
              "      <th>3</th>\n",
              "      <td>11.173104</td>\n",
              "      <td>[Action, Adventure, Science Fiction, Fantasy]</td>\n",
              "      <td>5292</td>\n",
              "      <td>7.5</td>\n",
              "      <td>55</td>\n",
              "      <td>[Disney Plus]</td>\n",
              "    </tr>\n",
              "    <tr>\n",
              "      <th>4</th>\n",
              "      <td>9.335014</td>\n",
              "      <td>[Action, Crime, Thriller]</td>\n",
              "      <td>2947</td>\n",
              "      <td>7.3</td>\n",
              "      <td>55</td>\n",
              "      <td>[Max]</td>\n",
              "    </tr>\n",
              "  </tbody>\n",
              "</table>\n",
              "</div>"
            ],
            "text/plain": [
              "   popularity                                          genres  vote_count  \\\n",
              "0   32.985763  [Action, Adventure, Science Fiction, Thriller]        5562   \n",
              "1   28.419936  [Action, Adventure, Science Fiction, Thriller]        6185   \n",
              "2   13.112507          [Adventure, Science Fiction, Thriller]        2480   \n",
              "3   11.173104   [Action, Adventure, Science Fiction, Fantasy]        5292   \n",
              "4    9.335014                       [Action, Crime, Thriller]        2947   \n",
              "\n",
              "   vote_average  release_year streaming_services  \n",
              "0           6.5            55              [Max]  \n",
              "1           7.1            55              [Max]  \n",
              "2           6.3            55             [Hulu]  \n",
              "3           7.5            55      [Disney Plus]  \n",
              "4           7.3            55              [Max]  "
            ]
          },
          "execution_count": 22,
          "metadata": {},
          "output_type": "execute_result"
        }
      ],
      "source": [
        "#Plataformas de streaming a serem analisadas\n",
        "main_streaming_platforms = {'Netflix', 'Max', 'Amazon Prime Video', 'Disney Plus', 'Hulu'}\n",
        "\n",
        "#Filtra as listas das plataformas de streaming, mantendo apenas os itens principais\n",
        "df['streaming_services'] = df['streaming_services'].apply(lambda x: [service for service in x if service in main_streaming_platforms])\n",
        "\n",
        "df.head()"
      ]
    },
    {
      "cell_type": "markdown",
      "metadata": {
        "id": "kz40inq0bzh8"
      },
      "source": [
        "Como estamos analisando apenas as plataformas de streaming mais famosas no Brasil, essa variável apresenta apenas 5 categorias. Porém, como os filmes podem ser disponibilizados por mais de um serviço os valores são listas. Por isso, também aplicaremos o One Hot Encoding a esta coluna."
      ]
    },
    {
      "cell_type": "code",
      "execution_count": null,
      "metadata": {
        "colab": {
          "base_uri": "https://localhost:8080/"
        },
        "id": "v6Kx7AG-STWD",
        "outputId": "50e8136a-d9e8-4553-82ae-cd2b57dae4ef"
      },
      "outputs": [
        {
          "data": {
            "text/plain": [
              "popularity            float64\n",
              "genres                 object\n",
              "vote_count              int64\n",
              "vote_average          float64\n",
              "release_year             int8\n",
              "streaming_services     object\n",
              "dtype: object"
            ]
          },
          "execution_count": 23,
          "metadata": {},
          "output_type": "execute_result"
        }
      ],
      "source": [
        "df.dtypes"
      ]
    },
    {
      "cell_type": "markdown",
      "metadata": {
        "id": "Q4IzeRjabxyk"
      },
      "source": [
        "Após esta etapa, as colunas \"genres\" e \"streaming_services\" ainda não possuem tipos adequados. No entanto, isso será corrigido posteriormente, durante o processo de codificação."
      ]
    },
    {
      "cell_type": "markdown",
      "metadata": {
        "id": "xsluxU339pxI"
      },
      "source": [
        "### Tratamento de Dados Ausentes e Codificação das Variáveis Categóricas"
      ]
    },
    {
      "cell_type": "markdown",
      "metadata": {
        "id": "PTiPktn0gCQl"
      },
      "source": [
        "Antes de prosseguirmos com a codificação das variáveis categóricas, é necessário verificar se alguma delas, ou outras colunas, contêm dados ausentes, uma vez que não é possível codificar valores \"nan\"."
      ]
    },
    {
      "cell_type": "markdown",
      "metadata": {
        "id": "jxEWpvhf-Yxj"
      },
      "source": [
        "**Verificando a existência de dados ausentes**"
      ]
    },
    {
      "cell_type": "code",
      "execution_count": null,
      "metadata": {
        "colab": {
          "base_uri": "https://localhost:8080/"
        },
        "id": "X7FRqGZE-X5B",
        "outputId": "1ef997f8-8909-4093-f16e-019ad5b16dde"
      },
      "outputs": [
        {
          "data": {
            "text/plain": [
              "popularity             0\n",
              "genres                23\n",
              "vote_count             0\n",
              "vote_average           0\n",
              "release_year           0\n",
              "streaming_services     0\n",
              "dtype: int64"
            ]
          },
          "execution_count": 24,
          "metadata": {},
          "output_type": "execute_result"
        }
      ],
      "source": [
        "df.isna().sum()"
      ]
    },
    {
      "cell_type": "markdown",
      "metadata": {
        "id": "ValrW548_DT0"
      },
      "source": [
        "É notável que apenas a coluna \"genres\" apresentou dados ausentes, 23 instâncias. Dessa forma, iremos tratá-los a partir da técnica de imputação por classificação."
      ]
    },
    {
      "cell_type": "code",
      "execution_count": null,
      "metadata": {
        "colab": {
          "base_uri": "https://localhost:8080/"
        },
        "id": "lS6xXKd9_Chz",
        "outputId": "e1564510-4fc1-4927-b42c-8600df698da2"
      },
      "outputs": [
        {
          "data": {
            "text/plain": [
              "0    [Action, Adventure, Science Fiction, Thriller]\n",
              "1    [Action, Adventure, Science Fiction, Thriller]\n",
              "2            [Adventure, Science Fiction, Thriller]\n",
              "3     [Action, Adventure, Science Fiction, Fantasy]\n",
              "4                         [Action, Crime, Thriller]\n",
              "Name: genres, dtype: object"
            ]
          },
          "execution_count": 25,
          "metadata": {},
          "output_type": "execute_result"
        }
      ],
      "source": [
        "df['genres'].head()"
      ]
    },
    {
      "cell_type": "markdown",
      "metadata": {
        "id": "bIsXg5KXICPr"
      },
      "source": [
        "Para treinar um modelo de classificação com múltiplas saídas, dado que um filme pode ser associado a mais de um gênero, é necessário codificar os dados categóricos que não possuem valores ausentes. Para isso, utilizaremos o método de One Hot Encoding."
      ]
    },
    {
      "cell_type": "markdown",
      "metadata": {
        "id": "FmZdE5giF5XH"
      },
      "source": [
        "**Agrupamento e Codificação de \"release_year\"**"
      ]
    },
    {
      "cell_type": "markdown",
      "metadata": {
        "id": "ktr2HuPNIjGo"
      },
      "source": [
        "Para reduzir a quantidade de categorias na variável \"release_year\", agruparemos os anos de lançamento em intervalos fixos de 4 anos."
      ]
    },
    {
      "cell_type": "code",
      "execution_count": null,
      "metadata": {
        "colab": {
          "base_uri": "https://localhost:8080/"
        },
        "id": "_ZWBJb9P1PFu",
        "outputId": "e6cdea78-4f6a-47bb-e199-d2e88b1fc544"
      },
      "outputs": [
        {
          "data": {
            "image/png": "[encoded data removed]",
            "text/plain": [
              "<Figure size 720x432 with 1 Axes>"
            ]
          },
          "metadata": {
            "needs_background": "light"
          },
          "output_type": "display_data"
        }
      ],
      "source": [
        "# Contagem de frequência dos anos de lançamento\n",
        "year_counts = df['release_year'].value_counts().sort_index()\n",
        "\n",
        "# Plotagem do gráfico de barras\n",
        "plt.figure(figsize=(10, 6))\n",
        "year_counts.plot(kind='bar')\n",
        "plt.title('Frequência de Lançamento por Ano')\n",
        "plt.xlabel('Ano')\n",
        "plt.ylabel('Frequência')\n",
        "plt.xticks(rotation=45)\n",
        "plt.grid(axis='y', linestyle='--', alpha=0.7)\n",
        "plt.tight_layout()\n",
        "plt.show()"
      ]
    },
    {
      "cell_type": "markdown",
      "metadata": {
        "id": "v6HDzGr6CS-K"
      },
      "source": [
        "Vamos agrupar os dados em intervalos de 4 anos, pois, ao analisar o gráfico, observamos que a maioria dos grupos não apresenta uma variação muito grande no número de filmes lançados."
      ]
    },
    {
      "cell_type": "code",
      "execution_count": null,
      "metadata": {
        "id": "SAncJQABBsYl"
      },
      "outputs": [],
      "source": [
        "# Obtendo os valores únicos de release_year\n",
        "unique_years = df['release_year'].unique()\n",
        "\n",
        "# Criando faixas de 4 anos\n",
        "bins = np.arange(min(unique_years), max(unique_years) + 5, 4)\n",
        "\n",
        "# Discretizando os valores de release_year e obtendo os índices dos intervalos\n",
        "df['release_year_discretized'] = pd.cut(df['release_year'], bins=bins, labels=False, right=False)\n"
      ]
    },
    {
      "cell_type": "code",
      "execution_count": null,
      "metadata": {
        "colab": {
          "base_uri": "https://localhost:8080/"
        },
        "id": "NcqNol2M2mWw",
        "outputId": "c590c027-41d5-459d-c70b-2893da28705d"
      },
      "outputs": [
        {
          "data": {
            "image/png": "[encoded data removed]",
            "text/plain": [
              "<Figure size 720x432 with 1 Axes>"
            ]
          },
          "metadata": {
            "needs_background": "light"
          },
          "output_type": "display_data"
        }
      ],
      "source": [
        "# Contagem de frequência dos intervalos\n",
        "year_counts_grouped = df['release_year_discretized'].value_counts().sort_index()\n",
        "\n",
        "# Plotando o gráfico de barras\n",
        "plt.figure(figsize=(10, 6))\n",
        "year_counts_grouped.plot(kind='bar')\n",
        "plt.title('Frequência de Lançamento Agrupada de 4 em 4 Anos (Discretizado com Índices)')\n",
        "plt.xlabel('Índice do Intervalo de Anos')\n",
        "plt.ylabel('Frequência')\n",
        "plt.xticks(rotation=0)\n",
        "plt.grid(axis='y', linestyle='--', alpha=0.7)\n",
        "plt.tight_layout()\n",
        "plt.show()"
      ]
    },
    {
      "cell_type": "code",
      "execution_count": null,
      "metadata": {
        "colab": {
          "base_uri": "https://localhost:8080/"
        },
        "id": "R9-o8VQpKGLs",
        "outputId": "0763a999-c773-4add-d616-c598a84c11a5"
      },
      "outputs": [
        {
          "data": {
            "text/html": [
              "<div>\n",
              "<style scoped>\n",
              "    .dataframe tbody tr th:only-of-type {\n",
              "        vertical-align: middle;\n",
              "    }\n",
              "\n",
              "    .dataframe tbody tr th {\n",
              "        vertical-align: top;\n",
              "    }\n",
              "\n",
              "    .dataframe thead th {\n",
              "        text-align: right;\n",
              "    }\n",
              "</style>\n",
              "<table border=\"1\" class=\"dataframe\">\n",
              "  <thead>\n",
              "    <tr style=\"text-align: right;\">\n",
              "      <th></th>\n",
              "      <th>popularity</th>\n",
              "      <th>genres</th>\n",
              "      <th>vote_count</th>\n",
              "      <th>vote_average</th>\n",
              "      <th>streaming_services</th>\n",
              "      <th>release_year_0</th>\n",
              "      <th>release_year_1</th>\n",
              "      <th>release_year_2</th>\n",
              "      <th>release_year_3</th>\n",
              "      <th>release_year_4</th>\n",
              "      <th>release_year_5</th>\n",
              "      <th>release_year_6</th>\n",
              "      <th>release_year_7</th>\n",
              "      <th>release_year_8</th>\n",
              "      <th>release_year_9</th>\n",
              "      <th>release_year_10</th>\n",
              "      <th>release_year_11</th>\n",
              "      <th>release_year_12</th>\n",
              "      <th>release_year_13</th>\n",
              "    </tr>\n",
              "  </thead>\n",
              "  <tbody>\n",
              "    <tr>\n",
              "      <th>0</th>\n",
              "      <td>32.985763</td>\n",
              "      <td>[Action, Adventure, Science Fiction, Thriller]</td>\n",
              "      <td>5562</td>\n",
              "      <td>6.5</td>\n",
              "      <td>[Max]</td>\n",
              "      <td>0</td>\n",
              "      <td>0</td>\n",
              "      <td>0</td>\n",
              "      <td>0</td>\n",
              "      <td>0</td>\n",
              "      <td>0</td>\n",
              "      <td>0</td>\n",
              "      <td>0</td>\n",
              "      <td>0</td>\n",
              "      <td>0</td>\n",
              "      <td>0</td>\n",
              "      <td>0</td>\n",
              "      <td>0</td>\n",
              "      <td>1</td>\n",
              "    </tr>\n",
              "    <tr>\n",
              "      <th>1</th>\n",
              "      <td>28.419936</td>\n",
              "      <td>[Action, Adventure, Science Fiction, Thriller]</td>\n",
              "      <td>6185</td>\n",
              "      <td>7.1</td>\n",
              "      <td>[Max]</td>\n",
              "      <td>0</td>\n",
              "      <td>0</td>\n",
              "      <td>0</td>\n",
              "      <td>0</td>\n",
              "      <td>0</td>\n",
              "      <td>0</td>\n",
              "      <td>0</td>\n",
              "      <td>0</td>\n",
              "      <td>0</td>\n",
              "      <td>0</td>\n",
              "      <td>0</td>\n",
              "      <td>0</td>\n",
              "      <td>0</td>\n",
              "      <td>1</td>\n",
              "    </tr>\n",
              "    <tr>\n",
              "      <th>2</th>\n",
              "      <td>13.112507</td>\n",
              "      <td>[Adventure, Science Fiction, Thriller]</td>\n",
              "      <td>2480</td>\n",
              "      <td>6.3</td>\n",
              "      <td>[Hulu]</td>\n",
              "      <td>0</td>\n",
              "      <td>0</td>\n",
              "      <td>0</td>\n",
              "      <td>0</td>\n",
              "      <td>0</td>\n",
              "      <td>0</td>\n",
              "      <td>0</td>\n",
              "      <td>0</td>\n",
              "      <td>0</td>\n",
              "      <td>0</td>\n",
              "      <td>0</td>\n",
              "      <td>0</td>\n",
              "      <td>0</td>\n",
              "      <td>1</td>\n",
              "    </tr>\n",
              "    <tr>\n",
              "      <th>3</th>\n",
              "      <td>11.173104</td>\n",
              "      <td>[Action, Adventure, Science Fiction, Fantasy]</td>\n",
              "      <td>5292</td>\n",
              "      <td>7.5</td>\n",
              "      <td>[Disney Plus]</td>\n",
              "      <td>0</td>\n",
              "      <td>0</td>\n",
              "      <td>0</td>\n",
              "      <td>0</td>\n",
              "      <td>0</td>\n",
              "      <td>0</td>\n",
              "      <td>0</td>\n",
              "      <td>0</td>\n",
              "      <td>0</td>\n",
              "      <td>0</td>\n",
              "      <td>0</td>\n",
              "      <td>0</td>\n",
              "      <td>0</td>\n",
              "      <td>1</td>\n",
              "    </tr>\n",
              "    <tr>\n",
              "      <th>4</th>\n",
              "      <td>9.335014</td>\n",
              "      <td>[Action, Crime, Thriller]</td>\n",
              "      <td>2947</td>\n",
              "      <td>7.3</td>\n",
              "      <td>[Max]</td>\n",
              "      <td>0</td>\n",
              "      <td>0</td>\n",
              "      <td>0</td>\n",
              "      <td>0</td>\n",
              "      <td>0</td>\n",
              "      <td>0</td>\n",
              "      <td>0</td>\n",
              "      <td>0</td>\n",
              "      <td>0</td>\n",
              "      <td>0</td>\n",
              "      <td>0</td>\n",
              "      <td>0</td>\n",
              "      <td>0</td>\n",
              "      <td>1</td>\n",
              "    </tr>\n",
              "  </tbody>\n",
              "</table>\n",
              "</div>"
            ],
            "text/plain": [
              "   popularity                                          genres  vote_count  \\\n",
              "0   32.985763  [Action, Adventure, Science Fiction, Thriller]        5562   \n",
              "1   28.419936  [Action, Adventure, Science Fiction, Thriller]        6185   \n",
              "2   13.112507          [Adventure, Science Fiction, Thriller]        2480   \n",
              "3   11.173104   [Action, Adventure, Science Fiction, Fantasy]        5292   \n",
              "4    9.335014                       [Action, Crime, Thriller]        2947   \n",
              "\n",
              "   vote_average streaming_services  release_year_0  release_year_1  \\\n",
              "0           6.5              [Max]               0               0   \n",
              "1           7.1              [Max]               0               0   \n",
              "2           6.3             [Hulu]               0               0   \n",
              "3           7.5      [Disney Plus]               0               0   \n",
              "4           7.3              [Max]               0               0   \n",
              "\n",
              "   release_year_2  release_year_3  release_year_4  release_year_5  \\\n",
              "0               0               0               0               0   \n",
              "1               0               0               0               0   \n",
              "2               0               0               0               0   \n",
              "3               0               0               0               0   \n",
              "4               0               0               0               0   \n",
              "\n",
              "   release_year_6  release_year_7  release_year_8  release_year_9  \\\n",
              "0               0               0               0               0   \n",
              "1               0               0               0               0   \n",
              "2               0               0               0               0   \n",
              "3               0               0               0               0   \n",
              "4               0               0               0               0   \n",
              "\n",
              "   release_year_10  release_year_11  release_year_12  release_year_13  \n",
              "0                0                0                0                1  \n",
              "1                0                0                0                1  \n",
              "2                0                0                0                1  \n",
              "3                0                0                0                1  \n",
              "4                0                0                0                1  "
            ]
          },
          "execution_count": 29,
          "metadata": {},
          "output_type": "execute_result"
        }
      ],
      "source": [
        "# Aplicando o one-hot encoding\n",
        "df_one_hot = pd.get_dummies(df['release_year_discretized'], prefix='release_year').astype('int')\n",
        "\n",
        "# Concatenando o DataFrame original com o DataFrame one-hot encoded\n",
        "df = pd.concat([df, df_one_hot], axis=1)\n",
        "df.drop(columns=['release_year', 'release_year_discretized'], inplace=True)\n",
        "df.head()"
      ]
    },
    {
      "cell_type": "markdown",
      "metadata": {
        "id": "sEwsSPjyK4pN"
      },
      "source": [
        "**Codificação Binária de \"Streaming Services\"**"
      ]
    },
    {
      "cell_type": "code",
      "execution_count": null,
      "metadata": {
        "colab": {
          "base_uri": "https://localhost:8080/"
        },
        "id": "ZEBc1051FL5J",
        "outputId": "5b24d014-3487-45eb-c3f9-be657263ccad"
      },
      "outputs": [
        {
          "data": {
            "text/html": [
              "<div>\n",
              "<style scoped>\n",
              "    .dataframe tbody tr th:only-of-type {\n",
              "        vertical-align: middle;\n",
              "    }\n",
              "\n",
              "    .dataframe tbody tr th {\n",
              "        vertical-align: top;\n",
              "    }\n",
              "\n",
              "    .dataframe thead th {\n",
              "        text-align: right;\n",
              "    }\n",
              "</style>\n",
              "<table border=\"1\" class=\"dataframe\">\n",
              "  <thead>\n",
              "    <tr style=\"text-align: right;\">\n",
              "      <th></th>\n",
              "      <th>Amazon Prime Video</th>\n",
              "      <th>Disney Plus</th>\n",
              "      <th>Hulu</th>\n",
              "      <th>Max</th>\n",
              "      <th>Netflix</th>\n",
              "    </tr>\n",
              "  </thead>\n",
              "  <tbody>\n",
              "    <tr>\n",
              "      <th>0</th>\n",
              "      <td>0</td>\n",
              "      <td>0</td>\n",
              "      <td>0</td>\n",
              "      <td>1</td>\n",
              "      <td>0</td>\n",
              "    </tr>\n",
              "    <tr>\n",
              "      <th>1</th>\n",
              "      <td>0</td>\n",
              "      <td>0</td>\n",
              "      <td>0</td>\n",
              "      <td>1</td>\n",
              "      <td>0</td>\n",
              "    </tr>\n",
              "    <tr>\n",
              "      <th>2</th>\n",
              "      <td>0</td>\n",
              "      <td>0</td>\n",
              "      <td>1</td>\n",
              "      <td>0</td>\n",
              "      <td>0</td>\n",
              "    </tr>\n",
              "    <tr>\n",
              "      <th>3</th>\n",
              "      <td>0</td>\n",
              "      <td>1</td>\n",
              "      <td>0</td>\n",
              "      <td>0</td>\n",
              "      <td>0</td>\n",
              "    </tr>\n",
              "    <tr>\n",
              "      <th>4</th>\n",
              "      <td>0</td>\n",
              "      <td>0</td>\n",
              "      <td>0</td>\n",
              "      <td>1</td>\n",
              "      <td>0</td>\n",
              "    </tr>\n",
              "    <tr>\n",
              "      <th>...</th>\n",
              "      <td>...</td>\n",
              "      <td>...</td>\n",
              "      <td>...</td>\n",
              "      <td>...</td>\n",
              "      <td>...</td>\n",
              "    </tr>\n",
              "    <tr>\n",
              "      <th>10860</th>\n",
              "      <td>1</td>\n",
              "      <td>0</td>\n",
              "      <td>0</td>\n",
              "      <td>0</td>\n",
              "      <td>0</td>\n",
              "    </tr>\n",
              "    <tr>\n",
              "      <th>10861</th>\n",
              "      <td>0</td>\n",
              "      <td>0</td>\n",
              "      <td>0</td>\n",
              "      <td>0</td>\n",
              "      <td>0</td>\n",
              "    </tr>\n",
              "    <tr>\n",
              "      <th>10862</th>\n",
              "      <td>0</td>\n",
              "      <td>0</td>\n",
              "      <td>0</td>\n",
              "      <td>0</td>\n",
              "      <td>0</td>\n",
              "    </tr>\n",
              "    <tr>\n",
              "      <th>10863</th>\n",
              "      <td>0</td>\n",
              "      <td>0</td>\n",
              "      <td>0</td>\n",
              "      <td>0</td>\n",
              "      <td>0</td>\n",
              "    </tr>\n",
              "    <tr>\n",
              "      <th>10864</th>\n",
              "      <td>1</td>\n",
              "      <td>0</td>\n",
              "      <td>0</td>\n",
              "      <td>0</td>\n",
              "      <td>0</td>\n",
              "    </tr>\n",
              "  </tbody>\n",
              "</table>\n",
              "<p>10865 rows × 5 columns</p>\n",
              "</div>"
            ],
            "text/plain": [
              "       Amazon Prime Video  Disney Plus  Hulu  Max  Netflix\n",
              "0                       0            0     0    1        0\n",
              "1                       0            0     0    1        0\n",
              "2                       0            0     1    0        0\n",
              "3                       0            1     0    0        0\n",
              "4                       0            0     0    1        0\n",
              "...                   ...          ...   ...  ...      ...\n",
              "10860                   1            0     0    0        0\n",
              "10861                   0            0     0    0        0\n",
              "10862                   0            0     0    0        0\n",
              "10863                   0            0     0    0        0\n",
              "10864                   1            0     0    0        0\n",
              "\n",
              "[10865 rows x 5 columns]"
            ]
          },
          "execution_count": 30,
          "metadata": {},
          "output_type": "execute_result"
        }
      ],
      "source": [
        "# Codifica os possíveis valores de streaming services para binário\n",
        "mlb_services = MultiLabelBinarizer()\n",
        "services_encoded = mlb_services.fit_transform(df['streaming_services'])\n",
        "\n",
        "# Separa os dados de streaming services codificados\n",
        "services_df = pd.DataFrame(services_encoded, columns=mlb_services.classes_)\n",
        "services_df"
      ]
    },
    {
      "cell_type": "code",
      "execution_count": null,
      "metadata": {
        "colab": {
          "base_uri": "https://localhost:8080/"
        },
        "id": "S-BkZrY_K37O",
        "outputId": "b6e120cd-553c-45e3-b22f-e7d0aaf11548"
      },
      "outputs": [
        {
          "data": {
            "text/html": [
              "<div>\n",
              "<style scoped>\n",
              "    .dataframe tbody tr th:only-of-type {\n",
              "        vertical-align: middle;\n",
              "    }\n",
              "\n",
              "    .dataframe tbody tr th {\n",
              "        vertical-align: top;\n",
              "    }\n",
              "\n",
              "    .dataframe thead th {\n",
              "        text-align: right;\n",
              "    }\n",
              "</style>\n",
              "<table border=\"1\" class=\"dataframe\">\n",
              "  <thead>\n",
              "    <tr style=\"text-align: right;\">\n",
              "      <th></th>\n",
              "      <th>popularity</th>\n",
              "      <th>genres</th>\n",
              "      <th>vote_count</th>\n",
              "      <th>vote_average</th>\n",
              "      <th>release_year_0</th>\n",
              "      <th>release_year_1</th>\n",
              "      <th>release_year_2</th>\n",
              "      <th>release_year_3</th>\n",
              "      <th>release_year_4</th>\n",
              "      <th>release_year_5</th>\n",
              "      <th>...</th>\n",
              "      <th>release_year_9</th>\n",
              "      <th>release_year_10</th>\n",
              "      <th>release_year_11</th>\n",
              "      <th>release_year_12</th>\n",
              "      <th>release_year_13</th>\n",
              "      <th>Amazon Prime Video</th>\n",
              "      <th>Disney Plus</th>\n",
              "      <th>Hulu</th>\n",
              "      <th>Max</th>\n",
              "      <th>Netflix</th>\n",
              "    </tr>\n",
              "  </thead>\n",
              "  <tbody>\n",
              "    <tr>\n",
              "      <th>0</th>\n",
              "      <td>32.985763</td>\n",
              "      <td>[Action, Adventure, Science Fiction, Thriller]</td>\n",
              "      <td>5562</td>\n",
              "      <td>6.5</td>\n",
              "      <td>0</td>\n",
              "      <td>0</td>\n",
              "      <td>0</td>\n",
              "      <td>0</td>\n",
              "      <td>0</td>\n",
              "      <td>0</td>\n",
              "      <td>...</td>\n",
              "      <td>0</td>\n",
              "      <td>0</td>\n",
              "      <td>0</td>\n",
              "      <td>0</td>\n",
              "      <td>1</td>\n",
              "      <td>0</td>\n",
              "      <td>0</td>\n",
              "      <td>0</td>\n",
              "      <td>1</td>\n",
              "      <td>0</td>\n",
              "    </tr>\n",
              "    <tr>\n",
              "      <th>1</th>\n",
              "      <td>28.419936</td>\n",
              "      <td>[Action, Adventure, Science Fiction, Thriller]</td>\n",
              "      <td>6185</td>\n",
              "      <td>7.1</td>\n",
              "      <td>0</td>\n",
              "      <td>0</td>\n",
              "      <td>0</td>\n",
              "      <td>0</td>\n",
              "      <td>0</td>\n",
              "      <td>0</td>\n",
              "      <td>...</td>\n",
              "      <td>0</td>\n",
              "      <td>0</td>\n",
              "      <td>0</td>\n",
              "      <td>0</td>\n",
              "      <td>1</td>\n",
              "      <td>0</td>\n",
              "      <td>0</td>\n",
              "      <td>0</td>\n",
              "      <td>1</td>\n",
              "      <td>0</td>\n",
              "    </tr>\n",
              "    <tr>\n",
              "      <th>2</th>\n",
              "      <td>13.112507</td>\n",
              "      <td>[Adventure, Science Fiction, Thriller]</td>\n",
              "      <td>2480</td>\n",
              "      <td>6.3</td>\n",
              "      <td>0</td>\n",
              "      <td>0</td>\n",
              "      <td>0</td>\n",
              "      <td>0</td>\n",
              "      <td>0</td>\n",
              "      <td>0</td>\n",
              "      <td>...</td>\n",
              "      <td>0</td>\n",
              "      <td>0</td>\n",
              "      <td>0</td>\n",
              "      <td>0</td>\n",
              "      <td>1</td>\n",
              "      <td>0</td>\n",
              "      <td>0</td>\n",
              "      <td>1</td>\n",
              "      <td>0</td>\n",
              "      <td>0</td>\n",
              "    </tr>\n",
              "    <tr>\n",
              "      <th>3</th>\n",
              "      <td>11.173104</td>\n",
              "      <td>[Action, Adventure, Science Fiction, Fantasy]</td>\n",
              "      <td>5292</td>\n",
              "      <td>7.5</td>\n",
              "      <td>0</td>\n",
              "      <td>0</td>\n",
              "      <td>0</td>\n",
              "      <td>0</td>\n",
              "      <td>0</td>\n",
              "      <td>0</td>\n",
              "      <td>...</td>\n",
              "      <td>0</td>\n",
              "      <td>0</td>\n",
              "      <td>0</td>\n",
              "      <td>0</td>\n",
              "      <td>1</td>\n",
              "      <td>0</td>\n",
              "      <td>1</td>\n",
              "      <td>0</td>\n",
              "      <td>0</td>\n",
              "      <td>0</td>\n",
              "    </tr>\n",
              "    <tr>\n",
              "      <th>4</th>\n",
              "      <td>9.335014</td>\n",
              "      <td>[Action, Crime, Thriller]</td>\n",
              "      <td>2947</td>\n",
              "      <td>7.3</td>\n",
              "      <td>0</td>\n",
              "      <td>0</td>\n",
              "      <td>0</td>\n",
              "      <td>0</td>\n",
              "      <td>0</td>\n",
              "      <td>0</td>\n",
              "      <td>...</td>\n",
              "      <td>0</td>\n",
              "      <td>0</td>\n",
              "      <td>0</td>\n",
              "      <td>0</td>\n",
              "      <td>1</td>\n",
              "      <td>0</td>\n",
              "      <td>0</td>\n",
              "      <td>0</td>\n",
              "      <td>1</td>\n",
              "      <td>0</td>\n",
              "    </tr>\n",
              "  </tbody>\n",
              "</table>\n",
              "<p>5 rows × 23 columns</p>\n",
              "</div>"
            ],
            "text/plain": [
              "   popularity                                          genres  vote_count  \\\n",
              "0   32.985763  [Action, Adventure, Science Fiction, Thriller]        5562   \n",
              "1   28.419936  [Action, Adventure, Science Fiction, Thriller]        6185   \n",
              "2   13.112507          [Adventure, Science Fiction, Thriller]        2480   \n",
              "3   11.173104   [Action, Adventure, Science Fiction, Fantasy]        5292   \n",
              "4    9.335014                       [Action, Crime, Thriller]        2947   \n",
              "\n",
              "   vote_average  release_year_0  release_year_1  release_year_2  \\\n",
              "0           6.5               0               0               0   \n",
              "1           7.1               0               0               0   \n",
              "2           6.3               0               0               0   \n",
              "3           7.5               0               0               0   \n",
              "4           7.3               0               0               0   \n",
              "\n",
              "   release_year_3  release_year_4  release_year_5  ...  release_year_9  \\\n",
              "0               0               0               0  ...               0   \n",
              "1               0               0               0  ...               0   \n",
              "2               0               0               0  ...               0   \n",
              "3               0               0               0  ...               0   \n",
              "4               0               0               0  ...               0   \n",
              "\n",
              "   release_year_10  release_year_11  release_year_12  release_year_13  \\\n",
              "0                0                0                0                1   \n",
              "1                0                0                0                1   \n",
              "2                0                0                0                1   \n",
              "3                0                0                0                1   \n",
              "4                0                0                0                1   \n",
              "\n",
              "   Amazon Prime Video  Disney Plus  Hulu  Max  Netflix  \n",
              "0                   0            0     0    1        0  \n",
              "1                   0            0     0    1        0  \n",
              "2                   0            0     1    0        0  \n",
              "3                   0            1     0    0        0  \n",
              "4                   0            0     0    1        0  \n",
              "\n",
              "[5 rows x 23 columns]"
            ]
          },
          "execution_count": 31,
          "metadata": {},
          "output_type": "execute_result"
        }
      ],
      "source": [
        "# Adiciona as colunas das categorias de serviço de streaming ao DataFrame original\n",
        "df = pd.concat([df.reset_index(drop=True), services_df.reset_index(drop=True)], axis=1)\n",
        "\n",
        "# Remove a coluna 'streaming_services', pois ela não será mais necessária após a codificação\n",
        "df.drop(columns=['streaming_services'], inplace=True)\n",
        "df.head()"
      ]
    },
    {
      "cell_type": "code",
      "execution_count": null,
      "metadata": {
        "colab": {
          "base_uri": "https://localhost:8080/"
        },
        "id": "w-XFEEGxERxo",
        "outputId": "85817f01-2500-4484-cff2-c90425c50f39"
      },
      "outputs": [
        {
          "data": {
            "text/plain": [
              "Index(['popularity', 'genres', 'vote_count', 'vote_average', 'release_year_0',\n",
              "       'release_year_1', 'release_year_2', 'release_year_3', 'release_year_4',\n",
              "       'release_year_5', 'release_year_6', 'release_year_7', 'release_year_8',\n",
              "       'release_year_9', 'release_year_10', 'release_year_11',\n",
              "       'release_year_12', 'release_year_13', 'Amazon Prime Video',\n",
              "       'Disney Plus', 'Hulu', 'Max', 'Netflix'],\n",
              "      dtype='object')"
            ]
          },
          "execution_count": 32,
          "metadata": {},
          "output_type": "execute_result"
        }
      ],
      "source": [
        "df.columns"
      ]
    },
    {
      "cell_type": "markdown",
      "metadata": {
        "id": "pII42Lo2Lnyi"
      },
      "source": [
        "**Tratamento dos dados ausentes em \"genres\"**"
      ]
    },
    {
      "cell_type": "markdown",
      "metadata": {
        "id": "rEELifPpo8Gc"
      },
      "source": [
        "Primeiro, separamos os dados ausentes do restante do DataFrame. Em seguida, codificamos os valores dos gêneros de filmes para que possam ser utilizados pelo modelo, que será treinado para preencher esses valores ausentes."
      ]
    },
    {
      "cell_type": "code",
      "execution_count": null,
      "metadata": {
        "id": "AyUfznjaWIQK"
      },
      "outputs": [],
      "source": [
        "#Dataframe com valores ausentes para a coluna \"genres\"\n",
        "df_na = df[df['genres'].isna()]\n",
        "#Dataframe sem valores ausentes para a coluna \"genres\"\n",
        "df_not_na = df[~df['genres'].isna()]"
      ]
    },
    {
      "cell_type": "code",
      "execution_count": null,
      "metadata": {
        "colab": {
          "base_uri": "https://localhost:8080/"
        },
        "id": "anXzx1NFWMb6",
        "outputId": "63638457-37ce-490d-b0ef-8dc4b62f9cc7"
      },
      "outputs": [
        {
          "data": {
            "text/plain": [
              "array([[1, 1, 0, ..., 1, 0, 0],\n",
              "       [1, 1, 0, ..., 1, 0, 0],\n",
              "       [0, 1, 0, ..., 1, 0, 0],\n",
              "       ...,\n",
              "       [0, 0, 0, ..., 0, 0, 0],\n",
              "       [1, 0, 0, ..., 0, 0, 0],\n",
              "       [0, 0, 0, ..., 0, 0, 0]])"
            ]
          },
          "execution_count": 34,
          "metadata": {},
          "output_type": "execute_result"
        }
      ],
      "source": [
        "#Codifica os possíveis valores de gêneros para binário\n",
        "mlb = MultiLabelBinarizer()\n",
        "genres_encoded = mlb.fit_transform(df_not_na['genres'])\n",
        "genres_encoded"
      ]
    },
    {
      "cell_type": "markdown",
      "metadata": {
        "id": "-MYLA-AhiQVY"
      },
      "source": [
        "Lidando apenas com dados numéricos agora, separamos as características (features) e o alvo (target) - que são os gêneros - e empregamos um pipeline para simplificar a normalização dos dados e a construção do modelo. Optamos por utilizar um modelo de Random Forest com múltiplas saídas para esta tarefa."
      ]
    },
    {
      "cell_type": "code",
      "execution_count": null,
      "metadata": {
        "id": "9nSMsWViWo-6"
      },
      "outputs": [],
      "source": [
        "#Separa os dados em features e target\n",
        "X = df_not_na.drop(columns=['genres'])\n",
        "y = pd.DataFrame(genres_encoded, columns=mlb.classes_)"
      ]
    },
    {
      "cell_type": "code",
      "execution_count": null,
      "metadata": {
        "id": "foPKa1IxCDPr"
      },
      "outputs": [],
      "source": [
        "#Features numéricas\n",
        "numeric_features = X.select_dtypes(exclude=['object']).columns\n",
        "\n",
        "#Pipeline para normalizar as variáveis numéricas\n",
        "numeric_transformer = Pipeline(steps=[\n",
        "    ('scaler', MinMaxScaler())\n",
        "])\n",
        "\n",
        "#Combina as transformações em uma única transformação\n",
        "preprocessor = ColumnTransformer(\n",
        "    transformers=[\n",
        "        ('num', numeric_transformer, numeric_features)\n",
        "    ],\n",
        "    remainder='passthrough'  #Passa todas as outras colunas não especificadas\n",
        ")\n"
      ]
    },
    {
      "cell_type": "code",
      "execution_count": null,
      "metadata": {
        "id": "AnBf3tJJCobM"
      },
      "outputs": [],
      "source": [
        "model = Pipeline(steps=[\n",
        "    ('preprocessor', preprocessor),\n",
        "    ('classifier', MultiOutputClassifier(RandomForestClassifier(random_state=42)))\n",
        "])"
      ]
    },
    {
      "cell_type": "code",
      "execution_count": null,
      "metadata": {
        "colab": {
          "base_uri": "https://localhost:8080/"
        },
        "id": "vO3ftwDiXcrP",
        "outputId": "95fce41f-25b6-44ac-df81-43ebdabca4c8"
      },
      "outputs": [
        {
          "data": {
            "text/html": [
              "<style>#sk-container-id-1 {\n",
              "  /* Definition of color scheme common for light and dark mode */\n",
              "  --sklearn-color-text: black;\n",
              "  --sklearn-color-line: gray;\n",
              "  /* Definition of color scheme for unfitted estimators */\n",
              "  --sklearn-color-unfitted-level-0: #fff5e6;\n",
              "  --sklearn-color-unfitted-level-1: #f6e4d2;\n",
              "  --sklearn-color-unfitted-level-2: #ffe0b3;\n",
              "  --sklearn-color-unfitted-level-3: chocolate;\n",
              "  /* Definition of color scheme for fitted estimators */\n",
              "  --sklearn-color-fitted-level-0: #f0f8ff;\n",
              "  --sklearn-color-fitted-level-1: #d4ebff;\n",
              "  --sklearn-color-fitted-level-2: #b3dbfd;\n",
              "  --sklearn-color-fitted-level-3: cornflowerblue;\n",
              "\n",
              "  /* Specific color for light theme */\n",
              "  --sklearn-color-text-on-default-background: var(--sg-text-color, var(--theme-code-foreground, var(--jp-content-font-color1, black)));\n",
              "  --sklearn-color-background: var(--sg-background-color, var(--theme-background, var(--jp-layout-color0, white)));\n",
              "  --sklearn-color-border-box: var(--sg-text-color, var(--theme-code-foreground, var(--jp-content-font-color1, black)));\n",
              "  --sklearn-color-icon: #696969;\n",
              "\n",
              "  @media (prefers-color-scheme: dark) {\n",
              "    /* Redefinition of color scheme for dark theme */\n",
              "    --sklearn-color-text-on-default-background: var(--sg-text-color, var(--theme-code-foreground, var(--jp-content-font-color1, white)));\n",
              "    --sklearn-color-background: var(--sg-background-color, var(--theme-background, var(--jp-layout-color0, #111)));\n",
              "    --sklearn-color-border-box: var(--sg-text-color, var(--theme-code-foreground, var(--jp-content-font-color1, white)));\n",
              "    --sklearn-color-icon: #878787;\n",
              "  }\n",
              "}\n",
              "\n",
              "#sk-container-id-1 {\n",
              "  color: var(--sklearn-color-text);\n",
              "}\n",
              "\n",
              "#sk-container-id-1 pre {\n",
              "  padding: 0;\n",
              "}\n",
              "\n",
              "#sk-container-id-1 input.sk-hidden--visually {\n",
              "  border: 0;\n",
              "  clip: rect(1px 1px 1px 1px);\n",
              "  clip: rect(1px, 1px, 1px, 1px);\n",
              "  height: 1px;\n",
              "  margin: -1px;\n",
              "  overflow: hidden;\n",
              "  padding: 0;\n",
              "  position: absolute;\n",
              "  width: 1px;\n",
              "}\n",
              "\n",
              "#sk-container-id-1 div.sk-dashed-wrapped {\n",
              "  border: 1px dashed var(--sklearn-color-line);\n",
              "  margin: 0 0.4em 0.5em 0.4em;\n",
              "  box-sizing: border-box;\n",
              "  padding-bottom: 0.4em;\n",
              "  background-color: var(--sklearn-color-background);\n",
              "}\n",
              "\n",
              "#sk-container-id-1 div.sk-container {\n",
              "  /* jupyter's `normalize.less` sets `[hidden] { display: none; }`\n",
              "     but bootstrap.min.css set `[hidden] { display: none !important; }`\n",
              "     so we also need the `!important` here to be able to override the\n",
              "     default hidden behavior on the sphinx rendered scikit-learn.org.\n",
              "     See: https://github.com/scikit-learn/scikit-learn/issues/21755 */\n",
              "  display: inline-block !important;\n",
              "  position: relative;\n",
              "}\n",
              "\n",
              "#sk-container-id-1 div.sk-text-repr-fallback {\n",
              "  display: none;\n",
              "}\n",
              "\n",
              "div.sk-parallel-item,\n",
              "div.sk-serial,\n",
              "div.sk-item {\n",
              "  /* draw centered vertical line to link estimators */\n",
              "  background-image: linear-gradient(var(--sklearn-color-text-on-default-background), var(--sklearn-color-text-on-default-background));\n",
              "  background-size: 2px 100%;\n",
              "  background-repeat: no-repeat;\n",
              "  background-position: center center;\n",
              "}\n",
              "\n",
              "/* Parallel-specific style estimator block */\n",
              "\n",
              "#sk-container-id-1 div.sk-parallel-item::after {\n",
              "  content: \"\";\n",
              "  width: 100%;\n",
              "  border-bottom: 2px solid var(--sklearn-color-text-on-default-background);\n",
              "  flex-grow: 1;\n",
              "}\n",
              "\n",
              "#sk-container-id-1 div.sk-parallel {\n",
              "  display: flex;\n",
              "  align-items: stretch;\n",
              "  justify-content: center;\n",
              "  background-color: var(--sklearn-color-background);\n",
              "  position: relative;\n",
              "}\n",
              "\n",
              "#sk-container-id-1 div.sk-parallel-item {\n",
              "  display: flex;\n",
              "  flex-direction: column;\n",
              "}\n",
              "\n",
              "#sk-container-id-1 div.sk-parallel-item:first-child::after {\n",
              "  align-self: flex-end;\n",
              "  width: 50%;\n",
              "}\n",
              "\n",
              "#sk-container-id-1 div.sk-parallel-item:last-child::after {\n",
              "  align-self: flex-start;\n",
              "  width: 50%;\n",
              "}\n",
              "\n",
              "#sk-container-id-1 div.sk-parallel-item:only-child::after {\n",
              "  width: 0;\n",
              "}\n",
              "\n",
              "/* Serial-specific style estimator block */\n",
              "\n",
              "#sk-container-id-1 div.sk-serial {\n",
              "  display: flex;\n",
              "  flex-direction: column;\n",
              "  align-items: center;\n",
              "  background-color: var(--sklearn-color-background);\n",
              "  padding-right: 1em;\n",
              "  padding-left: 1em;\n",
              "}\n",
              "\n",
              "\n",
              "/* Toggleable style: style used for estimator/Pipeline/ColumnTransformer box that is\n",
              "clickable and can be expanded/collapsed.\n",
              "- Pipeline and ColumnTransformer use this feature and define the default style\n",
              "- Estimators will overwrite some part of the style using the `sk-estimator` class\n",
              "*/\n",
              "\n",
              "/* Pipeline and ColumnTransformer style (default) */\n",
              "\n",
              "#sk-container-id-1 div.sk-toggleable {\n",
              "  /* Default theme specific background. It is overwritten whether we have a\n",
              "  specific estimator or a Pipeline/ColumnTransformer */\n",
              "  background-color: var(--sklearn-color-background);\n",
              "}\n",
              "\n",
              "/* Toggleable label */\n",
              "#sk-container-id-1 label.sk-toggleable__label {\n",
              "  cursor: pointer;\n",
              "  display: block;\n",
              "  width: 100%;\n",
              "  margin-bottom: 0;\n",
              "  padding: 0.5em;\n",
              "  box-sizing: border-box;\n",
              "  text-align: center;\n",
              "}\n",
              "\n",
              "#sk-container-id-1 label.sk-toggleable__label-arrow:before {\n",
              "  /* Arrow on the left of the label */\n",
              "  content: \"▸\";\n",
              "  float: left;\n",
              "  margin-right: 0.25em;\n",
              "  color: var(--sklearn-color-icon);\n",
              "}\n",
              "\n",
              "#sk-container-id-1 label.sk-toggleable__label-arrow:hover:before {\n",
              "  color: var(--sklearn-color-text);\n",
              "}\n",
              "\n",
              "/* Toggleable content - dropdown */\n",
              "\n",
              "#sk-container-id-1 div.sk-toggleable__content {\n",
              "  max-height: 0;\n",
              "  max-width: 0;\n",
              "  overflow: hidden;\n",
              "  text-align: left;\n",
              "  /* unfitted */\n",
              "  background-color: var(--sklearn-color-unfitted-level-0);\n",
              "}\n",
              "\n",
              "#sk-container-id-1 div.sk-toggleable__content.fitted {\n",
              "  /* fitted */\n",
              "  background-color: var(--sklearn-color-fitted-level-0);\n",
              "}\n",
              "\n",
              "#sk-container-id-1 div.sk-toggleable__content pre {\n",
              "  margin: 0.2em;\n",
              "  border-radius: 0.25em;\n",
              "  color: var(--sklearn-color-text);\n",
              "  /* unfitted */\n",
              "  background-color: var(--sklearn-color-unfitted-level-0);\n",
              "}\n",
              "\n",
              "#sk-container-id-1 div.sk-toggleable__content.fitted pre {\n",
              "  /* unfitted */\n",
              "  background-color: var(--sklearn-color-fitted-level-0);\n",
              "}\n",
              "\n",
              "#sk-container-id-1 input.sk-toggleable__control:checked~div.sk-toggleable__content {\n",
              "  /* Expand drop-down */\n",
              "  max-height: 200px;\n",
              "  max-width: 100%;\n",
              "  overflow: auto;\n",
              "}\n",
              "\n",
              "#sk-container-id-1 input.sk-toggleable__control:checked~label.sk-toggleable__label-arrow:before {\n",
              "  content: \"▾\";\n",
              "}\n",
              "\n",
              "/* Pipeline/ColumnTransformer-specific style */\n",
              "\n",
              "#sk-container-id-1 div.sk-label input.sk-toggleable__control:checked~label.sk-toggleable__label {\n",
              "  color: var(--sklearn-color-text);\n",
              "  background-color: var(--sklearn-color-unfitted-level-2);\n",
              "}\n",
              "\n",
              "#sk-container-id-1 div.sk-label.fitted input.sk-toggleable__control:checked~label.sk-toggleable__label {\n",
              "  background-color: var(--sklearn-color-fitted-level-2);\n",
              "}\n",
              "\n",
              "/* Estimator-specific style */\n",
              "\n",
              "/* Colorize estimator box */\n",
              "#sk-container-id-1 div.sk-estimator input.sk-toggleable__control:checked~label.sk-toggleable__label {\n",
              "  /* unfitted */\n",
              "  background-color: var(--sklearn-color-unfitted-level-2);\n",
              "}\n",
              "\n",
              "#sk-container-id-1 div.sk-estimator.fitted input.sk-toggleable__control:checked~label.sk-toggleable__label {\n",
              "  /* fitted */\n",
              "  background-color: var(--sklearn-color-fitted-level-2);\n",
              "}\n",
              "\n",
              "#sk-container-id-1 div.sk-label label.sk-toggleable__label,\n",
              "#sk-container-id-1 div.sk-label label {\n",
              "  /* The background is the default theme color */\n",
              "  color: var(--sklearn-color-text-on-default-background);\n",
              "}\n",
              "\n",
              "/* On hover, darken the color of the background */\n",
              "#sk-container-id-1 div.sk-label:hover label.sk-toggleable__label {\n",
              "  color: var(--sklearn-color-text);\n",
              "  background-color: var(--sklearn-color-unfitted-level-2);\n",
              "}\n",
              "\n",
              "/* Label box, darken color on hover, fitted */\n",
              "#sk-container-id-1 div.sk-label.fitted:hover label.sk-toggleable__label.fitted {\n",
              "  color: var(--sklearn-color-text);\n",
              "  background-color: var(--sklearn-color-fitted-level-2);\n",
              "}\n",
              "\n",
              "/* Estimator label */\n",
              "\n",
              "#sk-container-id-1 div.sk-label label {\n",
              "  font-family: monospace;\n",
              "  font-weight: bold;\n",
              "  display: inline-block;\n",
              "  line-height: 1.2em;\n",
              "}\n",
              "\n",
              "#sk-container-id-1 div.sk-label-container {\n",
              "  text-align: center;\n",
              "}\n",
              "\n",
              "/* Estimator-specific */\n",
              "#sk-container-id-1 div.sk-estimator {\n",
              "  font-family: monospace;\n",
              "  border: 1px dotted var(--sklearn-color-border-box);\n",
              "  border-radius: 0.25em;\n",
              "  box-sizing: border-box;\n",
              "  margin-bottom: 0.5em;\n",
              "  /* unfitted */\n",
              "  background-color: var(--sklearn-color-unfitted-level-0);\n",
              "}\n",
              "\n",
              "#sk-container-id-1 div.sk-estimator.fitted {\n",
              "  /* fitted */\n",
              "  background-color: var(--sklearn-color-fitted-level-0);\n",
              "}\n",
              "\n",
              "/* on hover */\n",
              "#sk-container-id-1 div.sk-estimator:hover {\n",
              "  /* unfitted */\n",
              "  background-color: var(--sklearn-color-unfitted-level-2);\n",
              "}\n",
              "\n",
              "#sk-container-id-1 div.sk-estimator.fitted:hover {\n",
              "  /* fitted */\n",
              "  background-color: var(--sklearn-color-fitted-level-2);\n",
              "}\n",
              "\n",
              "/* Specification for estimator info (e.g. \"i\" and \"?\") */\n",
              "\n",
              "/* Common style for \"i\" and \"?\" */\n",
              "\n",
              ".sk-estimator-doc-link,\n",
              "a:link.sk-estimator-doc-link,\n",
              "a:visited.sk-estimator-doc-link {\n",
              "  float: right;\n",
              "  font-size: smaller;\n",
              "  line-height: 1em;\n",
              "  font-family: monospace;\n",
              "  background-color: var(--sklearn-color-background);\n",
              "  border-radius: 1em;\n",
              "  height: 1em;\n",
              "  width: 1em;\n",
              "  text-decoration: none !important;\n",
              "  margin-left: 1ex;\n",
              "  /* unfitted */\n",
              "  border: var(--sklearn-color-unfitted-level-1) 1pt solid;\n",
              "  color: var(--sklearn-color-unfitted-level-1);\n",
              "}\n",
              "\n",
              ".sk-estimator-doc-link.fitted,\n",
              "a:link.sk-estimator-doc-link.fitted,\n",
              "a:visited.sk-estimator-doc-link.fitted {\n",
              "  /* fitted */\n",
              "  border: var(--sklearn-color-fitted-level-1) 1pt solid;\n",
              "  color: var(--sklearn-color-fitted-level-1);\n",
              "}\n",
              "\n",
              "/* On hover */\n",
              "div.sk-estimator:hover .sk-estimator-doc-link:hover,\n",
              ".sk-estimator-doc-link:hover,\n",
              "div.sk-label-container:hover .sk-estimator-doc-link:hover,\n",
              ".sk-estimator-doc-link:hover {\n",
              "  /* unfitted */\n",
              "  background-color: var(--sklearn-color-unfitted-level-3);\n",
              "  color: var(--sklearn-color-background);\n",
              "  text-decoration: none;\n",
              "}\n",
              "\n",
              "div.sk-estimator.fitted:hover .sk-estimator-doc-link.fitted:hover,\n",
              ".sk-estimator-doc-link.fitted:hover,\n",
              "div.sk-label-container:hover .sk-estimator-doc-link.fitted:hover,\n",
              ".sk-estimator-doc-link.fitted:hover {\n",
              "  /* fitted */\n",
              "  background-color: var(--sklearn-color-fitted-level-3);\n",
              "  color: var(--sklearn-color-background);\n",
              "  text-decoration: none;\n",
              "}\n",
              "\n",
              "/* Span, style for the box shown on hovering the info icon */\n",
              ".sk-estimator-doc-link span {\n",
              "  display: none;\n",
              "  z-index: 9999;\n",
              "  position: relative;\n",
              "  font-weight: normal;\n",
              "  right: .2ex;\n",
              "  padding: .5ex;\n",
              "  margin: .5ex;\n",
              "  width: min-content;\n",
              "  min-width: 20ex;\n",
              "  max-width: 50ex;\n",
              "  color: var(--sklearn-color-text);\n",
              "  box-shadow: 2pt 2pt 4pt #999;\n",
              "  /* unfitted */\n",
              "  background: var(--sklearn-color-unfitted-level-0);\n",
              "  border: .5pt solid var(--sklearn-color-unfitted-level-3);\n",
              "}\n",
              "\n",
              ".sk-estimator-doc-link.fitted span {\n",
              "  /* fitted */\n",
              "  background: var(--sklearn-color-fitted-level-0);\n",
              "  border: var(--sklearn-color-fitted-level-3);\n",
              "}\n",
              "\n",
              ".sk-estimator-doc-link:hover span {\n",
              "  display: block;\n",
              "}\n",
              "\n",
              "/* \"?\"-specific style due to the `<a>` HTML tag */\n",
              "\n",
              "#sk-container-id-1 a.estimator_doc_link {\n",
              "  float: right;\n",
              "  font-size: 1rem;\n",
              "  line-height: 1em;\n",
              "  font-family: monospace;\n",
              "  background-color: var(--sklearn-color-background);\n",
              "  border-radius: 1rem;\n",
              "  height: 1rem;\n",
              "  width: 1rem;\n",
              "  text-decoration: none;\n",
              "  /* unfitted */\n",
              "  color: var(--sklearn-color-unfitted-level-1);\n",
              "  border: var(--sklearn-color-unfitted-level-1) 1pt solid;\n",
              "}\n",
              "\n",
              "#sk-container-id-1 a.estimator_doc_link.fitted {\n",
              "  /* fitted */\n",
              "  border: var(--sklearn-color-fitted-level-1) 1pt solid;\n",
              "  color: var(--sklearn-color-fitted-level-1);\n",
              "}\n",
              "\n",
              "/* On hover */\n",
              "#sk-container-id-1 a.estimator_doc_link:hover {\n",
              "  /* unfitted */\n",
              "  background-color: var(--sklearn-color-unfitted-level-3);\n",
              "  color: var(--sklearn-color-background);\n",
              "  text-decoration: none;\n",
              "}\n",
              "\n",
              "#sk-container-id-1 a.estimator_doc_link.fitted:hover {\n",
              "  /* fitted */\n",
              "  background-color: var(--sklearn-color-fitted-level-3);\n",
              "}\n",
              "</style><div id=\"sk-container-id-1\" class=\"sk-top-container\"><div class=\"sk-text-repr-fallback\"><pre>Pipeline(steps=[(&#x27;preprocessor&#x27;,\n",
              "                 ColumnTransformer(remainder=&#x27;passthrough&#x27;,\n",
              "                                   transformers=[(&#x27;num&#x27;,\n",
              "                                                  Pipeline(steps=[(&#x27;scaler&#x27;,\n",
              "                                                                   MinMaxScaler())]),\n",
              "                                                  Index([&#x27;popularity&#x27;, &#x27;vote_count&#x27;, &#x27;vote_average&#x27;, &#x27;release_year_0&#x27;,\n",
              "       &#x27;release_year_1&#x27;, &#x27;release_year_2&#x27;, &#x27;release_year_3&#x27;, &#x27;release_year_4&#x27;,\n",
              "       &#x27;release_year_5&#x27;, &#x27;release_year_6&#x27;, &#x27;release_year_7&#x27;, &#x27;release_year_8&#x27;,\n",
              "       &#x27;release_year_9&#x27;, &#x27;release_year_10&#x27;, &#x27;release_year_11&#x27;,\n",
              "       &#x27;release_year_12&#x27;, &#x27;release_year_13&#x27;, &#x27;Amazon Prime Video&#x27;,\n",
              "       &#x27;Disney Plus&#x27;, &#x27;Hulu&#x27;, &#x27;Max&#x27;, &#x27;Netflix&#x27;],\n",
              "      dtype=&#x27;object&#x27;))])),\n",
              "                (&#x27;classifier&#x27;,\n",
              "                 MultiOutputClassifier(estimator=RandomForestClassifier(random_state=42)))])</pre><b>In a Jupyter environment, please rerun this cell to show the HTML representation or trust the notebook. <br />On GitHub, the HTML representation is unable to render, please try loading this page with nbviewer.org.</b></div><div class=\"sk-container\" hidden><div class=\"sk-item sk-dashed-wrapped\"><div class=\"sk-label-container\"><div class=\"sk-label fitted sk-toggleable\"><input class=\"sk-toggleable__control sk-hidden--visually\" id=\"sk-estimator-id-1\" type=\"checkbox\" ><label for=\"sk-estimator-id-1\" class=\"sk-toggleable__label fitted sk-toggleable__label-arrow fitted\">&nbsp;&nbsp;Pipeline<a class=\"sk-estimator-doc-link fitted\" rel=\"noreferrer\" target=\"_blank\" href=\"https://scikit-learn.org/1.5/modules/generated/sklearn.pipeline.Pipeline.html\">?<span>Documentation for Pipeline</span></a><span class=\"sk-estimator-doc-link fitted\">i<span>Fitted</span></span></label><div class=\"sk-toggleable__content fitted\"><pre>Pipeline(steps=[(&#x27;preprocessor&#x27;,\n",
              "                 ColumnTransformer(remainder=&#x27;passthrough&#x27;,\n",
              "                                   transformers=[(&#x27;num&#x27;,\n",
              "                                                  Pipeline(steps=[(&#x27;scaler&#x27;,\n",
              "                                                                   MinMaxScaler())]),\n",
              "                                                  Index([&#x27;popularity&#x27;, &#x27;vote_count&#x27;, &#x27;vote_average&#x27;, &#x27;release_year_0&#x27;,\n",
              "       &#x27;release_year_1&#x27;, &#x27;release_year_2&#x27;, &#x27;release_year_3&#x27;, &#x27;release_year_4&#x27;,\n",
              "       &#x27;release_year_5&#x27;, &#x27;release_year_6&#x27;, &#x27;release_year_7&#x27;, &#x27;release_year_8&#x27;,\n",
              "       &#x27;release_year_9&#x27;, &#x27;release_year_10&#x27;, &#x27;release_year_11&#x27;,\n",
              "       &#x27;release_year_12&#x27;, &#x27;release_year_13&#x27;, &#x27;Amazon Prime Video&#x27;,\n",
              "       &#x27;Disney Plus&#x27;, &#x27;Hulu&#x27;, &#x27;Max&#x27;, &#x27;Netflix&#x27;],\n",
              "      dtype=&#x27;object&#x27;))])),\n",
              "                (&#x27;classifier&#x27;,\n",
              "                 MultiOutputClassifier(estimator=RandomForestClassifier(random_state=42)))])</pre></div> </div></div><div class=\"sk-serial\"><div class=\"sk-item sk-dashed-wrapped\"><div class=\"sk-label-container\"><div class=\"sk-label fitted sk-toggleable\"><input class=\"sk-toggleable__control sk-hidden--visually\" id=\"sk-estimator-id-2\" type=\"checkbox\" ><label for=\"sk-estimator-id-2\" class=\"sk-toggleable__label fitted sk-toggleable__label-arrow fitted\">&nbsp;preprocessor: ColumnTransformer<a class=\"sk-estimator-doc-link fitted\" rel=\"noreferrer\" target=\"_blank\" href=\"https://scikit-learn.org/1.5/modules/generated/sklearn.compose.ColumnTransformer.html\">?<span>Documentation for preprocessor: ColumnTransformer</span></a></label><div class=\"sk-toggleable__content fitted\"><pre>ColumnTransformer(remainder=&#x27;passthrough&#x27;,\n",
              "                  transformers=[(&#x27;num&#x27;,\n",
              "                                 Pipeline(steps=[(&#x27;scaler&#x27;, MinMaxScaler())]),\n",
              "                                 Index([&#x27;popularity&#x27;, &#x27;vote_count&#x27;, &#x27;vote_average&#x27;, &#x27;release_year_0&#x27;,\n",
              "       &#x27;release_year_1&#x27;, &#x27;release_year_2&#x27;, &#x27;release_year_3&#x27;, &#x27;release_year_4&#x27;,\n",
              "       &#x27;release_year_5&#x27;, &#x27;release_year_6&#x27;, &#x27;release_year_7&#x27;, &#x27;release_year_8&#x27;,\n",
              "       &#x27;release_year_9&#x27;, &#x27;release_year_10&#x27;, &#x27;release_year_11&#x27;,\n",
              "       &#x27;release_year_12&#x27;, &#x27;release_year_13&#x27;, &#x27;Amazon Prime Video&#x27;,\n",
              "       &#x27;Disney Plus&#x27;, &#x27;Hulu&#x27;, &#x27;Max&#x27;, &#x27;Netflix&#x27;],\n",
              "      dtype=&#x27;object&#x27;))])</pre></div> </div></div><div class=\"sk-parallel\"><div class=\"sk-parallel-item\"><div class=\"sk-item\"><div class=\"sk-label-container\"><div class=\"sk-label fitted sk-toggleable\"><input class=\"sk-toggleable__control sk-hidden--visually\" id=\"sk-estimator-id-3\" type=\"checkbox\" ><label for=\"sk-estimator-id-3\" class=\"sk-toggleable__label fitted sk-toggleable__label-arrow fitted\">num</label><div class=\"sk-toggleable__content fitted\"><pre>Index([&#x27;popularity&#x27;, &#x27;vote_count&#x27;, &#x27;vote_average&#x27;, &#x27;release_year_0&#x27;,\n",
              "       &#x27;release_year_1&#x27;, &#x27;release_year_2&#x27;, &#x27;release_year_3&#x27;, &#x27;release_year_4&#x27;,\n",
              "       &#x27;release_year_5&#x27;, &#x27;release_year_6&#x27;, &#x27;release_year_7&#x27;, &#x27;release_year_8&#x27;,\n",
              "       &#x27;release_year_9&#x27;, &#x27;release_year_10&#x27;, &#x27;release_year_11&#x27;,\n",
              "       &#x27;release_year_12&#x27;, &#x27;release_year_13&#x27;, &#x27;Amazon Prime Video&#x27;,\n",
              "       &#x27;Disney Plus&#x27;, &#x27;Hulu&#x27;, &#x27;Max&#x27;, &#x27;Netflix&#x27;],\n",
              "      dtype=&#x27;object&#x27;)</pre></div> </div></div><div class=\"sk-serial\"><div class=\"sk-item\"><div class=\"sk-serial\"><div class=\"sk-item\"><div class=\"sk-estimator fitted sk-toggleable\"><input class=\"sk-toggleable__control sk-hidden--visually\" id=\"sk-estimator-id-4\" type=\"checkbox\" ><label for=\"sk-estimator-id-4\" class=\"sk-toggleable__label fitted sk-toggleable__label-arrow fitted\">&nbsp;MinMaxScaler<a class=\"sk-estimator-doc-link fitted\" rel=\"noreferrer\" target=\"_blank\" href=\"https://scikit-learn.org/1.5/modules/generated/sklearn.preprocessing.MinMaxScaler.html\">?<span>Documentation for MinMaxScaler</span></a></label><div class=\"sk-toggleable__content fitted\"><pre>MinMaxScaler()</pre></div> </div></div></div></div></div></div></div><div class=\"sk-parallel-item\"><div class=\"sk-item\"><div class=\"sk-label-container\"><div class=\"sk-label fitted sk-toggleable\"><input class=\"sk-toggleable__control sk-hidden--visually\" id=\"sk-estimator-id-5\" type=\"checkbox\" ><label for=\"sk-estimator-id-5\" class=\"sk-toggleable__label fitted sk-toggleable__label-arrow fitted\">remainder</label><div class=\"sk-toggleable__content fitted\"><pre>[]</pre></div> </div></div><div class=\"sk-serial\"><div class=\"sk-item\"><div class=\"sk-estimator fitted sk-toggleable\"><input class=\"sk-toggleable__control sk-hidden--visually\" id=\"sk-estimator-id-6\" type=\"checkbox\" ><label for=\"sk-estimator-id-6\" class=\"sk-toggleable__label fitted sk-toggleable__label-arrow fitted\">passthrough</label><div class=\"sk-toggleable__content fitted\"><pre>passthrough</pre></div> </div></div></div></div></div></div></div><div class=\"sk-item sk-dashed-wrapped\"><div class=\"sk-label-container\"><div class=\"sk-label fitted sk-toggleable\"><input class=\"sk-toggleable__control sk-hidden--visually\" id=\"sk-estimator-id-7\" type=\"checkbox\" ><label for=\"sk-estimator-id-7\" class=\"sk-toggleable__label fitted sk-toggleable__label-arrow fitted\">&nbsp;classifier: MultiOutputClassifier<a class=\"sk-estimator-doc-link fitted\" rel=\"noreferrer\" target=\"_blank\" href=\"https://scikit-learn.org/1.5/modules/generated/sklearn.multioutput.MultiOutputClassifier.html\">?<span>Documentation for classifier: MultiOutputClassifier</span></a></label><div class=\"sk-toggleable__content fitted\"><pre>MultiOutputClassifier(estimator=RandomForestClassifier(random_state=42))</pre></div> </div></div><div class=\"sk-parallel\"><div class=\"sk-parallel-item\"><div class=\"sk-item\"><div class=\"sk-label-container\"><div class=\"sk-label fitted sk-toggleable\"><input class=\"sk-toggleable__control sk-hidden--visually\" id=\"sk-estimator-id-8\" type=\"checkbox\" ><label for=\"sk-estimator-id-8\" class=\"sk-toggleable__label fitted sk-toggleable__label-arrow fitted\">estimator: RandomForestClassifier</label><div class=\"sk-toggleable__content fitted\"><pre>RandomForestClassifier(random_state=42)</pre></div> </div></div><div class=\"sk-serial\"><div class=\"sk-item\"><div class=\"sk-estimator fitted sk-toggleable\"><input class=\"sk-toggleable__control sk-hidden--visually\" id=\"sk-estimator-id-9\" type=\"checkbox\" ><label for=\"sk-estimator-id-9\" class=\"sk-toggleable__label fitted sk-toggleable__label-arrow fitted\">&nbsp;RandomForestClassifier<a class=\"sk-estimator-doc-link fitted\" rel=\"noreferrer\" target=\"_blank\" href=\"https://scikit-learn.org/1.5/modules/generated/sklearn.ensemble.RandomForestClassifier.html\">?<span>Documentation for RandomForestClassifier</span></a></label><div class=\"sk-toggleable__content fitted\"><pre>RandomForestClassifier(random_state=42)</pre></div> </div></div></div></div></div></div></div></div></div></div></div>"
            ],
            "text/plain": [
              "Pipeline(steps=[('preprocessor',\n",
              "                 ColumnTransformer(remainder='passthrough',\n",
              "                                   transformers=[('num',\n",
              "                                                  Pipeline(steps=[('scaler',\n",
              "                                                                   MinMaxScaler())]),\n",
              "                                                  Index(['popularity', 'vote_count', 'vote_average', 'release_year_0',\n",
              "       'release_year_1', 'release_year_2', 'release_year_3', 'release_year_4',\n",
              "       'release_year_5', 'release_year_6', 'release_year_7', 'release_year_8',\n",
              "       'release_year_9', 'release_year_10', 'release_year_11',\n",
              "       'release_year_12', 'release_year_13', 'Amazon Prime Video',\n",
              "       'Disney Plus', 'Hulu', 'Max', 'Netflix'],\n",
              "      dtype='object'))])),\n",
              "                ('classifier',\n",
              "                 MultiOutputClassifier(estimator=RandomForestClassifier(random_state=42)))])"
            ]
          },
          "execution_count": 38,
          "metadata": {},
          "output_type": "execute_result"
        }
      ],
      "source": [
        "#Treinamento do modelo de multiclassificação\n",
        "model.fit(X, y)"
      ]
    },
    {
      "cell_type": "markdown",
      "metadata": {
        "id": "nXMI7os_rkiN"
      },
      "source": [
        "Por fim, utilizando o modelo treinado, substituímos os valores ausentes pelas previsões geradas e realizamos a codificação da coluna \"genres\"."
      ]
    },
    {
      "cell_type": "code",
      "execution_count": null,
      "metadata": {
        "colab": {
          "base_uri": "https://localhost:8080/"
        },
        "id": "GxfMSxbrEX4t",
        "outputId": "e6b7d061-a077-4f32-cc37-82d5ff829556"
      },
      "outputs": [
        {
          "data": {
            "text/plain": [
              "array([[0, 0, 0, 0, 0, 0, 1, 0, 0, 0, 0, 0, 0, 0, 0, 0, 0, 0, 0, 0],\n",
              "       [0, 0, 0, 0, 0, 0, 1, 0, 0, 0, 0, 0, 0, 0, 0, 0, 0, 0, 0, 0],\n",
              "       [0, 0, 0, 0, 0, 0, 0, 0, 0, 0, 0, 0, 0, 0, 0, 0, 0, 0, 0, 0],\n",
              "       [0, 0, 0, 0, 0, 0, 1, 0, 0, 0, 0, 0, 0, 0, 0, 0, 0, 0, 0, 0],\n",
              "       [0, 0, 0, 0, 0, 1, 0, 1, 0, 0, 0, 0, 0, 0, 0, 0, 0, 0, 0, 0],\n",
              "       [0, 0, 0, 0, 0, 0, 1, 0, 0, 0, 0, 0, 0, 0, 0, 0, 0, 0, 0, 0],\n",
              "       [0, 0, 0, 0, 0, 0, 0, 0, 0, 0, 0, 0, 0, 0, 0, 0, 0, 0, 0, 0],\n",
              "       [0, 0, 0, 0, 0, 0, 0, 0, 0, 0, 0, 0, 0, 0, 0, 0, 0, 0, 0, 0],\n",
              "       [0, 0, 0, 0, 0, 0, 1, 0, 0, 0, 0, 0, 0, 0, 0, 0, 0, 0, 0, 0],\n",
              "       [0, 0, 0, 0, 0, 0, 0, 0, 0, 0, 0, 0, 0, 0, 0, 0, 0, 0, 0, 0],\n",
              "       [0, 0, 0, 0, 0, 0, 1, 0, 0, 0, 0, 0, 0, 0, 0, 0, 0, 0, 0, 0],\n",
              "       [0, 0, 0, 0, 0, 0, 0, 0, 0, 0, 0, 0, 0, 0, 0, 0, 0, 0, 0, 0],\n",
              "       [0, 0, 0, 0, 0, 0, 0, 0, 0, 0, 0, 0, 0, 0, 0, 0, 0, 0, 0, 0],\n",
              "       [0, 0, 0, 0, 0, 1, 0, 0, 0, 0, 0, 0, 1, 0, 0, 0, 0, 0, 0, 0],\n",
              "       [0, 0, 0, 0, 0, 0, 0, 0, 0, 0, 0, 0, 0, 0, 0, 0, 0, 0, 0, 0],\n",
              "       [0, 0, 0, 1, 0, 0, 0, 0, 0, 0, 0, 0, 0, 0, 0, 0, 0, 0, 0, 0],\n",
              "       [0, 0, 0, 0, 0, 0, 0, 0, 0, 0, 0, 0, 0, 0, 0, 0, 0, 0, 0, 0],\n",
              "       [0, 0, 0, 0, 0, 0, 1, 0, 0, 0, 0, 0, 0, 0, 0, 0, 0, 0, 0, 0],\n",
              "       [0, 0, 0, 0, 0, 0, 1, 0, 0, 0, 0, 0, 0, 0, 0, 0, 0, 0, 0, 0],\n",
              "       [0, 1, 0, 1, 0, 0, 0, 1, 0, 0, 0, 0, 0, 0, 0, 0, 0, 0, 0, 0],\n",
              "       [0, 0, 0, 0, 0, 0, 0, 0, 0, 0, 0, 0, 0, 0, 0, 0, 0, 0, 0, 0],\n",
              "       [0, 0, 0, 0, 0, 0, 0, 0, 0, 0, 0, 1, 0, 0, 0, 0, 0, 0, 0, 0],\n",
              "       [0, 0, 0, 0, 0, 0, 0, 0, 0, 0, 0, 0, 0, 0, 0, 1, 0, 0, 0, 0]])"
            ]
          },
          "execution_count": 39,
          "metadata": {},
          "output_type": "execute_result"
        }
      ],
      "source": [
        "#Previsão dos valores ausentes\n",
        "X_na = df_na.drop(columns=['genres'])\n",
        "y_pred = model.predict(X_na)\n",
        "y_pred"
      ]
    },
    {
      "cell_type": "code",
      "execution_count": null,
      "metadata": {
        "colab": {
          "base_uri": "https://localhost:8080/"
        },
        "id": "INg2BaoXvOtI",
        "outputId": "1c46b91f-9c4a-4f03-b549-0077151e63a8"
      },
      "outputs": [
        {
          "name": "stderr",
          "output_type": "stream",
          "text": [
            "C:\\Users\\Thiago\\AppData\\Local\\Temp/ipykernel_7812/3080347748.py:3: SettingWithCopyWarning: \n",
            "A value is trying to be set on a copy of a slice from a DataFrame.\n",
            "Try using .loc[row_indexer,col_indexer] = value instead\n",
            "\n",
            "See the caveats in the documentation: https://pandas.pydata.org/pandas-docs/stable/user_guide/indexing.html#returning-a-view-versus-a-copy\n",
            "  df_na['genres'] = [list(genres) for genres in y_pred_decoded]\n"
          ]
        },
        {
          "data": {
            "text/html": [
              "<div>\n",
              "<style scoped>\n",
              "    .dataframe tbody tr th:only-of-type {\n",
              "        vertical-align: middle;\n",
              "    }\n",
              "\n",
              "    .dataframe tbody tr th {\n",
              "        vertical-align: top;\n",
              "    }\n",
              "\n",
              "    .dataframe thead th {\n",
              "        text-align: right;\n",
              "    }\n",
              "</style>\n",
              "<table border=\"1\" class=\"dataframe\">\n",
              "  <thead>\n",
              "    <tr style=\"text-align: right;\">\n",
              "      <th></th>\n",
              "      <th>popularity</th>\n",
              "      <th>genres</th>\n",
              "      <th>vote_count</th>\n",
              "      <th>vote_average</th>\n",
              "      <th>release_year_0</th>\n",
              "      <th>release_year_1</th>\n",
              "      <th>release_year_2</th>\n",
              "      <th>release_year_3</th>\n",
              "      <th>release_year_4</th>\n",
              "      <th>release_year_5</th>\n",
              "      <th>...</th>\n",
              "      <th>release_year_9</th>\n",
              "      <th>release_year_10</th>\n",
              "      <th>release_year_11</th>\n",
              "      <th>release_year_12</th>\n",
              "      <th>release_year_13</th>\n",
              "      <th>Amazon Prime Video</th>\n",
              "      <th>Disney Plus</th>\n",
              "      <th>Hulu</th>\n",
              "      <th>Max</th>\n",
              "      <th>Netflix</th>\n",
              "    </tr>\n",
              "  </thead>\n",
              "  <tbody>\n",
              "    <tr>\n",
              "      <th>424</th>\n",
              "      <td>0.244648</td>\n",
              "      <td>[Drama]</td>\n",
              "      <td>21</td>\n",
              "      <td>6.1</td>\n",
              "      <td>0</td>\n",
              "      <td>0</td>\n",
              "      <td>0</td>\n",
              "      <td>0</td>\n",
              "      <td>0</td>\n",
              "      <td>0</td>\n",
              "      <td>...</td>\n",
              "      <td>0</td>\n",
              "      <td>0</td>\n",
              "      <td>0</td>\n",
              "      <td>0</td>\n",
              "      <td>1</td>\n",
              "      <td>0</td>\n",
              "      <td>0</td>\n",
              "      <td>0</td>\n",
              "      <td>0</td>\n",
              "      <td>0</td>\n",
              "    </tr>\n",
              "    <tr>\n",
              "      <th>620</th>\n",
              "      <td>0.129696</td>\n",
              "      <td>[Drama]</td>\n",
              "      <td>13</td>\n",
              "      <td>5.0</td>\n",
              "      <td>0</td>\n",
              "      <td>0</td>\n",
              "      <td>0</td>\n",
              "      <td>0</td>\n",
              "      <td>0</td>\n",
              "      <td>0</td>\n",
              "      <td>...</td>\n",
              "      <td>0</td>\n",
              "      <td>0</td>\n",
              "      <td>0</td>\n",
              "      <td>0</td>\n",
              "      <td>1</td>\n",
              "      <td>0</td>\n",
              "      <td>0</td>\n",
              "      <td>0</td>\n",
              "      <td>0</td>\n",
              "      <td>0</td>\n",
              "    </tr>\n",
              "    <tr>\n",
              "      <th>997</th>\n",
              "      <td>0.330431</td>\n",
              "      <td>[]</td>\n",
              "      <td>13</td>\n",
              "      <td>6.8</td>\n",
              "      <td>0</td>\n",
              "      <td>0</td>\n",
              "      <td>0</td>\n",
              "      <td>0</td>\n",
              "      <td>0</td>\n",
              "      <td>0</td>\n",
              "      <td>...</td>\n",
              "      <td>0</td>\n",
              "      <td>0</td>\n",
              "      <td>0</td>\n",
              "      <td>0</td>\n",
              "      <td>1</td>\n",
              "      <td>0</td>\n",
              "      <td>0</td>\n",
              "      <td>0</td>\n",
              "      <td>0</td>\n",
              "      <td>0</td>\n",
              "    </tr>\n",
              "    <tr>\n",
              "      <th>1712</th>\n",
              "      <td>0.302095</td>\n",
              "      <td>[Drama]</td>\n",
              "      <td>57</td>\n",
              "      <td>7.4</td>\n",
              "      <td>0</td>\n",
              "      <td>0</td>\n",
              "      <td>0</td>\n",
              "      <td>0</td>\n",
              "      <td>0</td>\n",
              "      <td>0</td>\n",
              "      <td>...</td>\n",
              "      <td>0</td>\n",
              "      <td>0</td>\n",
              "      <td>0</td>\n",
              "      <td>1</td>\n",
              "      <td>0</td>\n",
              "      <td>0</td>\n",
              "      <td>0</td>\n",
              "      <td>0</td>\n",
              "      <td>0</td>\n",
              "      <td>0</td>\n",
              "    </tr>\n",
              "    <tr>\n",
              "      <th>1897</th>\n",
              "      <td>0.020701</td>\n",
              "      <td>[Documentary, Family]</td>\n",
              "      <td>11</td>\n",
              "      <td>7.0</td>\n",
              "      <td>0</td>\n",
              "      <td>0</td>\n",
              "      <td>0</td>\n",
              "      <td>0</td>\n",
              "      <td>0</td>\n",
              "      <td>0</td>\n",
              "      <td>...</td>\n",
              "      <td>0</td>\n",
              "      <td>0</td>\n",
              "      <td>0</td>\n",
              "      <td>1</td>\n",
              "      <td>0</td>\n",
              "      <td>0</td>\n",
              "      <td>1</td>\n",
              "      <td>0</td>\n",
              "      <td>0</td>\n",
              "      <td>0</td>\n",
              "    </tr>\n",
              "  </tbody>\n",
              "</table>\n",
              "<p>5 rows × 23 columns</p>\n",
              "</div>"
            ],
            "text/plain": [
              "      popularity                 genres  vote_count  vote_average  \\\n",
              "424     0.244648                [Drama]          21           6.1   \n",
              "620     0.129696                [Drama]          13           5.0   \n",
              "997     0.330431                     []          13           6.8   \n",
              "1712    0.302095                [Drama]          57           7.4   \n",
              "1897    0.020701  [Documentary, Family]          11           7.0   \n",
              "\n",
              "      release_year_0  release_year_1  release_year_2  release_year_3  \\\n",
              "424                0               0               0               0   \n",
              "620                0               0               0               0   \n",
              "997                0               0               0               0   \n",
              "1712               0               0               0               0   \n",
              "1897               0               0               0               0   \n",
              "\n",
              "      release_year_4  release_year_5  ...  release_year_9  release_year_10  \\\n",
              "424                0               0  ...               0                0   \n",
              "620                0               0  ...               0                0   \n",
              "997                0               0  ...               0                0   \n",
              "1712               0               0  ...               0                0   \n",
              "1897               0               0  ...               0                0   \n",
              "\n",
              "      release_year_11  release_year_12  release_year_13  Amazon Prime Video  \\\n",
              "424                 0                0                1                   0   \n",
              "620                 0                0                1                   0   \n",
              "997                 0                0                1                   0   \n",
              "1712                0                1                0                   0   \n",
              "1897                0                1                0                   0   \n",
              "\n",
              "      Disney Plus  Hulu  Max  Netflix  \n",
              "424             0     0    0        0  \n",
              "620             0     0    0        0  \n",
              "997             0     0    0        0  \n",
              "1712            0     0    0        0  \n",
              "1897            1     0    0        0  \n",
              "\n",
              "[5 rows x 23 columns]"
            ]
          },
          "execution_count": 40,
          "metadata": {},
          "output_type": "execute_result"
        }
      ],
      "source": [
        "#Converte as previsões de volta para o formato nominal\n",
        "y_pred_decoded = mlb.inverse_transform(y_pred)\n",
        "df_na['genres'] = [list(genres) for genres in y_pred_decoded]\n",
        "df_na.head()"
      ]
    },
    {
      "cell_type": "markdown",
      "metadata": {
        "id": "P7fVX4j8N_Au"
      },
      "source": [
        "É possível observar que o modelo não conseguiu definir os gêneros de alguns filmes, nesse caso iremos removê-los do nosso dataframe."
      ]
    },
    {
      "cell_type": "code",
      "execution_count": null,
      "metadata": {
        "colab": {
          "base_uri": "https://localhost:8080/"
        },
        "id": "BEyZKTgTMqHZ",
        "outputId": "89cb3b37-7de8-41c4-e81c-242a72ab792c"
      },
      "outputs": [
        {
          "data": {
            "text/html": [
              "<div>\n",
              "<style scoped>\n",
              "    .dataframe tbody tr th:only-of-type {\n",
              "        vertical-align: middle;\n",
              "    }\n",
              "\n",
              "    .dataframe tbody tr th {\n",
              "        vertical-align: top;\n",
              "    }\n",
              "\n",
              "    .dataframe thead th {\n",
              "        text-align: right;\n",
              "    }\n",
              "</style>\n",
              "<table border=\"1\" class=\"dataframe\">\n",
              "  <thead>\n",
              "    <tr style=\"text-align: right;\">\n",
              "      <th></th>\n",
              "      <th>popularity</th>\n",
              "      <th>genres</th>\n",
              "      <th>vote_count</th>\n",
              "      <th>vote_average</th>\n",
              "      <th>release_year_0</th>\n",
              "      <th>release_year_1</th>\n",
              "      <th>release_year_2</th>\n",
              "      <th>release_year_3</th>\n",
              "      <th>release_year_4</th>\n",
              "      <th>release_year_5</th>\n",
              "      <th>...</th>\n",
              "      <th>release_year_9</th>\n",
              "      <th>release_year_10</th>\n",
              "      <th>release_year_11</th>\n",
              "      <th>release_year_12</th>\n",
              "      <th>release_year_13</th>\n",
              "      <th>Amazon Prime Video</th>\n",
              "      <th>Disney Plus</th>\n",
              "      <th>Hulu</th>\n",
              "      <th>Max</th>\n",
              "      <th>Netflix</th>\n",
              "    </tr>\n",
              "  </thead>\n",
              "  <tbody>\n",
              "    <tr>\n",
              "      <th>424</th>\n",
              "      <td>0.244648</td>\n",
              "      <td>[Drama]</td>\n",
              "      <td>21</td>\n",
              "      <td>6.1</td>\n",
              "      <td>0</td>\n",
              "      <td>0</td>\n",
              "      <td>0</td>\n",
              "      <td>0</td>\n",
              "      <td>0</td>\n",
              "      <td>0</td>\n",
              "      <td>...</td>\n",
              "      <td>0</td>\n",
              "      <td>0</td>\n",
              "      <td>0</td>\n",
              "      <td>0</td>\n",
              "      <td>1</td>\n",
              "      <td>0</td>\n",
              "      <td>0</td>\n",
              "      <td>0</td>\n",
              "      <td>0</td>\n",
              "      <td>0</td>\n",
              "    </tr>\n",
              "    <tr>\n",
              "      <th>620</th>\n",
              "      <td>0.129696</td>\n",
              "      <td>[Drama]</td>\n",
              "      <td>13</td>\n",
              "      <td>5.0</td>\n",
              "      <td>0</td>\n",
              "      <td>0</td>\n",
              "      <td>0</td>\n",
              "      <td>0</td>\n",
              "      <td>0</td>\n",
              "      <td>0</td>\n",
              "      <td>...</td>\n",
              "      <td>0</td>\n",
              "      <td>0</td>\n",
              "      <td>0</td>\n",
              "      <td>0</td>\n",
              "      <td>1</td>\n",
              "      <td>0</td>\n",
              "      <td>0</td>\n",
              "      <td>0</td>\n",
              "      <td>0</td>\n",
              "      <td>0</td>\n",
              "    </tr>\n",
              "    <tr>\n",
              "      <th>1712</th>\n",
              "      <td>0.302095</td>\n",
              "      <td>[Drama]</td>\n",
              "      <td>57</td>\n",
              "      <td>7.4</td>\n",
              "      <td>0</td>\n",
              "      <td>0</td>\n",
              "      <td>0</td>\n",
              "      <td>0</td>\n",
              "      <td>0</td>\n",
              "      <td>0</td>\n",
              "      <td>...</td>\n",
              "      <td>0</td>\n",
              "      <td>0</td>\n",
              "      <td>0</td>\n",
              "      <td>1</td>\n",
              "      <td>0</td>\n",
              "      <td>0</td>\n",
              "      <td>0</td>\n",
              "      <td>0</td>\n",
              "      <td>0</td>\n",
              "      <td>0</td>\n",
              "    </tr>\n",
              "    <tr>\n",
              "      <th>1897</th>\n",
              "      <td>0.020701</td>\n",
              "      <td>[Documentary, Family]</td>\n",
              "      <td>11</td>\n",
              "      <td>7.0</td>\n",
              "      <td>0</td>\n",
              "      <td>0</td>\n",
              "      <td>0</td>\n",
              "      <td>0</td>\n",
              "      <td>0</td>\n",
              "      <td>0</td>\n",
              "      <td>...</td>\n",
              "      <td>0</td>\n",
              "      <td>0</td>\n",
              "      <td>0</td>\n",
              "      <td>1</td>\n",
              "      <td>0</td>\n",
              "      <td>0</td>\n",
              "      <td>1</td>\n",
              "      <td>0</td>\n",
              "      <td>0</td>\n",
              "      <td>0</td>\n",
              "    </tr>\n",
              "    <tr>\n",
              "      <th>2369</th>\n",
              "      <td>0.081892</td>\n",
              "      <td>[Drama]</td>\n",
              "      <td>12</td>\n",
              "      <td>5.8</td>\n",
              "      <td>0</td>\n",
              "      <td>0</td>\n",
              "      <td>0</td>\n",
              "      <td>0</td>\n",
              "      <td>0</td>\n",
              "      <td>0</td>\n",
              "      <td>...</td>\n",
              "      <td>0</td>\n",
              "      <td>0</td>\n",
              "      <td>0</td>\n",
              "      <td>1</td>\n",
              "      <td>0</td>\n",
              "      <td>0</td>\n",
              "      <td>0</td>\n",
              "      <td>0</td>\n",
              "      <td>0</td>\n",
              "      <td>0</td>\n",
              "    </tr>\n",
              "  </tbody>\n",
              "</table>\n",
              "<p>5 rows × 23 columns</p>\n",
              "</div>"
            ],
            "text/plain": [
              "      popularity                 genres  vote_count  vote_average  \\\n",
              "424     0.244648                [Drama]          21           6.1   \n",
              "620     0.129696                [Drama]          13           5.0   \n",
              "1712    0.302095                [Drama]          57           7.4   \n",
              "1897    0.020701  [Documentary, Family]          11           7.0   \n",
              "2369    0.081892                [Drama]          12           5.8   \n",
              "\n",
              "      release_year_0  release_year_1  release_year_2  release_year_3  \\\n",
              "424                0               0               0               0   \n",
              "620                0               0               0               0   \n",
              "1712               0               0               0               0   \n",
              "1897               0               0               0               0   \n",
              "2369               0               0               0               0   \n",
              "\n",
              "      release_year_4  release_year_5  ...  release_year_9  release_year_10  \\\n",
              "424                0               0  ...               0                0   \n",
              "620                0               0  ...               0                0   \n",
              "1712               0               0  ...               0                0   \n",
              "1897               0               0  ...               0                0   \n",
              "2369               0               0  ...               0                0   \n",
              "\n",
              "      release_year_11  release_year_12  release_year_13  Amazon Prime Video  \\\n",
              "424                 0                0                1                   0   \n",
              "620                 0                0                1                   0   \n",
              "1712                0                1                0                   0   \n",
              "1897                0                1                0                   0   \n",
              "2369                0                1                0                   0   \n",
              "\n",
              "      Disney Plus  Hulu  Max  Netflix  \n",
              "424             0     0    0        0  \n",
              "620             0     0    0        0  \n",
              "1712            0     0    0        0  \n",
              "1897            1     0    0        0  \n",
              "2369            0     0    0        0  \n",
              "\n",
              "[5 rows x 23 columns]"
            ]
          },
          "execution_count": 41,
          "metadata": {},
          "output_type": "execute_result"
        }
      ],
      "source": [
        "df_na = df_na[df_na['genres'].apply(len) > 0]\n",
        "df_na.head()"
      ]
    },
    {
      "cell_type": "code",
      "execution_count": null,
      "metadata": {
        "id": "zh8wqmTWw3Ur"
      },
      "outputs": [],
      "source": [
        "#Codificação binária dos gêneros para o dataframe df_na\n",
        "genres_encoded_na = mlb.transform(df_na['genres'])\n",
        "genres_df_na = pd.DataFrame(genres_encoded_na, columns=mlb.classes_)"
      ]
    },
    {
      "cell_type": "code",
      "execution_count": null,
      "metadata": {
        "id": "7S3MZAUSz3qh"
      },
      "outputs": [],
      "source": [
        "#Codificação binária dos gêneros para o dataframe df_not_na\n",
        "genres_encoded_not_na = mlb.transform(df_not_na['genres'])\n",
        "genres_df_not_na = pd.DataFrame(genres_encoded_not_na, columns=mlb.classes_)"
      ]
    },
    {
      "cell_type": "code",
      "execution_count": null,
      "metadata": {
        "id": "oK7fF2x6xQhM"
      },
      "outputs": [],
      "source": [
        "#Concatena as previsões com o dataframe original\n",
        "df_na = pd.concat([df_na.reset_index(drop=True), genres_df_na.reset_index(drop=True)], axis=1)\n",
        "df_not_na = pd.concat([df_not_na.reset_index(drop=True), genres_df_not_na.reset_index(drop=True)], axis=1)"
      ]
    },
    {
      "cell_type": "code",
      "execution_count": null,
      "metadata": {
        "colab": {
          "base_uri": "https://localhost:8080/"
        },
        "id": "s6IhTtOE0F5e",
        "outputId": "b839af3b-d128-484a-f79a-8014518cb323"
      },
      "outputs": [
        {
          "data": {
            "text/html": [
              "<div>\n",
              "<style scoped>\n",
              "    .dataframe tbody tr th:only-of-type {\n",
              "        vertical-align: middle;\n",
              "    }\n",
              "\n",
              "    .dataframe tbody tr th {\n",
              "        vertical-align: top;\n",
              "    }\n",
              "\n",
              "    .dataframe thead th {\n",
              "        text-align: right;\n",
              "    }\n",
              "</style>\n",
              "<table border=\"1\" class=\"dataframe\">\n",
              "  <thead>\n",
              "    <tr style=\"text-align: right;\">\n",
              "      <th></th>\n",
              "      <th>popularity</th>\n",
              "      <th>vote_count</th>\n",
              "      <th>vote_average</th>\n",
              "      <th>release_year_0</th>\n",
              "      <th>release_year_1</th>\n",
              "      <th>release_year_2</th>\n",
              "      <th>release_year_3</th>\n",
              "      <th>release_year_4</th>\n",
              "      <th>release_year_5</th>\n",
              "      <th>release_year_6</th>\n",
              "      <th>...</th>\n",
              "      <th>History</th>\n",
              "      <th>Horror</th>\n",
              "      <th>Music</th>\n",
              "      <th>Mystery</th>\n",
              "      <th>Romance</th>\n",
              "      <th>Science Fiction</th>\n",
              "      <th>TV Movie</th>\n",
              "      <th>Thriller</th>\n",
              "      <th>War</th>\n",
              "      <th>Western</th>\n",
              "    </tr>\n",
              "  </thead>\n",
              "  <tbody>\n",
              "    <tr>\n",
              "      <th>0</th>\n",
              "      <td>32.985763</td>\n",
              "      <td>5562</td>\n",
              "      <td>6.5</td>\n",
              "      <td>0</td>\n",
              "      <td>0</td>\n",
              "      <td>0</td>\n",
              "      <td>0</td>\n",
              "      <td>0</td>\n",
              "      <td>0</td>\n",
              "      <td>0</td>\n",
              "      <td>...</td>\n",
              "      <td>0</td>\n",
              "      <td>0</td>\n",
              "      <td>0</td>\n",
              "      <td>0</td>\n",
              "      <td>0</td>\n",
              "      <td>1</td>\n",
              "      <td>0</td>\n",
              "      <td>1</td>\n",
              "      <td>0</td>\n",
              "      <td>0</td>\n",
              "    </tr>\n",
              "    <tr>\n",
              "      <th>1</th>\n",
              "      <td>28.419936</td>\n",
              "      <td>6185</td>\n",
              "      <td>7.1</td>\n",
              "      <td>0</td>\n",
              "      <td>0</td>\n",
              "      <td>0</td>\n",
              "      <td>0</td>\n",
              "      <td>0</td>\n",
              "      <td>0</td>\n",
              "      <td>0</td>\n",
              "      <td>...</td>\n",
              "      <td>0</td>\n",
              "      <td>0</td>\n",
              "      <td>0</td>\n",
              "      <td>0</td>\n",
              "      <td>0</td>\n",
              "      <td>1</td>\n",
              "      <td>0</td>\n",
              "      <td>1</td>\n",
              "      <td>0</td>\n",
              "      <td>0</td>\n",
              "    </tr>\n",
              "    <tr>\n",
              "      <th>2</th>\n",
              "      <td>13.112507</td>\n",
              "      <td>2480</td>\n",
              "      <td>6.3</td>\n",
              "      <td>0</td>\n",
              "      <td>0</td>\n",
              "      <td>0</td>\n",
              "      <td>0</td>\n",
              "      <td>0</td>\n",
              "      <td>0</td>\n",
              "      <td>0</td>\n",
              "      <td>...</td>\n",
              "      <td>0</td>\n",
              "      <td>0</td>\n",
              "      <td>0</td>\n",
              "      <td>0</td>\n",
              "      <td>0</td>\n",
              "      <td>1</td>\n",
              "      <td>0</td>\n",
              "      <td>1</td>\n",
              "      <td>0</td>\n",
              "      <td>0</td>\n",
              "    </tr>\n",
              "    <tr>\n",
              "      <th>3</th>\n",
              "      <td>11.173104</td>\n",
              "      <td>5292</td>\n",
              "      <td>7.5</td>\n",
              "      <td>0</td>\n",
              "      <td>0</td>\n",
              "      <td>0</td>\n",
              "      <td>0</td>\n",
              "      <td>0</td>\n",
              "      <td>0</td>\n",
              "      <td>0</td>\n",
              "      <td>...</td>\n",
              "      <td>0</td>\n",
              "      <td>0</td>\n",
              "      <td>0</td>\n",
              "      <td>0</td>\n",
              "      <td>0</td>\n",
              "      <td>1</td>\n",
              "      <td>0</td>\n",
              "      <td>0</td>\n",
              "      <td>0</td>\n",
              "      <td>0</td>\n",
              "    </tr>\n",
              "    <tr>\n",
              "      <th>4</th>\n",
              "      <td>9.335014</td>\n",
              "      <td>2947</td>\n",
              "      <td>7.3</td>\n",
              "      <td>0</td>\n",
              "      <td>0</td>\n",
              "      <td>0</td>\n",
              "      <td>0</td>\n",
              "      <td>0</td>\n",
              "      <td>0</td>\n",
              "      <td>0</td>\n",
              "      <td>...</td>\n",
              "      <td>0</td>\n",
              "      <td>0</td>\n",
              "      <td>0</td>\n",
              "      <td>0</td>\n",
              "      <td>0</td>\n",
              "      <td>0</td>\n",
              "      <td>0</td>\n",
              "      <td>1</td>\n",
              "      <td>0</td>\n",
              "      <td>0</td>\n",
              "    </tr>\n",
              "  </tbody>\n",
              "</table>\n",
              "<p>5 rows × 42 columns</p>\n",
              "</div>"
            ],
            "text/plain": [
              "   popularity  vote_count  vote_average  release_year_0  release_year_1  \\\n",
              "0   32.985763        5562           6.5               0               0   \n",
              "1   28.419936        6185           7.1               0               0   \n",
              "2   13.112507        2480           6.3               0               0   \n",
              "3   11.173104        5292           7.5               0               0   \n",
              "4    9.335014        2947           7.3               0               0   \n",
              "\n",
              "   release_year_2  release_year_3  release_year_4  release_year_5  \\\n",
              "0               0               0               0               0   \n",
              "1               0               0               0               0   \n",
              "2               0               0               0               0   \n",
              "3               0               0               0               0   \n",
              "4               0               0               0               0   \n",
              "\n",
              "   release_year_6  ...  History  Horror  Music  Mystery  Romance  \\\n",
              "0               0  ...        0       0      0        0        0   \n",
              "1               0  ...        0       0      0        0        0   \n",
              "2               0  ...        0       0      0        0        0   \n",
              "3               0  ...        0       0      0        0        0   \n",
              "4               0  ...        0       0      0        0        0   \n",
              "\n",
              "   Science Fiction  TV Movie  Thriller  War  Western  \n",
              "0                1         0         1    0        0  \n",
              "1                1         0         1    0        0  \n",
              "2                1         0         1    0        0  \n",
              "3                1         0         0    0        0  \n",
              "4                0         0         1    0        0  \n",
              "\n",
              "[5 rows x 42 columns]"
            ]
          },
          "execution_count": 45,
          "metadata": {},
          "output_type": "execute_result"
        }
      ],
      "source": [
        "#Concatena os dataframes com e sem valores ausentes\n",
        "df_final = pd.concat([df_not_na, df_na], axis=0).reset_index(drop=True)\n",
        "df_final.drop(columns=['genres'], inplace=True)\n",
        "df_final.head()"
      ]
    },
    {
      "cell_type": "code",
      "execution_count": null,
      "metadata": {
        "id": "gfQylWwzYq9E"
      },
      "outputs": [],
      "source": [
        "df = df_final"
      ]
    },
    {
      "cell_type": "markdown",
      "metadata": {
        "id": "P_UvADS2Jmcv"
      },
      "source": [
        "### Detecção e remoção de outliers"
      ]
    },
    {
      "cell_type": "code",
      "execution_count": null,
      "metadata": {
        "colab": {
          "base_uri": "https://localhost:8080/"
        },
        "id": "hiBfWmE6Jmcw",
        "outputId": "4b10c054-3396-49e9-919d-7755252fb0c8"
      },
      "outputs": [
        {
          "data": {
            "text/plain": [
              "Index(['popularity', 'vote_count', 'vote_average', 'release_year_0',\n",
              "       'release_year_1', 'release_year_2', 'release_year_3', 'release_year_4',\n",
              "       'release_year_5', 'release_year_6', 'release_year_7', 'release_year_8',\n",
              "       'release_year_9', 'release_year_10', 'release_year_11',\n",
              "       'release_year_12', 'release_year_13', 'Amazon Prime Video',\n",
              "       'Disney Plus', 'Hulu', 'Max', 'Netflix', 'Action', 'Adventure',\n",
              "       'Animation', 'Comedy', 'Crime', 'Documentary', 'Drama', 'Family',\n",
              "       'Fantasy', 'Foreign', 'History', 'Horror', 'Music', 'Mystery',\n",
              "       'Romance', 'Science Fiction', 'TV Movie', 'Thriller', 'War', 'Western'],\n",
              "      dtype='object')"
            ]
          },
          "execution_count": 47,
          "metadata": {},
          "output_type": "execute_result"
        }
      ],
      "source": [
        "df.columns"
      ]
    },
    {
      "cell_type": "markdown",
      "metadata": {
        "id": "QgzGoqTjJmcw"
      },
      "source": [
        "#### **Univariada**"
      ]
    },
    {
      "cell_type": "markdown",
      "metadata": {
        "id": "qxD-WK7tJmcx"
      },
      "source": [
        "Para realizar o tratamento de outliers univariado, empregaremos o método de Tukey nas variáveis numéricas **popularity** e **vote_avarage**. No entanto, é importante ressaltar que esse método pressupõe uma distribuição simétrica dos dados. Portanto, realizaremos uma análise preliminar para avaliar a simetria da distribuição antes de aplicar o método de Tukey."
      ]
    },
    {
      "cell_type": "code",
      "execution_count": null,
      "metadata": {
        "colab": {
          "base_uri": "https://localhost:8080/"
        },
        "id": "ShVZKDucJmcx",
        "outputId": "2f36c1fa-f570-45db-b153-ed39162ba143"
      },
      "outputs": [
        {
          "data": {
            "text/plain": [
              "array([[<Axes: title={'center': 'popularity'}>,\n",
              "        <Axes: title={'center': 'vote_average'}>]], dtype=object)"
            ]
          },
          "execution_count": 48,
          "metadata": {},
          "output_type": "execute_result"
        },
        {
          "data": {
            "image/png": "[encoded data removed]",
            "text/plain": [
              "<Figure size 1440x720 with 2 Axes>"
            ]
          },
          "metadata": {
            "needs_background": "light"
          },
          "output_type": "display_data"
        }
      ],
      "source": [
        "numerical_features = ['popularity', 'vote_average']\n",
        "df[numerical_features].hist(figsize=(20, 10), color='green', bins=100)"
      ]
    },
    {
      "cell_type": "markdown",
      "metadata": {
        "id": "g8kc5cXEJmcy"
      },
      "source": [
        "Nota-se que os dados de **vote_average** seguem uma distribuição gaussiana. Enquanto que em **popularity** é seguida uma distribuição exponencial. Então trataremos esta coluna para também seguir uma distribuição simétrica. Para transformar esses dados em uma distribuição normal aplicaremos o log10."
      ]
    },
    {
      "cell_type": "code",
      "execution_count": null,
      "metadata": {
        "colab": {
          "base_uri": "https://localhost:8080/"
        },
        "id": "Z_-B2BHjJmcy",
        "outputId": "30ace837-8c0a-4812-b28a-667b312a2114"
      },
      "outputs": [
        {
          "data": {
            "image/png": "[encoded data removed]",
            "text/plain": [
              "<Figure size 432x288 with 1 Axes>"
            ]
          },
          "metadata": {
            "needs_background": "light"
          },
          "output_type": "display_data"
        }
      ],
      "source": [
        "# Aplicando o logaritmo de base 10 apenas a valores estritamente positivos\n",
        "# log_data = np.log10(df[numerical_features][df[numerical_features] > 0])\n",
        "df['popularity_log'] = np.log10(df['popularity'][df['popularity'] > 0])\n",
        "\n",
        "# Plotando histograma em escala logarítmica (base 10)\n",
        "df['popularity_log'].hist(color='green', bins=100)\n",
        "plt.title('Histograma da Popularidade (Escala Logarítmica)')\n",
        "plt.xlabel('Popularidade (log10)')\n",
        "plt.ylabel('Frequência')\n",
        "plt.show()\n",
        "\n"
      ]
    },
    {
      "cell_type": "markdown",
      "metadata": {
        "id": "86fHl0OZJmcz"
      },
      "source": [
        "Com os dados simétricos, podemos agora aplicar o método Tukey para encontrar os outliers."
      ]
    },
    {
      "cell_type": "code",
      "execution_count": null,
      "metadata": {
        "colab": {
          "base_uri": "https://localhost:8080/"
        },
        "id": "Nns2fBMDJmcz",
        "outputId": "59e8912e-d9ee-440c-cb65-f351319428d1"
      },
      "outputs": [
        {
          "name": "stdout",
          "output_type": "stream",
          "text": [
            "popularity_log    0.536145\n",
            "vote_average      1.200000\n",
            "dtype: float64\n"
          ]
        }
      ],
      "source": [
        "numerical_cols = ['popularity_log', 'vote_average']\n",
        "q1 = df[numerical_cols].quantile(0.25)\n",
        "q3 = df[numerical_cols].quantile(0.75)\n",
        "iqr = q3 - q1\n",
        "print(iqr)"
      ]
    },
    {
      "cell_type": "code",
      "execution_count": null,
      "metadata": {
        "colab": {
          "base_uri": "https://localhost:8080/"
        },
        "id": "Rm6lREFM2dMX",
        "outputId": "c5facd46-bc7f-4f92-f34a-b5232fae9e9b"
      },
      "outputs": [
        {
          "data": {
            "text/plain": [
              "Text(0.5, 1.0, 'Boxplot das Features Numéricas (com Outliers)')"
            ]
          },
          "execution_count": 51,
          "metadata": {},
          "output_type": "execute_result"
        },
        {
          "data": {
            "image/png": "[encoded data removed]",
            "text/plain": [
              "<Figure size 432x288 with 1 Axes>"
            ]
          },
          "metadata": {
            "needs_background": "light"
          },
          "output_type": "display_data"
        }
      ],
      "source": [
        "df[numerical_cols].boxplot(vert=False)\n",
        "plt.title('Boxplot das Features Numéricas (com Outliers)')"
      ]
    },
    {
      "cell_type": "code",
      "execution_count": null,
      "metadata": {
        "colab": {
          "base_uri": "https://localhost:8080/"
        },
        "id": "TiYvDC8gJmc0",
        "outputId": "78cf6968-f608-4328-a1dd-a671b3c6fb3f"
      },
      "outputs": [
        {
          "data": {
            "text/plain": [
              "Text(0.5, 1.0, 'Boxplot das Features Numéricas (com Outliers)')"
            ]
          },
          "execution_count": 52,
          "metadata": {},
          "output_type": "execute_result"
        },
        {
          "data": {
            "image/png": "[encoded data removed]",
            "text/plain": [
              "<Figure size 432x288 with 1 Axes>"
            ]
          },
          "metadata": {
            "needs_background": "light"
          },
          "output_type": "display_data"
        }
      ],
      "source": [
        "df[numerical_cols + ['popularity']].boxplot(vert=False)\n",
        "plt.title('Boxplot das Features Numéricas (com Outliers)')"
      ]
    },
    {
      "cell_type": "code",
      "execution_count": null,
      "metadata": {
        "colab": {
          "base_uri": "https://localhost:8080/"
        },
        "id": "qj1iWYYUJmc0",
        "outputId": "0c6bcbd3-17f5-423e-fae8-574b55b36db3"
      },
      "outputs": [
        {
          "data": {
            "text/plain": [
              "Text(0.5, 1.0, 'Boxplot das Features Numéricas (sem Outliers)')"
            ]
          },
          "execution_count": 53,
          "metadata": {},
          "output_type": "execute_result"
        },
        {
          "data": {
            "image/png": "[encoded data removed]",
            "text/plain": [
              "<Figure size 432x288 with 1 Axes>"
            ]
          },
          "metadata": {
            "needs_background": "light"
          },
          "output_type": "display_data"
        }
      ],
      "source": [
        "upper_bound = q3 + 1.5 * iqr\n",
        "lower_bound = q1 - 1.5 * iqr\n",
        "\n",
        "# Filtrando o dataframe para remover outliers\n",
        "df_without_outliers = df[~((df[numerical_cols] < lower_bound) | (df[numerical_cols] > upper_bound)).any(axis=1)]\n",
        "\n",
        "df_without_outliers[numerical_cols].boxplot(vert=False)\n",
        "plt.title('Boxplot das Features Numéricas (sem Outliers)')"
      ]
    },
    {
      "cell_type": "code",
      "execution_count": null,
      "metadata": {
        "colab": {
          "base_uri": "https://localhost:8080/"
        },
        "id": "neW2mOAkJmc1",
        "outputId": "2d9dbed5-ecaa-4087-a8a5-00dee8ba1a7d"
      },
      "outputs": [
        {
          "name": "stderr",
          "output_type": "stream",
          "text": [
            "C:\\Users\\Thiago\\AppData\\Local\\Temp/ipykernel_7812/1956572983.py:2: SettingWithCopyWarning: \n",
            "A value is trying to be set on a copy of a slice from a DataFrame\n",
            "\n",
            "See the caveats in the documentation: https://pandas.pydata.org/pandas-docs/stable/user_guide/indexing.html#returning-a-view-versus-a-copy\n",
            "  df.drop(columns=['popularity_log'], inplace=True)\n"
          ]
        },
        {
          "data": {
            "text/html": [
              "<div>\n",
              "<style scoped>\n",
              "    .dataframe tbody tr th:only-of-type {\n",
              "        vertical-align: middle;\n",
              "    }\n",
              "\n",
              "    .dataframe tbody tr th {\n",
              "        vertical-align: top;\n",
              "    }\n",
              "\n",
              "    .dataframe thead th {\n",
              "        text-align: right;\n",
              "    }\n",
              "</style>\n",
              "<table border=\"1\" class=\"dataframe\">\n",
              "  <thead>\n",
              "    <tr style=\"text-align: right;\">\n",
              "      <th></th>\n",
              "      <th>popularity</th>\n",
              "      <th>vote_count</th>\n",
              "      <th>vote_average</th>\n",
              "      <th>release_year_0</th>\n",
              "      <th>release_year_1</th>\n",
              "      <th>release_year_2</th>\n",
              "      <th>release_year_3</th>\n",
              "      <th>release_year_4</th>\n",
              "      <th>release_year_5</th>\n",
              "      <th>release_year_6</th>\n",
              "      <th>...</th>\n",
              "      <th>History</th>\n",
              "      <th>Horror</th>\n",
              "      <th>Music</th>\n",
              "      <th>Mystery</th>\n",
              "      <th>Romance</th>\n",
              "      <th>Science Fiction</th>\n",
              "      <th>TV Movie</th>\n",
              "      <th>Thriller</th>\n",
              "      <th>War</th>\n",
              "      <th>Western</th>\n",
              "    </tr>\n",
              "  </thead>\n",
              "  <tbody>\n",
              "    <tr>\n",
              "      <th>27</th>\n",
              "      <td>4.503789</td>\n",
              "      <td>3833</td>\n",
              "      <td>7.6</td>\n",
              "      <td>0</td>\n",
              "      <td>0</td>\n",
              "      <td>0</td>\n",
              "      <td>0</td>\n",
              "      <td>0</td>\n",
              "      <td>0</td>\n",
              "      <td>0</td>\n",
              "      <td>...</td>\n",
              "      <td>0</td>\n",
              "      <td>0</td>\n",
              "      <td>0</td>\n",
              "      <td>0</td>\n",
              "      <td>0</td>\n",
              "      <td>0</td>\n",
              "      <td>0</td>\n",
              "      <td>0</td>\n",
              "      <td>0</td>\n",
              "      <td>0</td>\n",
              "    </tr>\n",
              "    <tr>\n",
              "      <th>28</th>\n",
              "      <td>4.062293</td>\n",
              "      <td>1559</td>\n",
              "      <td>7.8</td>\n",
              "      <td>0</td>\n",
              "      <td>0</td>\n",
              "      <td>0</td>\n",
              "      <td>0</td>\n",
              "      <td>0</td>\n",
              "      <td>0</td>\n",
              "      <td>0</td>\n",
              "      <td>...</td>\n",
              "      <td>1</td>\n",
              "      <td>0</td>\n",
              "      <td>0</td>\n",
              "      <td>0</td>\n",
              "      <td>0</td>\n",
              "      <td>0</td>\n",
              "      <td>0</td>\n",
              "      <td>1</td>\n",
              "      <td>0</td>\n",
              "      <td>0</td>\n",
              "    </tr>\n",
              "    <tr>\n",
              "      <th>29</th>\n",
              "      <td>3.968891</td>\n",
              "      <td>1849</td>\n",
              "      <td>6.4</td>\n",
              "      <td>0</td>\n",
              "      <td>0</td>\n",
              "      <td>0</td>\n",
              "      <td>0</td>\n",
              "      <td>0</td>\n",
              "      <td>0</td>\n",
              "      <td>0</td>\n",
              "      <td>...</td>\n",
              "      <td>0</td>\n",
              "      <td>0</td>\n",
              "      <td>0</td>\n",
              "      <td>0</td>\n",
              "      <td>0</td>\n",
              "      <td>1</td>\n",
              "      <td>0</td>\n",
              "      <td>1</td>\n",
              "      <td>0</td>\n",
              "      <td>0</td>\n",
              "    </tr>\n",
              "    <tr>\n",
              "      <th>30</th>\n",
              "      <td>3.927333</td>\n",
              "      <td>425</td>\n",
              "      <td>6.4</td>\n",
              "      <td>0</td>\n",
              "      <td>0</td>\n",
              "      <td>0</td>\n",
              "      <td>0</td>\n",
              "      <td>0</td>\n",
              "      <td>0</td>\n",
              "      <td>0</td>\n",
              "      <td>...</td>\n",
              "      <td>0</td>\n",
              "      <td>0</td>\n",
              "      <td>0</td>\n",
              "      <td>1</td>\n",
              "      <td>0</td>\n",
              "      <td>0</td>\n",
              "      <td>0</td>\n",
              "      <td>0</td>\n",
              "      <td>0</td>\n",
              "      <td>0</td>\n",
              "    </tr>\n",
              "    <tr>\n",
              "      <th>31</th>\n",
              "      <td>3.899557</td>\n",
              "      <td>1990</td>\n",
              "      <td>6.6</td>\n",
              "      <td>0</td>\n",
              "      <td>0</td>\n",
              "      <td>0</td>\n",
              "      <td>0</td>\n",
              "      <td>0</td>\n",
              "      <td>0</td>\n",
              "      <td>0</td>\n",
              "      <td>...</td>\n",
              "      <td>0</td>\n",
              "      <td>0</td>\n",
              "      <td>0</td>\n",
              "      <td>0</td>\n",
              "      <td>0</td>\n",
              "      <td>1</td>\n",
              "      <td>0</td>\n",
              "      <td>0</td>\n",
              "      <td>0</td>\n",
              "      <td>0</td>\n",
              "    </tr>\n",
              "  </tbody>\n",
              "</table>\n",
              "<p>5 rows × 42 columns</p>\n",
              "</div>"
            ],
            "text/plain": [
              "    popularity  vote_count  vote_average  release_year_0  release_year_1  \\\n",
              "27    4.503789        3833           7.6               0               0   \n",
              "28    4.062293        1559           7.8               0               0   \n",
              "29    3.968891        1849           6.4               0               0   \n",
              "30    3.927333         425           6.4               0               0   \n",
              "31    3.899557        1990           6.6               0               0   \n",
              "\n",
              "    release_year_2  release_year_3  release_year_4  release_year_5  \\\n",
              "27               0               0               0               0   \n",
              "28               0               0               0               0   \n",
              "29               0               0               0               0   \n",
              "30               0               0               0               0   \n",
              "31               0               0               0               0   \n",
              "\n",
              "    release_year_6  ...  History  Horror  Music  Mystery  Romance  \\\n",
              "27               0  ...        0       0      0        0        0   \n",
              "28               0  ...        1       0      0        0        0   \n",
              "29               0  ...        0       0      0        0        0   \n",
              "30               0  ...        0       0      0        1        0   \n",
              "31               0  ...        0       0      0        0        0   \n",
              "\n",
              "    Science Fiction  TV Movie  Thriller  War  Western  \n",
              "27                0         0         0    0        0  \n",
              "28                0         0         1    0        0  \n",
              "29                1         0         1    0        0  \n",
              "30                0         0         0    0        0  \n",
              "31                1         0         0    0        0  \n",
              "\n",
              "[5 rows x 42 columns]"
            ]
          },
          "execution_count": 54,
          "metadata": {},
          "output_type": "execute_result"
        }
      ],
      "source": [
        "df = df_without_outliers\n",
        "df.drop(columns=['popularity_log'], inplace=True)\n",
        "df.head()"
      ]
    },
    {
      "cell_type": "markdown",
      "metadata": {
        "id": "v3e6e1TMJmc1"
      },
      "source": [
        "#### **Bivariada**"
      ]
    },
    {
      "cell_type": "markdown",
      "metadata": {
        "id": "YWMXEeXpJmc2"
      },
      "source": [
        "Para realizar o tratamento de outliers bivariado, empregaremos as variáveis **popularity** e **vote_count**. Este tipo de análise é fundamental quando queremos compreender a relação entre duas variáveis e identificar pontos fora do padrão que podem afetar negativamente a interpretação dos dados."
      ]
    },
    {
      "cell_type": "code",
      "execution_count": null,
      "metadata": {
        "colab": {
          "base_uri": "https://localhost:8080/",
          "height": 559
        },
        "id": "SptSg5n3Jmc2",
        "outputId": "9dd33d37-d352-4ff5-debf-5e0f35f9ffb4"
      },
      "outputs": [
        {
          "data": {
            "text/plain": [
              "<Axes: xlabel='popularity', ylabel='vote_count'>"
            ]
          },
          "execution_count": 55,
          "metadata": {},
          "output_type": "execute_result"
        },
        {
          "data": {
            "image/png": "[encoded data removed]",
            "text/plain": [
              "<Figure size 720x432 with 1 Axes>"
            ]
          },
          "metadata": {
            "needs_background": "light"
          },
          "output_type": "display_data"
        }
      ],
      "source": [
        "df.plot.scatter(x='popularity', y='vote_count', figsize=(10, 6))"
      ]
    },
    {
      "cell_type": "markdown",
      "metadata": {
        "id": "RjuA3V8GJmc2"
      },
      "source": [
        "As duas variáveis escolhidas apresentam uma certa covariância, então usaremos elas para fazer o tratamento de outliers bivariado. Inicialmente criaremos uma nova coluna que representa a razão da quantidade de votos pela popularidade. Em seguida será aplicado o método de Z-Score Robusto para a detecção dos outliers."
      ]
    },
    {
      "cell_type": "code",
      "execution_count": null,
      "metadata": {
        "colab": {
          "base_uri": "https://localhost:8080/"
        },
        "id": "VFQ1kM2DJmc3",
        "outputId": "a4ad79ba-f717-4cd2-f1aa-603c23294932"
      },
      "outputs": [
        {
          "name": "stderr",
          "output_type": "stream",
          "text": [
            "C:\\Users\\Thiago\\AppData\\Local\\Temp/ipykernel_7812/1251690691.py:1: SettingWithCopyWarning: \n",
            "A value is trying to be set on a copy of a slice from a DataFrame.\n",
            "Try using .loc[row_indexer,col_indexer] = value instead\n",
            "\n",
            "See the caveats in the documentation: https://pandas.pydata.org/pandas-docs/stable/user_guide/indexing.html#returning-a-view-versus-a-copy\n",
            "  df['vote_count_by_popularity'] = df['vote_count'] / df['popularity']\n"
          ]
        },
        {
          "data": {
            "text/plain": [
              "count    10274.000000\n",
              "mean       226.477123\n",
              "std        527.670568\n",
              "min          4.154090\n",
              "25%         75.218340\n",
              "50%        137.473875\n",
              "75%        269.082290\n",
              "max      28733.662930\n",
              "Name: vote_count_by_popularity, dtype: float64"
            ]
          },
          "execution_count": 56,
          "metadata": {},
          "output_type": "execute_result"
        }
      ],
      "source": [
        "df['vote_count_by_popularity'] = df['vote_count'] / df['popularity']\n",
        "df['vote_count_by_popularity'].describe()"
      ]
    },
    {
      "cell_type": "code",
      "execution_count": null,
      "metadata": {
        "colab": {
          "base_uri": "https://localhost:8080/",
          "height": 447
        },
        "id": "sAz-2s7BJmc3",
        "outputId": "f2f3e2bd-4730-4d66-a16c-b153cfb2556a"
      },
      "outputs": [
        {
          "data": {
            "text/plain": [
              "<Axes: >"
            ]
          },
          "execution_count": 57,
          "metadata": {},
          "output_type": "execute_result"
        },
        {
          "data": {
            "image/png": "[encoded data removed]",
            "text/plain": [
              "<Figure size 432x288 with 1 Axes>"
            ]
          },
          "metadata": {
            "needs_background": "light"
          },
          "output_type": "display_data"
        }
      ],
      "source": [
        "df['vote_count_by_popularity'].hist( color='green', bins=100)"
      ]
    },
    {
      "cell_type": "markdown",
      "metadata": {
        "id": "bNdxAMdpJmc4"
      },
      "source": [
        "Novamente, o conjunto de dados se apresenta em uma distribuição exponencial, o que podemos resolver aplicando o log10 nesses dados para conseguirmos obter uma distribuição normal."
      ]
    },
    {
      "cell_type": "code",
      "execution_count": null,
      "metadata": {
        "colab": {
          "base_uri": "https://localhost:8080/",
          "height": 551
        },
        "id": "HmIBt0VkJmc4",
        "outputId": "c66b5134-f72e-40e1-9640-bae6fe888a00"
      },
      "outputs": [
        {
          "name": "stderr",
          "output_type": "stream",
          "text": [
            "C:\\Users\\Thiago\\AppData\\Local\\Temp/ipykernel_7812/3285804334.py:1: SettingWithCopyWarning: \n",
            "A value is trying to be set on a copy of a slice from a DataFrame.\n",
            "Try using .loc[row_indexer,col_indexer] = value instead\n",
            "\n",
            "See the caveats in the documentation: https://pandas.pydata.org/pandas-docs/stable/user_guide/indexing.html#returning-a-view-versus-a-copy\n",
            "  df['vote_count_by_popularity'] = np.log10(df['vote_count_by_popularity'])\n"
          ]
        },
        {
          "data": {
            "text/plain": [
              "<Axes: >"
            ]
          },
          "execution_count": 58,
          "metadata": {},
          "output_type": "execute_result"
        },
        {
          "data": {
            "image/png": "[encoded data removed]",
            "text/plain": [
              "<Figure size 432x288 with 1 Axes>"
            ]
          },
          "metadata": {
            "needs_background": "light"
          },
          "output_type": "display_data"
        }
      ],
      "source": [
        "df['vote_count_by_popularity'] = np.log10(df['vote_count_by_popularity'])\n",
        "df['vote_count_by_popularity'].hist( color='green', bins=100)"
      ]
    },
    {
      "cell_type": "markdown",
      "metadata": {
        "id": "VdfwgVDBJmc4"
      },
      "source": [
        "Agora com a distribuição simétrica, podemos calcular o MAD (Median Absolute Deviation), que mostra a mediana da distância da diferença de todos os valores da mediana. Com isso poderemos usar o método do Z-Score Robusto para identificar os outliers."
      ]
    },
    {
      "cell_type": "code",
      "execution_count": null,
      "metadata": {
        "id": "fOTJJemCJmc5"
      },
      "outputs": [],
      "source": [
        "mad = abs(df['vote_count_by_popularity'] - df['vote_count_by_popularity'].median()).median()*(1/0.6745)"
      ]
    },
    {
      "cell_type": "code",
      "execution_count": null,
      "metadata": {
        "colab": {
          "base_uri": "https://localhost:8080/",
          "height": 450
        },
        "id": "Xd2rJ4DqJmc5",
        "outputId": "531532a8-1e92-41b2-e546-ca118e658361"
      },
      "outputs": [
        {
          "data": {
            "text/plain": [
              "<Axes: >"
            ]
          },
          "execution_count": 60,
          "metadata": {},
          "output_type": "execute_result"
        },
        {
          "data": {
            "image/png": "[encoded data removed]",
            "text/plain": [
              "<Figure size 432x288 with 1 Axes>"
            ]
          },
          "metadata": {
            "needs_background": "light"
          },
          "output_type": "display_data"
        }
      ],
      "source": [
        "(abs(df['vote_count_by_popularity'] - df['vote_count_by_popularity'].median())/mad).hist( color='green', bins=100)"
      ]
    },
    {
      "cell_type": "markdown",
      "metadata": {
        "id": "RX4lK4YKJmc6"
      },
      "source": [
        "Observando o plot gerado, definimos o nosso limiar sendo `3.5`, então todos os valores maiores que o limiar serão considerados outliers."
      ]
    },
    {
      "cell_type": "code",
      "execution_count": null,
      "metadata": {
        "colab": {
          "base_uri": "https://localhost:8080/"
        },
        "id": "werIofuAJmc6",
        "outputId": "76cb911d-b89e-46f3-e928-1be904857ac4"
      },
      "outputs": [
        {
          "name": "stdout",
          "output_type": "stream",
          "text": [
            "Antes da remoção de outliers: 10274\n",
            "Após a remoção de outliers: 10258\n"
          ]
        },
        {
          "name": "stderr",
          "output_type": "stream",
          "text": [
            "C:\\Users\\Thiago\\AppData\\Local\\Temp/ipykernel_7812/3246699127.py:7: SettingWithCopyWarning: \n",
            "A value is trying to be set on a copy of a slice from a DataFrame\n",
            "\n",
            "See the caveats in the documentation: https://pandas.pydata.org/pandas-docs/stable/user_guide/indexing.html#returning-a-view-versus-a-copy\n",
            "  df.drop(columns=['vote_count_by_popularity'], inplace=True)\n"
          ]
        }
      ],
      "source": [
        "df_without_outliers = df[abs(df['vote_count_by_popularity'] - df['vote_count_by_popularity'].median())/mad <= 3.5]\n",
        "\n",
        "print(f\"Antes da remoção de outliers: {len(df)}\")\n",
        "df = df_without_outliers\n",
        "print(f\"Após a remoção de outliers: {len(df)}\")\n",
        "\n",
        "df.drop(columns=['vote_count_by_popularity'], inplace=True)"
      ]
    },
    {
      "cell_type": "markdown",
      "metadata": {
        "id": "TLtKcYqIJmc6"
      },
      "source": [
        "#### **Multivariada**"
      ]
    },
    {
      "cell_type": "markdown",
      "metadata": {
        "id": "zA3vMkACJmc7"
      },
      "source": [
        "Para realizar o tratamento de outliers multivariado, será usado o método EllipticEnvelope do scikit-learn. Este método é baseado na estimativa de uma elipse que envolve a maior parte dos dados, considerando que os dados fora da elipse são considerados outliers. Como já utilizamos outros métodos de remoção de outliers anteriormente, consideraremos o nivel de contaminação baixo em 0.5%."
      ]
    },
    {
      "cell_type": "code",
      "execution_count": null,
      "metadata": {
        "colab": {
          "base_uri": "https://localhost:8080/"
        },
        "id": "Mk4bqDFkJmc7",
        "outputId": "22a14cdf-788d-4f7e-9af7-f3c11f440b63"
      },
      "outputs": [
        {
          "data": {
            "text/html": [
              "<style>#sk-container-id-2 {\n",
              "  /* Definition of color scheme common for light and dark mode */\n",
              "  --sklearn-color-text: black;\n",
              "  --sklearn-color-line: gray;\n",
              "  /* Definition of color scheme for unfitted estimators */\n",
              "  --sklearn-color-unfitted-level-0: #fff5e6;\n",
              "  --sklearn-color-unfitted-level-1: #f6e4d2;\n",
              "  --sklearn-color-unfitted-level-2: #ffe0b3;\n",
              "  --sklearn-color-unfitted-level-3: chocolate;\n",
              "  /* Definition of color scheme for fitted estimators */\n",
              "  --sklearn-color-fitted-level-0: #f0f8ff;\n",
              "  --sklearn-color-fitted-level-1: #d4ebff;\n",
              "  --sklearn-color-fitted-level-2: #b3dbfd;\n",
              "  --sklearn-color-fitted-level-3: cornflowerblue;\n",
              "\n",
              "  /* Specific color for light theme */\n",
              "  --sklearn-color-text-on-default-background: var(--sg-text-color, var(--theme-code-foreground, var(--jp-content-font-color1, black)));\n",
              "  --sklearn-color-background: var(--sg-background-color, var(--theme-background, var(--jp-layout-color0, white)));\n",
              "  --sklearn-color-border-box: var(--sg-text-color, var(--theme-code-foreground, var(--jp-content-font-color1, black)));\n",
              "  --sklearn-color-icon: #696969;\n",
              "\n",
              "  @media (prefers-color-scheme: dark) {\n",
              "    /* Redefinition of color scheme for dark theme */\n",
              "    --sklearn-color-text-on-default-background: var(--sg-text-color, var(--theme-code-foreground, var(--jp-content-font-color1, white)));\n",
              "    --sklearn-color-background: var(--sg-background-color, var(--theme-background, var(--jp-layout-color0, #111)));\n",
              "    --sklearn-color-border-box: var(--sg-text-color, var(--theme-code-foreground, var(--jp-content-font-color1, white)));\n",
              "    --sklearn-color-icon: #878787;\n",
              "  }\n",
              "}\n",
              "\n",
              "#sk-container-id-2 {\n",
              "  color: var(--sklearn-color-text);\n",
              "}\n",
              "\n",
              "#sk-container-id-2 pre {\n",
              "  padding: 0;\n",
              "}\n",
              "\n",
              "#sk-container-id-2 input.sk-hidden--visually {\n",
              "  border: 0;\n",
              "  clip: rect(1px 1px 1px 1px);\n",
              "  clip: rect(1px, 1px, 1px, 1px);\n",
              "  height: 1px;\n",
              "  margin: -1px;\n",
              "  overflow: hidden;\n",
              "  padding: 0;\n",
              "  position: absolute;\n",
              "  width: 1px;\n",
              "}\n",
              "\n",
              "#sk-container-id-2 div.sk-dashed-wrapped {\n",
              "  border: 1px dashed var(--sklearn-color-line);\n",
              "  margin: 0 0.4em 0.5em 0.4em;\n",
              "  box-sizing: border-box;\n",
              "  padding-bottom: 0.4em;\n",
              "  background-color: var(--sklearn-color-background);\n",
              "}\n",
              "\n",
              "#sk-container-id-2 div.sk-container {\n",
              "  /* jupyter's `normalize.less` sets `[hidden] { display: none; }`\n",
              "     but bootstrap.min.css set `[hidden] { display: none !important; }`\n",
              "     so we also need the `!important` here to be able to override the\n",
              "     default hidden behavior on the sphinx rendered scikit-learn.org.\n",
              "     See: https://github.com/scikit-learn/scikit-learn/issues/21755 */\n",
              "  display: inline-block !important;\n",
              "  position: relative;\n",
              "}\n",
              "\n",
              "#sk-container-id-2 div.sk-text-repr-fallback {\n",
              "  display: none;\n",
              "}\n",
              "\n",
              "div.sk-parallel-item,\n",
              "div.sk-serial,\n",
              "div.sk-item {\n",
              "  /* draw centered vertical line to link estimators */\n",
              "  background-image: linear-gradient(var(--sklearn-color-text-on-default-background), var(--sklearn-color-text-on-default-background));\n",
              "  background-size: 2px 100%;\n",
              "  background-repeat: no-repeat;\n",
              "  background-position: center center;\n",
              "}\n",
              "\n",
              "/* Parallel-specific style estimator block */\n",
              "\n",
              "#sk-container-id-2 div.sk-parallel-item::after {\n",
              "  content: \"\";\n",
              "  width: 100%;\n",
              "  border-bottom: 2px solid var(--sklearn-color-text-on-default-background);\n",
              "  flex-grow: 1;\n",
              "}\n",
              "\n",
              "#sk-container-id-2 div.sk-parallel {\n",
              "  display: flex;\n",
              "  align-items: stretch;\n",
              "  justify-content: center;\n",
              "  background-color: var(--sklearn-color-background);\n",
              "  position: relative;\n",
              "}\n",
              "\n",
              "#sk-container-id-2 div.sk-parallel-item {\n",
              "  display: flex;\n",
              "  flex-direction: column;\n",
              "}\n",
              "\n",
              "#sk-container-id-2 div.sk-parallel-item:first-child::after {\n",
              "  align-self: flex-end;\n",
              "  width: 50%;\n",
              "}\n",
              "\n",
              "#sk-container-id-2 div.sk-parallel-item:last-child::after {\n",
              "  align-self: flex-start;\n",
              "  width: 50%;\n",
              "}\n",
              "\n",
              "#sk-container-id-2 div.sk-parallel-item:only-child::after {\n",
              "  width: 0;\n",
              "}\n",
              "\n",
              "/* Serial-specific style estimator block */\n",
              "\n",
              "#sk-container-id-2 div.sk-serial {\n",
              "  display: flex;\n",
              "  flex-direction: column;\n",
              "  align-items: center;\n",
              "  background-color: var(--sklearn-color-background);\n",
              "  padding-right: 1em;\n",
              "  padding-left: 1em;\n",
              "}\n",
              "\n",
              "\n",
              "/* Toggleable style: style used for estimator/Pipeline/ColumnTransformer box that is\n",
              "clickable and can be expanded/collapsed.\n",
              "- Pipeline and ColumnTransformer use this feature and define the default style\n",
              "- Estimators will overwrite some part of the style using the `sk-estimator` class\n",
              "*/\n",
              "\n",
              "/* Pipeline and ColumnTransformer style (default) */\n",
              "\n",
              "#sk-container-id-2 div.sk-toggleable {\n",
              "  /* Default theme specific background. It is overwritten whether we have a\n",
              "  specific estimator or a Pipeline/ColumnTransformer */\n",
              "  background-color: var(--sklearn-color-background);\n",
              "}\n",
              "\n",
              "/* Toggleable label */\n",
              "#sk-container-id-2 label.sk-toggleable__label {\n",
              "  cursor: pointer;\n",
              "  display: block;\n",
              "  width: 100%;\n",
              "  margin-bottom: 0;\n",
              "  padding: 0.5em;\n",
              "  box-sizing: border-box;\n",
              "  text-align: center;\n",
              "}\n",
              "\n",
              "#sk-container-id-2 label.sk-toggleable__label-arrow:before {\n",
              "  /* Arrow on the left of the label */\n",
              "  content: \"▸\";\n",
              "  float: left;\n",
              "  margin-right: 0.25em;\n",
              "  color: var(--sklearn-color-icon);\n",
              "}\n",
              "\n",
              "#sk-container-id-2 label.sk-toggleable__label-arrow:hover:before {\n",
              "  color: var(--sklearn-color-text);\n",
              "}\n",
              "\n",
              "/* Toggleable content - dropdown */\n",
              "\n",
              "#sk-container-id-2 div.sk-toggleable__content {\n",
              "  max-height: 0;\n",
              "  max-width: 0;\n",
              "  overflow: hidden;\n",
              "  text-align: left;\n",
              "  /* unfitted */\n",
              "  background-color: var(--sklearn-color-unfitted-level-0);\n",
              "}\n",
              "\n",
              "#sk-container-id-2 div.sk-toggleable__content.fitted {\n",
              "  /* fitted */\n",
              "  background-color: var(--sklearn-color-fitted-level-0);\n",
              "}\n",
              "\n",
              "#sk-container-id-2 div.sk-toggleable__content pre {\n",
              "  margin: 0.2em;\n",
              "  border-radius: 0.25em;\n",
              "  color: var(--sklearn-color-text);\n",
              "  /* unfitted */\n",
              "  background-color: var(--sklearn-color-unfitted-level-0);\n",
              "}\n",
              "\n",
              "#sk-container-id-2 div.sk-toggleable__content.fitted pre {\n",
              "  /* unfitted */\n",
              "  background-color: var(--sklearn-color-fitted-level-0);\n",
              "}\n",
              "\n",
              "#sk-container-id-2 input.sk-toggleable__control:checked~div.sk-toggleable__content {\n",
              "  /* Expand drop-down */\n",
              "  max-height: 200px;\n",
              "  max-width: 100%;\n",
              "  overflow: auto;\n",
              "}\n",
              "\n",
              "#sk-container-id-2 input.sk-toggleable__control:checked~label.sk-toggleable__label-arrow:before {\n",
              "  content: \"▾\";\n",
              "}\n",
              "\n",
              "/* Pipeline/ColumnTransformer-specific style */\n",
              "\n",
              "#sk-container-id-2 div.sk-label input.sk-toggleable__control:checked~label.sk-toggleable__label {\n",
              "  color: var(--sklearn-color-text);\n",
              "  background-color: var(--sklearn-color-unfitted-level-2);\n",
              "}\n",
              "\n",
              "#sk-container-id-2 div.sk-label.fitted input.sk-toggleable__control:checked~label.sk-toggleable__label {\n",
              "  background-color: var(--sklearn-color-fitted-level-2);\n",
              "}\n",
              "\n",
              "/* Estimator-specific style */\n",
              "\n",
              "/* Colorize estimator box */\n",
              "#sk-container-id-2 div.sk-estimator input.sk-toggleable__control:checked~label.sk-toggleable__label {\n",
              "  /* unfitted */\n",
              "  background-color: var(--sklearn-color-unfitted-level-2);\n",
              "}\n",
              "\n",
              "#sk-container-id-2 div.sk-estimator.fitted input.sk-toggleable__control:checked~label.sk-toggleable__label {\n",
              "  /* fitted */\n",
              "  background-color: var(--sklearn-color-fitted-level-2);\n",
              "}\n",
              "\n",
              "#sk-container-id-2 div.sk-label label.sk-toggleable__label,\n",
              "#sk-container-id-2 div.sk-label label {\n",
              "  /* The background is the default theme color */\n",
              "  color: var(--sklearn-color-text-on-default-background);\n",
              "}\n",
              "\n",
              "/* On hover, darken the color of the background */\n",
              "#sk-container-id-2 div.sk-label:hover label.sk-toggleable__label {\n",
              "  color: var(--sklearn-color-text);\n",
              "  background-color: var(--sklearn-color-unfitted-level-2);\n",
              "}\n",
              "\n",
              "/* Label box, darken color on hover, fitted */\n",
              "#sk-container-id-2 div.sk-label.fitted:hover label.sk-toggleable__label.fitted {\n",
              "  color: var(--sklearn-color-text);\n",
              "  background-color: var(--sklearn-color-fitted-level-2);\n",
              "}\n",
              "\n",
              "/* Estimator label */\n",
              "\n",
              "#sk-container-id-2 div.sk-label label {\n",
              "  font-family: monospace;\n",
              "  font-weight: bold;\n",
              "  display: inline-block;\n",
              "  line-height: 1.2em;\n",
              "}\n",
              "\n",
              "#sk-container-id-2 div.sk-label-container {\n",
              "  text-align: center;\n",
              "}\n",
              "\n",
              "/* Estimator-specific */\n",
              "#sk-container-id-2 div.sk-estimator {\n",
              "  font-family: monospace;\n",
              "  border: 1px dotted var(--sklearn-color-border-box);\n",
              "  border-radius: 0.25em;\n",
              "  box-sizing: border-box;\n",
              "  margin-bottom: 0.5em;\n",
              "  /* unfitted */\n",
              "  background-color: var(--sklearn-color-unfitted-level-0);\n",
              "}\n",
              "\n",
              "#sk-container-id-2 div.sk-estimator.fitted {\n",
              "  /* fitted */\n",
              "  background-color: var(--sklearn-color-fitted-level-0);\n",
              "}\n",
              "\n",
              "/* on hover */\n",
              "#sk-container-id-2 div.sk-estimator:hover {\n",
              "  /* unfitted */\n",
              "  background-color: var(--sklearn-color-unfitted-level-2);\n",
              "}\n",
              "\n",
              "#sk-container-id-2 div.sk-estimator.fitted:hover {\n",
              "  /* fitted */\n",
              "  background-color: var(--sklearn-color-fitted-level-2);\n",
              "}\n",
              "\n",
              "/* Specification for estimator info (e.g. \"i\" and \"?\") */\n",
              "\n",
              "/* Common style for \"i\" and \"?\" */\n",
              "\n",
              ".sk-estimator-doc-link,\n",
              "a:link.sk-estimator-doc-link,\n",
              "a:visited.sk-estimator-doc-link {\n",
              "  float: right;\n",
              "  font-size: smaller;\n",
              "  line-height: 1em;\n",
              "  font-family: monospace;\n",
              "  background-color: var(--sklearn-color-background);\n",
              "  border-radius: 1em;\n",
              "  height: 1em;\n",
              "  width: 1em;\n",
              "  text-decoration: none !important;\n",
              "  margin-left: 1ex;\n",
              "  /* unfitted */\n",
              "  border: var(--sklearn-color-unfitted-level-1) 1pt solid;\n",
              "  color: var(--sklearn-color-unfitted-level-1);\n",
              "}\n",
              "\n",
              ".sk-estimator-doc-link.fitted,\n",
              "a:link.sk-estimator-doc-link.fitted,\n",
              "a:visited.sk-estimator-doc-link.fitted {\n",
              "  /* fitted */\n",
              "  border: var(--sklearn-color-fitted-level-1) 1pt solid;\n",
              "  color: var(--sklearn-color-fitted-level-1);\n",
              "}\n",
              "\n",
              "/* On hover */\n",
              "div.sk-estimator:hover .sk-estimator-doc-link:hover,\n",
              ".sk-estimator-doc-link:hover,\n",
              "div.sk-label-container:hover .sk-estimator-doc-link:hover,\n",
              ".sk-estimator-doc-link:hover {\n",
              "  /* unfitted */\n",
              "  background-color: var(--sklearn-color-unfitted-level-3);\n",
              "  color: var(--sklearn-color-background);\n",
              "  text-decoration: none;\n",
              "}\n",
              "\n",
              "div.sk-estimator.fitted:hover .sk-estimator-doc-link.fitted:hover,\n",
              ".sk-estimator-doc-link.fitted:hover,\n",
              "div.sk-label-container:hover .sk-estimator-doc-link.fitted:hover,\n",
              ".sk-estimator-doc-link.fitted:hover {\n",
              "  /* fitted */\n",
              "  background-color: var(--sklearn-color-fitted-level-3);\n",
              "  color: var(--sklearn-color-background);\n",
              "  text-decoration: none;\n",
              "}\n",
              "\n",
              "/* Span, style for the box shown on hovering the info icon */\n",
              ".sk-estimator-doc-link span {\n",
              "  display: none;\n",
              "  z-index: 9999;\n",
              "  position: relative;\n",
              "  font-weight: normal;\n",
              "  right: .2ex;\n",
              "  padding: .5ex;\n",
              "  margin: .5ex;\n",
              "  width: min-content;\n",
              "  min-width: 20ex;\n",
              "  max-width: 50ex;\n",
              "  color: var(--sklearn-color-text);\n",
              "  box-shadow: 2pt 2pt 4pt #999;\n",
              "  /* unfitted */\n",
              "  background: var(--sklearn-color-unfitted-level-0);\n",
              "  border: .5pt solid var(--sklearn-color-unfitted-level-3);\n",
              "}\n",
              "\n",
              ".sk-estimator-doc-link.fitted span {\n",
              "  /* fitted */\n",
              "  background: var(--sklearn-color-fitted-level-0);\n",
              "  border: var(--sklearn-color-fitted-level-3);\n",
              "}\n",
              "\n",
              ".sk-estimator-doc-link:hover span {\n",
              "  display: block;\n",
              "}\n",
              "\n",
              "/* \"?\"-specific style due to the `<a>` HTML tag */\n",
              "\n",
              "#sk-container-id-2 a.estimator_doc_link {\n",
              "  float: right;\n",
              "  font-size: 1rem;\n",
              "  line-height: 1em;\n",
              "  font-family: monospace;\n",
              "  background-color: var(--sklearn-color-background);\n",
              "  border-radius: 1rem;\n",
              "  height: 1rem;\n",
              "  width: 1rem;\n",
              "  text-decoration: none;\n",
              "  /* unfitted */\n",
              "  color: var(--sklearn-color-unfitted-level-1);\n",
              "  border: var(--sklearn-color-unfitted-level-1) 1pt solid;\n",
              "}\n",
              "\n",
              "#sk-container-id-2 a.estimator_doc_link.fitted {\n",
              "  /* fitted */\n",
              "  border: var(--sklearn-color-fitted-level-1) 1pt solid;\n",
              "  color: var(--sklearn-color-fitted-level-1);\n",
              "}\n",
              "\n",
              "/* On hover */\n",
              "#sk-container-id-2 a.estimator_doc_link:hover {\n",
              "  /* unfitted */\n",
              "  background-color: var(--sklearn-color-unfitted-level-3);\n",
              "  color: var(--sklearn-color-background);\n",
              "  text-decoration: none;\n",
              "}\n",
              "\n",
              "#sk-container-id-2 a.estimator_doc_link.fitted:hover {\n",
              "  /* fitted */\n",
              "  background-color: var(--sklearn-color-fitted-level-3);\n",
              "}\n",
              "</style><div id=\"sk-container-id-2\" class=\"sk-top-container\"><div class=\"sk-text-repr-fallback\"><pre>EllipticEnvelope(contamination=0.005)</pre><b>In a Jupyter environment, please rerun this cell to show the HTML representation or trust the notebook. <br />On GitHub, the HTML representation is unable to render, please try loading this page with nbviewer.org.</b></div><div class=\"sk-container\" hidden><div class=\"sk-item\"><div class=\"sk-estimator fitted sk-toggleable\"><input class=\"sk-toggleable__control sk-hidden--visually\" id=\"sk-estimator-id-10\" type=\"checkbox\" checked><label for=\"sk-estimator-id-10\" class=\"sk-toggleable__label fitted sk-toggleable__label-arrow fitted\">&nbsp;&nbsp;EllipticEnvelope<a class=\"sk-estimator-doc-link fitted\" rel=\"noreferrer\" target=\"_blank\" href=\"https://scikit-learn.org/1.5/modules/generated/sklearn.covariance.EllipticEnvelope.html\">?<span>Documentation for EllipticEnvelope</span></a><span class=\"sk-estimator-doc-link fitted\">i<span>Fitted</span></span></label><div class=\"sk-toggleable__content fitted\"><pre>EllipticEnvelope(contamination=0.005)</pre></div> </div></div></div></div>"
            ],
            "text/plain": [
              "EllipticEnvelope(contamination=0.005)"
            ]
          },
          "execution_count": 62,
          "metadata": {},
          "output_type": "execute_result"
        }
      ],
      "source": [
        "from sklearn.covariance import EllipticEnvelope\n",
        "detector = EllipticEnvelope(contamination=0.005)\n",
        "detector.fit(df)"
      ]
    },
    {
      "cell_type": "code",
      "execution_count": null,
      "metadata": {
        "colab": {
          "base_uri": "https://localhost:8080/"
        },
        "id": "nE2Kd5p_Jmc8",
        "outputId": "c7e7b744-f56c-4452-b7f5-c75f38248efd"
      },
      "outputs": [
        {
          "name": "stdout",
          "output_type": "stream",
          "text": [
            "52 outliers detectados\n"
          ]
        }
      ],
      "source": [
        "scores = detector.predict(df)\n",
        "\n",
        "# conta quantos outliers foram detectados\n",
        "outliers = (scores == -1).sum()\n",
        "print(outliers, 'outliers detectados')"
      ]
    },
    {
      "cell_type": "code",
      "execution_count": null,
      "metadata": {
        "colab": {
          "base_uri": "https://localhost:8080/"
        },
        "id": "Gi54YLYNJmc9",
        "outputId": "014250a4-c1ed-4b76-c9f7-c79a0a9a7464"
      },
      "outputs": [
        {
          "name": "stderr",
          "output_type": "stream",
          "text": [
            "C:\\Users\\Thiago\\AppData\\Local\\Temp/ipykernel_7812/711857306.py:2: SettingWithCopyWarning: \n",
            "A value is trying to be set on a copy of a slice from a DataFrame.\n",
            "Try using .loc[row_indexer,col_indexer] = value instead\n",
            "\n",
            "See the caveats in the documentation: https://pandas.pydata.org/pandas-docs/stable/user_guide/indexing.html#returning-a-view-versus-a-copy\n",
            "  df['outlier'] = scores\n"
          ]
        },
        {
          "data": {
            "text/html": [
              "<div>\n",
              "<style scoped>\n",
              "    .dataframe tbody tr th:only-of-type {\n",
              "        vertical-align: middle;\n",
              "    }\n",
              "\n",
              "    .dataframe tbody tr th {\n",
              "        vertical-align: top;\n",
              "    }\n",
              "\n",
              "    .dataframe thead th {\n",
              "        text-align: right;\n",
              "    }\n",
              "</style>\n",
              "<table border=\"1\" class=\"dataframe\">\n",
              "  <thead>\n",
              "    <tr style=\"text-align: right;\">\n",
              "      <th></th>\n",
              "      <th>popularity</th>\n",
              "      <th>vote_count</th>\n",
              "      <th>vote_average</th>\n",
              "      <th>release_year_0</th>\n",
              "      <th>release_year_1</th>\n",
              "      <th>release_year_2</th>\n",
              "      <th>release_year_3</th>\n",
              "      <th>release_year_4</th>\n",
              "      <th>release_year_5</th>\n",
              "      <th>release_year_6</th>\n",
              "      <th>...</th>\n",
              "      <th>Horror</th>\n",
              "      <th>Music</th>\n",
              "      <th>Mystery</th>\n",
              "      <th>Romance</th>\n",
              "      <th>Science Fiction</th>\n",
              "      <th>TV Movie</th>\n",
              "      <th>Thriller</th>\n",
              "      <th>War</th>\n",
              "      <th>Western</th>\n",
              "      <th>outlier</th>\n",
              "    </tr>\n",
              "  </thead>\n",
              "  <tbody>\n",
              "    <tr>\n",
              "      <th>27</th>\n",
              "      <td>4.503789</td>\n",
              "      <td>3833</td>\n",
              "      <td>7.6</td>\n",
              "      <td>0</td>\n",
              "      <td>0</td>\n",
              "      <td>0</td>\n",
              "      <td>0</td>\n",
              "      <td>0</td>\n",
              "      <td>0</td>\n",
              "      <td>0</td>\n",
              "      <td>...</td>\n",
              "      <td>0</td>\n",
              "      <td>0</td>\n",
              "      <td>0</td>\n",
              "      <td>0</td>\n",
              "      <td>0</td>\n",
              "      <td>0</td>\n",
              "      <td>0</td>\n",
              "      <td>0</td>\n",
              "      <td>0</td>\n",
              "      <td>1</td>\n",
              "    </tr>\n",
              "    <tr>\n",
              "      <th>28</th>\n",
              "      <td>4.062293</td>\n",
              "      <td>1559</td>\n",
              "      <td>7.8</td>\n",
              "      <td>0</td>\n",
              "      <td>0</td>\n",
              "      <td>0</td>\n",
              "      <td>0</td>\n",
              "      <td>0</td>\n",
              "      <td>0</td>\n",
              "      <td>0</td>\n",
              "      <td>...</td>\n",
              "      <td>0</td>\n",
              "      <td>0</td>\n",
              "      <td>0</td>\n",
              "      <td>0</td>\n",
              "      <td>0</td>\n",
              "      <td>0</td>\n",
              "      <td>1</td>\n",
              "      <td>0</td>\n",
              "      <td>0</td>\n",
              "      <td>1</td>\n",
              "    </tr>\n",
              "    <tr>\n",
              "      <th>29</th>\n",
              "      <td>3.968891</td>\n",
              "      <td>1849</td>\n",
              "      <td>6.4</td>\n",
              "      <td>0</td>\n",
              "      <td>0</td>\n",
              "      <td>0</td>\n",
              "      <td>0</td>\n",
              "      <td>0</td>\n",
              "      <td>0</td>\n",
              "      <td>0</td>\n",
              "      <td>...</td>\n",
              "      <td>0</td>\n",
              "      <td>0</td>\n",
              "      <td>0</td>\n",
              "      <td>0</td>\n",
              "      <td>1</td>\n",
              "      <td>0</td>\n",
              "      <td>1</td>\n",
              "      <td>0</td>\n",
              "      <td>0</td>\n",
              "      <td>1</td>\n",
              "    </tr>\n",
              "    <tr>\n",
              "      <th>30</th>\n",
              "      <td>3.927333</td>\n",
              "      <td>425</td>\n",
              "      <td>6.4</td>\n",
              "      <td>0</td>\n",
              "      <td>0</td>\n",
              "      <td>0</td>\n",
              "      <td>0</td>\n",
              "      <td>0</td>\n",
              "      <td>0</td>\n",
              "      <td>0</td>\n",
              "      <td>...</td>\n",
              "      <td>0</td>\n",
              "      <td>0</td>\n",
              "      <td>1</td>\n",
              "      <td>0</td>\n",
              "      <td>0</td>\n",
              "      <td>0</td>\n",
              "      <td>0</td>\n",
              "      <td>0</td>\n",
              "      <td>0</td>\n",
              "      <td>1</td>\n",
              "    </tr>\n",
              "    <tr>\n",
              "      <th>31</th>\n",
              "      <td>3.899557</td>\n",
              "      <td>1990</td>\n",
              "      <td>6.6</td>\n",
              "      <td>0</td>\n",
              "      <td>0</td>\n",
              "      <td>0</td>\n",
              "      <td>0</td>\n",
              "      <td>0</td>\n",
              "      <td>0</td>\n",
              "      <td>0</td>\n",
              "      <td>...</td>\n",
              "      <td>0</td>\n",
              "      <td>0</td>\n",
              "      <td>0</td>\n",
              "      <td>0</td>\n",
              "      <td>1</td>\n",
              "      <td>0</td>\n",
              "      <td>0</td>\n",
              "      <td>0</td>\n",
              "      <td>0</td>\n",
              "      <td>1</td>\n",
              "    </tr>\n",
              "  </tbody>\n",
              "</table>\n",
              "<p>5 rows × 43 columns</p>\n",
              "</div>"
            ],
            "text/plain": [
              "    popularity  vote_count  vote_average  release_year_0  release_year_1  \\\n",
              "27    4.503789        3833           7.6               0               0   \n",
              "28    4.062293        1559           7.8               0               0   \n",
              "29    3.968891        1849           6.4               0               0   \n",
              "30    3.927333         425           6.4               0               0   \n",
              "31    3.899557        1990           6.6               0               0   \n",
              "\n",
              "    release_year_2  release_year_3  release_year_4  release_year_5  \\\n",
              "27               0               0               0               0   \n",
              "28               0               0               0               0   \n",
              "29               0               0               0               0   \n",
              "30               0               0               0               0   \n",
              "31               0               0               0               0   \n",
              "\n",
              "    release_year_6  ...  Horror  Music  Mystery  Romance  Science Fiction  \\\n",
              "27               0  ...       0      0        0        0                0   \n",
              "28               0  ...       0      0        0        0                0   \n",
              "29               0  ...       0      0        0        0                1   \n",
              "30               0  ...       0      0        1        0                0   \n",
              "31               0  ...       0      0        0        0                1   \n",
              "\n",
              "    TV Movie  Thriller  War  Western  outlier  \n",
              "27         0         0    0        0        1  \n",
              "28         0         1    0        0        1  \n",
              "29         0         1    0        0        1  \n",
              "30         0         0    0        0        1  \n",
              "31         0         0    0        0        1  \n",
              "\n",
              "[5 rows x 43 columns]"
            ]
          },
          "execution_count": 64,
          "metadata": {},
          "output_type": "execute_result"
        }
      ],
      "source": [
        "# adiciona a coluna de outliers ao dataframe\n",
        "df['outlier'] = scores\n",
        "df.head()"
      ]
    },
    {
      "cell_type": "code",
      "execution_count": null,
      "metadata": {
        "colab": {
          "base_uri": "https://localhost:8080/"
        },
        "id": "Jk0tqa-SJmc-",
        "outputId": "6bf73f13-1262-4b97-9299-5d7e0284c3fb"
      },
      "outputs": [
        {
          "name": "stderr",
          "output_type": "stream",
          "text": [
            "C:\\Users\\Thiago\\AppData\\Local\\Temp/ipykernel_7812/4059721658.py:3: SettingWithCopyWarning: \n",
            "A value is trying to be set on a copy of a slice from a DataFrame\n",
            "\n",
            "See the caveats in the documentation: https://pandas.pydata.org/pandas-docs/stable/user_guide/indexing.html#returning-a-view-versus-a-copy\n",
            "  df.drop(columns=['outlier'], inplace=True)\n"
          ]
        },
        {
          "data": {
            "text/plain": [
              "10206"
            ]
          },
          "execution_count": 65,
          "metadata": {},
          "output_type": "execute_result"
        }
      ],
      "source": [
        "# Remove os outliers detectados\n",
        "df = df[df['outlier'] != -1]\n",
        "df.drop(columns=['outlier'], inplace=True)\n",
        "len(df)"
      ]
    },
    {
      "cell_type": "markdown",
      "metadata": {
        "id": "UjLqEQfF1cn1"
      },
      "source": [
        "### Discretização e normalização dos dados"
      ]
    },
    {
      "cell_type": "code",
      "execution_count": null,
      "metadata": {
        "colab": {
          "base_uri": "https://localhost:8080/"
        },
        "id": "K_cklioRZfSF",
        "outputId": "f0f19113-81ad-42f2-c80b-667b0761b10d"
      },
      "outputs": [
        {
          "data": {
            "text/plain": [
              "popularity            float64\n",
              "vote_count              int64\n",
              "vote_average          float64\n",
              "release_year_0          int32\n",
              "release_year_1          int32\n",
              "release_year_2          int32\n",
              "release_year_3          int32\n",
              "release_year_4          int32\n",
              "release_year_5          int32\n",
              "release_year_6          int32\n",
              "release_year_7          int32\n",
              "release_year_8          int32\n",
              "release_year_9          int32\n",
              "release_year_10         int32\n",
              "release_year_11         int32\n",
              "release_year_12         int32\n",
              "release_year_13         int32\n",
              "Amazon Prime Video      int32\n",
              "Disney Plus             int32\n",
              "Hulu                    int32\n",
              "Max                     int32\n",
              "Netflix                 int32\n",
              "Action                  int32\n",
              "Adventure               int32\n",
              "Animation               int32\n",
              "Comedy                  int32\n",
              "Crime                   int32\n",
              "Documentary             int32\n",
              "Drama                   int32\n",
              "Family                  int32\n",
              "Fantasy                 int32\n",
              "Foreign                 int32\n",
              "History                 int32\n",
              "Horror                  int32\n",
              "Music                   int32\n",
              "Mystery                 int32\n",
              "Romance                 int32\n",
              "Science Fiction         int32\n",
              "TV Movie                int32\n",
              "Thriller                int32\n",
              "War                     int32\n",
              "Western                 int32\n",
              "dtype: object"
            ]
          },
          "execution_count": 66,
          "metadata": {},
          "output_type": "execute_result"
        }
      ],
      "source": [
        "df.dtypes"
      ]
    },
    {
      "cell_type": "markdown",
      "metadata": {
        "id": "eXv1i2JoubdG"
      },
      "source": [
        "Decidimos discretizar a variável \"vote_average\" para converter seu intervalo de 0-10 para 1-5. Para isso, criaremos uma nova variável chamada \"5_star_score\", que será discretizada para se ajustar ao padrão de classificação de 1 a 5 estrelas. Por fim, normalizaremos todas as variáveis."
      ]
    },
    {
      "cell_type": "markdown",
      "metadata": {
        "id": "g1LZU6AQarjE"
      },
      "source": [
        "**Definindo a variável de votação e discretizando-a**"
      ]
    },
    {
      "cell_type": "code",
      "execution_count": null,
      "metadata": {
        "colab": {
          "base_uri": "https://localhost:8080/",
          "height": 300
        },
        "id": "k9-1YeGSnBE8",
        "outputId": "557612e1-1ec3-4686-d3ec-5b75e758205f"
      },
      "outputs": [
        {
          "data": {
            "text/html": [
              "<div>\n",
              "<style scoped>\n",
              "    .dataframe tbody tr th:only-of-type {\n",
              "        vertical-align: middle;\n",
              "    }\n",
              "\n",
              "    .dataframe tbody tr th {\n",
              "        vertical-align: top;\n",
              "    }\n",
              "\n",
              "    .dataframe thead th {\n",
              "        text-align: right;\n",
              "    }\n",
              "</style>\n",
              "<table border=\"1\" class=\"dataframe\">\n",
              "  <thead>\n",
              "    <tr style=\"text-align: right;\">\n",
              "      <th></th>\n",
              "      <th>vote_average</th>\n",
              "    </tr>\n",
              "  </thead>\n",
              "  <tbody>\n",
              "    <tr>\n",
              "      <th>count</th>\n",
              "      <td>10206.000000</td>\n",
              "    </tr>\n",
              "    <tr>\n",
              "      <th>mean</th>\n",
              "      <td>5.996159</td>\n",
              "    </tr>\n",
              "    <tr>\n",
              "      <th>std</th>\n",
              "      <td>0.851998</td>\n",
              "    </tr>\n",
              "    <tr>\n",
              "      <th>min</th>\n",
              "      <td>3.700000</td>\n",
              "    </tr>\n",
              "    <tr>\n",
              "      <th>25%</th>\n",
              "      <td>5.400000</td>\n",
              "    </tr>\n",
              "    <tr>\n",
              "      <th>50%</th>\n",
              "      <td>6.000000</td>\n",
              "    </tr>\n",
              "    <tr>\n",
              "      <th>75%</th>\n",
              "      <td>6.600000</td>\n",
              "    </tr>\n",
              "    <tr>\n",
              "      <th>max</th>\n",
              "      <td>8.300000</td>\n",
              "    </tr>\n",
              "  </tbody>\n",
              "</table>\n",
              "</div>"
            ],
            "text/plain": [
              "       vote_average\n",
              "count  10206.000000\n",
              "mean       5.996159\n",
              "std        0.851998\n",
              "min        3.700000\n",
              "25%        5.400000\n",
              "50%        6.000000\n",
              "75%        6.600000\n",
              "max        8.300000"
            ]
          },
          "execution_count": 67,
          "metadata": {},
          "output_type": "execute_result"
        }
      ],
      "source": [
        "df[['vote_average']].describe()"
      ]
    },
    {
      "cell_type": "code",
      "execution_count": null,
      "metadata": {
        "colab": {
          "base_uri": "https://localhost:8080/",
          "height": 447
        },
        "id": "OK6PfkcyJmdB",
        "outputId": "bfe5bbd9-ad12-46ae-b8fc-83507cc5478c"
      },
      "outputs": [
        {
          "data": {
            "text/plain": [
              "<Axes: >"
            ]
          },
          "execution_count": 68,
          "metadata": {},
          "output_type": "execute_result"
        },
        {
          "data": {
            "image/png": "[encoded data removed]",
            "text/plain": [
              "<Figure size 432x288 with 1 Axes>"
            ]
          },
          "metadata": {
            "needs_background": "light"
          },
          "output_type": "display_data"
        }
      ],
      "source": [
        "df['vote_average'].hist()"
      ]
    },
    {
      "cell_type": "code",
      "execution_count": null,
      "metadata": {
        "colab": {
          "base_uri": "https://localhost:8080/",
          "height": 310
        },
        "id": "JE_7ymwnjU72",
        "outputId": "0a6f71e9-f595-40c7-a15e-b5a6d5834146"
      },
      "outputs": [
        {
          "name": "stderr",
          "output_type": "stream",
          "text": [
            "C:\\Users\\Thiago\\AppData\\Local\\Temp/ipykernel_7812/4255662312.py:8: SettingWithCopyWarning: \n",
            "A value is trying to be set on a copy of a slice from a DataFrame.\n",
            "Try using .loc[row_indexer,col_indexer] = value instead\n",
            "\n",
            "See the caveats in the documentation: https://pandas.pydata.org/pandas-docs/stable/user_guide/indexing.html#returning-a-view-versus-a-copy\n",
            "  df['5_star_score'] = pd.cut(df['vote_average'], bins=bin_edges, labels=bin_labels, include_lowest=True, right=False)\n"
          ]
        },
        {
          "data": {
            "text/html": [
              "<div>\n",
              "<style scoped>\n",
              "    .dataframe tbody tr th:only-of-type {\n",
              "        vertical-align: middle;\n",
              "    }\n",
              "\n",
              "    .dataframe tbody tr th {\n",
              "        vertical-align: top;\n",
              "    }\n",
              "\n",
              "    .dataframe thead th {\n",
              "        text-align: right;\n",
              "    }\n",
              "</style>\n",
              "<table border=\"1\" class=\"dataframe\">\n",
              "  <thead>\n",
              "    <tr style=\"text-align: right;\">\n",
              "      <th></th>\n",
              "      <th>vote_average</th>\n",
              "      <th>5_star_score</th>\n",
              "    </tr>\n",
              "  </thead>\n",
              "  <tbody>\n",
              "    <tr>\n",
              "      <th>27</th>\n",
              "      <td>7.6</td>\n",
              "      <td>4</td>\n",
              "    </tr>\n",
              "    <tr>\n",
              "      <th>28</th>\n",
              "      <td>7.8</td>\n",
              "      <td>4</td>\n",
              "    </tr>\n",
              "    <tr>\n",
              "      <th>29</th>\n",
              "      <td>6.4</td>\n",
              "      <td>4</td>\n",
              "    </tr>\n",
              "    <tr>\n",
              "      <th>30</th>\n",
              "      <td>6.4</td>\n",
              "      <td>4</td>\n",
              "    </tr>\n",
              "    <tr>\n",
              "      <th>31</th>\n",
              "      <td>6.6</td>\n",
              "      <td>4</td>\n",
              "    </tr>\n",
              "  </tbody>\n",
              "</table>\n",
              "</div>"
            ],
            "text/plain": [
              "    vote_average 5_star_score\n",
              "27           7.6            4\n",
              "28           7.8            4\n",
              "29           6.4            4\n",
              "30           6.4            4\n",
              "31           6.6            4"
            ]
          },
          "execution_count": 69,
          "metadata": {},
          "output_type": "execute_result"
        }
      ],
      "source": [
        "# Define os limites dos intervalos para cada categoria\n",
        "bin_edges = [0, 2, 4, 6, 8, 10]\n",
        "\n",
        "# Define os rótulos para cada categoria\n",
        "bin_labels = [1, 2, 3, 4, 5]\n",
        "\n",
        "# Discretiza a coluna 'score' com base nos limites dos intervalos e rótulos\n",
        "df['5_star_score'] = pd.cut(df['vote_average'], bins=bin_edges, labels=bin_labels, include_lowest=True, right=False)\n",
        "\n",
        "df[['vote_average', '5_star_score']].head()"
      ]
    },
    {
      "cell_type": "code",
      "execution_count": null,
      "metadata": {
        "colab": {
          "base_uri": "https://localhost:8080/",
          "height": 447
        },
        "id": "KaxyzDlOJmdD",
        "outputId": "fd9a3cea-72e4-4919-a9bd-6a70eea0fa0c"
      },
      "outputs": [
        {
          "data": {
            "text/plain": [
              "<Axes: >"
            ]
          },
          "execution_count": 70,
          "metadata": {},
          "output_type": "execute_result"
        },
        {
          "data": {
            "image/png": "[encoded data removed]",
            "text/plain": [
              "<Figure size 432x288 with 1 Axes>"
            ]
          },
          "metadata": {
            "needs_background": "light"
          },
          "output_type": "display_data"
        }
      ],
      "source": [
        "df['5_star_score'].hist()"
      ]
    },
    {
      "cell_type": "markdown",
      "metadata": {
        "id": "cQM65U8kYbB2"
      },
      "source": [
        "**Normalização das variáveis numéricas**"
      ]
    },
    {
      "cell_type": "code",
      "execution_count": null,
      "metadata": {
        "colab": {
          "base_uri": "https://localhost:8080/"
        },
        "id": "L2rnogStRA0h",
        "outputId": "c422da8a-ba18-4f79-b22c-ce63761be888"
      },
      "outputs": [
        {
          "data": {
            "text/plain": [
              "popularity             float64\n",
              "vote_count               int64\n",
              "vote_average           float64\n",
              "release_year_0           int32\n",
              "release_year_1           int32\n",
              "release_year_2           int32\n",
              "release_year_3           int32\n",
              "release_year_4           int32\n",
              "release_year_5           int32\n",
              "release_year_6           int32\n",
              "release_year_7           int32\n",
              "release_year_8           int32\n",
              "release_year_9           int32\n",
              "release_year_10          int32\n",
              "release_year_11          int32\n",
              "release_year_12          int32\n",
              "release_year_13          int32\n",
              "Amazon Prime Video       int32\n",
              "Disney Plus              int32\n",
              "Hulu                     int32\n",
              "Max                      int32\n",
              "Netflix                  int32\n",
              "Action                   int32\n",
              "Adventure                int32\n",
              "Animation                int32\n",
              "Comedy                   int32\n",
              "Crime                    int32\n",
              "Documentary              int32\n",
              "Drama                    int32\n",
              "Family                   int32\n",
              "Fantasy                  int32\n",
              "Foreign                  int32\n",
              "History                  int32\n",
              "Horror                   int32\n",
              "Music                    int32\n",
              "Mystery                  int32\n",
              "Romance                  int32\n",
              "Science Fiction          int32\n",
              "TV Movie                 int32\n",
              "Thriller                 int32\n",
              "War                      int32\n",
              "Western                  int32\n",
              "5_star_score          category\n",
              "dtype: object"
            ]
          },
          "execution_count": 71,
          "metadata": {},
          "output_type": "execute_result"
        }
      ],
      "source": [
        "df.dtypes"
      ]
    },
    {
      "cell_type": "markdown",
      "metadata": {
        "id": "IF0SLlyvRXda"
      },
      "source": [
        "Vamos delimitar as variáveis originalmente numéricas manualmente porque após todas as etapas anteriores todas as variáveis estão definidas por um tipo numérico."
      ]
    },
    {
      "cell_type": "code",
      "execution_count": null,
      "metadata": {
        "id": "35IXdzlAQCmm"
      },
      "outputs": [],
      "source": [
        "numerical_features = ['popularity', 'vote_average', 'vote_count']"
      ]
    },
    {
      "cell_type": "code",
      "execution_count": null,
      "metadata": {
        "colab": {
          "base_uri": "https://localhost:8080/",
          "height": 423
        },
        "id": "drvBL-WY1f6Q",
        "outputId": "e8f5332c-533d-4c88-be54-369da765b8f5"
      },
      "outputs": [
        {
          "data": {
            "text/html": [
              "<div>\n",
              "<style scoped>\n",
              "    .dataframe tbody tr th:only-of-type {\n",
              "        vertical-align: middle;\n",
              "    }\n",
              "\n",
              "    .dataframe tbody tr th {\n",
              "        vertical-align: top;\n",
              "    }\n",
              "\n",
              "    .dataframe thead th {\n",
              "        text-align: right;\n",
              "    }\n",
              "</style>\n",
              "<table border=\"1\" class=\"dataframe\">\n",
              "  <thead>\n",
              "    <tr style=\"text-align: right;\">\n",
              "      <th></th>\n",
              "      <th>popularity</th>\n",
              "      <th>vote_average</th>\n",
              "      <th>vote_count</th>\n",
              "    </tr>\n",
              "  </thead>\n",
              "  <tbody>\n",
              "    <tr>\n",
              "      <th>27</th>\n",
              "      <td>0.992936</td>\n",
              "      <td>0.847826</td>\n",
              "      <td>0.540736</td>\n",
              "    </tr>\n",
              "    <tr>\n",
              "      <th>28</th>\n",
              "      <td>0.894890</td>\n",
              "      <td>0.891304</td>\n",
              "      <td>0.219095</td>\n",
              "    </tr>\n",
              "    <tr>\n",
              "      <th>29</th>\n",
              "      <td>0.874147</td>\n",
              "      <td>0.586957</td>\n",
              "      <td>0.260113</td>\n",
              "    </tr>\n",
              "    <tr>\n",
              "      <th>30</th>\n",
              "      <td>0.864918</td>\n",
              "      <td>0.586957</td>\n",
              "      <td>0.058699</td>\n",
              "    </tr>\n",
              "    <tr>\n",
              "      <th>31</th>\n",
              "      <td>0.858750</td>\n",
              "      <td>0.630435</td>\n",
              "      <td>0.280057</td>\n",
              "    </tr>\n",
              "    <tr>\n",
              "      <th>...</th>\n",
              "      <td>...</td>\n",
              "      <td>...</td>\n",
              "      <td>...</td>\n",
              "    </tr>\n",
              "    <tr>\n",
              "      <th>10848</th>\n",
              "      <td>0.045136</td>\n",
              "      <td>0.543478</td>\n",
              "      <td>0.000283</td>\n",
              "    </tr>\n",
              "    <tr>\n",
              "      <th>10850</th>\n",
              "      <td>0.001424</td>\n",
              "      <td>0.478261</td>\n",
              "      <td>0.000283</td>\n",
              "    </tr>\n",
              "    <tr>\n",
              "      <th>10852</th>\n",
              "      <td>0.053580</td>\n",
              "      <td>0.652174</td>\n",
              "      <td>0.000566</td>\n",
              "    </tr>\n",
              "    <tr>\n",
              "      <th>10853</th>\n",
              "      <td>0.001195</td>\n",
              "      <td>0.369565</td>\n",
              "      <td>0.000849</td>\n",
              "    </tr>\n",
              "    <tr>\n",
              "      <th>10854</th>\n",
              "      <td>0.031611</td>\n",
              "      <td>0.282609</td>\n",
              "      <td>0.000141</td>\n",
              "    </tr>\n",
              "  </tbody>\n",
              "</table>\n",
              "<p>10206 rows × 3 columns</p>\n",
              "</div>"
            ],
            "text/plain": [
              "       popularity  vote_average  vote_count\n",
              "27       0.992936      0.847826    0.540736\n",
              "28       0.894890      0.891304    0.219095\n",
              "29       0.874147      0.586957    0.260113\n",
              "30       0.864918      0.586957    0.058699\n",
              "31       0.858750      0.630435    0.280057\n",
              "...           ...           ...         ...\n",
              "10848    0.045136      0.543478    0.000283\n",
              "10850    0.001424      0.478261    0.000283\n",
              "10852    0.053580      0.652174    0.000566\n",
              "10853    0.001195      0.369565    0.000849\n",
              "10854    0.031611      0.282609    0.000141\n",
              "\n",
              "[10206 rows x 3 columns]"
            ]
          },
          "execution_count": 73,
          "metadata": {},
          "output_type": "execute_result"
        }
      ],
      "source": [
        "#Instanciando o normalizador\n",
        "scaler = MinMaxScaler()\n",
        "\n",
        "#Aplicando a normalzação usando o MinMaxScaler\n",
        "df_norm = pd.DataFrame(scaler.fit_transform(df[numerical_features]), columns=numerical_features, index=df.index)\n",
        "\n",
        "df_norm"
      ]
    },
    {
      "cell_type": "code",
      "execution_count": null,
      "metadata": {
        "colab": {
          "base_uri": "https://localhost:8080/"
        },
        "id": "KMqPviOcqHIa",
        "outputId": "320eaed6-2660-4de7-aa76-3a29cf7ade76"
      },
      "outputs": [
        {
          "name": "stderr",
          "output_type": "stream",
          "text": [
            "C:\\Users\\Thiago\\AppData\\Local\\Temp/ipykernel_7812/1403609434.py:1: SettingWithCopyWarning: \n",
            "A value is trying to be set on a copy of a slice from a DataFrame.\n",
            "Try using .loc[row_indexer,col_indexer] = value instead\n",
            "\n",
            "See the caveats in the documentation: https://pandas.pydata.org/pandas-docs/stable/user_guide/indexing.html#returning-a-view-versus-a-copy\n",
            "  df[numerical_features] = df_norm\n"
          ]
        }
      ],
      "source": [
        "df[numerical_features] = df_norm"
      ]
    },
    {
      "cell_type": "markdown",
      "metadata": {
        "id": "kPytX9euWF4B"
      },
      "source": [
        "## Análise Descritiva"
      ]
    },
    {
      "cell_type": "markdown",
      "metadata": {
        "id": "Rc0uzPOjVGwi"
      },
      "source": [
        "### Separando as variáveis em numéricas e categóricas"
      ]
    },
    {
      "cell_type": "markdown",
      "metadata": {
        "id": "4TyqWT0Xmk0w"
      },
      "source": [
        "Como a análise descritiva de variáveis numéricas e categóricas será realizada por meio de métodos diferentes, iremos separá-las. Dessa forma, poderemos agrupar as colunas geradas durante o one-hot encoding de cada variável categórica."
      ]
    },
    {
      "cell_type": "code",
      "execution_count": null,
      "metadata": {
        "colab": {
          "base_uri": "https://localhost:8080/"
        },
        "id": "twmOhdjaKxi-",
        "outputId": "9883d671-eb25-478e-c78b-8aababefb3b1"
      },
      "outputs": [
        {
          "data": {
            "text/plain": [
              "Index(['popularity', 'vote_count', 'vote_average', 'release_year_0',\n",
              "       'release_year_1', 'release_year_2', 'release_year_3', 'release_year_4',\n",
              "       'release_year_5', 'release_year_6', 'release_year_7', 'release_year_8',\n",
              "       'release_year_9', 'release_year_10', 'release_year_11',\n",
              "       'release_year_12', 'release_year_13', 'Amazon Prime Video',\n",
              "       'Disney Plus', 'Hulu', 'Max', 'Netflix', 'Action', 'Adventure',\n",
              "       'Animation', 'Comedy', 'Crime', 'Documentary', 'Drama', 'Family',\n",
              "       'Fantasy', 'Foreign', 'History', 'Horror', 'Music', 'Mystery',\n",
              "       'Romance', 'Science Fiction', 'TV Movie', 'Thriller', 'War', 'Western',\n",
              "       '5_star_score'],\n",
              "      dtype='object')"
            ]
          },
          "execution_count": 75,
          "metadata": {},
          "output_type": "execute_result"
        }
      ],
      "source": [
        "df.columns"
      ]
    },
    {
      "cell_type": "code",
      "execution_count": null,
      "metadata": {
        "colab": {
          "base_uri": "https://localhost:8080/"
        },
        "id": "VFTL0aQVVeHK",
        "outputId": "27cee472-0f42-420c-8c5d-6c37b36d089c"
      },
      "outputs": [
        {
          "name": "stdout",
          "output_type": "stream",
          "text": [
            "Colunas de dados numéricos: ['popularity', 'vote_average', 'vote_count']\n",
            "Dados categóricos: 'release_year', 'streaming_services', 'genres', '5_star_score'\n"
          ]
        }
      ],
      "source": [
        "print(f'Colunas de dados numéricos: {numerical_features}')\n",
        "print(\"Dados categóricos: 'release_year', 'streaming_services', 'genres', '5_star_score'\")"
      ]
    },
    {
      "cell_type": "code",
      "execution_count": null,
      "metadata": {
        "id": "oTED2g3alaFI"
      },
      "outputs": [],
      "source": [
        "release_year_columns = ['release_year_0',\n",
        "       'release_year_1', 'release_year_2', 'release_year_3', 'release_year_4',\n",
        "       'release_year_5', 'release_year_6', 'release_year_7', 'release_year_8',\n",
        "       'release_year_9', 'release_year_10', 'release_year_11',\n",
        "       'release_year_12', 'release_year_13']\n",
        "streaming_services_columns = ['Amazon Prime Video',\n",
        "       'Disney Plus', 'Hulu', 'Max', 'Netflix']\n",
        "genres_columns = ['Action', 'Adventure',\n",
        "       'Animation', 'Comedy', 'Crime', 'Documentary', 'Drama', 'Family',\n",
        "       'Fantasy', 'Foreign', 'History', 'Horror', 'Music', 'Mystery',\n",
        "       'Romance', 'Science Fiction', 'TV Movie', 'Thriller', 'War', 'Western']"
      ]
    },
    {
      "cell_type": "markdown",
      "metadata": {
        "id": "3cO52TYGJmdK"
      },
      "source": [
        "### Estatísticas univariadas"
      ]
    },
    {
      "cell_type": "markdown",
      "metadata": {
        "id": "xtUhGNXeoVYJ"
      },
      "source": [
        "#### **Variáveis numéricas**"
      ]
    },
    {
      "cell_type": "code",
      "execution_count": null,
      "metadata": {
        "colab": {
          "base_uri": "https://localhost:8080/",
          "height": 300
        },
        "id": "0qJ1H8TmJmdL",
        "outputId": "f2767362-c195-47d5-c928-f832d79bd8d6"
      },
      "outputs": [
        {
          "data": {
            "text/html": [
              "<div>\n",
              "<style scoped>\n",
              "    .dataframe tbody tr th:only-of-type {\n",
              "        vertical-align: middle;\n",
              "    }\n",
              "\n",
              "    .dataframe tbody tr th {\n",
              "        vertical-align: top;\n",
              "    }\n",
              "\n",
              "    .dataframe thead th {\n",
              "        text-align: right;\n",
              "    }\n",
              "</style>\n",
              "<table border=\"1\" class=\"dataframe\">\n",
              "  <thead>\n",
              "    <tr style=\"text-align: right;\">\n",
              "      <th></th>\n",
              "      <th>popularity</th>\n",
              "      <th>vote_average</th>\n",
              "      <th>vote_count</th>\n",
              "    </tr>\n",
              "  </thead>\n",
              "  <tbody>\n",
              "    <tr>\n",
              "      <th>count</th>\n",
              "      <td>10206.000000</td>\n",
              "      <td>10206.000000</td>\n",
              "      <td>10206.000000</td>\n",
              "    </tr>\n",
              "    <tr>\n",
              "      <th>mean</th>\n",
              "      <td>0.125913</td>\n",
              "      <td>0.499165</td>\n",
              "      <td>0.024945</td>\n",
              "    </tr>\n",
              "    <tr>\n",
              "      <th>std</th>\n",
              "      <td>0.139080</td>\n",
              "      <td>0.185217</td>\n",
              "      <td>0.059619</td>\n",
              "    </tr>\n",
              "    <tr>\n",
              "      <th>min</th>\n",
              "      <td>0.000000</td>\n",
              "      <td>0.000000</td>\n",
              "      <td>0.000000</td>\n",
              "    </tr>\n",
              "    <tr>\n",
              "      <th>25%</th>\n",
              "      <td>0.041566</td>\n",
              "      <td>0.369565</td>\n",
              "      <td>0.000990</td>\n",
              "    </tr>\n",
              "    <tr>\n",
              "      <th>50%</th>\n",
              "      <td>0.080284</td>\n",
              "      <td>0.500000</td>\n",
              "      <td>0.004385</td>\n",
              "    </tr>\n",
              "    <tr>\n",
              "      <th>75%</th>\n",
              "      <td>0.152504</td>\n",
              "      <td>0.630435</td>\n",
              "      <td>0.019378</td>\n",
              "    </tr>\n",
              "    <tr>\n",
              "      <th>max</th>\n",
              "      <td>1.000000</td>\n",
              "      <td>1.000000</td>\n",
              "      <td>1.000000</td>\n",
              "    </tr>\n",
              "  </tbody>\n",
              "</table>\n",
              "</div>"
            ],
            "text/plain": [
              "         popularity  vote_average    vote_count\n",
              "count  10206.000000  10206.000000  10206.000000\n",
              "mean       0.125913      0.499165      0.024945\n",
              "std        0.139080      0.185217      0.059619\n",
              "min        0.000000      0.000000      0.000000\n",
              "25%        0.041566      0.369565      0.000990\n",
              "50%        0.080284      0.500000      0.004385\n",
              "75%        0.152504      0.630435      0.019378\n",
              "max        1.000000      1.000000      1.000000"
            ]
          },
          "execution_count": 78,
          "metadata": {},
          "output_type": "execute_result"
        }
      ],
      "source": [
        "df[numerical_features].describe()"
      ]
    },
    {
      "cell_type": "code",
      "execution_count": null,
      "metadata": {
        "colab": {
          "base_uri": "https://localhost:8080/"
        },
        "id": "vbkXyrddJmdM",
        "outputId": "7d54dcac-0f26-4630-8e72-7c88adbfe9ab"
      },
      "outputs": [
        {
          "data": {
            "text/plain": [
              "popularity      0.00272\n",
              "vote_average    0.50000\n",
              "vote_count      0.00000\n",
              "Name: 0, dtype: float64"
            ]
          },
          "execution_count": 79,
          "metadata": {},
          "output_type": "execute_result"
        }
      ],
      "source": [
        "df[numerical_features].mode().iloc[0]"
      ]
    },
    {
      "cell_type": "markdown",
      "metadata": {
        "id": "KFhc5Io4pLuL"
      },
      "source": [
        "Ao analisar as informações estatísticas sobre as variáveis numéricas, podemos observar um padrão interessante. Com exceção da variável \"vote average\", a diferença entre a média e a mediana é significativa, o que pode indicar a presença de valores extremos na distribuição dos dados. Uma análise mais detalhada revela que os dados de \"popularity\" e, principalmente, de \"vote count\" estão concentrados em valores mais baixos. Isso sugere que a distribuição dessas variáveis é assimétrica à direita (right skewed).\n",
        "\n",
        "Essa assimetria é confirmada ao examinarmos os valores mínimo e máximo, e os quartis. Observa-se que a diferença entre os valores mínimos e os quartis é pequena, enquanto a diferença entre o terceiro quartil e o valor máximo é significativa. Esse padrão reforça a ideia de que \"popularity\" e \"vote count\" apresentam distribuições concentradas em valores mais baixos, com alguns valores extremos puxando a média para cima.\n",
        "\n",
        "Por outro lado, a variável \"vote average\" apresenta uma distribuição próxima à simétrica. Os dados estão concentrados em torno dos valores medianos entre o mínimo e o máximo, indicando uma distribuição mais equilibrada. A moda dessas variáveis também corrobora essa análise: enquanto \"popularity\" e \"vote count\" têm um maior número de dados repetidos em valores baixos, a moda de \"vote average\" é a mediana. Essa observação reforça a simetria na distribuição de \"vote average\", contrastando com a assimetria observada nas outras variáveis."
      ]
    },
    {
      "cell_type": "code",
      "execution_count": null,
      "metadata": {
        "colab": {
          "base_uri": "https://localhost:8080/",
          "height": 645
        },
        "id": "bUNshGHwo-6l",
        "outputId": "cca51f5a-dd1e-43d3-f9fb-219d21e2fd2f"
      },
      "outputs": [
        {
          "data": {
            "text/plain": [
              "array([[<Axes: title={'center': 'popularity'}>,\n",
              "        <Axes: title={'center': 'vote_average'}>],\n",
              "       [<Axes: title={'center': 'vote_count'}>, <Axes: >]], dtype=object)"
            ]
          },
          "execution_count": 80,
          "metadata": {},
          "output_type": "execute_result"
        },
        {
          "data": {
            "image/png": "[encoded data removed]",
            "text/plain": [
              "<Figure size 1440x720 with 4 Axes>"
            ]
          },
          "metadata": {
            "needs_background": "light"
          },
          "output_type": "display_data"
        }
      ],
      "source": [
        "df[numerical_features].hist(figsize=(20, 10), color='green', bins=100)"
      ]
    },
    {
      "cell_type": "markdown",
      "metadata": {
        "id": "Dpss6NNkzWmf"
      },
      "source": [
        "Ao analisar esses histogramas, podemos confirmar as hipóteses anteriormente formuladas sobre as distribuições dos dados numéricos."
      ]
    },
    {
      "cell_type": "code",
      "execution_count": null,
      "metadata": {
        "colab": {
          "base_uri": "https://localhost:8080/"
        },
        "id": "4hFjuFtGJmdO",
        "outputId": "57f6342d-5895-4054-f6d5-0b00ea7fe233"
      },
      "outputs": [
        {
          "data": {
            "text/plain": [
              "popularity      0.110938\n",
              "vote_average    0.260870\n",
              "vote_count      0.018388\n",
              "dtype: float64"
            ]
          },
          "execution_count": 81,
          "metadata": {},
          "output_type": "execute_result"
        }
      ],
      "source": [
        "# Intervalos interquartis para as features numéricas\n",
        "df[numerical_features].quantile(0.75) - df[numerical_features].quantile(0.25)"
      ]
    },
    {
      "cell_type": "code",
      "execution_count": null,
      "metadata": {
        "colab": {
          "base_uri": "https://localhost:8080/",
          "height": 578
        },
        "id": "3c_exDTEJmdP",
        "outputId": "1107a69b-1f55-4016-fe13-efb3f4ff10b1"
      },
      "outputs": [
        {
          "data": {
            "image/png": "[encoded data removed]",
            "text/plain": [
              "<Figure size 1440x720 with 3 Axes>"
            ]
          },
          "metadata": {
            "needs_background": "light"
          },
          "output_type": "display_data"
        }
      ],
      "source": [
        "# box plots para cada coluna numérica\n",
        "plt.figure(figsize=(20, 10))\n",
        "for i, col in enumerate(numerical_features):\n",
        "    plt.subplot(1, 3, i+1)\n",
        "    sns.boxplot(y=df[col], color='green')\n",
        "    plt.title(f'Boxplot de {col}')\n"
      ]
    },
    {
      "cell_type": "markdown",
      "metadata": {
        "id": "t9jIceOn1ALt"
      },
      "source": [
        "Os boxplots confirmam o mesmo comportamento observado nas análises estatísticas e nos histogramas. No entanto, eles também revelam que, mesmo após o tratamento de outliers, ainda existem dados que ultrapassam os limites do whisker superior. Isso pode ser explicado pelo uso de diversos métodos diferentes para a remoção de outliers, além da criação de colunas auxiliares que foram posteriormente descartadas."
      ]
    },
    {
      "cell_type": "markdown",
      "metadata": {
        "id": "xU8HGvm90jJp"
      },
      "source": [
        "#### **Variáveis categóricas**"
      ]
    },
    {
      "cell_type": "code",
      "execution_count": null,
      "metadata": {
        "id": "X5FTvOVa3-lE"
      },
      "outputs": [],
      "source": [
        "def plot_bar_chart(column_list, title):\n",
        "    # Soma dos valores para cada coluna categórica\n",
        "    df_temp = df[column_list].sum().reset_index()\n",
        "    df_temp.columns = ['Category', 'Count']\n",
        "\n",
        "    # Ordena por contagem\n",
        "    df_temp = df_temp.sort_values(by='Count', ascending=False)\n",
        "\n",
        "    plt.figure(figsize=(10, 6))\n",
        "    barplot = sns.barplot(x='Count', y='Category', data=df_temp, palette='viridis')\n",
        "    plt.title(title)\n",
        "    plt.xlabel('Count')\n",
        "    plt.ylabel('Category')\n",
        "\n",
        "    # Adiciona rótulos nas barras\n",
        "    for index, value in enumerate(df_temp['Count']):\n",
        "        barplot.text(value, index, str(value), color='black', ha=\"left\")\n",
        "\n",
        "    plt.show()"
      ]
    },
    {
      "cell_type": "code",
      "execution_count": null,
      "metadata": {
        "colab": {
          "base_uri": "https://localhost:8080/",
          "height": 1000
        },
        "id": "ZDlNozZy4_hu",
        "outputId": "8ca36f48-b939-4f40-8ffe-dadc3f144937"
      },
      "outputs": [
        {
          "name": "stderr",
          "output_type": "stream",
          "text": [
            "C:\\Users\\Thiago\\AppData\\Local\\Temp/ipykernel_7812/4023038545.py:10: FutureWarning: \n",
            "\n",
            "Passing `palette` without assigning `hue` is deprecated and will be removed in v0.14.0. Assign the `y` variable to `hue` and set `legend=False` for the same effect.\n",
            "\n",
            "  barplot = sns.barplot(x='Count', y='Category', data=df_temp, palette='viridis')\n"
          ]
        },
        {
          "data": {
            "image/png": "[encoded data removed]",
            "text/plain": [
              "<Figure size 720x432 with 1 Axes>"
            ]
          },
          "metadata": {
            "needs_background": "light"
          },
          "output_type": "display_data"
        },
        {
          "name": "stderr",
          "output_type": "stream",
          "text": [
            "C:\\Users\\Thiago\\AppData\\Local\\Temp/ipykernel_7812/4023038545.py:10: FutureWarning: \n",
            "\n",
            "Passing `palette` without assigning `hue` is deprecated and will be removed in v0.14.0. Assign the `y` variable to `hue` and set `legend=False` for the same effect.\n",
            "\n",
            "  barplot = sns.barplot(x='Count', y='Category', data=df_temp, palette='viridis')\n"
          ]
        },
        {
          "data": {
            "image/png": "[encoded data removed]",
            "text/plain": [
              "<Figure size 720x432 with 1 Axes>"
            ]
          },
          "metadata": {
            "needs_background": "light"
          },
          "output_type": "display_data"
        },
        {
          "name": "stderr",
          "output_type": "stream",
          "text": [
            "C:\\Users\\Thiago\\AppData\\Local\\Temp/ipykernel_7812/4023038545.py:10: FutureWarning: \n",
            "\n",
            "Passing `palette` without assigning `hue` is deprecated and will be removed in v0.14.0. Assign the `y` variable to `hue` and set `legend=False` for the same effect.\n",
            "\n",
            "  barplot = sns.barplot(x='Count', y='Category', data=df_temp, palette='viridis')\n"
          ]
        },
        {
          "data": {
            "image/png": "[encoded data removed]",
            "text/plain": [
              "<Figure size 720x432 with 1 Axes>"
            ]
          },
          "metadata": {
            "needs_background": "light"
          },
          "output_type": "display_data"
        }
      ],
      "source": [
        "# Plotando gráficos de barras para cada grupo de colunas categóricas\n",
        "plot_bar_chart(release_year_columns, 'Release Year Distribution')\n",
        "plot_bar_chart(streaming_services_columns, 'Streaming Services Distribution')\n",
        "plot_bar_chart(genres_columns, 'Genres Distribution')"
      ]
    },
    {
      "cell_type": "code",
      "execution_count": null,
      "metadata": {
        "colab": {
          "base_uri": "https://localhost:8080/",
          "height": 671
        },
        "id": "377VbblB5AQK",
        "outputId": "290f7b99-6123-4458-dc10-1f2b4d1b1946"
      },
      "outputs": [
        {
          "name": "stderr",
          "output_type": "stream",
          "text": [
            "C:\\Users\\Thiago\\AppData\\Local\\Temp/ipykernel_7812/115197405.py:3: FutureWarning: \n",
            "\n",
            "Passing `palette` without assigning `hue` is deprecated and will be removed in v0.14.0. Assign the `x` variable to `hue` and set `legend=False` for the same effect.\n",
            "\n",
            "  barplot = sns.countplot(x='5_star_score', data=df, palette='viridis')\n"
          ]
        },
        {
          "data": {
            "image/png": "[encoded data removed]",
            "text/plain": [
              "<Figure size 720x432 with 1 Axes>"
            ]
          },
          "metadata": {
            "needs_background": "light"
          },
          "output_type": "display_data"
        }
      ],
      "source": [
        "# Para a variável 5_star_score que não passou por one hot encoding\n",
        "plt.figure(figsize=(10, 6))\n",
        "barplot = sns.countplot(x='5_star_score', data=df, palette='viridis')\n",
        "plt.title('5 Star Score Distribution')\n",
        "plt.xlabel('5 Star Score')\n",
        "plt.ylabel('Count')\n",
        "\n",
        "# Adiciona rótulos nas barras\n",
        "for p in barplot.patches:\n",
        "    barplot.annotate(format(p.get_height(), '.0f'),\n",
        "                     (p.get_x() + p.get_width() / 2., p.get_height()),\n",
        "                     ha = 'center', va = 'center',\n",
        "                     xytext = (0, 9),\n",
        "                     textcoords = 'offset points')\n",
        "\n",
        "plt.show()"
      ]
    },
    {
      "cell_type": "markdown",
      "metadata": {
        "id": "KD5kCuHY8szE"
      },
      "source": [
        "A análise dos gráficos de frequência dos filmes no dataset revela algumas tendências interessantes. Primeiramente, observamos que a maioria dos filmes foi lançada entre 2011 e 2015 (release_year_13). Além disso, é notável que a maioria desses filmes está disponível na plataforma de streaming \"Amazon Prime\", enquanto a presença na Netflix é menor. Uma hipótese para essa disparidade é que a Netflix pode estar priorizando um catálogo mais robusto de filmes originais e produções em alta demanda.\n",
        "\n",
        "Também vale destacar que os gêneros mais comuns entre os filmes do dataset são drama, comédia, thriller e ação, que são, de fato, gêneros populares na cultura cinematográfica.\n",
        "\n",
        "Outro ponto interessante é a distribuição das avaliações dos filmes. A maioria recebeu pontuações consideradas boas (5 star score = 4) ou medianas (5 star score = 3). Curiosamente, não há registros de filmes com avaliações extremamente baixas (1) e apenas alguns com classificações ruins (2) ou excelentes (5)."
      ]
    },
    {
      "cell_type": "markdown",
      "metadata": {
        "id": "XYyfGesJJmdQ"
      },
      "source": [
        "### Estatísticas bivariadas"
      ]
    },
    {
      "cell_type": "markdown",
      "metadata": {
        "id": "FPkKXChb-1yr"
      },
      "source": [
        "#### **Variáveis numéricas x Variáveis numéricas**"
      ]
    },
    {
      "cell_type": "markdown",
      "metadata": {
        "id": "f3Pke3EfJmdR"
      },
      "source": [
        "Para analisar as relações entre as variáveis numéricas, iremos calcular a correlação entre elas. Embora a distribuição de algumas características não seja a normal, utilizaremos o método de Pearson para essa análise."
      ]
    },
    {
      "cell_type": "code",
      "execution_count": null,
      "metadata": {
        "colab": {
          "base_uri": "https://localhost:8080/",
          "height": 143
        },
        "id": "D7-CNFv5JmdR",
        "outputId": "c674d7ee-d41c-4c58-ee7f-c5b2c16da496"
      },
      "outputs": [
        {
          "data": {
            "text/html": [
              "<div>\n",
              "<style scoped>\n",
              "    .dataframe tbody tr th:only-of-type {\n",
              "        vertical-align: middle;\n",
              "    }\n",
              "\n",
              "    .dataframe tbody tr th {\n",
              "        vertical-align: top;\n",
              "    }\n",
              "\n",
              "    .dataframe thead th {\n",
              "        text-align: right;\n",
              "    }\n",
              "</style>\n",
              "<table border=\"1\" class=\"dataframe\">\n",
              "  <thead>\n",
              "    <tr style=\"text-align: right;\">\n",
              "      <th></th>\n",
              "      <th>popularity</th>\n",
              "      <th>vote_average</th>\n",
              "      <th>vote_count</th>\n",
              "    </tr>\n",
              "  </thead>\n",
              "  <tbody>\n",
              "    <tr>\n",
              "      <th>popularity</th>\n",
              "      <td>1.000000</td>\n",
              "      <td>0.210675</td>\n",
              "      <td>0.804878</td>\n",
              "    </tr>\n",
              "    <tr>\n",
              "      <th>vote_average</th>\n",
              "      <td>0.210675</td>\n",
              "      <td>1.000000</td>\n",
              "      <td>0.238154</td>\n",
              "    </tr>\n",
              "    <tr>\n",
              "      <th>vote_count</th>\n",
              "      <td>0.804878</td>\n",
              "      <td>0.238154</td>\n",
              "      <td>1.000000</td>\n",
              "    </tr>\n",
              "  </tbody>\n",
              "</table>\n",
              "</div>"
            ],
            "text/plain": [
              "              popularity  vote_average  vote_count\n",
              "popularity      1.000000      0.210675    0.804878\n",
              "vote_average    0.210675      1.000000    0.238154\n",
              "vote_count      0.804878      0.238154    1.000000"
            ]
          },
          "execution_count": 86,
          "metadata": {},
          "output_type": "execute_result"
        }
      ],
      "source": [
        "correlation_matrix = df[numerical_features].corr(method='pearson')\n",
        "correlation_matrix"
      ]
    },
    {
      "cell_type": "code",
      "execution_count": null,
      "metadata": {
        "colab": {
          "base_uri": "https://localhost:8080/",
          "height": 699
        },
        "id": "2LR7hUktE3hr",
        "outputId": "e73d0417-a1e2-481c-ed58-7c8aef5516cc"
      },
      "outputs": [
        {
          "data": {
            "image/png": "[encoded data removed]",
            "text/plain": [
              "<Figure size 864x576 with 2 Axes>"
            ]
          },
          "metadata": {
            "needs_background": "light"
          },
          "output_type": "display_data"
        }
      ],
      "source": [
        "# Plota heatmap de correlação\n",
        "plt.figure(figsize=(12, 8))\n",
        "sns.heatmap(correlation_matrix, annot=True, cmap='coolwarm', fmt=\".2f\")\n",
        "plt.title('Matriz de Correlação')\n",
        "plt.show()"
      ]
    },
    {
      "cell_type": "markdown",
      "metadata": {
        "id": "6Wq84UeyJmdS"
      },
      "source": [
        "Como mencionado anteriormente, as variáveis **vote_count** e **popularity** apresentam uma forte correlação. Portanto, para evitar problemas de colinearidade nos modelos, devemos posteriormente remover uma dessas colunas antes de passar os dados para o treinamento.\n",
        "\n",
        "Agora, faremos novamente um gráfico de dispersão para visualizar essa correlação entre **vote_count** e **popularity**, e compará-la com a correlação entre **popularity** e **vote_average**, que é baixa."
      ]
    },
    {
      "cell_type": "code",
      "execution_count": null,
      "metadata": {
        "id": "fOUMPjxlJmdS",
        "outputId": "74cc3bbe-d466-418b-a41b-60cb57ec9ca2"
      },
      "outputs": [
        {
          "data": {
            "text/plain": [
              "Text(0.5, 1.0, 'Scatter Plot entre Quantidade de votos e Popularidade')"
            ]
          },
          "execution_count": 88,
          "metadata": {},
          "output_type": "execute_result"
        },
        {
          "data": {
            "image/png": "[encoded data removed]",
            "text/plain": [
              "<Figure size 720x432 with 1 Axes>"
            ]
          },
          "metadata": {
            "needs_background": "light"
          },
          "output_type": "display_data"
        }
      ],
      "source": [
        "# scatter plot entre vote_count e popularity\n",
        "df.plot.scatter(x='vote_count', y='popularity', color='green', figsize=(10, 6))\n",
        "plt.title('Scatter Plot entre Quantidade de votos e Popularidade')"
      ]
    },
    {
      "cell_type": "code",
      "execution_count": null,
      "metadata": {
        "id": "FsBDKwIDJmdU",
        "outputId": "cbc2b5a1-7dc2-42af-a01f-aa0dffcb7256"
      },
      "outputs": [
        {
          "data": {
            "text/plain": [
              "Text(0.5, 1.0, 'Scatter Plot entre Média de votos e Popularidade')"
            ]
          },
          "execution_count": 89,
          "metadata": {},
          "output_type": "execute_result"
        },
        {
          "data": {
            "image/png": "[encoded data removed]",
            "text/plain": [
              "<Figure size 720x432 with 1 Axes>"
            ]
          },
          "metadata": {
            "needs_background": "light"
          },
          "output_type": "display_data"
        }
      ],
      "source": [
        "# scatter plot entre vote_average e popularity\n",
        "df.plot.scatter(x='vote_average', y='popularity', color='green', figsize=(10, 6))\n",
        "plt.title('Scatter Plot entre Média de votos e Popularidade')"
      ]
    },
    {
      "cell_type": "markdown",
      "metadata": {
        "id": "0YDoai0MEzkE"
      },
      "source": [
        "Ao observar e comparar os gráficos, torna-se evidente a relação próxima à linearidade entre a quantidade de votos e a popularidade. Isso faz sentido, pois quanto mais pessoas decidem dar sua opinião sobre um filme, mais pessoas o assistiram, aumentando assim sua popularidade."
      ]
    },
    {
      "cell_type": "markdown",
      "metadata": {
        "id": "7gvNoT76CujU"
      },
      "source": [
        "#### **Variáveis categóricas x Variáveis categóricas**"
      ]
    },
    {
      "cell_type": "markdown",
      "metadata": {
        "id": "BZ73eSJuCujU"
      },
      "source": [
        "Vamos fazer a análise bivariada entre duas variáveis categóricas. Devido à aplicação prévia do método de codificação one-hot, é necessário reestruturar os dados para facilitar esta análise. Para isso, utilizaremos a função melt, que nos permitirá transformar o dataframe de um formato largo para um formato longo, agrupando as variáveis categóricas codificadas de volta à sua forma original. Esse passo é essencial para uma análise bivariada eficaz entre as variáveis categóricas em questão."
      ]
    },
    {
      "cell_type": "markdown",
      "metadata": {
        "id": "pJANMLOeCujU"
      },
      "source": [
        "**Release Year x Streaming Services**"
      ]
    },
    {
      "cell_type": "code",
      "execution_count": null,
      "metadata": {
        "id": "NToLEbcsCujU",
        "outputId": "c4c1c035-d7f0-4ba4-f592-5ca5e12aa946"
      },
      "outputs": [
        {
          "data": {
            "image/png": "[encoded data removed]",
            "text/plain": [
              "<Figure size 720x432 with 2 Axes>"
            ]
          },
          "metadata": {
            "needs_background": "light"
          },
          "output_type": "display_data"
        }
      ],
      "source": [
        "# Reshape do DataFrame para long format\n",
        "df_long = df.melt(id_vars=streaming_services_columns, value_vars=release_year_columns,\n",
        "                  var_name='release_year', value_name='is_released')\n",
        "\n",
        "# Filtra apenas os filmes lançados\n",
        "df_long = df_long[df_long['is_released'] == 1]\n",
        "\n",
        "# Remove a coluna 'is_released'\n",
        "df_long = df_long.drop(columns=['is_released'])\n",
        "\n",
        "# Conta o número de filmes por ano e por plataforma\n",
        "result = df_long.melt(id_vars=['release_year'], value_vars=streaming_services_columns,\n",
        "                      var_name='platform', value_name='is_available')\n",
        "\n",
        "# Filtra apenas onde o filme está disponível\n",
        "result = result[result['is_available'] == 1]\n",
        "\n",
        "# Conta o número de filmes por ano e por plataforma\n",
        "final_result = result.groupby(['release_year', 'platform']).size().unstack(fill_value=0)\n",
        "final_result = final_result.reindex(sorted(final_result.index, key=lambda x: int(x.split('_')[2])))\n",
        "\n",
        "\n",
        "# Plota o heatmap\n",
        "plt.figure(figsize=(10, 6))\n",
        "ax = sns.heatmap(final_result, annot=True, fmt=\"d\", cmap=\"viridis\")\n",
        "plt.title(\"Número de Filmes por Ano de Lançamento e Plataforma de Streaming\")\n",
        "plt.xlabel(\"Plataforma de Streaming\")\n",
        "plt.ylabel(\"Ano de Lançamento\")\n",
        "y_labels = final_result.index\n",
        "new_y_labels = [(1960 + int(label.split('_')[2]) * 4) for label in y_labels]\n",
        "new_y_labels = [f\"{start_year} - {start_year + 3}\" for start_year in new_y_labels]\n",
        "\n",
        "ax.set_yticklabels(new_y_labels)\n",
        "plt.show()"
      ]
    },
    {
      "cell_type": "markdown",
      "metadata": {
        "id": "ntlMAMhECujV"
      },
      "source": [
        "Analisando o heatmap que relaciona as variáveis `release_year` e `streaming_service`, podemos observar que a combinação com o maior número de filmes ocorre no último intervalo de anos de lançamento (2012-2015) na Amazon Prime Video. Essa descoberta está em consonância com as análises anteriores, que indicaram que essas duas categorias têm a maior quantidade de amostras."
      ]
    },
    {
      "cell_type": "markdown",
      "metadata": {
        "id": "XwElIT6gFpqz"
      },
      "source": [
        "**Release Year x Genres**"
      ]
    },
    {
      "cell_type": "code",
      "execution_count": null,
      "metadata": {
        "id": "AOcTr5-wCujV",
        "outputId": "4794fc99-8679-4bbc-96e4-6810092ba8b0"
      },
      "outputs": [
        {
          "data": {
            "image/png": "[encoded data removed]",
            "text/plain": [
              "<Figure size 720x432 with 2 Axes>"
            ]
          },
          "metadata": {
            "needs_background": "light"
          },
          "output_type": "display_data"
        }
      ],
      "source": [
        "# Reshape do DataFrame para long format\n",
        "df_long = df.melt(id_vars=genres_columns, value_vars=release_year_columns,\n",
        "                  var_name='release_year', value_name='is_released')\n",
        "\n",
        "# Filtra apenas os filmes lançados\n",
        "df_long = df_long[df_long['is_released'] == 1]\n",
        "\n",
        "# Remove a coluna 'is_released'\n",
        "df_long = df_long.drop(columns=['is_released'])\n",
        "\n",
        "# Conta o número de filmes por ano e por gênero\n",
        "result = df_long.melt(id_vars=['release_year'], value_vars=genres_columns,\n",
        "                      var_name='genre', value_name='is_available')\n",
        "\n",
        "# Filtra apenas onde o filme está disponível\n",
        "result = result[result['is_available'] == 1]\n",
        "\n",
        "# Conta o número de filmes por ano e por gênero\n",
        "final_result = result.groupby(['release_year', 'genre']).size().unstack(fill_value=0)\n",
        "final_result = final_result.reindex(sorted(final_result.index, key=lambda x: int(x.split('_')[2])))\n",
        "\n",
        "\n",
        "# Plota o heatmap\n",
        "plt.figure(figsize=(10, 6))\n",
        "ax = sns.heatmap(final_result, annot=True, fmt=\"d\", cmap=\"viridis\")\n",
        "plt.title(\"Número de Filmes por Ano de Lançamento e Genêro do Filme\")\n",
        "plt.xlabel(\"Genêro do Filme\")\n",
        "plt.ylabel(\"Ano de Lançamento\")\n",
        "y_labels = final_result.index\n",
        "new_y_labels = [(1960 + int(label.split('_')[2]) * 4) for label in y_labels]\n",
        "new_y_labels = [f\"{start_year} - {start_year + 3}\" for start_year in new_y_labels]\n",
        "\n",
        "ax.set_yticklabels(new_y_labels)\n",
        "plt.show()"
      ]
    },
    {
      "cell_type": "markdown",
      "metadata": {
        "id": "gpUmRFXJCujV"
      },
      "source": [
        "Conforme observado no heatmap acima, em todos os anos, a quantidade de filmes do gênero `Drama` foi superior à dos outros gêneros, seguida por `Comedy` e `Thriller`."
      ]
    },
    {
      "cell_type": "markdown",
      "metadata": {
        "id": "zrBJDgjzJmdU"
      },
      "source": [
        "## Teste de Hipóteses"
      ]
    },
    {
      "cell_type": "markdown",
      "metadata": {
        "id": "c2B1SewKJmdV"
      },
      "source": [
        "Para o nosso teste de hipótese, vamos verificar se a popularidade dos filmes é influenciada pelo fato de estar disponível na Amazon Prime Video ou não. Para isso, vamos realizar um teste de hipótese de duas amostras independentes, onde a hipótese nula é que a popularidade dos filmes disponíveis na Amazon Prime Video é igual à popularidade dos filmes que não estão disponíveis na Amazon Prime Video."
      ]
    },
    {
      "cell_type": "code",
      "execution_count": null,
      "metadata": {
        "id": "gukHp-7KJmdV",
        "outputId": "88ec6332-f13b-4ccc-8127-64ea58d1e161"
      },
      "outputs": [
        {
          "name": "stdout",
          "output_type": "stream",
          "text": [
            "Estatísticas de Popularidade para filmes que não estão na Amazon Prime Video:\n",
            "count    8987.000000\n",
            "mean        0.128860\n",
            "std         0.142021\n",
            "min         0.000000\n",
            "25%         0.041993\n",
            "50%         0.081833\n",
            "75%         0.158057\n",
            "max         1.000000\n",
            "Name: popularity, dtype: float64\n",
            "\n",
            "Estatísticas de Popularidade para filmes que estão na Amazon Prime Video:\n",
            "count    1219.000000\n",
            "mean        0.104189\n",
            "std         0.112804\n",
            "min         0.000366\n",
            "25%         0.039236\n",
            "50%         0.070888\n",
            "75%         0.123106\n",
            "max         0.959942\n",
            "Name: popularity, dtype: float64\n"
          ]
        }
      ],
      "source": [
        "# vamos comparar a popularidade entre os filmes que estão na Amazon Prime Video e os filmes que não estão\n",
        "print('Estatísticas de Popularidade para filmes que não estão na Amazon Prime Video:')\n",
        "print(df[df['Amazon Prime Video'] == 0]['popularity'].describe())\n",
        "\n",
        "print('\\nEstatísticas de Popularidade para filmes que estão na Amazon Prime Video:')\n",
        "print(df[df['Amazon Prime Video'] == 1]['popularity'].describe())\n",
        "\n"
      ]
    },
    {
      "cell_type": "code",
      "execution_count": null,
      "metadata": {
        "id": "aZN8rnbdJmdW",
        "outputId": "9d595382-c032-4fd2-a545-29a7182a0b62"
      },
      "outputs": [
        {
          "data": {
            "text/plain": [
              "([<matplotlib.axis.XTick at 0x1bf37281cc0>,\n",
              "  <matplotlib.axis.XTick at 0x1bf37281c00>],\n",
              " [Text(0, 0, 'Não'), Text(1, 0, 'Sim')])"
            ]
          },
          "execution_count": 93,
          "metadata": {},
          "output_type": "execute_result"
        },
        {
          "data": {
            "image/png": "[encoded data removed]",
            "text/plain": [
              "<Figure size 720x432 with 1 Axes>"
            ]
          },
          "metadata": {
            "needs_background": "light"
          },
          "output_type": "display_data"
        }
      ],
      "source": [
        "# box plot para a popularidade\n",
        "plt.figure(figsize=(10, 6))\n",
        "sns.boxplot(x='Amazon Prime Video', y='popularity', data=df)\n",
        "plt.title('Popularidade dos Filmes na Amazon Prime Video')\n",
        "plt.xticks(ticks=[0, 1], labels=['Não', 'Sim'])"
      ]
    },
    {
      "cell_type": "markdown",
      "metadata": {
        "id": "MJXsmesVJmdX"
      },
      "source": [
        "Precisamos agora saber se os dados seguem uma distribuiçao normal ou não para saber qual método usar para testar a hipótese."
      ]
    },
    {
      "cell_type": "code",
      "execution_count": null,
      "metadata": {
        "id": "CkZ6hAb4JmdX",
        "outputId": "2c6b07bf-3c25-4eee-83b3-4248109a8e7d"
      },
      "outputs": [
        {
          "data": {
            "text/plain": [
              "<Axes: >"
            ]
          },
          "execution_count": 94,
          "metadata": {},
          "output_type": "execute_result"
        },
        {
          "data": {
            "image/png": "[encoded data removed]",
            "text/plain": [
              "<Figure size 432x288 with 1 Axes>"
            ]
          },
          "metadata": {
            "needs_background": "light"
          },
          "output_type": "display_data"
        }
      ],
      "source": [
        "df[df['Amazon Prime Video'] == 0]['popularity'].hist(bins=100)"
      ]
    },
    {
      "cell_type": "markdown",
      "metadata": {
        "id": "MkJKbitiJmdY"
      },
      "source": [
        "Como os dados não estão seguindo uma distribuição normal, e estamos comparando 2 grupos não pareados, iremos usar o método Mann-Whitney para realizar o nosso teste de hipótese.\n",
        "- _Hipótese nula_: as distribuições de popularidade são iguais para os filmes que estão na Amazon Prime Video.\n",
        "- Consideraremos o nível de confiança em 5%"
      ]
    },
    {
      "cell_type": "code",
      "execution_count": null,
      "metadata": {
        "id": "Jf-xOXYqJmdZ",
        "outputId": "aa93fa5c-5cc2-4e97-fdbf-17d515837c91"
      },
      "outputs": [
        {
          "name": "stdout",
          "output_type": "stream",
          "text": [
            "Estatística de teste: 5956816.5\n",
            "p-valor: 6.884002847919747e-07\n",
            "Rejeitamos a hipótese nula\n"
          ]
        }
      ],
      "source": [
        "# teste de hipótese com Mann-Whitney\n",
        "from scipy.stats import mannwhitneyu\n",
        "\n",
        "stat, p = mannwhitneyu(df[df['Amazon Prime Video'] == 0]['popularity'], df[df['Amazon Prime Video'] == 1]['popularity'])\n",
        "print('Estatística de teste:', stat)\n",
        "print('p-valor:', p)\n",
        "\n",
        "if (p < 0.05):\n",
        "    print('Rejeitamos a hipótese nula')\n"
      ]
    },
    {
      "cell_type": "markdown",
      "metadata": {
        "id": "RiBfWlmZJmda"
      },
      "source": [
        "Como o p-value foi `8.160645304779653e-07`, menor que `0.05`, rejeitamos a hipótese nula de que as distribuições são iguais. Ou seja, os filmes que estão na Amazon Prime Video, tem uma popularidade inferior ao filmes que não estão nessa plataforma."
      ]
    }
  ],
  "metadata": {
    "colab": {
      "provenance": []
    },
    "kernelspec": {
      "display_name": "Python 3",
      "name": "python3"
    },
    "language_info": {
      "codemirror_mode": {
        "name": "ipython",
        "version": 3
      },
      "file_extension": ".py",
      "mimetype": "text/x-python",
      "name": "python",
      "nbconvert_exporter": "python",
      "pygments_lexer": "ipython3",
      "version": "3.10.0"
    }
  },
  "nbformat": 4,
  "nbformat_minor": 0
}
