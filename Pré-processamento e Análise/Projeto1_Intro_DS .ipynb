{
  "cells": [
    {
      "cell_type": "markdown",
      "metadata": {
        "id": "7avPWzT6NYSa"
      },
      "source": [
        "Grupo:\n",
        "- Beatriz de Araújo Andrade (baa)\n",
        "- Thiago de Souza Farias (tsf)"
      ]
    },
    {
      "cell_type": "markdown",
      "metadata": {
        "id": "1N3vOiAueHds"
      },
      "source": [
        "## Descrição do Projeto"
      ]
    },
    {
      "cell_type": "markdown",
      "metadata": {
        "id": "O5siQyOwk4qK"
      },
      "source": [
        "Este projeto tem como objetivo analisar a relação entre diversas informações sobre filmes, visando entender melhor os padrões e tendências dentro da indústria cinematográfica. O conjunto de dados examinado contém informações detalhadas sobre os filmes, como popularidade, gênero, orçamento, receita, votos, data de lançamento e duração.\n",
        "\n",
        "Para enriquecer nossa análise, utilizamos a API do JustWatch para coletar os nomes das plataformas de streaming que disponibilizam cada filme, integrando essa informação ao dataset para uma análise posterior.\n",
        "\n",
        "O projeto está dividido em etapas distintas:\n",
        "\n",
        "1. **Coleta de Dados:** Inicialmente, coletamos os nomes das plataformas de streaming que disponibilizam cada filme, utilizando a API do JustWatch. (outro notebook), integrando-os ao dataset do TMDB.\n",
        "\n",
        "2. **Pré-processamento dos Dados:** Nesta etapa, realizamos diversas tarefas de preparação dos dados, como definição dos tipos de dados, tratamento de dados ausentes, normalização e discretização, e limpeza de dados univariada, bivariada e multivariada.\n",
        "\n",
        "3. **Análise Descritiva:** Apresentamos estatísticas descritivas dos dados por meio de visualizações, proporcionando insights sobre as características e distribuições das variáveis analisadas.\n",
        "\n",
        "4. **Teste de Hipóteses:** Realizamos testes de hipóteses para comparar valores de categorias e visualizar diferenças significativas entre os grupos analisados, ajudando a confirmar ou refutar suposições sobre as relações entre as variáveis.\n",
        "\n",
        "Este projeto visa fornecer uma compreensão mais profunda das dinâmicas presentes na indústria cinematográfica, explorando como diferentes variáveis estão inter-relacionadas e contribuem para o sucesso e recepção dos filmes."
      ]
    },
    {
      "cell_type": "markdown",
      "metadata": {
        "id": "vaEzeBNfLlGu"
      },
      "source": [
        "## Preparação do Ambiente e Carregamento dos dados"
      ]
    },
    {
      "cell_type": "code",
      "execution_count": 1,
      "metadata": {
        "id": "mKIuavCHLYNA"
      },
      "outputs": [],
      "source": [
        "import pandas as pd\n",
        "import ast\n",
        "import numpy as np\n",
        "from sklearn.model_selection import train_test_split\n",
        "from sklearn.ensemble import RandomForestClassifier\n",
        "from sklearn.preprocessing import MultiLabelBinarizer\n",
        "from sklearn.multioutput import MultiOutputClassifier\n",
        "from sklearn.pipeline import Pipeline\n",
        "from sklearn.preprocessing import MinMaxScaler\n",
        "from sklearn.compose import ColumnTransformer\n",
        "from sklearn.impute import SimpleImputer\n",
        "from matplotlib import pyplot as plt\n",
        "import seaborn as sns"
      ]
    },
    {
      "cell_type": "code",
      "execution_count": 2,
      "metadata": {
        "id": "fHDa2OYiLr25"
      },
      "outputs": [],
      "source": [
        "df = pd.read_csv('../Datasets/movies_with_streamings.csv')"
      ]
    },
    {
      "cell_type": "markdown",
      "metadata": {
        "id": "BjdIl_RmNA_7"
      },
      "source": [
        "## Contextualização dos dados"
      ]
    },
    {
      "cell_type": "code",
      "execution_count": 3,
      "metadata": {
        "colab": {
          "base_uri": "https://localhost:8080/"
        },
        "id": "NfVYmd8DNG-4",
        "outputId": "d1c51f82-b17c-403d-d056-123603145c23"
      },
      "outputs": [
        {
          "data": {
            "text/plain": [
              "(10866, 22)"
            ]
          },
          "execution_count": 3,
          "metadata": {},
          "output_type": "execute_result"
        }
      ],
      "source": [
        "df.shape"
      ]
    },
    {
      "cell_type": "code",
      "execution_count": 4,
      "metadata": {
        "colab": {
          "base_uri": "https://localhost:8080/",
          "height": 0
        },
        "id": "7kRJYFEjUnty",
        "outputId": "ce080970-bb5a-4db5-ea1e-7ca3f8b2f8e5"
      },
      "outputs": [
        {
          "data": {
            "text/html": [
              "<div>\n",
              "<style scoped>\n",
              "    .dataframe tbody tr th:only-of-type {\n",
              "        vertical-align: middle;\n",
              "    }\n",
              "\n",
              "    .dataframe tbody tr th {\n",
              "        vertical-align: top;\n",
              "    }\n",
              "\n",
              "    .dataframe thead th {\n",
              "        text-align: right;\n",
              "    }\n",
              "</style>\n",
              "<table border=\"1\" class=\"dataframe\">\n",
              "  <thead>\n",
              "    <tr style=\"text-align: right;\">\n",
              "      <th></th>\n",
              "      <th>id</th>\n",
              "      <th>imdb_id</th>\n",
              "      <th>popularity</th>\n",
              "      <th>budget</th>\n",
              "      <th>revenue</th>\n",
              "      <th>original_title</th>\n",
              "      <th>cast</th>\n",
              "      <th>homepage</th>\n",
              "      <th>director</th>\n",
              "      <th>tagline</th>\n",
              "      <th>...</th>\n",
              "      <th>runtime</th>\n",
              "      <th>genres</th>\n",
              "      <th>production_companies</th>\n",
              "      <th>release_date</th>\n",
              "      <th>vote_count</th>\n",
              "      <th>vote_average</th>\n",
              "      <th>release_year</th>\n",
              "      <th>budget_adj</th>\n",
              "      <th>revenue_adj</th>\n",
              "      <th>streaming_services</th>\n",
              "    </tr>\n",
              "  </thead>\n",
              "  <tbody>\n",
              "    <tr>\n",
              "      <th>0</th>\n",
              "      <td>135397</td>\n",
              "      <td>tt0369610</td>\n",
              "      <td>32.985763</td>\n",
              "      <td>150000000</td>\n",
              "      <td>1513528810</td>\n",
              "      <td>Jurassic World</td>\n",
              "      <td>Chris Pratt|Bryce Dallas Howard|Irrfan Khan|Vi...</td>\n",
              "      <td>http://www.jurassicworld.com/</td>\n",
              "      <td>Colin Trevorrow</td>\n",
              "      <td>The park is open.</td>\n",
              "      <td>...</td>\n",
              "      <td>124</td>\n",
              "      <td>Action|Adventure|Science Fiction|Thriller</td>\n",
              "      <td>Universal Studios|Amblin Entertainment|Legenda...</td>\n",
              "      <td>6/9/15</td>\n",
              "      <td>5562</td>\n",
              "      <td>6.5</td>\n",
              "      <td>2015</td>\n",
              "      <td>1.379999e+08</td>\n",
              "      <td>1.392446e+09</td>\n",
              "      <td>['Apple TV', 'Max', 'Google Play Movies', 'Max...</td>\n",
              "    </tr>\n",
              "    <tr>\n",
              "      <th>1</th>\n",
              "      <td>76341</td>\n",
              "      <td>tt1392190</td>\n",
              "      <td>28.419936</td>\n",
              "      <td>150000000</td>\n",
              "      <td>378436354</td>\n",
              "      <td>Mad Max: Fury Road</td>\n",
              "      <td>Tom Hardy|Charlize Theron|Hugh Keays-Byrne|Nic...</td>\n",
              "      <td>http://www.madmaxmovie.com/</td>\n",
              "      <td>George Miller</td>\n",
              "      <td>What a Lovely Day.</td>\n",
              "      <td>...</td>\n",
              "      <td>120</td>\n",
              "      <td>Action|Adventure|Science Fiction|Thriller</td>\n",
              "      <td>Village Roadshow Pictures|Kennedy Miller Produ...</td>\n",
              "      <td>5/13/15</td>\n",
              "      <td>6185</td>\n",
              "      <td>7.1</td>\n",
              "      <td>2015</td>\n",
              "      <td>1.379999e+08</td>\n",
              "      <td>3.481613e+08</td>\n",
              "      <td>['Apple TV', 'Max', 'TBS', 'tru TV', 'Google P...</td>\n",
              "    </tr>\n",
              "    <tr>\n",
              "      <th>2</th>\n",
              "      <td>262500</td>\n",
              "      <td>tt2908446</td>\n",
              "      <td>13.112507</td>\n",
              "      <td>110000000</td>\n",
              "      <td>295238201</td>\n",
              "      <td>Insurgent</td>\n",
              "      <td>Shailene Woodley|Theo James|Kate Winslet|Ansel...</td>\n",
              "      <td>http://www.thedivergentseries.movie/#insurgent</td>\n",
              "      <td>Robert Schwentke</td>\n",
              "      <td>One Choice Can Destroy You</td>\n",
              "      <td>...</td>\n",
              "      <td>119</td>\n",
              "      <td>Adventure|Science Fiction|Thriller</td>\n",
              "      <td>Summit Entertainment|Mandeville Films|Red Wago...</td>\n",
              "      <td>3/18/15</td>\n",
              "      <td>2480</td>\n",
              "      <td>6.3</td>\n",
              "      <td>2015</td>\n",
              "      <td>1.012000e+08</td>\n",
              "      <td>2.716190e+08</td>\n",
              "      <td>['Apple TV', 'Hulu', 'Google Play Movies', 'Mi...</td>\n",
              "    </tr>\n",
              "    <tr>\n",
              "      <th>3</th>\n",
              "      <td>140607</td>\n",
              "      <td>tt2488496</td>\n",
              "      <td>11.173104</td>\n",
              "      <td>200000000</td>\n",
              "      <td>2068178225</td>\n",
              "      <td>Star Wars: The Force Awakens</td>\n",
              "      <td>Harrison Ford|Mark Hamill|Carrie Fisher|Adam D...</td>\n",
              "      <td>http://www.starwars.com/films/star-wars-episod...</td>\n",
              "      <td>J.J. Abrams</td>\n",
              "      <td>Every generation has a story.</td>\n",
              "      <td>...</td>\n",
              "      <td>136</td>\n",
              "      <td>Action|Adventure|Science Fiction|Fantasy</td>\n",
              "      <td>Lucasfilm|Truenorth Productions|Bad Robot</td>\n",
              "      <td>12/15/15</td>\n",
              "      <td>5292</td>\n",
              "      <td>7.5</td>\n",
              "      <td>2015</td>\n",
              "      <td>1.839999e+08</td>\n",
              "      <td>1.902723e+09</td>\n",
              "      <td>['fuboTV', 'Apple TV', 'TBS', 'FXNow', 'tru TV...</td>\n",
              "    </tr>\n",
              "    <tr>\n",
              "      <th>4</th>\n",
              "      <td>168259</td>\n",
              "      <td>tt2820852</td>\n",
              "      <td>9.335014</td>\n",
              "      <td>190000000</td>\n",
              "      <td>1506249360</td>\n",
              "      <td>Furious 7</td>\n",
              "      <td>Vin Diesel|Paul Walker|Jason Statham|Michelle ...</td>\n",
              "      <td>http://www.furious7.com/</td>\n",
              "      <td>James Wan</td>\n",
              "      <td>Vengeance Hits Home</td>\n",
              "      <td>...</td>\n",
              "      <td>137</td>\n",
              "      <td>Action|Crime|Thriller</td>\n",
              "      <td>Universal Pictures|Original Film|Media Rights ...</td>\n",
              "      <td>4/1/15</td>\n",
              "      <td>2947</td>\n",
              "      <td>7.3</td>\n",
              "      <td>2015</td>\n",
              "      <td>1.747999e+08</td>\n",
              "      <td>1.385749e+09</td>\n",
              "      <td>['Apple TV', 'Max', 'Google Play Movies', 'Max...</td>\n",
              "    </tr>\n",
              "  </tbody>\n",
              "</table>\n",
              "<p>5 rows × 22 columns</p>\n",
              "</div>"
            ],
            "text/plain": [
              "       id    imdb_id  popularity     budget     revenue  \\\n",
              "0  135397  tt0369610   32.985763  150000000  1513528810   \n",
              "1   76341  tt1392190   28.419936  150000000   378436354   \n",
              "2  262500  tt2908446   13.112507  110000000   295238201   \n",
              "3  140607  tt2488496   11.173104  200000000  2068178225   \n",
              "4  168259  tt2820852    9.335014  190000000  1506249360   \n",
              "\n",
              "                 original_title  \\\n",
              "0                Jurassic World   \n",
              "1            Mad Max: Fury Road   \n",
              "2                     Insurgent   \n",
              "3  Star Wars: The Force Awakens   \n",
              "4                     Furious 7   \n",
              "\n",
              "                                                cast  \\\n",
              "0  Chris Pratt|Bryce Dallas Howard|Irrfan Khan|Vi...   \n",
              "1  Tom Hardy|Charlize Theron|Hugh Keays-Byrne|Nic...   \n",
              "2  Shailene Woodley|Theo James|Kate Winslet|Ansel...   \n",
              "3  Harrison Ford|Mark Hamill|Carrie Fisher|Adam D...   \n",
              "4  Vin Diesel|Paul Walker|Jason Statham|Michelle ...   \n",
              "\n",
              "                                            homepage          director  \\\n",
              "0                      http://www.jurassicworld.com/   Colin Trevorrow   \n",
              "1                        http://www.madmaxmovie.com/     George Miller   \n",
              "2     http://www.thedivergentseries.movie/#insurgent  Robert Schwentke   \n",
              "3  http://www.starwars.com/films/star-wars-episod...       J.J. Abrams   \n",
              "4                           http://www.furious7.com/         James Wan   \n",
              "\n",
              "                         tagline  ... runtime  \\\n",
              "0              The park is open.  ...     124   \n",
              "1             What a Lovely Day.  ...     120   \n",
              "2     One Choice Can Destroy You  ...     119   \n",
              "3  Every generation has a story.  ...     136   \n",
              "4            Vengeance Hits Home  ...     137   \n",
              "\n",
              "                                      genres  \\\n",
              "0  Action|Adventure|Science Fiction|Thriller   \n",
              "1  Action|Adventure|Science Fiction|Thriller   \n",
              "2         Adventure|Science Fiction|Thriller   \n",
              "3   Action|Adventure|Science Fiction|Fantasy   \n",
              "4                      Action|Crime|Thriller   \n",
              "\n",
              "                                production_companies release_date vote_count  \\\n",
              "0  Universal Studios|Amblin Entertainment|Legenda...       6/9/15       5562   \n",
              "1  Village Roadshow Pictures|Kennedy Miller Produ...      5/13/15       6185   \n",
              "2  Summit Entertainment|Mandeville Films|Red Wago...      3/18/15       2480   \n",
              "3          Lucasfilm|Truenorth Productions|Bad Robot     12/15/15       5292   \n",
              "4  Universal Pictures|Original Film|Media Rights ...       4/1/15       2947   \n",
              "\n",
              "  vote_average  release_year    budget_adj   revenue_adj  \\\n",
              "0          6.5          2015  1.379999e+08  1.392446e+09   \n",
              "1          7.1          2015  1.379999e+08  3.481613e+08   \n",
              "2          6.3          2015  1.012000e+08  2.716190e+08   \n",
              "3          7.5          2015  1.839999e+08  1.902723e+09   \n",
              "4          7.3          2015  1.747999e+08  1.385749e+09   \n",
              "\n",
              "                                  streaming_services  \n",
              "0  ['Apple TV', 'Max', 'Google Play Movies', 'Max...  \n",
              "1  ['Apple TV', 'Max', 'TBS', 'tru TV', 'Google P...  \n",
              "2  ['Apple TV', 'Hulu', 'Google Play Movies', 'Mi...  \n",
              "3  ['fuboTV', 'Apple TV', 'TBS', 'FXNow', 'tru TV...  \n",
              "4  ['Apple TV', 'Max', 'Google Play Movies', 'Max...  \n",
              "\n",
              "[5 rows x 22 columns]"
            ]
          },
          "execution_count": 4,
          "metadata": {},
          "output_type": "execute_result"
        }
      ],
      "source": [
        "df.head()"
      ]
    },
    {
      "cell_type": "code",
      "execution_count": 5,
      "metadata": {
        "colab": {
          "base_uri": "https://localhost:8080/"
        },
        "id": "BRCzFCLMNP2V",
        "outputId": "3435f522-5038-4a5e-a7c3-accc5c429211"
      },
      "outputs": [
        {
          "data": {
            "text/plain": [
              "Index(['id', 'imdb_id', 'popularity', 'budget', 'revenue', 'original_title',\n",
              "       'cast', 'homepage', 'director', 'tagline', 'keywords', 'overview',\n",
              "       'runtime', 'genres', 'production_companies', 'release_date',\n",
              "       'vote_count', 'vote_average', 'release_year', 'budget_adj',\n",
              "       'revenue_adj', 'streaming_services'],\n",
              "      dtype='object')"
            ]
          },
          "execution_count": 5,
          "metadata": {},
          "output_type": "execute_result"
        }
      ],
      "source": [
        "df.columns"
      ]
    },
    {
      "cell_type": "markdown",
      "metadata": {
        "id": "RtGj_QsnTThm"
      },
      "source": [
        "Ao realizar uma análise preliminar do nosso conjunto de dados, observamos que ele contém 10.866 amostras, com informações divididas em 6 variáveis nominais, 7 variáveis categóricas, 8 variáveis numéricas e 1 variável temporal.\n",
        "\n",
        "- **Variável nominal:**\n",
        "  - **original_title**: Título original do filme.\n",
        "  - **id**: Identificador único do filme.\n",
        "  - **imdb_id**: Identificador IMDb do filme.\n",
        "  - **tagline**: Frase de efeito associada ao filme.\n",
        "  - **overview**: Resumo do filme.\n",
        "  - **homepage**: Endereço do website do filme.\n",
        "\n",
        "\n",
        "- **Variáveis categóricas:**\n",
        "  - **cast**: Lista de atores principais do filme.\n",
        "  - **director**: Nome do diretor do filme.\n",
        "  - **keywords**: Palavras-chave associadas ao filme.\n",
        "  - **genres**: Gêneros aos quais o filme pertence.\n",
        "  - **production_companies**: Lista das produtoras que participaram do filme.\n",
        "  - **streaming_services**: Nomes das plataformas de streaming que disponibilizam o filme.\n",
        "  - **release_year**: Ano de lançamento do filme.\n",
        "\n",
        "- **Variáveis numéricas:**\n",
        "  - **popularity**: Medida de popularidade do filme.\n",
        "  - **budget**: Orçamento do filme em dólares.\n",
        "  - **revenue**: Receita gerada pelo filme em dólares.\n",
        "  - **runtime**: Duração do filme em minutos.\n",
        "  - **vote_count**: Número de votos recebidos.\n",
        "  - **vote_average**: Média das avaliações recebidas (valor de 0 a 10, baseado na plataforma IMDb).\n",
        "  - **budget_adj**: Orçamento ajustado pela inflação.\n",
        "  - **revenue_adj**: Receita ajustada pela inflação.\n",
        "\n",
        "- **Variável temporal**\n",
        "    - **release_date**:Data de lançamento do filme.\n"
      ]
    },
    {
      "cell_type": "markdown",
      "metadata": {
        "id": "wQdMlSGqwpYe"
      },
      "source": [
        "## Pré-processamento dos Dados"
      ]
    },
    {
      "cell_type": "markdown",
      "metadata": {
        "id": "RRqJvohzjeTs"
      },
      "source": [
        "### Remoção de colunas irrelevantes"
      ]
    },
    {
      "cell_type": "markdown",
      "metadata": {
        "id": "nMjC-KiBQHNs"
      },
      "source": [
        "Ao avaliar as variáveis do dataset, observamos que algumas são desnecessárias para a análise. Portanto, removeremos do DataFrame as seguintes colunas:\n",
        "\n",
        "- **id**, **imdb_id**, **tagline**, **overview**, **homepage**, **original_title**, **keywords**, **cast**, **director**, **production_company**, **release_date**, **runtime**: Estas colunas são consideradas desnecessárias para a análise.\n",
        "\n",
        "Essa simplificação ajudará a focar na análise das variáveis mais relevantes e a evitar redundâncias no dataset."
      ]
    },
    {
      "cell_type": "code",
      "execution_count": 6,
      "metadata": {
        "colab": {
          "base_uri": "https://localhost:8080/",
          "height": 0
        },
        "id": "ipLH16DVmxYo",
        "outputId": "9c93eb3c-b29b-4d49-c73c-e3bb05d7928d"
      },
      "outputs": [
        {
          "data": {
            "text/html": [
              "<div>\n",
              "<style scoped>\n",
              "    .dataframe tbody tr th:only-of-type {\n",
              "        vertical-align: middle;\n",
              "    }\n",
              "\n",
              "    .dataframe tbody tr th {\n",
              "        vertical-align: top;\n",
              "    }\n",
              "\n",
              "    .dataframe thead th {\n",
              "        text-align: right;\n",
              "    }\n",
              "</style>\n",
              "<table border=\"1\" class=\"dataframe\">\n",
              "  <thead>\n",
              "    <tr style=\"text-align: right;\">\n",
              "      <th></th>\n",
              "      <th>popularity</th>\n",
              "      <th>budget</th>\n",
              "      <th>revenue</th>\n",
              "      <th>genres</th>\n",
              "      <th>vote_count</th>\n",
              "      <th>vote_average</th>\n",
              "      <th>release_year</th>\n",
              "      <th>budget_adj</th>\n",
              "      <th>revenue_adj</th>\n",
              "      <th>streaming_services</th>\n",
              "    </tr>\n",
              "  </thead>\n",
              "  <tbody>\n",
              "    <tr>\n",
              "      <th>0</th>\n",
              "      <td>32.985763</td>\n",
              "      <td>150000000</td>\n",
              "      <td>1513528810</td>\n",
              "      <td>Action|Adventure|Science Fiction|Thriller</td>\n",
              "      <td>5562</td>\n",
              "      <td>6.5</td>\n",
              "      <td>2015</td>\n",
              "      <td>1.379999e+08</td>\n",
              "      <td>1.392446e+09</td>\n",
              "      <td>['Apple TV', 'Max', 'Google Play Movies', 'Max...</td>\n",
              "    </tr>\n",
              "    <tr>\n",
              "      <th>1</th>\n",
              "      <td>28.419936</td>\n",
              "      <td>150000000</td>\n",
              "      <td>378436354</td>\n",
              "      <td>Action|Adventure|Science Fiction|Thriller</td>\n",
              "      <td>6185</td>\n",
              "      <td>7.1</td>\n",
              "      <td>2015</td>\n",
              "      <td>1.379999e+08</td>\n",
              "      <td>3.481613e+08</td>\n",
              "      <td>['Apple TV', 'Max', 'TBS', 'tru TV', 'Google P...</td>\n",
              "    </tr>\n",
              "    <tr>\n",
              "      <th>2</th>\n",
              "      <td>13.112507</td>\n",
              "      <td>110000000</td>\n",
              "      <td>295238201</td>\n",
              "      <td>Adventure|Science Fiction|Thriller</td>\n",
              "      <td>2480</td>\n",
              "      <td>6.3</td>\n",
              "      <td>2015</td>\n",
              "      <td>1.012000e+08</td>\n",
              "      <td>2.716190e+08</td>\n",
              "      <td>['Apple TV', 'Hulu', 'Google Play Movies', 'Mi...</td>\n",
              "    </tr>\n",
              "    <tr>\n",
              "      <th>3</th>\n",
              "      <td>11.173104</td>\n",
              "      <td>200000000</td>\n",
              "      <td>2068178225</td>\n",
              "      <td>Action|Adventure|Science Fiction|Fantasy</td>\n",
              "      <td>5292</td>\n",
              "      <td>7.5</td>\n",
              "      <td>2015</td>\n",
              "      <td>1.839999e+08</td>\n",
              "      <td>1.902723e+09</td>\n",
              "      <td>['fuboTV', 'Apple TV', 'TBS', 'FXNow', 'tru TV...</td>\n",
              "    </tr>\n",
              "    <tr>\n",
              "      <th>4</th>\n",
              "      <td>9.335014</td>\n",
              "      <td>190000000</td>\n",
              "      <td>1506249360</td>\n",
              "      <td>Action|Crime|Thriller</td>\n",
              "      <td>2947</td>\n",
              "      <td>7.3</td>\n",
              "      <td>2015</td>\n",
              "      <td>1.747999e+08</td>\n",
              "      <td>1.385749e+09</td>\n",
              "      <td>['Apple TV', 'Max', 'Google Play Movies', 'Max...</td>\n",
              "    </tr>\n",
              "  </tbody>\n",
              "</table>\n",
              "</div>"
            ],
            "text/plain": [
              "   popularity     budget     revenue  \\\n",
              "0   32.985763  150000000  1513528810   \n",
              "1   28.419936  150000000   378436354   \n",
              "2   13.112507  110000000   295238201   \n",
              "3   11.173104  200000000  2068178225   \n",
              "4    9.335014  190000000  1506249360   \n",
              "\n",
              "                                      genres  vote_count  vote_average  \\\n",
              "0  Action|Adventure|Science Fiction|Thriller        5562           6.5   \n",
              "1  Action|Adventure|Science Fiction|Thriller        6185           7.1   \n",
              "2         Adventure|Science Fiction|Thriller        2480           6.3   \n",
              "3   Action|Adventure|Science Fiction|Fantasy        5292           7.5   \n",
              "4                      Action|Crime|Thriller        2947           7.3   \n",
              "\n",
              "   release_year    budget_adj   revenue_adj  \\\n",
              "0          2015  1.379999e+08  1.392446e+09   \n",
              "1          2015  1.379999e+08  3.481613e+08   \n",
              "2          2015  1.012000e+08  2.716190e+08   \n",
              "3          2015  1.839999e+08  1.902723e+09   \n",
              "4          2015  1.747999e+08  1.385749e+09   \n",
              "\n",
              "                                  streaming_services  \n",
              "0  ['Apple TV', 'Max', 'Google Play Movies', 'Max...  \n",
              "1  ['Apple TV', 'Max', 'TBS', 'tru TV', 'Google P...  \n",
              "2  ['Apple TV', 'Hulu', 'Google Play Movies', 'Mi...  \n",
              "3  ['fuboTV', 'Apple TV', 'TBS', 'FXNow', 'tru TV...  \n",
              "4  ['Apple TV', 'Max', 'Google Play Movies', 'Max...  "
            ]
          },
          "execution_count": 6,
          "metadata": {},
          "output_type": "execute_result"
        }
      ],
      "source": [
        "col_to_drop = ['id', 'imdb_id', 'tagline', 'overview', 'homepage', 'original_title', 'keywords', 'cast', 'director', 'production_companies', 'release_date', 'runtime']\n",
        "df.drop(columns=col_to_drop, inplace=True)\n",
        "df.head()"
      ]
    },
    {
      "cell_type": "code",
      "execution_count": 7,
      "metadata": {
        "colab": {
          "base_uri": "https://localhost:8080/"
        },
        "id": "z7VxFAFet2Fq",
        "outputId": "16f8df96-4242-453e-ef8b-141b38006739"
      },
      "outputs": [
        {
          "data": {
            "text/plain": [
              "Index(['popularity', 'budget', 'revenue', 'genres', 'vote_count',\n",
              "       'vote_average', 'release_year', 'budget_adj', 'revenue_adj',\n",
              "       'streaming_services'],\n",
              "      dtype='object')"
            ]
          },
          "execution_count": 7,
          "metadata": {},
          "output_type": "execute_result"
        }
      ],
      "source": [
        "df.columns"
      ]
    },
    {
      "cell_type": "markdown",
      "metadata": {},
      "source": [
        "#### Remoção de colunas com muitos dados zerados"
      ]
    },
    {
      "cell_type": "code",
      "execution_count": 8,
      "metadata": {},
      "outputs": [
        {
          "data": {
            "text/plain": [
              "popularity         0\n",
              "budget          5696\n",
              "revenue         6016\n",
              "vote_average       0\n",
              "vote_count         0\n",
              "budget_adj      5696\n",
              "revenue_adj     6016\n",
              "dtype: int64"
            ]
          },
          "execution_count": 8,
          "metadata": {},
          "output_type": "execute_result"
        }
      ],
      "source": [
        "colunas_numericas = ['popularity', 'budget', 'revenue', 'vote_average', 'vote_count', 'budget_adj', 'revenue_adj']\n",
        "\n",
        "df[colunas_numericas][df[colunas_numericas] == 0].count()"
      ]
    },
    {
      "cell_type": "markdown",
      "metadata": {},
      "source": [
        "É importante avaliar as colunas numéricas do dataset para identificar e remover aquelas que apresentam uma quantidade significativa de valores zero, não sendo possível fazer uma inputação relevante.\n",
        " E como mais da metade dos valores para **budget**, **revenue**, **budget_adj** e **revenue_adj** são iguais a zero, então removeremos essas colunas."
      ]
    },
    {
      "cell_type": "code",
      "execution_count": 9,
      "metadata": {},
      "outputs": [
        {
          "data": {
            "text/html": [
              "<div>\n",
              "<style scoped>\n",
              "    .dataframe tbody tr th:only-of-type {\n",
              "        vertical-align: middle;\n",
              "    }\n",
              "\n",
              "    .dataframe tbody tr th {\n",
              "        vertical-align: top;\n",
              "    }\n",
              "\n",
              "    .dataframe thead th {\n",
              "        text-align: right;\n",
              "    }\n",
              "</style>\n",
              "<table border=\"1\" class=\"dataframe\">\n",
              "  <thead>\n",
              "    <tr style=\"text-align: right;\">\n",
              "      <th></th>\n",
              "      <th>popularity</th>\n",
              "      <th>genres</th>\n",
              "      <th>vote_count</th>\n",
              "      <th>vote_average</th>\n",
              "      <th>release_year</th>\n",
              "      <th>streaming_services</th>\n",
              "    </tr>\n",
              "  </thead>\n",
              "  <tbody>\n",
              "    <tr>\n",
              "      <th>0</th>\n",
              "      <td>32.985763</td>\n",
              "      <td>Action|Adventure|Science Fiction|Thriller</td>\n",
              "      <td>5562</td>\n",
              "      <td>6.5</td>\n",
              "      <td>2015</td>\n",
              "      <td>['Apple TV', 'Max', 'Google Play Movies', 'Max...</td>\n",
              "    </tr>\n",
              "    <tr>\n",
              "      <th>1</th>\n",
              "      <td>28.419936</td>\n",
              "      <td>Action|Adventure|Science Fiction|Thriller</td>\n",
              "      <td>6185</td>\n",
              "      <td>7.1</td>\n",
              "      <td>2015</td>\n",
              "      <td>['Apple TV', 'Max', 'TBS', 'tru TV', 'Google P...</td>\n",
              "    </tr>\n",
              "    <tr>\n",
              "      <th>2</th>\n",
              "      <td>13.112507</td>\n",
              "      <td>Adventure|Science Fiction|Thriller</td>\n",
              "      <td>2480</td>\n",
              "      <td>6.3</td>\n",
              "      <td>2015</td>\n",
              "      <td>['Apple TV', 'Hulu', 'Google Play Movies', 'Mi...</td>\n",
              "    </tr>\n",
              "    <tr>\n",
              "      <th>3</th>\n",
              "      <td>11.173104</td>\n",
              "      <td>Action|Adventure|Science Fiction|Fantasy</td>\n",
              "      <td>5292</td>\n",
              "      <td>7.5</td>\n",
              "      <td>2015</td>\n",
              "      <td>['fuboTV', 'Apple TV', 'TBS', 'FXNow', 'tru TV...</td>\n",
              "    </tr>\n",
              "    <tr>\n",
              "      <th>4</th>\n",
              "      <td>9.335014</td>\n",
              "      <td>Action|Crime|Thriller</td>\n",
              "      <td>2947</td>\n",
              "      <td>7.3</td>\n",
              "      <td>2015</td>\n",
              "      <td>['Apple TV', 'Max', 'Google Play Movies', 'Max...</td>\n",
              "    </tr>\n",
              "  </tbody>\n",
              "</table>\n",
              "</div>"
            ],
            "text/plain": [
              "   popularity                                     genres  vote_count  \\\n",
              "0   32.985763  Action|Adventure|Science Fiction|Thriller        5562   \n",
              "1   28.419936  Action|Adventure|Science Fiction|Thriller        6185   \n",
              "2   13.112507         Adventure|Science Fiction|Thriller        2480   \n",
              "3   11.173104   Action|Adventure|Science Fiction|Fantasy        5292   \n",
              "4    9.335014                      Action|Crime|Thriller        2947   \n",
              "\n",
              "   vote_average  release_year  \\\n",
              "0           6.5          2015   \n",
              "1           7.1          2015   \n",
              "2           6.3          2015   \n",
              "3           7.5          2015   \n",
              "4           7.3          2015   \n",
              "\n",
              "                                  streaming_services  \n",
              "0  ['Apple TV', 'Max', 'Google Play Movies', 'Max...  \n",
              "1  ['Apple TV', 'Max', 'TBS', 'tru TV', 'Google P...  \n",
              "2  ['Apple TV', 'Hulu', 'Google Play Movies', 'Mi...  \n",
              "3  ['fuboTV', 'Apple TV', 'TBS', 'FXNow', 'tru TV...  \n",
              "4  ['Apple TV', 'Max', 'Google Play Movies', 'Max...  "
            ]
          },
          "execution_count": 9,
          "metadata": {},
          "output_type": "execute_result"
        }
      ],
      "source": [
        "col_to_drop = ['budget', 'revenue', 'budget_adj', 'revenue_adj']\n",
        "df.drop(columns=col_to_drop, inplace=True)\n",
        "df.head()"
      ]
    },
    {
      "cell_type": "markdown",
      "metadata": {
        "id": "vzk39A7JwTgU"
      },
      "source": [
        "### Tratamento de dados replicados"
      ]
    },
    {
      "cell_type": "markdown",
      "metadata": {
        "id": "rmyBHUGkwm4s"
      },
      "source": [
        "Antes de definirmos os tipos de dados, é necessário tratá-los, especialmente considerando a possibilidade de duplicações. Isso se deve ao fato de que uma das variáveis será convertida em uma lista, e esse tipo de dado é considerado \"unhashable\", o que pode interferir no funcionamento adequado da função \"duplicated\", que é utilizada para identificar duplicatas nos dados."
      ]
    },
    {
      "cell_type": "markdown",
      "metadata": {
        "id": "eNVdkLb0wbZH"
      },
      "source": [
        "**Verificando a existência de dados duplicados e removendo-os**"
      ]
    },
    {
      "cell_type": "code",
      "execution_count": 10,
      "metadata": {
        "colab": {
          "base_uri": "https://localhost:8080/"
        },
        "id": "9jmaLwTSwaNc",
        "outputId": "d60ac53f-8fa0-4f48-bd11-2d69e6a7ba56"
      },
      "outputs": [
        {
          "data": {
            "text/plain": [
              "1"
            ]
          },
          "execution_count": 10,
          "metadata": {},
          "output_type": "execute_result"
        }
      ],
      "source": [
        "df.duplicated().sum()"
      ]
    },
    {
      "cell_type": "code",
      "execution_count": 11,
      "metadata": {
        "colab": {
          "base_uri": "https://localhost:8080/"
        },
        "id": "OsY861tzwepd",
        "outputId": "de7d86f6-8ea3-4f84-aa7c-7703960e843b"
      },
      "outputs": [
        {
          "data": {
            "text/plain": [
              "(10865, 6)"
            ]
          },
          "execution_count": 11,
          "metadata": {},
          "output_type": "execute_result"
        }
      ],
      "source": [
        "df.drop_duplicates(inplace=True)\n",
        "df.shape"
      ]
    },
    {
      "cell_type": "markdown",
      "metadata": {
        "id": "GlA2YDRMuH9b"
      },
      "source": [
        "### Definição dos tipos dos dados"
      ]
    },
    {
      "cell_type": "code",
      "execution_count": 12,
      "metadata": {
        "colab": {
          "base_uri": "https://localhost:8080/"
        },
        "id": "ub7SUjwu0tGG",
        "outputId": "20878828-e8cc-4dfd-eb67-7818a169b16c"
      },
      "outputs": [
        {
          "data": {
            "text/plain": [
              "popularity            float64\n",
              "genres                 object\n",
              "vote_count              int64\n",
              "vote_average          float64\n",
              "release_year            int64\n",
              "streaming_services     object\n",
              "dtype: object"
            ]
          },
          "execution_count": 12,
          "metadata": {},
          "output_type": "execute_result"
        }
      ],
      "source": [
        "df.dtypes"
      ]
    },
    {
      "cell_type": "markdown",
      "metadata": {
        "id": "oGyELMF16Z84"
      },
      "source": [
        "Ao examinarmos os tipos das nossas variáveis, notamos que as variáveis categóricas \"genres\", \"streaming_services\" e \"release_year\" não foram definidas adequadamente.\n",
        "\n",
        "Dessa forma, vamos implementar as seguintes modificações:\n",
        "\n",
        "- A variável \"release_year\" será convertida para o tipo categoria.\n",
        "- As variáveis \"genres\" e \"streaming_services\" terão seus valores transformados em listas para serem tratadas posteriormente.\n",
        "\n",
        "Para a variável \"genres\", as categorias estão agrupadas em uma única string, com os gêneros separados por \"|\". Portanto, iremos dividir a string usando o delimitador mencionado e converter os valores em uma lista.\n",
        "\n",
        "No caso da variável \"streaming_services\", as categorias já estão em formato de lista, mas foram importadas como tipo \"object\", o que, a priori, significa que são tratadas como strings. Além disso, iremos remover das listas os nomes das plataformas de streaming que não serão analisadas. As plataformas que serão analisadas são: Netflix, Max, Amazon Prime, Disney Plus e Hulu, as mais populares no Brasil."
      ]
    },
    {
      "cell_type": "markdown",
      "metadata": {
        "id": "rG9Nh6WzkOdV"
      },
      "source": [
        "**Definindo o tipo de release_date como \"category\"**"
      ]
    },
    {
      "cell_type": "code",
      "execution_count": 13,
      "metadata": {
        "colab": {
          "base_uri": "https://localhost:8080/",
          "height": 206
        },
        "id": "Y_hRSDuU2XDj",
        "outputId": "bf84434f-6dc1-41ae-d0c7-b51494210b91"
      },
      "outputs": [
        {
          "data": {
            "text/html": [
              "<div>\n",
              "<style scoped>\n",
              "    .dataframe tbody tr th:only-of-type {\n",
              "        vertical-align: middle;\n",
              "    }\n",
              "\n",
              "    .dataframe tbody tr th {\n",
              "        vertical-align: top;\n",
              "    }\n",
              "\n",
              "    .dataframe thead th {\n",
              "        text-align: right;\n",
              "    }\n",
              "</style>\n",
              "<table border=\"1\" class=\"dataframe\">\n",
              "  <thead>\n",
              "    <tr style=\"text-align: right;\">\n",
              "      <th></th>\n",
              "      <th>popularity</th>\n",
              "      <th>genres</th>\n",
              "      <th>vote_count</th>\n",
              "      <th>vote_average</th>\n",
              "      <th>release_year</th>\n",
              "      <th>streaming_services</th>\n",
              "    </tr>\n",
              "  </thead>\n",
              "  <tbody>\n",
              "    <tr>\n",
              "      <th>0</th>\n",
              "      <td>32.985763</td>\n",
              "      <td>Action|Adventure|Science Fiction|Thriller</td>\n",
              "      <td>5562</td>\n",
              "      <td>6.5</td>\n",
              "      <td>55</td>\n",
              "      <td>['Apple TV', 'Max', 'Google Play Movies', 'Max...</td>\n",
              "    </tr>\n",
              "    <tr>\n",
              "      <th>1</th>\n",
              "      <td>28.419936</td>\n",
              "      <td>Action|Adventure|Science Fiction|Thriller</td>\n",
              "      <td>6185</td>\n",
              "      <td>7.1</td>\n",
              "      <td>55</td>\n",
              "      <td>['Apple TV', 'Max', 'TBS', 'tru TV', 'Google P...</td>\n",
              "    </tr>\n",
              "    <tr>\n",
              "      <th>2</th>\n",
              "      <td>13.112507</td>\n",
              "      <td>Adventure|Science Fiction|Thriller</td>\n",
              "      <td>2480</td>\n",
              "      <td>6.3</td>\n",
              "      <td>55</td>\n",
              "      <td>['Apple TV', 'Hulu', 'Google Play Movies', 'Mi...</td>\n",
              "    </tr>\n",
              "    <tr>\n",
              "      <th>3</th>\n",
              "      <td>11.173104</td>\n",
              "      <td>Action|Adventure|Science Fiction|Fantasy</td>\n",
              "      <td>5292</td>\n",
              "      <td>7.5</td>\n",
              "      <td>55</td>\n",
              "      <td>['fuboTV', 'Apple TV', 'TBS', 'FXNow', 'tru TV...</td>\n",
              "    </tr>\n",
              "    <tr>\n",
              "      <th>4</th>\n",
              "      <td>9.335014</td>\n",
              "      <td>Action|Crime|Thriller</td>\n",
              "      <td>2947</td>\n",
              "      <td>7.3</td>\n",
              "      <td>55</td>\n",
              "      <td>['Apple TV', 'Max', 'Google Play Movies', 'Max...</td>\n",
              "    </tr>\n",
              "  </tbody>\n",
              "</table>\n",
              "</div>"
            ],
            "text/plain": [
              "   popularity                                     genres  vote_count  \\\n",
              "0   32.985763  Action|Adventure|Science Fiction|Thriller        5562   \n",
              "1   28.419936  Action|Adventure|Science Fiction|Thriller        6185   \n",
              "2   13.112507         Adventure|Science Fiction|Thriller        2480   \n",
              "3   11.173104   Action|Adventure|Science Fiction|Fantasy        5292   \n",
              "4    9.335014                      Action|Crime|Thriller        2947   \n",
              "\n",
              "   vote_average  release_year  \\\n",
              "0           6.5            55   \n",
              "1           7.1            55   \n",
              "2           6.3            55   \n",
              "3           7.5            55   \n",
              "4           7.3            55   \n",
              "\n",
              "                                  streaming_services  \n",
              "0  ['Apple TV', 'Max', 'Google Play Movies', 'Max...  \n",
              "1  ['Apple TV', 'Max', 'TBS', 'tru TV', 'Google P...  \n",
              "2  ['Apple TV', 'Hulu', 'Google Play Movies', 'Mi...  \n",
              "3  ['fuboTV', 'Apple TV', 'TBS', 'FXNow', 'tru TV...  \n",
              "4  ['Apple TV', 'Max', 'Google Play Movies', 'Max...  "
            ]
          },
          "execution_count": 13,
          "metadata": {},
          "output_type": "execute_result"
        }
      ],
      "source": [
        "df['release_year'] = df['release_year'].astype(\"category\")\n",
        "df['release_year'] = df['release_year'].cat.codes\n",
        "df.head()"
      ]
    },
    {
      "cell_type": "code",
      "execution_count": 14,
      "metadata": {
        "colab": {
          "base_uri": "https://localhost:8080/"
        },
        "id": "jQD-7fj-VIlc",
        "outputId": "c85342ca-d608-4ba1-9e57-d926221332e4"
      },
      "outputs": [
        {
          "data": {
            "text/plain": [
              "56"
            ]
          },
          "execution_count": 14,
          "metadata": {},
          "output_type": "execute_result"
        }
      ],
      "source": [
        "len(df['release_year'].unique())"
      ]
    },
    {
      "cell_type": "markdown",
      "metadata": {
        "id": "LF1ckV7HVPmU"
      },
      "source": [
        "Observa-se que a variável \"release_year\" apresenta 56 categorias distintas. Isso representa um desafio futuro, pois a aplicação de one-hot encoding para todas as categorias seria inviável, resultando em um acréscimo de 56 colunas no conjunto de dados. Esse aumento significativo de dimensões dificulta o treinamento do modelo e pode comprometer sua performance."
      ]
    },
    {
      "cell_type": "markdown",
      "metadata": {
        "id": "4v_krzfGsYVo"
      },
      "source": [
        "**Transformando os valores de \"genres\" em listas**"
      ]
    },
    {
      "cell_type": "code",
      "execution_count": 15,
      "metadata": {
        "colab": {
          "base_uri": "https://localhost:8080/",
          "height": 206
        },
        "id": "u1bzV4BcsdAg",
        "outputId": "50d89bcd-8bf5-4ee2-eff7-7bbcb9cd2b21"
      },
      "outputs": [
        {
          "data": {
            "text/html": [
              "<div>\n",
              "<style scoped>\n",
              "    .dataframe tbody tr th:only-of-type {\n",
              "        vertical-align: middle;\n",
              "    }\n",
              "\n",
              "    .dataframe tbody tr th {\n",
              "        vertical-align: top;\n",
              "    }\n",
              "\n",
              "    .dataframe thead th {\n",
              "        text-align: right;\n",
              "    }\n",
              "</style>\n",
              "<table border=\"1\" class=\"dataframe\">\n",
              "  <thead>\n",
              "    <tr style=\"text-align: right;\">\n",
              "      <th></th>\n",
              "      <th>popularity</th>\n",
              "      <th>genres</th>\n",
              "      <th>vote_count</th>\n",
              "      <th>vote_average</th>\n",
              "      <th>release_year</th>\n",
              "      <th>streaming_services</th>\n",
              "    </tr>\n",
              "  </thead>\n",
              "  <tbody>\n",
              "    <tr>\n",
              "      <th>0</th>\n",
              "      <td>32.985763</td>\n",
              "      <td>[Action, Adventure, Science Fiction, Thriller]</td>\n",
              "      <td>5562</td>\n",
              "      <td>6.5</td>\n",
              "      <td>55</td>\n",
              "      <td>['Apple TV', 'Max', 'Google Play Movies', 'Max...</td>\n",
              "    </tr>\n",
              "    <tr>\n",
              "      <th>1</th>\n",
              "      <td>28.419936</td>\n",
              "      <td>[Action, Adventure, Science Fiction, Thriller]</td>\n",
              "      <td>6185</td>\n",
              "      <td>7.1</td>\n",
              "      <td>55</td>\n",
              "      <td>['Apple TV', 'Max', 'TBS', 'tru TV', 'Google P...</td>\n",
              "    </tr>\n",
              "    <tr>\n",
              "      <th>2</th>\n",
              "      <td>13.112507</td>\n",
              "      <td>[Adventure, Science Fiction, Thriller]</td>\n",
              "      <td>2480</td>\n",
              "      <td>6.3</td>\n",
              "      <td>55</td>\n",
              "      <td>['Apple TV', 'Hulu', 'Google Play Movies', 'Mi...</td>\n",
              "    </tr>\n",
              "    <tr>\n",
              "      <th>3</th>\n",
              "      <td>11.173104</td>\n",
              "      <td>[Action, Adventure, Science Fiction, Fantasy]</td>\n",
              "      <td>5292</td>\n",
              "      <td>7.5</td>\n",
              "      <td>55</td>\n",
              "      <td>['fuboTV', 'Apple TV', 'TBS', 'FXNow', 'tru TV...</td>\n",
              "    </tr>\n",
              "    <tr>\n",
              "      <th>4</th>\n",
              "      <td>9.335014</td>\n",
              "      <td>[Action, Crime, Thriller]</td>\n",
              "      <td>2947</td>\n",
              "      <td>7.3</td>\n",
              "      <td>55</td>\n",
              "      <td>['Apple TV', 'Max', 'Google Play Movies', 'Max...</td>\n",
              "    </tr>\n",
              "  </tbody>\n",
              "</table>\n",
              "</div>"
            ],
            "text/plain": [
              "   popularity                                          genres  vote_count  \\\n",
              "0   32.985763  [Action, Adventure, Science Fiction, Thriller]        5562   \n",
              "1   28.419936  [Action, Adventure, Science Fiction, Thriller]        6185   \n",
              "2   13.112507          [Adventure, Science Fiction, Thriller]        2480   \n",
              "3   11.173104   [Action, Adventure, Science Fiction, Fantasy]        5292   \n",
              "4    9.335014                       [Action, Crime, Thriller]        2947   \n",
              "\n",
              "   vote_average  release_year  \\\n",
              "0           6.5            55   \n",
              "1           7.1            55   \n",
              "2           6.3            55   \n",
              "3           7.5            55   \n",
              "4           7.3            55   \n",
              "\n",
              "                                  streaming_services  \n",
              "0  ['Apple TV', 'Max', 'Google Play Movies', 'Max...  \n",
              "1  ['Apple TV', 'Max', 'TBS', 'tru TV', 'Google P...  \n",
              "2  ['Apple TV', 'Hulu', 'Google Play Movies', 'Mi...  \n",
              "3  ['fuboTV', 'Apple TV', 'TBS', 'FXNow', 'tru TV...  \n",
              "4  ['Apple TV', 'Max', 'Google Play Movies', 'Max...  "
            ]
          },
          "execution_count": 15,
          "metadata": {},
          "output_type": "execute_result"
        }
      ],
      "source": [
        "df['genres'] = df['genres'].str.split('|')\n",
        "df.head()"
      ]
    },
    {
      "cell_type": "code",
      "execution_count": 16,
      "metadata": {
        "colab": {
          "base_uri": "https://localhost:8080/"
        },
        "id": "BK5YRZ1dZgzH",
        "outputId": "6904e069-62c8-4b03-a35f-8448cd1a58b0"
      },
      "outputs": [
        {
          "name": "stdout",
          "output_type": "stream",
          "text": [
            "Número de gêneros analisados: 21\n"
          ]
        },
        {
          "data": {
            "text/plain": [
              "array(['Action', 'Adventure', 'Science Fiction', 'Thriller', 'Fantasy',\n",
              "       'Crime', 'Western', 'Drama', 'Family', 'Animation', 'Comedy',\n",
              "       'Mystery', 'Romance', 'War', 'History', 'Music', 'Horror',\n",
              "       'Documentary', 'TV Movie', nan, 'Foreign'], dtype=object)"
            ]
          },
          "execution_count": 16,
          "metadata": {},
          "output_type": "execute_result"
        }
      ],
      "source": [
        "#\"Explode\" as listas de gêneros para criar uma nova linha para cada elemento da lista\n",
        "exploded_genres = df.explode('genres')\n",
        "\n",
        "#Obtem todos os valores únicos da coluna 'genres'\n",
        "all_genres = exploded_genres['genres'].unique()\n",
        "print(f\"Número de gêneros analisados: {len(all_genres)}\")\n",
        "all_genres"
      ]
    },
    {
      "cell_type": "markdown",
      "metadata": {
        "id": "N1mbhAKGadLo"
      },
      "source": [
        "Aplicar One Hot Encoding na coluna de gênero iria gerar 20 colunas novas, já que uma das colunas identificadas foi \"nan\". Portanto, como a grande maioria dos modelos não consegue lidar com listas e dados nominais, iremos usar essa técnica mais adiante para que isso não seja um problema."
      ]
    },
    {
      "cell_type": "markdown",
      "metadata": {
        "id": "Um4aPbHBoc18"
      },
      "source": [
        "**Conversão de streaming_services de string para lista**"
      ]
    },
    {
      "cell_type": "code",
      "execution_count": 17,
      "metadata": {
        "id": "xInYvF-aocZr"
      },
      "outputs": [],
      "source": [
        "df['streaming_services'] = df['streaming_services'].apply(ast.literal_eval)"
      ]
    },
    {
      "cell_type": "markdown",
      "metadata": {
        "id": "S4SGWOEBs3f9"
      },
      "source": [
        "**Filtrando as listas de streaming services para manter apenas os valores de interesse**"
      ]
    },
    {
      "cell_type": "code",
      "execution_count": 18,
      "metadata": {
        "colab": {
          "base_uri": "https://localhost:8080/"
        },
        "id": "nQlPLNqlFz9Q",
        "outputId": "f1db3eec-3825-489a-802b-6369f87563a1"
      },
      "outputs": [
        {
          "data": {
            "text/plain": [
              "{'ALLBLK Apple TV channel',\n",
              " 'AMC',\n",
              " 'AMC Plus Apple TV Channel ',\n",
              " 'AMC on Demand',\n",
              " 'AMC+',\n",
              " 'AMC+ Amazon Channel',\n",
              " 'AMC+ Roku Premium Channel',\n",
              " 'ARROW',\n",
              " 'Acorn TV',\n",
              " 'Acorn TV Apple TV',\n",
              " 'AcornTV Amazon Channel',\n",
              " 'Amazon Prime Video',\n",
              " 'Amazon Prime Video with Ads',\n",
              " 'Amazon Video',\n",
              " 'Apple TV',\n",
              " 'Apple TV Plus',\n",
              " 'AsianCrush',\n",
              " 'Atom Tickets',\n",
              " 'B&B Theatres',\n",
              " 'BBC America',\n",
              " 'BET+  Apple TV channel',\n",
              " 'Bet+ Amazon Channel',\n",
              " 'Boomerang',\n",
              " 'Boomerang Amazon Channel',\n",
              " 'BritBox',\n",
              " 'BritBox Amazon Channel',\n",
              " 'Britbox Apple TV Channel ',\n",
              " 'BroadwayHD',\n",
              " 'Chai Flicks',\n",
              " 'Cinemark',\n",
              " 'Cinemax Amazon Channel',\n",
              " 'Cinemax Apple TV Channel',\n",
              " 'Cinepolis USA',\n",
              " 'Cineverse',\n",
              " 'Classix',\n",
              " 'Cohen Media Amazon Channel',\n",
              " 'Crackle',\n",
              " 'Criterion Channel',\n",
              " 'Crunchyroll',\n",
              " 'Crunchyroll Amazon Channel',\n",
              " 'Cultpix',\n",
              " 'Curiosity Stream',\n",
              " 'CuriosityStream Apple TV Channel',\n",
              " 'DOCSVILLE',\n",
              " 'Dekkoo',\n",
              " 'Disney Plus',\n",
              " 'DisneyNOW',\n",
              " 'DistroTV',\n",
              " 'DocAlliance Films',\n",
              " 'Dogwoof On Demand',\n",
              " 'Eros Now',\n",
              " 'Eros Now Select Apple TV Channel',\n",
              " 'FXNow',\n",
              " 'Fandango',\n",
              " 'Fandor',\n",
              " 'Fandor Amazon Channel',\n",
              " 'Film Movement Plus',\n",
              " 'FilmBox+',\n",
              " 'Filmzie',\n",
              " 'Flix Premiere',\n",
              " 'FlixFling',\n",
              " 'Freeform',\n",
              " 'Freevee',\n",
              " 'Full Moon Amazon Channel',\n",
              " 'GlewedTV',\n",
              " 'Google Play Movies',\n",
              " 'GuideDoc',\n",
              " 'Hallmark Movies Now Amazon Channel',\n",
              " 'Hallmark Movies Now Apple TV Channel',\n",
              " 'Harkins Theatres',\n",
              " 'Here TV',\n",
              " 'Hi-YAH',\n",
              " 'History Vault',\n",
              " 'Hoopla',\n",
              " 'Hulu',\n",
              " 'IFC Films Unlimited Apple TV Channel',\n",
              " 'IndieFlix',\n",
              " 'Kanopy',\n",
              " 'Kocowa',\n",
              " 'Laugh Out Loud',\n",
              " 'Lifetime Movie Club',\n",
              " 'Lifetime Movie Club Amazon Channel',\n",
              " 'Lifetime Movie Club Apple TV Channel',\n",
              " 'MGM Plus',\n",
              " 'MGM Plus Amazon Channel',\n",
              " 'MGM Plus Roku Premium Channel',\n",
              " 'MUBI',\n",
              " 'MUBI Amazon Channel',\n",
              " 'MZ Choice Amazon Channel',\n",
              " 'Magellan TV',\n",
              " 'Marcus Theatres',\n",
              " 'Max',\n",
              " 'Max Amazon Channel',\n",
              " 'Metrograph',\n",
              " 'Microsoft Store',\n",
              " 'Midnight Pulp',\n",
              " 'MovieSaints',\n",
              " 'Netflix',\n",
              " 'Netflix basic with Ads',\n",
              " 'Night Flight Plus',\n",
              " 'OUTtv Apple TV Channel',\n",
              " 'OVID',\n",
              " 'Outside Watch',\n",
              " 'PBS Masterpiece Amazon Channel',\n",
              " 'Paramount Plus',\n",
              " 'Paramount Plus Apple TV Channel ',\n",
              " 'Paramount+ Amazon Channel',\n",
              " 'Paramount+ Roku Premium Channel',\n",
              " 'Paramount+ with Showtime',\n",
              " 'Peacock',\n",
              " 'Plex',\n",
              " 'Pluto TV',\n",
              " 'Popcornflix',\n",
              " 'Popflick',\n",
              " 'Public Domain Movies',\n",
              " 'Pure Flix',\n",
              " 'Rakuten Viki',\n",
              " 'Redbox',\n",
              " 'Retrocrush',\n",
              " 'Reveel',\n",
              " 'Revry',\n",
              " 'Runtime',\n",
              " 'Screambox',\n",
              " 'Screambox Amazon Channel',\n",
              " 'ScreenPix Apple TV Channel',\n",
              " 'ShortsTV Amazon Channel',\n",
              " 'Shout! Factory TV',\n",
              " 'Showtime Apple TV Channel',\n",
              " 'Shudder',\n",
              " 'Shudder Amazon Channel',\n",
              " 'Shudder Apple TV Channel',\n",
              " 'Spamflix',\n",
              " 'Spectrum On Demand',\n",
              " 'Starz',\n",
              " 'Starz Amazon Channel',\n",
              " 'Starz Apple TV Channel',\n",
              " 'Starz Roku Premium Channel',\n",
              " 'Sun Nxt',\n",
              " 'Sundance Now',\n",
              " 'TBS',\n",
              " 'TCM',\n",
              " 'TNT',\n",
              " 'The CW',\n",
              " 'The Roku Channel',\n",
              " 'Topic',\n",
              " 'Topic Apple TV Channel',\n",
              " 'Troma NOW',\n",
              " 'Tubi TV',\n",
              " 'UP Faith & Family Apple TV Channel',\n",
              " 'USA Network',\n",
              " 'Urban Movie Channel',\n",
              " 'VIX ',\n",
              " 'VUDU Free',\n",
              " 'Viewster Amazon Channel',\n",
              " 'Vudu',\n",
              " 'WOW Presents Plus',\n",
              " 'Xumo Play',\n",
              " 'YouTube',\n",
              " 'YouTube Free',\n",
              " 'Yupp TV',\n",
              " 'aha',\n",
              " 'fuboTV',\n",
              " 'tru TV'}"
            ]
          },
          "execution_count": 18,
          "metadata": {},
          "output_type": "execute_result"
        }
      ],
      "source": [
        "#Apresenta todas as plataformas de streaming abarcadas no dataset\n",
        "set(y for x in df['streaming_services'] for y in x)"
      ]
    },
    {
      "cell_type": "code",
      "execution_count": 19,
      "metadata": {
        "colab": {
          "base_uri": "https://localhost:8080/",
          "height": 206
        },
        "id": "rmqQBt92sqaL",
        "outputId": "9bcd8c9b-4fc4-44ce-ac58-96dfc0891a54"
      },
      "outputs": [
        {
          "data": {
            "text/html": [
              "<div>\n",
              "<style scoped>\n",
              "    .dataframe tbody tr th:only-of-type {\n",
              "        vertical-align: middle;\n",
              "    }\n",
              "\n",
              "    .dataframe tbody tr th {\n",
              "        vertical-align: top;\n",
              "    }\n",
              "\n",
              "    .dataframe thead th {\n",
              "        text-align: right;\n",
              "    }\n",
              "</style>\n",
              "<table border=\"1\" class=\"dataframe\">\n",
              "  <thead>\n",
              "    <tr style=\"text-align: right;\">\n",
              "      <th></th>\n",
              "      <th>popularity</th>\n",
              "      <th>genres</th>\n",
              "      <th>vote_count</th>\n",
              "      <th>vote_average</th>\n",
              "      <th>release_year</th>\n",
              "      <th>streaming_services</th>\n",
              "    </tr>\n",
              "  </thead>\n",
              "  <tbody>\n",
              "    <tr>\n",
              "      <th>0</th>\n",
              "      <td>32.985763</td>\n",
              "      <td>[Action, Adventure, Science Fiction, Thriller]</td>\n",
              "      <td>5562</td>\n",
              "      <td>6.5</td>\n",
              "      <td>55</td>\n",
              "      <td>[Max]</td>\n",
              "    </tr>\n",
              "    <tr>\n",
              "      <th>1</th>\n",
              "      <td>28.419936</td>\n",
              "      <td>[Action, Adventure, Science Fiction, Thriller]</td>\n",
              "      <td>6185</td>\n",
              "      <td>7.1</td>\n",
              "      <td>55</td>\n",
              "      <td>[Max]</td>\n",
              "    </tr>\n",
              "    <tr>\n",
              "      <th>2</th>\n",
              "      <td>13.112507</td>\n",
              "      <td>[Adventure, Science Fiction, Thriller]</td>\n",
              "      <td>2480</td>\n",
              "      <td>6.3</td>\n",
              "      <td>55</td>\n",
              "      <td>[Hulu]</td>\n",
              "    </tr>\n",
              "    <tr>\n",
              "      <th>3</th>\n",
              "      <td>11.173104</td>\n",
              "      <td>[Action, Adventure, Science Fiction, Fantasy]</td>\n",
              "      <td>5292</td>\n",
              "      <td>7.5</td>\n",
              "      <td>55</td>\n",
              "      <td>[Disney Plus]</td>\n",
              "    </tr>\n",
              "    <tr>\n",
              "      <th>4</th>\n",
              "      <td>9.335014</td>\n",
              "      <td>[Action, Crime, Thriller]</td>\n",
              "      <td>2947</td>\n",
              "      <td>7.3</td>\n",
              "      <td>55</td>\n",
              "      <td>[Max]</td>\n",
              "    </tr>\n",
              "  </tbody>\n",
              "</table>\n",
              "</div>"
            ],
            "text/plain": [
              "   popularity                                          genres  vote_count  \\\n",
              "0   32.985763  [Action, Adventure, Science Fiction, Thriller]        5562   \n",
              "1   28.419936  [Action, Adventure, Science Fiction, Thriller]        6185   \n",
              "2   13.112507          [Adventure, Science Fiction, Thriller]        2480   \n",
              "3   11.173104   [Action, Adventure, Science Fiction, Fantasy]        5292   \n",
              "4    9.335014                       [Action, Crime, Thriller]        2947   \n",
              "\n",
              "   vote_average  release_year streaming_services  \n",
              "0           6.5            55              [Max]  \n",
              "1           7.1            55              [Max]  \n",
              "2           6.3            55             [Hulu]  \n",
              "3           7.5            55      [Disney Plus]  \n",
              "4           7.3            55              [Max]  "
            ]
          },
          "execution_count": 19,
          "metadata": {},
          "output_type": "execute_result"
        }
      ],
      "source": [
        "#Plataformas de streaming a serem analisadas\n",
        "main_streaming_platforms = {'Netflix', 'Max', 'Amazon Prime Video', 'Disney Plus', 'Hulu'}\n",
        "\n",
        "#Filtra as listas das plataformas de streaming, mantendo apenas os itens principais\n",
        "df['streaming_services'] = df['streaming_services'].apply(lambda x: [service for service in x if service in main_streaming_platforms])\n",
        "\n",
        "df.head()"
      ]
    },
    {
      "cell_type": "markdown",
      "metadata": {
        "id": "kz40inq0bzh8"
      },
      "source": [
        "Como estamos analisando apenas as plataformas de streaming mais famosas no Brasil, essa variável apresenta apenas 5 categorias. Porém, como os filmes podem ser disponibilizados por mais de um serviço os valores são listas. Por isso, também aplicaremos o One Hot Encoding a esta coluna."
      ]
    },
    {
      "cell_type": "code",
      "execution_count": 20,
      "metadata": {
        "colab": {
          "base_uri": "https://localhost:8080/"
        },
        "id": "v6Kx7AG-STWD",
        "outputId": "480bcb72-0949-4d7f-fa67-7c1a60e57440"
      },
      "outputs": [
        {
          "data": {
            "text/plain": [
              "popularity            float64\n",
              "genres                 object\n",
              "vote_count              int64\n",
              "vote_average          float64\n",
              "release_year             int8\n",
              "streaming_services     object\n",
              "dtype: object"
            ]
          },
          "execution_count": 20,
          "metadata": {},
          "output_type": "execute_result"
        }
      ],
      "source": [
        "df.dtypes"
      ]
    },
    {
      "cell_type": "markdown",
      "metadata": {
        "id": "Q4IzeRjabxyk"
      },
      "source": [
        "Após esta etapa, as colunas \"genres\" e \"streaming_services\" ainda não possuem tipos adequados. No entanto, isso será corrigido posteriormente, durante o processo de codificação."
      ]
    },
    {
      "cell_type": "markdown",
      "metadata": {
        "id": "xsluxU339pxI"
      },
      "source": [
        "### Tratamento de Dados Ausentes e Codificação das Variáveis Categóricas"
      ]
    },
    {
      "cell_type": "markdown",
      "metadata": {
        "id": "PTiPktn0gCQl"
      },
      "source": [
        "Antes de prosseguirmos com a codificação das variáveis categóricas, é necessário verificar se alguma delas, ou outras colunas, contêm dados ausentes, uma vez que não é possível codificar valores \"nan\"."
      ]
    },
    {
      "cell_type": "markdown",
      "metadata": {
        "id": "jxEWpvhf-Yxj"
      },
      "source": [
        "**Verificando a existência de dados ausentes**"
      ]
    },
    {
      "cell_type": "code",
      "execution_count": 21,
      "metadata": {
        "colab": {
          "base_uri": "https://localhost:8080/"
        },
        "id": "X7FRqGZE-X5B",
        "outputId": "e23c6b48-f840-455e-c0e9-4fdd2f4e8f4a"
      },
      "outputs": [
        {
          "data": {
            "text/plain": [
              "popularity             0\n",
              "genres                23\n",
              "vote_count             0\n",
              "vote_average           0\n",
              "release_year           0\n",
              "streaming_services     0\n",
              "dtype: int64"
            ]
          },
          "execution_count": 21,
          "metadata": {},
          "output_type": "execute_result"
        }
      ],
      "source": [
        "df.isna().sum()"
      ]
    },
    {
      "cell_type": "markdown",
      "metadata": {
        "id": "ValrW548_DT0"
      },
      "source": [
        "É notável que apenas a coluna \"genres\" apresentou dados ausentes, 23 instâncias. Dessa forma, iremos tratá-los a partir da técnica de imputação por classificação."
      ]
    },
    {
      "cell_type": "code",
      "execution_count": 22,
      "metadata": {
        "colab": {
          "base_uri": "https://localhost:8080/"
        },
        "id": "lS6xXKd9_Chz",
        "outputId": "fa0e8317-4376-4703-c92b-0dafb4f4db51"
      },
      "outputs": [
        {
          "data": {
            "text/plain": [
              "0    [Action, Adventure, Science Fiction, Thriller]\n",
              "1    [Action, Adventure, Science Fiction, Thriller]\n",
              "2            [Adventure, Science Fiction, Thriller]\n",
              "3     [Action, Adventure, Science Fiction, Fantasy]\n",
              "4                         [Action, Crime, Thriller]\n",
              "Name: genres, dtype: object"
            ]
          },
          "execution_count": 22,
          "metadata": {},
          "output_type": "execute_result"
        }
      ],
      "source": [
        "df['genres'].head()"
      ]
    },
    {
      "cell_type": "markdown",
      "metadata": {
        "id": "bIsXg5KXICPr"
      },
      "source": [
        "Para treinar um modelo de classificação com múltiplas saídas, dado que um filme pode ser associado a mais de um gênero, é necessário codificar os dados categóricos que não possuem valores ausentes. Para isso, utilizaremos o método de One Hot Encoding."
      ]
    },
    {
      "cell_type": "markdown",
      "metadata": {
        "id": "FmZdE5giF5XH"
      },
      "source": [
        "**Agrupamento e Codificação de \"release_year\"**"
      ]
    },
    {
      "cell_type": "markdown",
      "metadata": {
        "id": "ktr2HuPNIjGo"
      },
      "source": [
        "Para reduzir a quantidade de categorias na variável \"release_year\", agruparemos os anos de lançamento em intervalos fixos de 4 anos."
      ]
    },
    {
      "cell_type": "code",
      "execution_count": 23,
      "metadata": {
        "colab": {
          "base_uri": "https://localhost:8080/",
          "height": 607
        },
        "id": "_ZWBJb9P1PFu",
        "outputId": "98d2743d-7021-47eb-e0b7-a21fc4476156"
      },
      "outputs": [
        {
          "data": {
            "image/png": "[encoded data removed]",
            "text/plain": [
              "<Figure size 720x432 with 1 Axes>"
            ]
          },
          "metadata": {
            "needs_background": "light"
          },
          "output_type": "display_data"
        }
      ],
      "source": [
        "# Contagem de frequência dos anos de lançamento\n",
        "year_counts = df['release_year'].value_counts().sort_index()\n",
        "\n",
        "# Plotagem do gráfico de barras\n",
        "plt.figure(figsize=(10, 6))\n",
        "year_counts.plot(kind='bar')\n",
        "plt.title('Frequência de Lançamento por Ano')\n",
        "plt.xlabel('Ano')\n",
        "plt.ylabel('Frequência')\n",
        "plt.xticks(rotation=45)\n",
        "plt.grid(axis='y', linestyle='--', alpha=0.7)\n",
        "plt.tight_layout()\n",
        "plt.show()"
      ]
    },
    {
      "cell_type": "markdown",
      "metadata": {
        "id": "v6HDzGr6CS-K"
      },
      "source": [
        "Vamos agrupar os dados em intervalos de 4 anos, pois, ao analisar o gráfico, observamos que a maioria dos grupos não apresenta uma variação muito grande no número de filmes lançados."
      ]
    },
    {
      "cell_type": "code",
      "execution_count": 24,
      "metadata": {
        "id": "SAncJQABBsYl"
      },
      "outputs": [],
      "source": [
        "# Obtendo os valores únicos de release_year\n",
        "unique_years = df['release_year'].unique()\n",
        "\n",
        "# Criando faixas de 4 anos\n",
        "bins = np.arange(min(unique_years), max(unique_years) + 5, 4)\n",
        "\n",
        "# Discretizando os valores de release_year e obtendo os índices dos intervalos\n",
        "df['release_year_discretized'] = pd.cut(df['release_year'], bins=bins, labels=False, right=False)\n"
      ]
    },
    {
      "cell_type": "code",
      "execution_count": 25,
      "metadata": {
        "colab": {
          "base_uri": "https://localhost:8080/",
          "height": 607
        },
        "id": "NcqNol2M2mWw",
        "outputId": "b6bdef66-3e0b-4a25-c225-f2515eeb9d5b"
      },
      "outputs": [
        {
          "data": {
            "image/png": "[encoded data removed]",
            "text/plain": [
              "<Figure size 720x432 with 1 Axes>"
            ]
          },
          "metadata": {
            "needs_background": "light"
          },
          "output_type": "display_data"
        }
      ],
      "source": [
        "# Contagem de frequência dos intervalos\n",
        "year_counts_grouped = df['release_year_discretized'].value_counts().sort_index()\n",
        "\n",
        "# Plotando o gráfico de barras\n",
        "plt.figure(figsize=(10, 6))\n",
        "year_counts_grouped.plot(kind='bar')\n",
        "plt.title('Frequência de Lançamento Agrupada de 4 em 4 Anos (Discretizado com Índices)')\n",
        "plt.xlabel('Índice do Intervalo de Anos')\n",
        "plt.ylabel('Frequência')\n",
        "plt.xticks(rotation=0)\n",
        "plt.grid(axis='y', linestyle='--', alpha=0.7)\n",
        "plt.tight_layout()\n",
        "plt.show()"
      ]
    },
    {
      "cell_type": "code",
      "execution_count": 26,
      "metadata": {
        "colab": {
          "base_uri": "https://localhost:8080/",
          "height": 550
        },
        "id": "R9-o8VQpKGLs",
        "outputId": "80c89a42-8997-4a96-c76f-4d4d1dc07025"
      },
      "outputs": [
        {
          "data": {
            "text/html": [
              "<div>\n",
              "<style scoped>\n",
              "    .dataframe tbody tr th:only-of-type {\n",
              "        vertical-align: middle;\n",
              "    }\n",
              "\n",
              "    .dataframe tbody tr th {\n",
              "        vertical-align: top;\n",
              "    }\n",
              "\n",
              "    .dataframe thead th {\n",
              "        text-align: right;\n",
              "    }\n",
              "</style>\n",
              "<table border=\"1\" class=\"dataframe\">\n",
              "  <thead>\n",
              "    <tr style=\"text-align: right;\">\n",
              "      <th></th>\n",
              "      <th>popularity</th>\n",
              "      <th>genres</th>\n",
              "      <th>vote_count</th>\n",
              "      <th>vote_average</th>\n",
              "      <th>streaming_services</th>\n",
              "      <th>release_year_0</th>\n",
              "      <th>release_year_1</th>\n",
              "      <th>release_year_2</th>\n",
              "      <th>release_year_3</th>\n",
              "      <th>release_year_4</th>\n",
              "      <th>release_year_5</th>\n",
              "      <th>release_year_6</th>\n",
              "      <th>release_year_7</th>\n",
              "      <th>release_year_8</th>\n",
              "      <th>release_year_9</th>\n",
              "      <th>release_year_10</th>\n",
              "      <th>release_year_11</th>\n",
              "      <th>release_year_12</th>\n",
              "      <th>release_year_13</th>\n",
              "    </tr>\n",
              "  </thead>\n",
              "  <tbody>\n",
              "    <tr>\n",
              "      <th>0</th>\n",
              "      <td>32.985763</td>\n",
              "      <td>[Action, Adventure, Science Fiction, Thriller]</td>\n",
              "      <td>5562</td>\n",
              "      <td>6.5</td>\n",
              "      <td>[Max]</td>\n",
              "      <td>0</td>\n",
              "      <td>0</td>\n",
              "      <td>0</td>\n",
              "      <td>0</td>\n",
              "      <td>0</td>\n",
              "      <td>0</td>\n",
              "      <td>0</td>\n",
              "      <td>0</td>\n",
              "      <td>0</td>\n",
              "      <td>0</td>\n",
              "      <td>0</td>\n",
              "      <td>0</td>\n",
              "      <td>0</td>\n",
              "      <td>1</td>\n",
              "    </tr>\n",
              "    <tr>\n",
              "      <th>1</th>\n",
              "      <td>28.419936</td>\n",
              "      <td>[Action, Adventure, Science Fiction, Thriller]</td>\n",
              "      <td>6185</td>\n",
              "      <td>7.1</td>\n",
              "      <td>[Max]</td>\n",
              "      <td>0</td>\n",
              "      <td>0</td>\n",
              "      <td>0</td>\n",
              "      <td>0</td>\n",
              "      <td>0</td>\n",
              "      <td>0</td>\n",
              "      <td>0</td>\n",
              "      <td>0</td>\n",
              "      <td>0</td>\n",
              "      <td>0</td>\n",
              "      <td>0</td>\n",
              "      <td>0</td>\n",
              "      <td>0</td>\n",
              "      <td>1</td>\n",
              "    </tr>\n",
              "    <tr>\n",
              "      <th>2</th>\n",
              "      <td>13.112507</td>\n",
              "      <td>[Adventure, Science Fiction, Thriller]</td>\n",
              "      <td>2480</td>\n",
              "      <td>6.3</td>\n",
              "      <td>[Hulu]</td>\n",
              "      <td>0</td>\n",
              "      <td>0</td>\n",
              "      <td>0</td>\n",
              "      <td>0</td>\n",
              "      <td>0</td>\n",
              "      <td>0</td>\n",
              "      <td>0</td>\n",
              "      <td>0</td>\n",
              "      <td>0</td>\n",
              "      <td>0</td>\n",
              "      <td>0</td>\n",
              "      <td>0</td>\n",
              "      <td>0</td>\n",
              "      <td>1</td>\n",
              "    </tr>\n",
              "    <tr>\n",
              "      <th>3</th>\n",
              "      <td>11.173104</td>\n",
              "      <td>[Action, Adventure, Science Fiction, Fantasy]</td>\n",
              "      <td>5292</td>\n",
              "      <td>7.5</td>\n",
              "      <td>[Disney Plus]</td>\n",
              "      <td>0</td>\n",
              "      <td>0</td>\n",
              "      <td>0</td>\n",
              "      <td>0</td>\n",
              "      <td>0</td>\n",
              "      <td>0</td>\n",
              "      <td>0</td>\n",
              "      <td>0</td>\n",
              "      <td>0</td>\n",
              "      <td>0</td>\n",
              "      <td>0</td>\n",
              "      <td>0</td>\n",
              "      <td>0</td>\n",
              "      <td>1</td>\n",
              "    </tr>\n",
              "    <tr>\n",
              "      <th>4</th>\n",
              "      <td>9.335014</td>\n",
              "      <td>[Action, Crime, Thriller]</td>\n",
              "      <td>2947</td>\n",
              "      <td>7.3</td>\n",
              "      <td>[Max]</td>\n",
              "      <td>0</td>\n",
              "      <td>0</td>\n",
              "      <td>0</td>\n",
              "      <td>0</td>\n",
              "      <td>0</td>\n",
              "      <td>0</td>\n",
              "      <td>0</td>\n",
              "      <td>0</td>\n",
              "      <td>0</td>\n",
              "      <td>0</td>\n",
              "      <td>0</td>\n",
              "      <td>0</td>\n",
              "      <td>0</td>\n",
              "      <td>1</td>\n",
              "    </tr>\n",
              "  </tbody>\n",
              "</table>\n",
              "</div>"
            ],
            "text/plain": [
              "   popularity                                          genres  vote_count  \\\n",
              "0   32.985763  [Action, Adventure, Science Fiction, Thriller]        5562   \n",
              "1   28.419936  [Action, Adventure, Science Fiction, Thriller]        6185   \n",
              "2   13.112507          [Adventure, Science Fiction, Thriller]        2480   \n",
              "3   11.173104   [Action, Adventure, Science Fiction, Fantasy]        5292   \n",
              "4    9.335014                       [Action, Crime, Thriller]        2947   \n",
              "\n",
              "   vote_average streaming_services  release_year_0  release_year_1  \\\n",
              "0           6.5              [Max]               0               0   \n",
              "1           7.1              [Max]               0               0   \n",
              "2           6.3             [Hulu]               0               0   \n",
              "3           7.5      [Disney Plus]               0               0   \n",
              "4           7.3              [Max]               0               0   \n",
              "\n",
              "   release_year_2  release_year_3  release_year_4  release_year_5  \\\n",
              "0               0               0               0               0   \n",
              "1               0               0               0               0   \n",
              "2               0               0               0               0   \n",
              "3               0               0               0               0   \n",
              "4               0               0               0               0   \n",
              "\n",
              "   release_year_6  release_year_7  release_year_8  release_year_9  \\\n",
              "0               0               0               0               0   \n",
              "1               0               0               0               0   \n",
              "2               0               0               0               0   \n",
              "3               0               0               0               0   \n",
              "4               0               0               0               0   \n",
              "\n",
              "   release_year_10  release_year_11  release_year_12  release_year_13  \n",
              "0                0                0                0                1  \n",
              "1                0                0                0                1  \n",
              "2                0                0                0                1  \n",
              "3                0                0                0                1  \n",
              "4                0                0                0                1  "
            ]
          },
          "execution_count": 26,
          "metadata": {},
          "output_type": "execute_result"
        }
      ],
      "source": [
        "# Aplicando o one-hot encoding\n",
        "df_one_hot = pd.get_dummies(df['release_year_discretized'], prefix='release_year').astype('int')\n",
        "\n",
        "# Concatenando o DataFrame original com o DataFrame one-hot encoded\n",
        "df = pd.concat([df, df_one_hot], axis=1)\n",
        "df.drop(columns=['release_year', 'release_year_discretized'], inplace=True)\n",
        "df.head()"
      ]
    },
    {
      "cell_type": "markdown",
      "metadata": {
        "id": "sEwsSPjyK4pN"
      },
      "source": [
        "**Codificação Binária de \"Streaming Services\"**"
      ]
    },
    {
      "cell_type": "code",
      "execution_count": 27,
      "metadata": {
        "colab": {
          "base_uri": "https://localhost:8080/",
          "height": 423
        },
        "id": "ZEBc1051FL5J",
        "outputId": "1730ffa2-8e4c-4920-9b00-6fb8d18d4ec3"
      },
      "outputs": [
        {
          "data": {
            "text/html": [
              "<div>\n",
              "<style scoped>\n",
              "    .dataframe tbody tr th:only-of-type {\n",
              "        vertical-align: middle;\n",
              "    }\n",
              "\n",
              "    .dataframe tbody tr th {\n",
              "        vertical-align: top;\n",
              "    }\n",
              "\n",
              "    .dataframe thead th {\n",
              "        text-align: right;\n",
              "    }\n",
              "</style>\n",
              "<table border=\"1\" class=\"dataframe\">\n",
              "  <thead>\n",
              "    <tr style=\"text-align: right;\">\n",
              "      <th></th>\n",
              "      <th>Amazon Prime Video</th>\n",
              "      <th>Disney Plus</th>\n",
              "      <th>Hulu</th>\n",
              "      <th>Max</th>\n",
              "      <th>Netflix</th>\n",
              "    </tr>\n",
              "  </thead>\n",
              "  <tbody>\n",
              "    <tr>\n",
              "      <th>0</th>\n",
              "      <td>0</td>\n",
              "      <td>0</td>\n",
              "      <td>0</td>\n",
              "      <td>1</td>\n",
              "      <td>0</td>\n",
              "    </tr>\n",
              "    <tr>\n",
              "      <th>1</th>\n",
              "      <td>0</td>\n",
              "      <td>0</td>\n",
              "      <td>0</td>\n",
              "      <td>1</td>\n",
              "      <td>0</td>\n",
              "    </tr>\n",
              "    <tr>\n",
              "      <th>2</th>\n",
              "      <td>0</td>\n",
              "      <td>0</td>\n",
              "      <td>1</td>\n",
              "      <td>0</td>\n",
              "      <td>0</td>\n",
              "    </tr>\n",
              "    <tr>\n",
              "      <th>3</th>\n",
              "      <td>0</td>\n",
              "      <td>1</td>\n",
              "      <td>0</td>\n",
              "      <td>0</td>\n",
              "      <td>0</td>\n",
              "    </tr>\n",
              "    <tr>\n",
              "      <th>4</th>\n",
              "      <td>0</td>\n",
              "      <td>0</td>\n",
              "      <td>0</td>\n",
              "      <td>1</td>\n",
              "      <td>0</td>\n",
              "    </tr>\n",
              "    <tr>\n",
              "      <th>...</th>\n",
              "      <td>...</td>\n",
              "      <td>...</td>\n",
              "      <td>...</td>\n",
              "      <td>...</td>\n",
              "      <td>...</td>\n",
              "    </tr>\n",
              "    <tr>\n",
              "      <th>10860</th>\n",
              "      <td>1</td>\n",
              "      <td>0</td>\n",
              "      <td>0</td>\n",
              "      <td>0</td>\n",
              "      <td>0</td>\n",
              "    </tr>\n",
              "    <tr>\n",
              "      <th>10861</th>\n",
              "      <td>0</td>\n",
              "      <td>0</td>\n",
              "      <td>0</td>\n",
              "      <td>0</td>\n",
              "      <td>0</td>\n",
              "    </tr>\n",
              "    <tr>\n",
              "      <th>10862</th>\n",
              "      <td>0</td>\n",
              "      <td>0</td>\n",
              "      <td>0</td>\n",
              "      <td>0</td>\n",
              "      <td>0</td>\n",
              "    </tr>\n",
              "    <tr>\n",
              "      <th>10863</th>\n",
              "      <td>0</td>\n",
              "      <td>0</td>\n",
              "      <td>0</td>\n",
              "      <td>0</td>\n",
              "      <td>0</td>\n",
              "    </tr>\n",
              "    <tr>\n",
              "      <th>10864</th>\n",
              "      <td>1</td>\n",
              "      <td>0</td>\n",
              "      <td>0</td>\n",
              "      <td>0</td>\n",
              "      <td>0</td>\n",
              "    </tr>\n",
              "  </tbody>\n",
              "</table>\n",
              "<p>10865 rows × 5 columns</p>\n",
              "</div>"
            ],
            "text/plain": [
              "       Amazon Prime Video  Disney Plus  Hulu  Max  Netflix\n",
              "0                       0            0     0    1        0\n",
              "1                       0            0     0    1        0\n",
              "2                       0            0     1    0        0\n",
              "3                       0            1     0    0        0\n",
              "4                       0            0     0    1        0\n",
              "...                   ...          ...   ...  ...      ...\n",
              "10860                   1            0     0    0        0\n",
              "10861                   0            0     0    0        0\n",
              "10862                   0            0     0    0        0\n",
              "10863                   0            0     0    0        0\n",
              "10864                   1            0     0    0        0\n",
              "\n",
              "[10865 rows x 5 columns]"
            ]
          },
          "execution_count": 27,
          "metadata": {},
          "output_type": "execute_result"
        }
      ],
      "source": [
        "# Codifica os possíveis valores de streaming services para binário\n",
        "mlb_services = MultiLabelBinarizer()\n",
        "services_encoded = mlb_services.fit_transform(df['streaming_services'])\n",
        "\n",
        "# Separa os dados de streaming services codificados\n",
        "services_df = pd.DataFrame(services_encoded, columns=mlb_services.classes_)\n",
        "services_df"
      ]
    },
    {
      "cell_type": "code",
      "execution_count": 28,
      "metadata": {
        "colab": {
          "base_uri": "https://localhost:8080/",
          "height": 585
        },
        "id": "S-BkZrY_K37O",
        "outputId": "26c48e7a-32f5-4a0c-f467-5ce7f1a54393"
      },
      "outputs": [
        {
          "data": {
            "text/html": [
              "<div>\n",
              "<style scoped>\n",
              "    .dataframe tbody tr th:only-of-type {\n",
              "        vertical-align: middle;\n",
              "    }\n",
              "\n",
              "    .dataframe tbody tr th {\n",
              "        vertical-align: top;\n",
              "    }\n",
              "\n",
              "    .dataframe thead th {\n",
              "        text-align: right;\n",
              "    }\n",
              "</style>\n",
              "<table border=\"1\" class=\"dataframe\">\n",
              "  <thead>\n",
              "    <tr style=\"text-align: right;\">\n",
              "      <th></th>\n",
              "      <th>popularity</th>\n",
              "      <th>genres</th>\n",
              "      <th>vote_count</th>\n",
              "      <th>vote_average</th>\n",
              "      <th>release_year_0</th>\n",
              "      <th>release_year_1</th>\n",
              "      <th>release_year_2</th>\n",
              "      <th>release_year_3</th>\n",
              "      <th>release_year_4</th>\n",
              "      <th>release_year_5</th>\n",
              "      <th>...</th>\n",
              "      <th>release_year_9</th>\n",
              "      <th>release_year_10</th>\n",
              "      <th>release_year_11</th>\n",
              "      <th>release_year_12</th>\n",
              "      <th>release_year_13</th>\n",
              "      <th>Amazon Prime Video</th>\n",
              "      <th>Disney Plus</th>\n",
              "      <th>Hulu</th>\n",
              "      <th>Max</th>\n",
              "      <th>Netflix</th>\n",
              "    </tr>\n",
              "  </thead>\n",
              "  <tbody>\n",
              "    <tr>\n",
              "      <th>0</th>\n",
              "      <td>32.985763</td>\n",
              "      <td>[Action, Adventure, Science Fiction, Thriller]</td>\n",
              "      <td>5562</td>\n",
              "      <td>6.5</td>\n",
              "      <td>0</td>\n",
              "      <td>0</td>\n",
              "      <td>0</td>\n",
              "      <td>0</td>\n",
              "      <td>0</td>\n",
              "      <td>0</td>\n",
              "      <td>...</td>\n",
              "      <td>0</td>\n",
              "      <td>0</td>\n",
              "      <td>0</td>\n",
              "      <td>0</td>\n",
              "      <td>1</td>\n",
              "      <td>0</td>\n",
              "      <td>0</td>\n",
              "      <td>0</td>\n",
              "      <td>1</td>\n",
              "      <td>0</td>\n",
              "    </tr>\n",
              "    <tr>\n",
              "      <th>1</th>\n",
              "      <td>28.419936</td>\n",
              "      <td>[Action, Adventure, Science Fiction, Thriller]</td>\n",
              "      <td>6185</td>\n",
              "      <td>7.1</td>\n",
              "      <td>0</td>\n",
              "      <td>0</td>\n",
              "      <td>0</td>\n",
              "      <td>0</td>\n",
              "      <td>0</td>\n",
              "      <td>0</td>\n",
              "      <td>...</td>\n",
              "      <td>0</td>\n",
              "      <td>0</td>\n",
              "      <td>0</td>\n",
              "      <td>0</td>\n",
              "      <td>1</td>\n",
              "      <td>0</td>\n",
              "      <td>0</td>\n",
              "      <td>0</td>\n",
              "      <td>1</td>\n",
              "      <td>0</td>\n",
              "    </tr>\n",
              "    <tr>\n",
              "      <th>2</th>\n",
              "      <td>13.112507</td>\n",
              "      <td>[Adventure, Science Fiction, Thriller]</td>\n",
              "      <td>2480</td>\n",
              "      <td>6.3</td>\n",
              "      <td>0</td>\n",
              "      <td>0</td>\n",
              "      <td>0</td>\n",
              "      <td>0</td>\n",
              "      <td>0</td>\n",
              "      <td>0</td>\n",
              "      <td>...</td>\n",
              "      <td>0</td>\n",
              "      <td>0</td>\n",
              "      <td>0</td>\n",
              "      <td>0</td>\n",
              "      <td>1</td>\n",
              "      <td>0</td>\n",
              "      <td>0</td>\n",
              "      <td>1</td>\n",
              "      <td>0</td>\n",
              "      <td>0</td>\n",
              "    </tr>\n",
              "    <tr>\n",
              "      <th>3</th>\n",
              "      <td>11.173104</td>\n",
              "      <td>[Action, Adventure, Science Fiction, Fantasy]</td>\n",
              "      <td>5292</td>\n",
              "      <td>7.5</td>\n",
              "      <td>0</td>\n",
              "      <td>0</td>\n",
              "      <td>0</td>\n",
              "      <td>0</td>\n",
              "      <td>0</td>\n",
              "      <td>0</td>\n",
              "      <td>...</td>\n",
              "      <td>0</td>\n",
              "      <td>0</td>\n",
              "      <td>0</td>\n",
              "      <td>0</td>\n",
              "      <td>1</td>\n",
              "      <td>0</td>\n",
              "      <td>1</td>\n",
              "      <td>0</td>\n",
              "      <td>0</td>\n",
              "      <td>0</td>\n",
              "    </tr>\n",
              "    <tr>\n",
              "      <th>4</th>\n",
              "      <td>9.335014</td>\n",
              "      <td>[Action, Crime, Thriller]</td>\n",
              "      <td>2947</td>\n",
              "      <td>7.3</td>\n",
              "      <td>0</td>\n",
              "      <td>0</td>\n",
              "      <td>0</td>\n",
              "      <td>0</td>\n",
              "      <td>0</td>\n",
              "      <td>0</td>\n",
              "      <td>...</td>\n",
              "      <td>0</td>\n",
              "      <td>0</td>\n",
              "      <td>0</td>\n",
              "      <td>0</td>\n",
              "      <td>1</td>\n",
              "      <td>0</td>\n",
              "      <td>0</td>\n",
              "      <td>0</td>\n",
              "      <td>1</td>\n",
              "      <td>0</td>\n",
              "    </tr>\n",
              "  </tbody>\n",
              "</table>\n",
              "<p>5 rows × 23 columns</p>\n",
              "</div>"
            ],
            "text/plain": [
              "   popularity                                          genres  vote_count  \\\n",
              "0   32.985763  [Action, Adventure, Science Fiction, Thriller]        5562   \n",
              "1   28.419936  [Action, Adventure, Science Fiction, Thriller]        6185   \n",
              "2   13.112507          [Adventure, Science Fiction, Thriller]        2480   \n",
              "3   11.173104   [Action, Adventure, Science Fiction, Fantasy]        5292   \n",
              "4    9.335014                       [Action, Crime, Thriller]        2947   \n",
              "\n",
              "   vote_average  release_year_0  release_year_1  release_year_2  \\\n",
              "0           6.5               0               0               0   \n",
              "1           7.1               0               0               0   \n",
              "2           6.3               0               0               0   \n",
              "3           7.5               0               0               0   \n",
              "4           7.3               0               0               0   \n",
              "\n",
              "   release_year_3  release_year_4  release_year_5  ...  release_year_9  \\\n",
              "0               0               0               0  ...               0   \n",
              "1               0               0               0  ...               0   \n",
              "2               0               0               0  ...               0   \n",
              "3               0               0               0  ...               0   \n",
              "4               0               0               0  ...               0   \n",
              "\n",
              "   release_year_10  release_year_11  release_year_12  release_year_13  \\\n",
              "0                0                0                0                1   \n",
              "1                0                0                0                1   \n",
              "2                0                0                0                1   \n",
              "3                0                0                0                1   \n",
              "4                0                0                0                1   \n",
              "\n",
              "   Amazon Prime Video  Disney Plus  Hulu  Max  Netflix  \n",
              "0                   0            0     0    1        0  \n",
              "1                   0            0     0    1        0  \n",
              "2                   0            0     1    0        0  \n",
              "3                   0            1     0    0        0  \n",
              "4                   0            0     0    1        0  \n",
              "\n",
              "[5 rows x 23 columns]"
            ]
          },
          "execution_count": 28,
          "metadata": {},
          "output_type": "execute_result"
        }
      ],
      "source": [
        "# Adiciona as colunas das categorias de serviço de streaming ao DataFrame original\n",
        "df = pd.concat([df.reset_index(drop=True), services_df.reset_index(drop=True)], axis=1)\n",
        "\n",
        "# Remove a coluna 'streaming_services', pois ela não será mais necessária após a codificação\n",
        "df.drop(columns=['streaming_services'], inplace=True)\n",
        "df.head()"
      ]
    },
    {
      "cell_type": "code",
      "execution_count": 29,
      "metadata": {
        "colab": {
          "base_uri": "https://localhost:8080/"
        },
        "id": "w-XFEEGxERxo",
        "outputId": "c036ab35-7e8d-42f1-ffdf-a1a14de7a6df"
      },
      "outputs": [
        {
          "data": {
            "text/plain": [
              "Index(['popularity', 'genres', 'vote_count', 'vote_average', 'release_year_0',\n",
              "       'release_year_1', 'release_year_2', 'release_year_3', 'release_year_4',\n",
              "       'release_year_5', 'release_year_6', 'release_year_7', 'release_year_8',\n",
              "       'release_year_9', 'release_year_10', 'release_year_11',\n",
              "       'release_year_12', 'release_year_13', 'Amazon Prime Video',\n",
              "       'Disney Plus', 'Hulu', 'Max', 'Netflix'],\n",
              "      dtype='object')"
            ]
          },
          "execution_count": 29,
          "metadata": {},
          "output_type": "execute_result"
        }
      ],
      "source": [
        "df.columns"
      ]
    },
    {
      "cell_type": "markdown",
      "metadata": {
        "id": "pII42Lo2Lnyi"
      },
      "source": [
        "**Tratamento dos dados ausentes em \"genres\"**"
      ]
    },
    {
      "cell_type": "markdown",
      "metadata": {
        "id": "rEELifPpo8Gc"
      },
      "source": [
        "Primeiro, separamos os dados ausentes do restante do DataFrame. Em seguida, codificamos os valores dos gêneros de filmes para que possam ser utilizados pelo modelo, que será treinado para preencher esses valores ausentes."
      ]
    },
    {
      "cell_type": "code",
      "execution_count": 30,
      "metadata": {
        "id": "AyUfznjaWIQK"
      },
      "outputs": [],
      "source": [
        "#Dataframe com valores ausentes para a coluna \"genres\"\n",
        "df_na = df[df['genres'].isna()]\n",
        "#Dataframe sem valores ausentes para a coluna \"genres\"\n",
        "df_not_na = df[~df['genres'].isna()]"
      ]
    },
    {
      "cell_type": "code",
      "execution_count": 31,
      "metadata": {
        "colab": {
          "base_uri": "https://localhost:8080/"
        },
        "id": "anXzx1NFWMb6",
        "outputId": "584870e6-4c56-40bb-d4c8-989e46b8734b"
      },
      "outputs": [
        {
          "data": {
            "text/plain": [
              "array([[1, 1, 0, ..., 1, 0, 0],\n",
              "       [1, 1, 0, ..., 1, 0, 0],\n",
              "       [0, 1, 0, ..., 1, 0, 0],\n",
              "       ...,\n",
              "       [0, 0, 0, ..., 0, 0, 0],\n",
              "       [1, 0, 0, ..., 0, 0, 0],\n",
              "       [0, 0, 0, ..., 0, 0, 0]])"
            ]
          },
          "execution_count": 31,
          "metadata": {},
          "output_type": "execute_result"
        }
      ],
      "source": [
        "#Codifica os possíveis valores de gêneros para binário\n",
        "mlb = MultiLabelBinarizer()\n",
        "genres_encoded = mlb.fit_transform(df_not_na['genres'])\n",
        "genres_encoded"
      ]
    },
    {
      "cell_type": "markdown",
      "metadata": {
        "id": "-MYLA-AhiQVY"
      },
      "source": [
        "Lidando apenas com dados numéricos agora, separamos as características (features) e o alvo (target) - que são os gêneros - e empregamos um pipeline para simplificar a normalização dos dados e a construção do modelo. Optamos por utilizar um modelo de Random Forest com múltiplas saídas para esta tarefa."
      ]
    },
    {
      "cell_type": "code",
      "execution_count": 32,
      "metadata": {
        "id": "9nSMsWViWo-6"
      },
      "outputs": [],
      "source": [
        "#Separa os dados em features e target\n",
        "X = df_not_na.drop(columns=['genres'])\n",
        "y = pd.DataFrame(genres_encoded, columns=mlb.classes_)"
      ]
    },
    {
      "cell_type": "code",
      "execution_count": 33,
      "metadata": {
        "id": "foPKa1IxCDPr"
      },
      "outputs": [],
      "source": [
        "#Features numéricas\n",
        "numeric_features = X.select_dtypes(exclude=['object']).columns\n",
        "\n",
        "#Pipeline para normalizar as variáveis numéricas\n",
        "numeric_transformer = Pipeline(steps=[\n",
        "    ('scaler', MinMaxScaler())\n",
        "])\n",
        "\n",
        "#Combina as transformações em uma única transformação\n",
        "preprocessor = ColumnTransformer(\n",
        "    transformers=[\n",
        "        ('num', numeric_transformer, numeric_features)\n",
        "    ],\n",
        "    remainder='passthrough'  #Passa todas as outras colunas não especificadas\n",
        ")\n"
      ]
    },
    {
      "cell_type": "code",
      "execution_count": 34,
      "metadata": {
        "id": "AnBf3tJJCobM"
      },
      "outputs": [],
      "source": [
        "model = Pipeline(steps=[\n",
        "    ('preprocessor', preprocessor),\n",
        "    ('classifier', MultiOutputClassifier(RandomForestClassifier(random_state=42)))\n",
        "])"
      ]
    },
    {
      "cell_type": "code",
      "execution_count": 35,
      "metadata": {
        "colab": {
          "base_uri": "https://localhost:8080/",
          "height": 256
        },
        "id": "vO3ftwDiXcrP",
        "outputId": "f1fa99af-9c1e-451e-fc3f-605397abde8b"
      },
      "outputs": [
        {
          "data": {
            "text/html": [
              "<style>#sk-container-id-1 {\n",
              "  /* Definition of color scheme common for light and dark mode */\n",
              "  --sklearn-color-text: black;\n",
              "  --sklearn-color-line: gray;\n",
              "  /* Definition of color scheme for unfitted estimators */\n",
              "  --sklearn-color-unfitted-level-0: #fff5e6;\n",
              "  --sklearn-color-unfitted-level-1: #f6e4d2;\n",
              "  --sklearn-color-unfitted-level-2: #ffe0b3;\n",
              "  --sklearn-color-unfitted-level-3: chocolate;\n",
              "  /* Definition of color scheme for fitted estimators */\n",
              "  --sklearn-color-fitted-level-0: #f0f8ff;\n",
              "  --sklearn-color-fitted-level-1: #d4ebff;\n",
              "  --sklearn-color-fitted-level-2: #b3dbfd;\n",
              "  --sklearn-color-fitted-level-3: cornflowerblue;\n",
              "\n",
              "  /* Specific color for light theme */\n",
              "  --sklearn-color-text-on-default-background: var(--sg-text-color, var(--theme-code-foreground, var(--jp-content-font-color1, black)));\n",
              "  --sklearn-color-background: var(--sg-background-color, var(--theme-background, var(--jp-layout-color0, white)));\n",
              "  --sklearn-color-border-box: var(--sg-text-color, var(--theme-code-foreground, var(--jp-content-font-color1, black)));\n",
              "  --sklearn-color-icon: #696969;\n",
              "\n",
              "  @media (prefers-color-scheme: dark) {\n",
              "    /* Redefinition of color scheme for dark theme */\n",
              "    --sklearn-color-text-on-default-background: var(--sg-text-color, var(--theme-code-foreground, var(--jp-content-font-color1, white)));\n",
              "    --sklearn-color-background: var(--sg-background-color, var(--theme-background, var(--jp-layout-color0, #111)));\n",
              "    --sklearn-color-border-box: var(--sg-text-color, var(--theme-code-foreground, var(--jp-content-font-color1, white)));\n",
              "    --sklearn-color-icon: #878787;\n",
              "  }\n",
              "}\n",
              "\n",
              "#sk-container-id-1 {\n",
              "  color: var(--sklearn-color-text);\n",
              "}\n",
              "\n",
              "#sk-container-id-1 pre {\n",
              "  padding: 0;\n",
              "}\n",
              "\n",
              "#sk-container-id-1 input.sk-hidden--visually {\n",
              "  border: 0;\n",
              "  clip: rect(1px 1px 1px 1px);\n",
              "  clip: rect(1px, 1px, 1px, 1px);\n",
              "  height: 1px;\n",
              "  margin: -1px;\n",
              "  overflow: hidden;\n",
              "  padding: 0;\n",
              "  position: absolute;\n",
              "  width: 1px;\n",
              "}\n",
              "\n",
              "#sk-container-id-1 div.sk-dashed-wrapped {\n",
              "  border: 1px dashed var(--sklearn-color-line);\n",
              "  margin: 0 0.4em 0.5em 0.4em;\n",
              "  box-sizing: border-box;\n",
              "  padding-bottom: 0.4em;\n",
              "  background-color: var(--sklearn-color-background);\n",
              "}\n",
              "\n",
              "#sk-container-id-1 div.sk-container {\n",
              "  /* jupyter's `normalize.less` sets `[hidden] { display: none; }`\n",
              "     but bootstrap.min.css set `[hidden] { display: none !important; }`\n",
              "     so we also need the `!important` here to be able to override the\n",
              "     default hidden behavior on the sphinx rendered scikit-learn.org.\n",
              "     See: https://github.com/scikit-learn/scikit-learn/issues/21755 */\n",
              "  display: inline-block !important;\n",
              "  position: relative;\n",
              "}\n",
              "\n",
              "#sk-container-id-1 div.sk-text-repr-fallback {\n",
              "  display: none;\n",
              "}\n",
              "\n",
              "div.sk-parallel-item,\n",
              "div.sk-serial,\n",
              "div.sk-item {\n",
              "  /* draw centered vertical line to link estimators */\n",
              "  background-image: linear-gradient(var(--sklearn-color-text-on-default-background), var(--sklearn-color-text-on-default-background));\n",
              "  background-size: 2px 100%;\n",
              "  background-repeat: no-repeat;\n",
              "  background-position: center center;\n",
              "}\n",
              "\n",
              "/* Parallel-specific style estimator block */\n",
              "\n",
              "#sk-container-id-1 div.sk-parallel-item::after {\n",
              "  content: \"\";\n",
              "  width: 100%;\n",
              "  border-bottom: 2px solid var(--sklearn-color-text-on-default-background);\n",
              "  flex-grow: 1;\n",
              "}\n",
              "\n",
              "#sk-container-id-1 div.sk-parallel {\n",
              "  display: flex;\n",
              "  align-items: stretch;\n",
              "  justify-content: center;\n",
              "  background-color: var(--sklearn-color-background);\n",
              "  position: relative;\n",
              "}\n",
              "\n",
              "#sk-container-id-1 div.sk-parallel-item {\n",
              "  display: flex;\n",
              "  flex-direction: column;\n",
              "}\n",
              "\n",
              "#sk-container-id-1 div.sk-parallel-item:first-child::after {\n",
              "  align-self: flex-end;\n",
              "  width: 50%;\n",
              "}\n",
              "\n",
              "#sk-container-id-1 div.sk-parallel-item:last-child::after {\n",
              "  align-self: flex-start;\n",
              "  width: 50%;\n",
              "}\n",
              "\n",
              "#sk-container-id-1 div.sk-parallel-item:only-child::after {\n",
              "  width: 0;\n",
              "}\n",
              "\n",
              "/* Serial-specific style estimator block */\n",
              "\n",
              "#sk-container-id-1 div.sk-serial {\n",
              "  display: flex;\n",
              "  flex-direction: column;\n",
              "  align-items: center;\n",
              "  background-color: var(--sklearn-color-background);\n",
              "  padding-right: 1em;\n",
              "  padding-left: 1em;\n",
              "}\n",
              "\n",
              "\n",
              "/* Toggleable style: style used for estimator/Pipeline/ColumnTransformer box that is\n",
              "clickable and can be expanded/collapsed.\n",
              "- Pipeline and ColumnTransformer use this feature and define the default style\n",
              "- Estimators will overwrite some part of the style using the `sk-estimator` class\n",
              "*/\n",
              "\n",
              "/* Pipeline and ColumnTransformer style (default) */\n",
              "\n",
              "#sk-container-id-1 div.sk-toggleable {\n",
              "  /* Default theme specific background. It is overwritten whether we have a\n",
              "  specific estimator or a Pipeline/ColumnTransformer */\n",
              "  background-color: var(--sklearn-color-background);\n",
              "}\n",
              "\n",
              "/* Toggleable label */\n",
              "#sk-container-id-1 label.sk-toggleable__label {\n",
              "  cursor: pointer;\n",
              "  display: block;\n",
              "  width: 100%;\n",
              "  margin-bottom: 0;\n",
              "  padding: 0.5em;\n",
              "  box-sizing: border-box;\n",
              "  text-align: center;\n",
              "}\n",
              "\n",
              "#sk-container-id-1 label.sk-toggleable__label-arrow:before {\n",
              "  /* Arrow on the left of the label */\n",
              "  content: \"▸\";\n",
              "  float: left;\n",
              "  margin-right: 0.25em;\n",
              "  color: var(--sklearn-color-icon);\n",
              "}\n",
              "\n",
              "#sk-container-id-1 label.sk-toggleable__label-arrow:hover:before {\n",
              "  color: var(--sklearn-color-text);\n",
              "}\n",
              "\n",
              "/* Toggleable content - dropdown */\n",
              "\n",
              "#sk-container-id-1 div.sk-toggleable__content {\n",
              "  max-height: 0;\n",
              "  max-width: 0;\n",
              "  overflow: hidden;\n",
              "  text-align: left;\n",
              "  /* unfitted */\n",
              "  background-color: var(--sklearn-color-unfitted-level-0);\n",
              "}\n",
              "\n",
              "#sk-container-id-1 div.sk-toggleable__content.fitted {\n",
              "  /* fitted */\n",
              "  background-color: var(--sklearn-color-fitted-level-0);\n",
              "}\n",
              "\n",
              "#sk-container-id-1 div.sk-toggleable__content pre {\n",
              "  margin: 0.2em;\n",
              "  border-radius: 0.25em;\n",
              "  color: var(--sklearn-color-text);\n",
              "  /* unfitted */\n",
              "  background-color: var(--sklearn-color-unfitted-level-0);\n",
              "}\n",
              "\n",
              "#sk-container-id-1 div.sk-toggleable__content.fitted pre {\n",
              "  /* unfitted */\n",
              "  background-color: var(--sklearn-color-fitted-level-0);\n",
              "}\n",
              "\n",
              "#sk-container-id-1 input.sk-toggleable__control:checked~div.sk-toggleable__content {\n",
              "  /* Expand drop-down */\n",
              "  max-height: 200px;\n",
              "  max-width: 100%;\n",
              "  overflow: auto;\n",
              "}\n",
              "\n",
              "#sk-container-id-1 input.sk-toggleable__control:checked~label.sk-toggleable__label-arrow:before {\n",
              "  content: \"▾\";\n",
              "}\n",
              "\n",
              "/* Pipeline/ColumnTransformer-specific style */\n",
              "\n",
              "#sk-container-id-1 div.sk-label input.sk-toggleable__control:checked~label.sk-toggleable__label {\n",
              "  color: var(--sklearn-color-text);\n",
              "  background-color: var(--sklearn-color-unfitted-level-2);\n",
              "}\n",
              "\n",
              "#sk-container-id-1 div.sk-label.fitted input.sk-toggleable__control:checked~label.sk-toggleable__label {\n",
              "  background-color: var(--sklearn-color-fitted-level-2);\n",
              "}\n",
              "\n",
              "/* Estimator-specific style */\n",
              "\n",
              "/* Colorize estimator box */\n",
              "#sk-container-id-1 div.sk-estimator input.sk-toggleable__control:checked~label.sk-toggleable__label {\n",
              "  /* unfitted */\n",
              "  background-color: var(--sklearn-color-unfitted-level-2);\n",
              "}\n",
              "\n",
              "#sk-container-id-1 div.sk-estimator.fitted input.sk-toggleable__control:checked~label.sk-toggleable__label {\n",
              "  /* fitted */\n",
              "  background-color: var(--sklearn-color-fitted-level-2);\n",
              "}\n",
              "\n",
              "#sk-container-id-1 div.sk-label label.sk-toggleable__label,\n",
              "#sk-container-id-1 div.sk-label label {\n",
              "  /* The background is the default theme color */\n",
              "  color: var(--sklearn-color-text-on-default-background);\n",
              "}\n",
              "\n",
              "/* On hover, darken the color of the background */\n",
              "#sk-container-id-1 div.sk-label:hover label.sk-toggleable__label {\n",
              "  color: var(--sklearn-color-text);\n",
              "  background-color: var(--sklearn-color-unfitted-level-2);\n",
              "}\n",
              "\n",
              "/* Label box, darken color on hover, fitted */\n",
              "#sk-container-id-1 div.sk-label.fitted:hover label.sk-toggleable__label.fitted {\n",
              "  color: var(--sklearn-color-text);\n",
              "  background-color: var(--sklearn-color-fitted-level-2);\n",
              "}\n",
              "\n",
              "/* Estimator label */\n",
              "\n",
              "#sk-container-id-1 div.sk-label label {\n",
              "  font-family: monospace;\n",
              "  font-weight: bold;\n",
              "  display: inline-block;\n",
              "  line-height: 1.2em;\n",
              "}\n",
              "\n",
              "#sk-container-id-1 div.sk-label-container {\n",
              "  text-align: center;\n",
              "}\n",
              "\n",
              "/* Estimator-specific */\n",
              "#sk-container-id-1 div.sk-estimator {\n",
              "  font-family: monospace;\n",
              "  border: 1px dotted var(--sklearn-color-border-box);\n",
              "  border-radius: 0.25em;\n",
              "  box-sizing: border-box;\n",
              "  margin-bottom: 0.5em;\n",
              "  /* unfitted */\n",
              "  background-color: var(--sklearn-color-unfitted-level-0);\n",
              "}\n",
              "\n",
              "#sk-container-id-1 div.sk-estimator.fitted {\n",
              "  /* fitted */\n",
              "  background-color: var(--sklearn-color-fitted-level-0);\n",
              "}\n",
              "\n",
              "/* on hover */\n",
              "#sk-container-id-1 div.sk-estimator:hover {\n",
              "  /* unfitted */\n",
              "  background-color: var(--sklearn-color-unfitted-level-2);\n",
              "}\n",
              "\n",
              "#sk-container-id-1 div.sk-estimator.fitted:hover {\n",
              "  /* fitted */\n",
              "  background-color: var(--sklearn-color-fitted-level-2);\n",
              "}\n",
              "\n",
              "/* Specification for estimator info (e.g. \"i\" and \"?\") */\n",
              "\n",
              "/* Common style for \"i\" and \"?\" */\n",
              "\n",
              ".sk-estimator-doc-link,\n",
              "a:link.sk-estimator-doc-link,\n",
              "a:visited.sk-estimator-doc-link {\n",
              "  float: right;\n",
              "  font-size: smaller;\n",
              "  line-height: 1em;\n",
              "  font-family: monospace;\n",
              "  background-color: var(--sklearn-color-background);\n",
              "  border-radius: 1em;\n",
              "  height: 1em;\n",
              "  width: 1em;\n",
              "  text-decoration: none !important;\n",
              "  margin-left: 1ex;\n",
              "  /* unfitted */\n",
              "  border: var(--sklearn-color-unfitted-level-1) 1pt solid;\n",
              "  color: var(--sklearn-color-unfitted-level-1);\n",
              "}\n",
              "\n",
              ".sk-estimator-doc-link.fitted,\n",
              "a:link.sk-estimator-doc-link.fitted,\n",
              "a:visited.sk-estimator-doc-link.fitted {\n",
              "  /* fitted */\n",
              "  border: var(--sklearn-color-fitted-level-1) 1pt solid;\n",
              "  color: var(--sklearn-color-fitted-level-1);\n",
              "}\n",
              "\n",
              "/* On hover */\n",
              "div.sk-estimator:hover .sk-estimator-doc-link:hover,\n",
              ".sk-estimator-doc-link:hover,\n",
              "div.sk-label-container:hover .sk-estimator-doc-link:hover,\n",
              ".sk-estimator-doc-link:hover {\n",
              "  /* unfitted */\n",
              "  background-color: var(--sklearn-color-unfitted-level-3);\n",
              "  color: var(--sklearn-color-background);\n",
              "  text-decoration: none;\n",
              "}\n",
              "\n",
              "div.sk-estimator.fitted:hover .sk-estimator-doc-link.fitted:hover,\n",
              ".sk-estimator-doc-link.fitted:hover,\n",
              "div.sk-label-container:hover .sk-estimator-doc-link.fitted:hover,\n",
              ".sk-estimator-doc-link.fitted:hover {\n",
              "  /* fitted */\n",
              "  background-color: var(--sklearn-color-fitted-level-3);\n",
              "  color: var(--sklearn-color-background);\n",
              "  text-decoration: none;\n",
              "}\n",
              "\n",
              "/* Span, style for the box shown on hovering the info icon */\n",
              ".sk-estimator-doc-link span {\n",
              "  display: none;\n",
              "  z-index: 9999;\n",
              "  position: relative;\n",
              "  font-weight: normal;\n",
              "  right: .2ex;\n",
              "  padding: .5ex;\n",
              "  margin: .5ex;\n",
              "  width: min-content;\n",
              "  min-width: 20ex;\n",
              "  max-width: 50ex;\n",
              "  color: var(--sklearn-color-text);\n",
              "  box-shadow: 2pt 2pt 4pt #999;\n",
              "  /* unfitted */\n",
              "  background: var(--sklearn-color-unfitted-level-0);\n",
              "  border: .5pt solid var(--sklearn-color-unfitted-level-3);\n",
              "}\n",
              "\n",
              ".sk-estimator-doc-link.fitted span {\n",
              "  /* fitted */\n",
              "  background: var(--sklearn-color-fitted-level-0);\n",
              "  border: var(--sklearn-color-fitted-level-3);\n",
              "}\n",
              "\n",
              ".sk-estimator-doc-link:hover span {\n",
              "  display: block;\n",
              "}\n",
              "\n",
              "/* \"?\"-specific style due to the `<a>` HTML tag */\n",
              "\n",
              "#sk-container-id-1 a.estimator_doc_link {\n",
              "  float: right;\n",
              "  font-size: 1rem;\n",
              "  line-height: 1em;\n",
              "  font-family: monospace;\n",
              "  background-color: var(--sklearn-color-background);\n",
              "  border-radius: 1rem;\n",
              "  height: 1rem;\n",
              "  width: 1rem;\n",
              "  text-decoration: none;\n",
              "  /* unfitted */\n",
              "  color: var(--sklearn-color-unfitted-level-1);\n",
              "  border: var(--sklearn-color-unfitted-level-1) 1pt solid;\n",
              "}\n",
              "\n",
              "#sk-container-id-1 a.estimator_doc_link.fitted {\n",
              "  /* fitted */\n",
              "  border: var(--sklearn-color-fitted-level-1) 1pt solid;\n",
              "  color: var(--sklearn-color-fitted-level-1);\n",
              "}\n",
              "\n",
              "/* On hover */\n",
              "#sk-container-id-1 a.estimator_doc_link:hover {\n",
              "  /* unfitted */\n",
              "  background-color: var(--sklearn-color-unfitted-level-3);\n",
              "  color: var(--sklearn-color-background);\n",
              "  text-decoration: none;\n",
              "}\n",
              "\n",
              "#sk-container-id-1 a.estimator_doc_link.fitted:hover {\n",
              "  /* fitted */\n",
              "  background-color: var(--sklearn-color-fitted-level-3);\n",
              "}\n",
              "</style><div id=\"sk-container-id-1\" class=\"sk-top-container\"><div class=\"sk-text-repr-fallback\"><pre>Pipeline(steps=[(&#x27;preprocessor&#x27;,\n",
              "                 ColumnTransformer(remainder=&#x27;passthrough&#x27;,\n",
              "                                   transformers=[(&#x27;num&#x27;,\n",
              "                                                  Pipeline(steps=[(&#x27;scaler&#x27;,\n",
              "                                                                   MinMaxScaler())]),\n",
              "                                                  Index([&#x27;popularity&#x27;, &#x27;vote_count&#x27;, &#x27;vote_average&#x27;, &#x27;release_year_0&#x27;,\n",
              "       &#x27;release_year_1&#x27;, &#x27;release_year_2&#x27;, &#x27;release_year_3&#x27;, &#x27;release_year_4&#x27;,\n",
              "       &#x27;release_year_5&#x27;, &#x27;release_year_6&#x27;, &#x27;release_year_7&#x27;, &#x27;release_year_8&#x27;,\n",
              "       &#x27;release_year_9&#x27;, &#x27;release_year_10&#x27;, &#x27;release_year_11&#x27;,\n",
              "       &#x27;release_year_12&#x27;, &#x27;release_year_13&#x27;, &#x27;Amazon Prime Video&#x27;,\n",
              "       &#x27;Disney Plus&#x27;, &#x27;Hulu&#x27;, &#x27;Max&#x27;, &#x27;Netflix&#x27;],\n",
              "      dtype=&#x27;object&#x27;))])),\n",
              "                (&#x27;classifier&#x27;,\n",
              "                 MultiOutputClassifier(estimator=RandomForestClassifier(random_state=42)))])</pre><b>In a Jupyter environment, please rerun this cell to show the HTML representation or trust the notebook. <br />On GitHub, the HTML representation is unable to render, please try loading this page with nbviewer.org.</b></div><div class=\"sk-container\" hidden><div class=\"sk-item sk-dashed-wrapped\"><div class=\"sk-label-container\"><div class=\"sk-label fitted sk-toggleable\"><input class=\"sk-toggleable__control sk-hidden--visually\" id=\"sk-estimator-id-1\" type=\"checkbox\" ><label for=\"sk-estimator-id-1\" class=\"sk-toggleable__label fitted sk-toggleable__label-arrow fitted\">&nbsp;&nbsp;Pipeline<a class=\"sk-estimator-doc-link fitted\" rel=\"noreferrer\" target=\"_blank\" href=\"https://scikit-learn.org/1.5/modules/generated/sklearn.pipeline.Pipeline.html\">?<span>Documentation for Pipeline</span></a><span class=\"sk-estimator-doc-link fitted\">i<span>Fitted</span></span></label><div class=\"sk-toggleable__content fitted\"><pre>Pipeline(steps=[(&#x27;preprocessor&#x27;,\n",
              "                 ColumnTransformer(remainder=&#x27;passthrough&#x27;,\n",
              "                                   transformers=[(&#x27;num&#x27;,\n",
              "                                                  Pipeline(steps=[(&#x27;scaler&#x27;,\n",
              "                                                                   MinMaxScaler())]),\n",
              "                                                  Index([&#x27;popularity&#x27;, &#x27;vote_count&#x27;, &#x27;vote_average&#x27;, &#x27;release_year_0&#x27;,\n",
              "       &#x27;release_year_1&#x27;, &#x27;release_year_2&#x27;, &#x27;release_year_3&#x27;, &#x27;release_year_4&#x27;,\n",
              "       &#x27;release_year_5&#x27;, &#x27;release_year_6&#x27;, &#x27;release_year_7&#x27;, &#x27;release_year_8&#x27;,\n",
              "       &#x27;release_year_9&#x27;, &#x27;release_year_10&#x27;, &#x27;release_year_11&#x27;,\n",
              "       &#x27;release_year_12&#x27;, &#x27;release_year_13&#x27;, &#x27;Amazon Prime Video&#x27;,\n",
              "       &#x27;Disney Plus&#x27;, &#x27;Hulu&#x27;, &#x27;Max&#x27;, &#x27;Netflix&#x27;],\n",
              "      dtype=&#x27;object&#x27;))])),\n",
              "                (&#x27;classifier&#x27;,\n",
              "                 MultiOutputClassifier(estimator=RandomForestClassifier(random_state=42)))])</pre></div> </div></div><div class=\"sk-serial\"><div class=\"sk-item sk-dashed-wrapped\"><div class=\"sk-label-container\"><div class=\"sk-label fitted sk-toggleable\"><input class=\"sk-toggleable__control sk-hidden--visually\" id=\"sk-estimator-id-2\" type=\"checkbox\" ><label for=\"sk-estimator-id-2\" class=\"sk-toggleable__label fitted sk-toggleable__label-arrow fitted\">&nbsp;preprocessor: ColumnTransformer<a class=\"sk-estimator-doc-link fitted\" rel=\"noreferrer\" target=\"_blank\" href=\"https://scikit-learn.org/1.5/modules/generated/sklearn.compose.ColumnTransformer.html\">?<span>Documentation for preprocessor: ColumnTransformer</span></a></label><div class=\"sk-toggleable__content fitted\"><pre>ColumnTransformer(remainder=&#x27;passthrough&#x27;,\n",
              "                  transformers=[(&#x27;num&#x27;,\n",
              "                                 Pipeline(steps=[(&#x27;scaler&#x27;, MinMaxScaler())]),\n",
              "                                 Index([&#x27;popularity&#x27;, &#x27;vote_count&#x27;, &#x27;vote_average&#x27;, &#x27;release_year_0&#x27;,\n",
              "       &#x27;release_year_1&#x27;, &#x27;release_year_2&#x27;, &#x27;release_year_3&#x27;, &#x27;release_year_4&#x27;,\n",
              "       &#x27;release_year_5&#x27;, &#x27;release_year_6&#x27;, &#x27;release_year_7&#x27;, &#x27;release_year_8&#x27;,\n",
              "       &#x27;release_year_9&#x27;, &#x27;release_year_10&#x27;, &#x27;release_year_11&#x27;,\n",
              "       &#x27;release_year_12&#x27;, &#x27;release_year_13&#x27;, &#x27;Amazon Prime Video&#x27;,\n",
              "       &#x27;Disney Plus&#x27;, &#x27;Hulu&#x27;, &#x27;Max&#x27;, &#x27;Netflix&#x27;],\n",
              "      dtype=&#x27;object&#x27;))])</pre></div> </div></div><div class=\"sk-parallel\"><div class=\"sk-parallel-item\"><div class=\"sk-item\"><div class=\"sk-label-container\"><div class=\"sk-label fitted sk-toggleable\"><input class=\"sk-toggleable__control sk-hidden--visually\" id=\"sk-estimator-id-3\" type=\"checkbox\" ><label for=\"sk-estimator-id-3\" class=\"sk-toggleable__label fitted sk-toggleable__label-arrow fitted\">num</label><div class=\"sk-toggleable__content fitted\"><pre>Index([&#x27;popularity&#x27;, &#x27;vote_count&#x27;, &#x27;vote_average&#x27;, &#x27;release_year_0&#x27;,\n",
              "       &#x27;release_year_1&#x27;, &#x27;release_year_2&#x27;, &#x27;release_year_3&#x27;, &#x27;release_year_4&#x27;,\n",
              "       &#x27;release_year_5&#x27;, &#x27;release_year_6&#x27;, &#x27;release_year_7&#x27;, &#x27;release_year_8&#x27;,\n",
              "       &#x27;release_year_9&#x27;, &#x27;release_year_10&#x27;, &#x27;release_year_11&#x27;,\n",
              "       &#x27;release_year_12&#x27;, &#x27;release_year_13&#x27;, &#x27;Amazon Prime Video&#x27;,\n",
              "       &#x27;Disney Plus&#x27;, &#x27;Hulu&#x27;, &#x27;Max&#x27;, &#x27;Netflix&#x27;],\n",
              "      dtype=&#x27;object&#x27;)</pre></div> </div></div><div class=\"sk-serial\"><div class=\"sk-item\"><div class=\"sk-serial\"><div class=\"sk-item\"><div class=\"sk-estimator fitted sk-toggleable\"><input class=\"sk-toggleable__control sk-hidden--visually\" id=\"sk-estimator-id-4\" type=\"checkbox\" ><label for=\"sk-estimator-id-4\" class=\"sk-toggleable__label fitted sk-toggleable__label-arrow fitted\">&nbsp;MinMaxScaler<a class=\"sk-estimator-doc-link fitted\" rel=\"noreferrer\" target=\"_blank\" href=\"https://scikit-learn.org/1.5/modules/generated/sklearn.preprocessing.MinMaxScaler.html\">?<span>Documentation for MinMaxScaler</span></a></label><div class=\"sk-toggleable__content fitted\"><pre>MinMaxScaler()</pre></div> </div></div></div></div></div></div></div><div class=\"sk-parallel-item\"><div class=\"sk-item\"><div class=\"sk-label-container\"><div class=\"sk-label fitted sk-toggleable\"><input class=\"sk-toggleable__control sk-hidden--visually\" id=\"sk-estimator-id-5\" type=\"checkbox\" ><label for=\"sk-estimator-id-5\" class=\"sk-toggleable__label fitted sk-toggleable__label-arrow fitted\">remainder</label><div class=\"sk-toggleable__content fitted\"><pre>[]</pre></div> </div></div><div class=\"sk-serial\"><div class=\"sk-item\"><div class=\"sk-estimator fitted sk-toggleable\"><input class=\"sk-toggleable__control sk-hidden--visually\" id=\"sk-estimator-id-6\" type=\"checkbox\" ><label for=\"sk-estimator-id-6\" class=\"sk-toggleable__label fitted sk-toggleable__label-arrow fitted\">passthrough</label><div class=\"sk-toggleable__content fitted\"><pre>passthrough</pre></div> </div></div></div></div></div></div></div><div class=\"sk-item sk-dashed-wrapped\"><div class=\"sk-label-container\"><div class=\"sk-label fitted sk-toggleable\"><input class=\"sk-toggleable__control sk-hidden--visually\" id=\"sk-estimator-id-7\" type=\"checkbox\" ><label for=\"sk-estimator-id-7\" class=\"sk-toggleable__label fitted sk-toggleable__label-arrow fitted\">&nbsp;classifier: MultiOutputClassifier<a class=\"sk-estimator-doc-link fitted\" rel=\"noreferrer\" target=\"_blank\" href=\"https://scikit-learn.org/1.5/modules/generated/sklearn.multioutput.MultiOutputClassifier.html\">?<span>Documentation for classifier: MultiOutputClassifier</span></a></label><div class=\"sk-toggleable__content fitted\"><pre>MultiOutputClassifier(estimator=RandomForestClassifier(random_state=42))</pre></div> </div></div><div class=\"sk-parallel\"><div class=\"sk-parallel-item\"><div class=\"sk-item\"><div class=\"sk-label-container\"><div class=\"sk-label fitted sk-toggleable\"><input class=\"sk-toggleable__control sk-hidden--visually\" id=\"sk-estimator-id-8\" type=\"checkbox\" ><label for=\"sk-estimator-id-8\" class=\"sk-toggleable__label fitted sk-toggleable__label-arrow fitted\">estimator: RandomForestClassifier</label><div class=\"sk-toggleable__content fitted\"><pre>RandomForestClassifier(random_state=42)</pre></div> </div></div><div class=\"sk-serial\"><div class=\"sk-item\"><div class=\"sk-estimator fitted sk-toggleable\"><input class=\"sk-toggleable__control sk-hidden--visually\" id=\"sk-estimator-id-9\" type=\"checkbox\" ><label for=\"sk-estimator-id-9\" class=\"sk-toggleable__label fitted sk-toggleable__label-arrow fitted\">&nbsp;RandomForestClassifier<a class=\"sk-estimator-doc-link fitted\" rel=\"noreferrer\" target=\"_blank\" href=\"https://scikit-learn.org/1.5/modules/generated/sklearn.ensemble.RandomForestClassifier.html\">?<span>Documentation for RandomForestClassifier</span></a></label><div class=\"sk-toggleable__content fitted\"><pre>RandomForestClassifier(random_state=42)</pre></div> </div></div></div></div></div></div></div></div></div></div></div>"
            ],
            "text/plain": [
              "Pipeline(steps=[('preprocessor',\n",
              "                 ColumnTransformer(remainder='passthrough',\n",
              "                                   transformers=[('num',\n",
              "                                                  Pipeline(steps=[('scaler',\n",
              "                                                                   MinMaxScaler())]),\n",
              "                                                  Index(['popularity', 'vote_count', 'vote_average', 'release_year_0',\n",
              "       'release_year_1', 'release_year_2', 'release_year_3', 'release_year_4',\n",
              "       'release_year_5', 'release_year_6', 'release_year_7', 'release_year_8',\n",
              "       'release_year_9', 'release_year_10', 'release_year_11',\n",
              "       'release_year_12', 'release_year_13', 'Amazon Prime Video',\n",
              "       'Disney Plus', 'Hulu', 'Max', 'Netflix'],\n",
              "      dtype='object'))])),\n",
              "                ('classifier',\n",
              "                 MultiOutputClassifier(estimator=RandomForestClassifier(random_state=42)))])"
            ]
          },
          "execution_count": 35,
          "metadata": {},
          "output_type": "execute_result"
        }
      ],
      "source": [
        "#Treinamento do modelo de multiclassificação\n",
        "model.fit(X, y)"
      ]
    },
    {
      "cell_type": "markdown",
      "metadata": {
        "id": "nXMI7os_rkiN"
      },
      "source": [
        "Por fim, utilizando o modelo treinado, substituímos os valores ausentes pelas previsões geradas e realizamos a codificação da coluna \"genres\"."
      ]
    },
    {
      "cell_type": "code",
      "execution_count": 36,
      "metadata": {
        "colab": {
          "base_uri": "https://localhost:8080/"
        },
        "id": "GxfMSxbrEX4t",
        "outputId": "fcf89f09-c0d3-47dd-8714-42d130a2160d"
      },
      "outputs": [
        {
          "data": {
            "text/plain": [
              "array([[0, 0, 0, 0, 0, 0, 1, 0, 0, 0, 0, 0, 0, 0, 0, 0, 0, 0, 0, 0],\n",
              "       [0, 0, 0, 0, 0, 0, 1, 0, 0, 0, 0, 0, 0, 0, 0, 0, 0, 0, 0, 0],\n",
              "       [0, 0, 0, 0, 0, 0, 0, 0, 0, 0, 0, 0, 0, 0, 0, 0, 0, 0, 0, 0],\n",
              "       [0, 0, 0, 0, 0, 0, 1, 0, 0, 0, 0, 0, 0, 0, 0, 0, 0, 0, 0, 0],\n",
              "       [0, 0, 0, 0, 0, 1, 0, 1, 0, 0, 0, 0, 0, 0, 0, 0, 0, 0, 0, 0],\n",
              "       [0, 0, 0, 0, 0, 0, 1, 0, 0, 0, 0, 0, 0, 0, 0, 0, 0, 0, 0, 0],\n",
              "       [0, 0, 0, 0, 0, 0, 0, 0, 0, 0, 0, 0, 0, 0, 0, 0, 0, 0, 0, 0],\n",
              "       [0, 0, 0, 0, 0, 0, 0, 0, 0, 0, 0, 0, 0, 0, 0, 0, 0, 0, 0, 0],\n",
              "       [0, 0, 0, 0, 0, 0, 1, 0, 0, 0, 0, 0, 0, 0, 0, 0, 0, 0, 0, 0],\n",
              "       [0, 0, 0, 0, 0, 0, 0, 0, 0, 0, 0, 0, 0, 0, 0, 0, 0, 0, 0, 0],\n",
              "       [0, 0, 0, 0, 0, 0, 1, 0, 0, 0, 0, 0, 0, 0, 0, 0, 0, 0, 0, 0],\n",
              "       [0, 0, 0, 0, 0, 0, 0, 0, 0, 0, 0, 0, 0, 0, 0, 0, 0, 0, 0, 0],\n",
              "       [0, 0, 0, 0, 0, 0, 0, 0, 0, 0, 0, 0, 0, 0, 0, 0, 0, 0, 0, 0],\n",
              "       [0, 0, 0, 0, 0, 1, 0, 0, 0, 0, 0, 0, 1, 0, 0, 0, 0, 0, 0, 0],\n",
              "       [0, 0, 0, 0, 0, 0, 0, 0, 0, 0, 0, 0, 0, 0, 0, 0, 0, 0, 0, 0],\n",
              "       [0, 0, 0, 1, 0, 0, 0, 0, 0, 0, 0, 0, 0, 0, 0, 0, 0, 0, 0, 0],\n",
              "       [0, 0, 0, 0, 0, 0, 0, 0, 0, 0, 0, 0, 0, 0, 0, 0, 0, 0, 0, 0],\n",
              "       [0, 0, 0, 0, 0, 0, 1, 0, 0, 0, 0, 0, 0, 0, 0, 0, 0, 0, 0, 0],\n",
              "       [0, 0, 0, 0, 0, 0, 1, 0, 0, 0, 0, 0, 0, 0, 0, 0, 0, 0, 0, 0],\n",
              "       [0, 1, 0, 1, 0, 0, 0, 1, 0, 0, 0, 0, 0, 0, 0, 0, 0, 0, 0, 0],\n",
              "       [0, 0, 0, 0, 0, 0, 0, 0, 0, 0, 0, 0, 0, 0, 0, 0, 0, 0, 0, 0],\n",
              "       [0, 0, 0, 0, 0, 0, 0, 0, 0, 0, 0, 1, 0, 0, 0, 0, 0, 0, 0, 0],\n",
              "       [0, 0, 0, 0, 0, 0, 0, 0, 0, 0, 0, 0, 0, 0, 0, 1, 0, 0, 0, 0]])"
            ]
          },
          "execution_count": 36,
          "metadata": {},
          "output_type": "execute_result"
        }
      ],
      "source": [
        "#Previsão dos valores ausentes\n",
        "X_na = df_na.drop(columns=['genres'])\n",
        "y_pred = model.predict(X_na)\n",
        "y_pred"
      ]
    },
    {
      "cell_type": "code",
      "execution_count": 37,
      "metadata": {
        "colab": {
          "base_uri": "https://localhost:8080/",
          "height": 429
        },
        "id": "INg2BaoXvOtI",
        "outputId": "b77e10b2-328a-4ed6-e309-9720f07ec583"
      },
      "outputs": [
        {
          "name": "stderr",
          "output_type": "stream",
          "text": [
            "C:\\Users\\Thiago\\AppData\\Local\\Temp/ipykernel_19588/3080347748.py:3: SettingWithCopyWarning: \n",
            "A value is trying to be set on a copy of a slice from a DataFrame.\n",
            "Try using .loc[row_indexer,col_indexer] = value instead\n",
            "\n",
            "See the caveats in the documentation: https://pandas.pydata.org/pandas-docs/stable/user_guide/indexing.html#returning-a-view-versus-a-copy\n",
            "  df_na['genres'] = [list(genres) for genres in y_pred_decoded]\n"
          ]
        },
        {
          "data": {
            "text/html": [
              "<div>\n",
              "<style scoped>\n",
              "    .dataframe tbody tr th:only-of-type {\n",
              "        vertical-align: middle;\n",
              "    }\n",
              "\n",
              "    .dataframe tbody tr th {\n",
              "        vertical-align: top;\n",
              "    }\n",
              "\n",
              "    .dataframe thead th {\n",
              "        text-align: right;\n",
              "    }\n",
              "</style>\n",
              "<table border=\"1\" class=\"dataframe\">\n",
              "  <thead>\n",
              "    <tr style=\"text-align: right;\">\n",
              "      <th></th>\n",
              "      <th>popularity</th>\n",
              "      <th>genres</th>\n",
              "      <th>vote_count</th>\n",
              "      <th>vote_average</th>\n",
              "      <th>release_year_0</th>\n",
              "      <th>release_year_1</th>\n",
              "      <th>release_year_2</th>\n",
              "      <th>release_year_3</th>\n",
              "      <th>release_year_4</th>\n",
              "      <th>release_year_5</th>\n",
              "      <th>...</th>\n",
              "      <th>release_year_9</th>\n",
              "      <th>release_year_10</th>\n",
              "      <th>release_year_11</th>\n",
              "      <th>release_year_12</th>\n",
              "      <th>release_year_13</th>\n",
              "      <th>Amazon Prime Video</th>\n",
              "      <th>Disney Plus</th>\n",
              "      <th>Hulu</th>\n",
              "      <th>Max</th>\n",
              "      <th>Netflix</th>\n",
              "    </tr>\n",
              "  </thead>\n",
              "  <tbody>\n",
              "    <tr>\n",
              "      <th>424</th>\n",
              "      <td>0.244648</td>\n",
              "      <td>[Drama]</td>\n",
              "      <td>21</td>\n",
              "      <td>6.1</td>\n",
              "      <td>0</td>\n",
              "      <td>0</td>\n",
              "      <td>0</td>\n",
              "      <td>0</td>\n",
              "      <td>0</td>\n",
              "      <td>0</td>\n",
              "      <td>...</td>\n",
              "      <td>0</td>\n",
              "      <td>0</td>\n",
              "      <td>0</td>\n",
              "      <td>0</td>\n",
              "      <td>1</td>\n",
              "      <td>0</td>\n",
              "      <td>0</td>\n",
              "      <td>0</td>\n",
              "      <td>0</td>\n",
              "      <td>0</td>\n",
              "    </tr>\n",
              "    <tr>\n",
              "      <th>620</th>\n",
              "      <td>0.129696</td>\n",
              "      <td>[Drama]</td>\n",
              "      <td>13</td>\n",
              "      <td>5.0</td>\n",
              "      <td>0</td>\n",
              "      <td>0</td>\n",
              "      <td>0</td>\n",
              "      <td>0</td>\n",
              "      <td>0</td>\n",
              "      <td>0</td>\n",
              "      <td>...</td>\n",
              "      <td>0</td>\n",
              "      <td>0</td>\n",
              "      <td>0</td>\n",
              "      <td>0</td>\n",
              "      <td>1</td>\n",
              "      <td>0</td>\n",
              "      <td>0</td>\n",
              "      <td>0</td>\n",
              "      <td>0</td>\n",
              "      <td>0</td>\n",
              "    </tr>\n",
              "    <tr>\n",
              "      <th>997</th>\n",
              "      <td>0.330431</td>\n",
              "      <td>[]</td>\n",
              "      <td>13</td>\n",
              "      <td>6.8</td>\n",
              "      <td>0</td>\n",
              "      <td>0</td>\n",
              "      <td>0</td>\n",
              "      <td>0</td>\n",
              "      <td>0</td>\n",
              "      <td>0</td>\n",
              "      <td>...</td>\n",
              "      <td>0</td>\n",
              "      <td>0</td>\n",
              "      <td>0</td>\n",
              "      <td>0</td>\n",
              "      <td>1</td>\n",
              "      <td>0</td>\n",
              "      <td>0</td>\n",
              "      <td>0</td>\n",
              "      <td>0</td>\n",
              "      <td>0</td>\n",
              "    </tr>\n",
              "    <tr>\n",
              "      <th>1712</th>\n",
              "      <td>0.302095</td>\n",
              "      <td>[Drama]</td>\n",
              "      <td>57</td>\n",
              "      <td>7.4</td>\n",
              "      <td>0</td>\n",
              "      <td>0</td>\n",
              "      <td>0</td>\n",
              "      <td>0</td>\n",
              "      <td>0</td>\n",
              "      <td>0</td>\n",
              "      <td>...</td>\n",
              "      <td>0</td>\n",
              "      <td>0</td>\n",
              "      <td>0</td>\n",
              "      <td>1</td>\n",
              "      <td>0</td>\n",
              "      <td>0</td>\n",
              "      <td>0</td>\n",
              "      <td>0</td>\n",
              "      <td>0</td>\n",
              "      <td>0</td>\n",
              "    </tr>\n",
              "    <tr>\n",
              "      <th>1897</th>\n",
              "      <td>0.020701</td>\n",
              "      <td>[Documentary, Family]</td>\n",
              "      <td>11</td>\n",
              "      <td>7.0</td>\n",
              "      <td>0</td>\n",
              "      <td>0</td>\n",
              "      <td>0</td>\n",
              "      <td>0</td>\n",
              "      <td>0</td>\n",
              "      <td>0</td>\n",
              "      <td>...</td>\n",
              "      <td>0</td>\n",
              "      <td>0</td>\n",
              "      <td>0</td>\n",
              "      <td>1</td>\n",
              "      <td>0</td>\n",
              "      <td>0</td>\n",
              "      <td>1</td>\n",
              "      <td>0</td>\n",
              "      <td>0</td>\n",
              "      <td>0</td>\n",
              "    </tr>\n",
              "  </tbody>\n",
              "</table>\n",
              "<p>5 rows × 23 columns</p>\n",
              "</div>"
            ],
            "text/plain": [
              "      popularity                 genres  vote_count  vote_average  \\\n",
              "424     0.244648                [Drama]          21           6.1   \n",
              "620     0.129696                [Drama]          13           5.0   \n",
              "997     0.330431                     []          13           6.8   \n",
              "1712    0.302095                [Drama]          57           7.4   \n",
              "1897    0.020701  [Documentary, Family]          11           7.0   \n",
              "\n",
              "      release_year_0  release_year_1  release_year_2  release_year_3  \\\n",
              "424                0               0               0               0   \n",
              "620                0               0               0               0   \n",
              "997                0               0               0               0   \n",
              "1712               0               0               0               0   \n",
              "1897               0               0               0               0   \n",
              "\n",
              "      release_year_4  release_year_5  ...  release_year_9  release_year_10  \\\n",
              "424                0               0  ...               0                0   \n",
              "620                0               0  ...               0                0   \n",
              "997                0               0  ...               0                0   \n",
              "1712               0               0  ...               0                0   \n",
              "1897               0               0  ...               0                0   \n",
              "\n",
              "      release_year_11  release_year_12  release_year_13  Amazon Prime Video  \\\n",
              "424                 0                0                1                   0   \n",
              "620                 0                0                1                   0   \n",
              "997                 0                0                1                   0   \n",
              "1712                0                1                0                   0   \n",
              "1897                0                1                0                   0   \n",
              "\n",
              "      Disney Plus  Hulu  Max  Netflix  \n",
              "424             0     0    0        0  \n",
              "620             0     0    0        0  \n",
              "997             0     0    0        0  \n",
              "1712            0     0    0        0  \n",
              "1897            1     0    0        0  \n",
              "\n",
              "[5 rows x 23 columns]"
            ]
          },
          "execution_count": 37,
          "metadata": {},
          "output_type": "execute_result"
        }
      ],
      "source": [
        "#Converte as previsões de volta para o formato nominal\n",
        "y_pred_decoded = mlb.inverse_transform(y_pred)\n",
        "df_na['genres'] = [list(genres) for genres in y_pred_decoded]\n",
        "df_na.head()"
      ]
    },
    {
      "cell_type": "markdown",
      "metadata": {
        "id": "P7fVX4j8N_Au"
      },
      "source": [
        "É possível observar que o modelo não conseguiu definir os gêneros de alguns filmes, nesse caso iremos removê-los do nosso dataframe."
      ]
    },
    {
      "cell_type": "code",
      "execution_count": 38,
      "metadata": {
        "colab": {
          "base_uri": "https://localhost:8080/",
          "height": 325
        },
        "id": "BEyZKTgTMqHZ",
        "outputId": "4313ecf1-2798-4940-9950-2632fbdfa27c"
      },
      "outputs": [
        {
          "data": {
            "text/html": [
              "<div>\n",
              "<style scoped>\n",
              "    .dataframe tbody tr th:only-of-type {\n",
              "        vertical-align: middle;\n",
              "    }\n",
              "\n",
              "    .dataframe tbody tr th {\n",
              "        vertical-align: top;\n",
              "    }\n",
              "\n",
              "    .dataframe thead th {\n",
              "        text-align: right;\n",
              "    }\n",
              "</style>\n",
              "<table border=\"1\" class=\"dataframe\">\n",
              "  <thead>\n",
              "    <tr style=\"text-align: right;\">\n",
              "      <th></th>\n",
              "      <th>popularity</th>\n",
              "      <th>genres</th>\n",
              "      <th>vote_count</th>\n",
              "      <th>vote_average</th>\n",
              "      <th>release_year_0</th>\n",
              "      <th>release_year_1</th>\n",
              "      <th>release_year_2</th>\n",
              "      <th>release_year_3</th>\n",
              "      <th>release_year_4</th>\n",
              "      <th>release_year_5</th>\n",
              "      <th>...</th>\n",
              "      <th>release_year_9</th>\n",
              "      <th>release_year_10</th>\n",
              "      <th>release_year_11</th>\n",
              "      <th>release_year_12</th>\n",
              "      <th>release_year_13</th>\n",
              "      <th>Amazon Prime Video</th>\n",
              "      <th>Disney Plus</th>\n",
              "      <th>Hulu</th>\n",
              "      <th>Max</th>\n",
              "      <th>Netflix</th>\n",
              "    </tr>\n",
              "  </thead>\n",
              "  <tbody>\n",
              "    <tr>\n",
              "      <th>424</th>\n",
              "      <td>0.244648</td>\n",
              "      <td>[Drama]</td>\n",
              "      <td>21</td>\n",
              "      <td>6.1</td>\n",
              "      <td>0</td>\n",
              "      <td>0</td>\n",
              "      <td>0</td>\n",
              "      <td>0</td>\n",
              "      <td>0</td>\n",
              "      <td>0</td>\n",
              "      <td>...</td>\n",
              "      <td>0</td>\n",
              "      <td>0</td>\n",
              "      <td>0</td>\n",
              "      <td>0</td>\n",
              "      <td>1</td>\n",
              "      <td>0</td>\n",
              "      <td>0</td>\n",
              "      <td>0</td>\n",
              "      <td>0</td>\n",
              "      <td>0</td>\n",
              "    </tr>\n",
              "    <tr>\n",
              "      <th>620</th>\n",
              "      <td>0.129696</td>\n",
              "      <td>[Drama]</td>\n",
              "      <td>13</td>\n",
              "      <td>5.0</td>\n",
              "      <td>0</td>\n",
              "      <td>0</td>\n",
              "      <td>0</td>\n",
              "      <td>0</td>\n",
              "      <td>0</td>\n",
              "      <td>0</td>\n",
              "      <td>...</td>\n",
              "      <td>0</td>\n",
              "      <td>0</td>\n",
              "      <td>0</td>\n",
              "      <td>0</td>\n",
              "      <td>1</td>\n",
              "      <td>0</td>\n",
              "      <td>0</td>\n",
              "      <td>0</td>\n",
              "      <td>0</td>\n",
              "      <td>0</td>\n",
              "    </tr>\n",
              "    <tr>\n",
              "      <th>1712</th>\n",
              "      <td>0.302095</td>\n",
              "      <td>[Drama]</td>\n",
              "      <td>57</td>\n",
              "      <td>7.4</td>\n",
              "      <td>0</td>\n",
              "      <td>0</td>\n",
              "      <td>0</td>\n",
              "      <td>0</td>\n",
              "      <td>0</td>\n",
              "      <td>0</td>\n",
              "      <td>...</td>\n",
              "      <td>0</td>\n",
              "      <td>0</td>\n",
              "      <td>0</td>\n",
              "      <td>1</td>\n",
              "      <td>0</td>\n",
              "      <td>0</td>\n",
              "      <td>0</td>\n",
              "      <td>0</td>\n",
              "      <td>0</td>\n",
              "      <td>0</td>\n",
              "    </tr>\n",
              "    <tr>\n",
              "      <th>1897</th>\n",
              "      <td>0.020701</td>\n",
              "      <td>[Documentary, Family]</td>\n",
              "      <td>11</td>\n",
              "      <td>7.0</td>\n",
              "      <td>0</td>\n",
              "      <td>0</td>\n",
              "      <td>0</td>\n",
              "      <td>0</td>\n",
              "      <td>0</td>\n",
              "      <td>0</td>\n",
              "      <td>...</td>\n",
              "      <td>0</td>\n",
              "      <td>0</td>\n",
              "      <td>0</td>\n",
              "      <td>1</td>\n",
              "      <td>0</td>\n",
              "      <td>0</td>\n",
              "      <td>1</td>\n",
              "      <td>0</td>\n",
              "      <td>0</td>\n",
              "      <td>0</td>\n",
              "    </tr>\n",
              "    <tr>\n",
              "      <th>2369</th>\n",
              "      <td>0.081892</td>\n",
              "      <td>[Drama]</td>\n",
              "      <td>12</td>\n",
              "      <td>5.8</td>\n",
              "      <td>0</td>\n",
              "      <td>0</td>\n",
              "      <td>0</td>\n",
              "      <td>0</td>\n",
              "      <td>0</td>\n",
              "      <td>0</td>\n",
              "      <td>...</td>\n",
              "      <td>0</td>\n",
              "      <td>0</td>\n",
              "      <td>0</td>\n",
              "      <td>1</td>\n",
              "      <td>0</td>\n",
              "      <td>0</td>\n",
              "      <td>0</td>\n",
              "      <td>0</td>\n",
              "      <td>0</td>\n",
              "      <td>0</td>\n",
              "    </tr>\n",
              "  </tbody>\n",
              "</table>\n",
              "<p>5 rows × 23 columns</p>\n",
              "</div>"
            ],
            "text/plain": [
              "      popularity                 genres  vote_count  vote_average  \\\n",
              "424     0.244648                [Drama]          21           6.1   \n",
              "620     0.129696                [Drama]          13           5.0   \n",
              "1712    0.302095                [Drama]          57           7.4   \n",
              "1897    0.020701  [Documentary, Family]          11           7.0   \n",
              "2369    0.081892                [Drama]          12           5.8   \n",
              "\n",
              "      release_year_0  release_year_1  release_year_2  release_year_3  \\\n",
              "424                0               0               0               0   \n",
              "620                0               0               0               0   \n",
              "1712               0               0               0               0   \n",
              "1897               0               0               0               0   \n",
              "2369               0               0               0               0   \n",
              "\n",
              "      release_year_4  release_year_5  ...  release_year_9  release_year_10  \\\n",
              "424                0               0  ...               0                0   \n",
              "620                0               0  ...               0                0   \n",
              "1712               0               0  ...               0                0   \n",
              "1897               0               0  ...               0                0   \n",
              "2369               0               0  ...               0                0   \n",
              "\n",
              "      release_year_11  release_year_12  release_year_13  Amazon Prime Video  \\\n",
              "424                 0                0                1                   0   \n",
              "620                 0                0                1                   0   \n",
              "1712                0                1                0                   0   \n",
              "1897                0                1                0                   0   \n",
              "2369                0                1                0                   0   \n",
              "\n",
              "      Disney Plus  Hulu  Max  Netflix  \n",
              "424             0     0    0        0  \n",
              "620             0     0    0        0  \n",
              "1712            0     0    0        0  \n",
              "1897            1     0    0        0  \n",
              "2369            0     0    0        0  \n",
              "\n",
              "[5 rows x 23 columns]"
            ]
          },
          "execution_count": 38,
          "metadata": {},
          "output_type": "execute_result"
        }
      ],
      "source": [
        "df_na = df_na[df_na['genres'].apply(len) > 0]\n",
        "df_na.head()"
      ]
    },
    {
      "cell_type": "code",
      "execution_count": 39,
      "metadata": {
        "id": "zh8wqmTWw3Ur"
      },
      "outputs": [],
      "source": [
        "#Codificação binária dos gêneros para o dataframe df_na\n",
        "genres_encoded_na = mlb.transform(df_na['genres'])\n",
        "genres_df_na = pd.DataFrame(genres_encoded_na, columns=mlb.classes_)"
      ]
    },
    {
      "cell_type": "code",
      "execution_count": 40,
      "metadata": {
        "id": "7S3MZAUSz3qh"
      },
      "outputs": [],
      "source": [
        "#Codificação binária dos gêneros para o dataframe df_not_na\n",
        "genres_encoded_not_na = mlb.transform(df_not_na['genres'])\n",
        "genres_df_not_na = pd.DataFrame(genres_encoded_not_na, columns=mlb.classes_)"
      ]
    },
    {
      "cell_type": "code",
      "execution_count": 41,
      "metadata": {
        "id": "oK7fF2x6xQhM"
      },
      "outputs": [],
      "source": [
        "#Concatena as previsões com o dataframe original\n",
        "df_na = pd.concat([df_na.reset_index(drop=True), genres_df_na.reset_index(drop=True)], axis=1)\n",
        "df_not_na = pd.concat([df_not_na.reset_index(drop=True), genres_df_not_na.reset_index(drop=True)], axis=1)"
      ]
    },
    {
      "cell_type": "code",
      "execution_count": 42,
      "metadata": {
        "colab": {
          "base_uri": "https://localhost:8080/",
          "height": 273
        },
        "id": "s6IhTtOE0F5e",
        "outputId": "0b81cc16-d92e-450e-f9e3-0e92cae2f1c6"
      },
      "outputs": [
        {
          "data": {
            "text/html": [
              "<div>\n",
              "<style scoped>\n",
              "    .dataframe tbody tr th:only-of-type {\n",
              "        vertical-align: middle;\n",
              "    }\n",
              "\n",
              "    .dataframe tbody tr th {\n",
              "        vertical-align: top;\n",
              "    }\n",
              "\n",
              "    .dataframe thead th {\n",
              "        text-align: right;\n",
              "    }\n",
              "</style>\n",
              "<table border=\"1\" class=\"dataframe\">\n",
              "  <thead>\n",
              "    <tr style=\"text-align: right;\">\n",
              "      <th></th>\n",
              "      <th>popularity</th>\n",
              "      <th>vote_count</th>\n",
              "      <th>vote_average</th>\n",
              "      <th>release_year_0</th>\n",
              "      <th>release_year_1</th>\n",
              "      <th>release_year_2</th>\n",
              "      <th>release_year_3</th>\n",
              "      <th>release_year_4</th>\n",
              "      <th>release_year_5</th>\n",
              "      <th>release_year_6</th>\n",
              "      <th>...</th>\n",
              "      <th>History</th>\n",
              "      <th>Horror</th>\n",
              "      <th>Music</th>\n",
              "      <th>Mystery</th>\n",
              "      <th>Romance</th>\n",
              "      <th>Science Fiction</th>\n",
              "      <th>TV Movie</th>\n",
              "      <th>Thriller</th>\n",
              "      <th>War</th>\n",
              "      <th>Western</th>\n",
              "    </tr>\n",
              "  </thead>\n",
              "  <tbody>\n",
              "    <tr>\n",
              "      <th>0</th>\n",
              "      <td>32.985763</td>\n",
              "      <td>5562</td>\n",
              "      <td>6.5</td>\n",
              "      <td>0</td>\n",
              "      <td>0</td>\n",
              "      <td>0</td>\n",
              "      <td>0</td>\n",
              "      <td>0</td>\n",
              "      <td>0</td>\n",
              "      <td>0</td>\n",
              "      <td>...</td>\n",
              "      <td>0</td>\n",
              "      <td>0</td>\n",
              "      <td>0</td>\n",
              "      <td>0</td>\n",
              "      <td>0</td>\n",
              "      <td>1</td>\n",
              "      <td>0</td>\n",
              "      <td>1</td>\n",
              "      <td>0</td>\n",
              "      <td>0</td>\n",
              "    </tr>\n",
              "    <tr>\n",
              "      <th>1</th>\n",
              "      <td>28.419936</td>\n",
              "      <td>6185</td>\n",
              "      <td>7.1</td>\n",
              "      <td>0</td>\n",
              "      <td>0</td>\n",
              "      <td>0</td>\n",
              "      <td>0</td>\n",
              "      <td>0</td>\n",
              "      <td>0</td>\n",
              "      <td>0</td>\n",
              "      <td>...</td>\n",
              "      <td>0</td>\n",
              "      <td>0</td>\n",
              "      <td>0</td>\n",
              "      <td>0</td>\n",
              "      <td>0</td>\n",
              "      <td>1</td>\n",
              "      <td>0</td>\n",
              "      <td>1</td>\n",
              "      <td>0</td>\n",
              "      <td>0</td>\n",
              "    </tr>\n",
              "    <tr>\n",
              "      <th>2</th>\n",
              "      <td>13.112507</td>\n",
              "      <td>2480</td>\n",
              "      <td>6.3</td>\n",
              "      <td>0</td>\n",
              "      <td>0</td>\n",
              "      <td>0</td>\n",
              "      <td>0</td>\n",
              "      <td>0</td>\n",
              "      <td>0</td>\n",
              "      <td>0</td>\n",
              "      <td>...</td>\n",
              "      <td>0</td>\n",
              "      <td>0</td>\n",
              "      <td>0</td>\n",
              "      <td>0</td>\n",
              "      <td>0</td>\n",
              "      <td>1</td>\n",
              "      <td>0</td>\n",
              "      <td>1</td>\n",
              "      <td>0</td>\n",
              "      <td>0</td>\n",
              "    </tr>\n",
              "    <tr>\n",
              "      <th>3</th>\n",
              "      <td>11.173104</td>\n",
              "      <td>5292</td>\n",
              "      <td>7.5</td>\n",
              "      <td>0</td>\n",
              "      <td>0</td>\n",
              "      <td>0</td>\n",
              "      <td>0</td>\n",
              "      <td>0</td>\n",
              "      <td>0</td>\n",
              "      <td>0</td>\n",
              "      <td>...</td>\n",
              "      <td>0</td>\n",
              "      <td>0</td>\n",
              "      <td>0</td>\n",
              "      <td>0</td>\n",
              "      <td>0</td>\n",
              "      <td>1</td>\n",
              "      <td>0</td>\n",
              "      <td>0</td>\n",
              "      <td>0</td>\n",
              "      <td>0</td>\n",
              "    </tr>\n",
              "    <tr>\n",
              "      <th>4</th>\n",
              "      <td>9.335014</td>\n",
              "      <td>2947</td>\n",
              "      <td>7.3</td>\n",
              "      <td>0</td>\n",
              "      <td>0</td>\n",
              "      <td>0</td>\n",
              "      <td>0</td>\n",
              "      <td>0</td>\n",
              "      <td>0</td>\n",
              "      <td>0</td>\n",
              "      <td>...</td>\n",
              "      <td>0</td>\n",
              "      <td>0</td>\n",
              "      <td>0</td>\n",
              "      <td>0</td>\n",
              "      <td>0</td>\n",
              "      <td>0</td>\n",
              "      <td>0</td>\n",
              "      <td>1</td>\n",
              "      <td>0</td>\n",
              "      <td>0</td>\n",
              "    </tr>\n",
              "  </tbody>\n",
              "</table>\n",
              "<p>5 rows × 42 columns</p>\n",
              "</div>"
            ],
            "text/plain": [
              "   popularity  vote_count  vote_average  release_year_0  release_year_1  \\\n",
              "0   32.985763        5562           6.5               0               0   \n",
              "1   28.419936        6185           7.1               0               0   \n",
              "2   13.112507        2480           6.3               0               0   \n",
              "3   11.173104        5292           7.5               0               0   \n",
              "4    9.335014        2947           7.3               0               0   \n",
              "\n",
              "   release_year_2  release_year_3  release_year_4  release_year_5  \\\n",
              "0               0               0               0               0   \n",
              "1               0               0               0               0   \n",
              "2               0               0               0               0   \n",
              "3               0               0               0               0   \n",
              "4               0               0               0               0   \n",
              "\n",
              "   release_year_6  ...  History  Horror  Music  Mystery  Romance  \\\n",
              "0               0  ...        0       0      0        0        0   \n",
              "1               0  ...        0       0      0        0        0   \n",
              "2               0  ...        0       0      0        0        0   \n",
              "3               0  ...        0       0      0        0        0   \n",
              "4               0  ...        0       0      0        0        0   \n",
              "\n",
              "   Science Fiction  TV Movie  Thriller  War  Western  \n",
              "0                1         0         1    0        0  \n",
              "1                1         0         1    0        0  \n",
              "2                1         0         1    0        0  \n",
              "3                1         0         0    0        0  \n",
              "4                0         0         1    0        0  \n",
              "\n",
              "[5 rows x 42 columns]"
            ]
          },
          "execution_count": 42,
          "metadata": {},
          "output_type": "execute_result"
        }
      ],
      "source": [
        "#Concatena os dataframes com e sem valores ausentes\n",
        "df_final = pd.concat([df_not_na, df_na], axis=0).reset_index(drop=True)\n",
        "df_final.drop(columns=['genres'], inplace=True)\n",
        "df_final.head()"
      ]
    },
    {
      "cell_type": "code",
      "execution_count": 43,
      "metadata": {
        "id": "gfQylWwzYq9E"
      },
      "outputs": [],
      "source": [
        "df = df_final"
      ]
    },
    {
      "cell_type": "markdown",
      "metadata": {},
      "source": [
        "### Detecção e remoção de outliers"
      ]
    },
    {
      "cell_type": "code",
      "execution_count": 44,
      "metadata": {},
      "outputs": [
        {
          "data": {
            "text/plain": [
              "Index(['popularity', 'vote_count', 'vote_average', 'release_year_0',\n",
              "       'release_year_1', 'release_year_2', 'release_year_3', 'release_year_4',\n",
              "       'release_year_5', 'release_year_6', 'release_year_7', 'release_year_8',\n",
              "       'release_year_9', 'release_year_10', 'release_year_11',\n",
              "       'release_year_12', 'release_year_13', 'Amazon Prime Video',\n",
              "       'Disney Plus', 'Hulu', 'Max', 'Netflix', 'Action', 'Adventure',\n",
              "       'Animation', 'Comedy', 'Crime', 'Documentary', 'Drama', 'Family',\n",
              "       'Fantasy', 'Foreign', 'History', 'Horror', 'Music', 'Mystery',\n",
              "       'Romance', 'Science Fiction', 'TV Movie', 'Thriller', 'War', 'Western'],\n",
              "      dtype='object')"
            ]
          },
          "execution_count": 44,
          "metadata": {},
          "output_type": "execute_result"
        }
      ],
      "source": [
        "df.columns"
      ]
    },
    {
      "cell_type": "markdown",
      "metadata": {},
      "source": [
        "#### **Univariada**"
      ]
    },
    {
      "cell_type": "markdown",
      "metadata": {},
      "source": [
        "Para realizar o tratamento de outliers univariado, empregaremos o método de Tukey nas variáveis numéricas **popularity** e **vote_avarage**. No entanto, é importante ressaltar que esse método pressupõe uma distribuição simétrica dos dados. Portanto, realizaremos uma análise preliminar para avaliar a simetria da distribuição antes de aplicar o método de Tukey."
      ]
    },
    {
      "cell_type": "code",
      "execution_count": 45,
      "metadata": {},
      "outputs": [
        {
          "data": {
            "text/plain": [
              "array([[<Axes: title={'center': 'popularity'}>,\n",
              "        <Axes: title={'center': 'vote_average'}>]], dtype=object)"
            ]
          },
          "execution_count": 45,
          "metadata": {},
          "output_type": "execute_result"
        },
        {
          "data": {
            "image/png": "[encoded data removed]",
            "text/plain": [
              "<Figure size 1440x720 with 2 Axes>"
            ]
          },
          "metadata": {
            "needs_background": "light"
          },
          "output_type": "display_data"
        }
      ],
      "source": [
        "numerical_features = ['popularity', 'vote_average']\n",
        "df[numerical_features].hist(figsize=(20, 10), color='green', bins=100)"
      ]
    },
    {
      "cell_type": "markdown",
      "metadata": {},
      "source": [
        "Nota-se que os dados de **vote_average** seguem uma distribuição gaussiana. Enquanto que em **popularity** é seguida uma distribuição exponencial. Então trataremos esta coluna para também seguir uma distribuição simétrica. Para transformar esses dados em uma distribuição normal aplicaremos o log10."
      ]
    },
    {
      "cell_type": "code",
      "execution_count": 46,
      "metadata": {},
      "outputs": [
        {
          "data": {
            "image/png": "[encoded data removed]",
            "text/plain": [
              "<Figure size 432x288 with 1 Axes>"
            ]
          },
          "metadata": {
            "needs_background": "light"
          },
          "output_type": "display_data"
        }
      ],
      "source": [
        "# Aplicando o logaritmo de base 10 apenas a valores estritamente positivos\n",
        "# log_data = np.log10(df[numerical_features][df[numerical_features] > 0])\n",
        "df['popularity_log'] = np.log10(df['popularity'][df['popularity'] > 0])\n",
        "\n",
        "# Plotando histograma em escala logarítmica (base 10)\n",
        "df['popularity_log'].hist(color='green', bins=100)\n",
        "plt.title('Histograma da Popularidade (Escala Logarítmica)')\n",
        "plt.xlabel('Popularidade (log10)')\n",
        "plt.ylabel('Frequência')\n",
        "plt.show()\n",
        "\n"
      ]
    },
    {
      "cell_type": "markdown",
      "metadata": {},
      "source": [
        "Com os dados simétricos, podemos agora aplicar o método Tukey para encontrar os outliers."
      ]
    },
    {
      "cell_type": "code",
      "execution_count": 47,
      "metadata": {},
      "outputs": [
        {
          "name": "stdout",
          "output_type": "stream",
          "text": [
            "popularity_log    0.536145\n",
            "vote_average      1.200000\n",
            "dtype: float64\n"
          ]
        }
      ],
      "source": [
        "numerical_cols = ['popularity_log', 'vote_average']\n",
        "q1 = df[numerical_cols].quantile(0.25)\n",
        "q3 = df[numerical_cols].quantile(0.75)\n",
        "iqr = q3 - q1\n",
        "print(iqr)"
      ]
    },
    {
      "cell_type": "code",
      "execution_count": 48,
      "metadata": {},
      "outputs": [
        {
          "data": {
            "text/plain": [
              "Text(0.5, 1.0, 'Boxplot das Features Numéricas (com Outliers)')"
            ]
          },
          "execution_count": 48,
          "metadata": {},
          "output_type": "execute_result"
        },
        {
          "data": {
            "image/png": "[encoded data removed]",
            "text/plain": [
              "<Figure size 432x288 with 1 Axes>"
            ]
          },
          "metadata": {
            "needs_background": "light"
          },
          "output_type": "display_data"
        }
      ],
      "source": [
        "df[numerical_cols].boxplot(vert=False)\n",
        "plt.title('Boxplot das Features Numéricas (com Outliers)')"
      ]
    },
    {
      "cell_type": "code",
      "execution_count": 49,
      "metadata": {},
      "outputs": [
        {
          "data": {
            "text/plain": [
              "Text(0.5, 1.0, 'Boxplot das Features Numéricas (sem Outliers)')"
            ]
          },
          "execution_count": 49,
          "metadata": {},
          "output_type": "execute_result"
        },
        {
          "data": {
            "image/png": "[encoded data removed]",
            "text/plain": [
              "<Figure size 432x288 with 1 Axes>"
            ]
          },
          "metadata": {
            "needs_background": "light"
          },
          "output_type": "display_data"
        }
      ],
      "source": [
        "upper_bound = q3 + 1.5 * iqr\n",
        "lower_bound = q1 - 1.5 * iqr\n",
        "\n",
        "# Filtrando o dataframe para remover outliers\n",
        "df_without_outliers = df[~((df[numerical_cols] < lower_bound) | (df[numerical_cols] > upper_bound)).any(axis=1)]\n",
        "\n",
        "df_without_outliers[numerical_cols].boxplot(vert=False)\n",
        "plt.title('Boxplot das Features Numéricas (sem Outliers)')"
      ]
    },
    {
      "cell_type": "code",
      "execution_count": 50,
      "metadata": {},
      "outputs": [
        {
          "name": "stderr",
          "output_type": "stream",
          "text": [
            "C:\\Users\\Thiago\\AppData\\Local\\Temp/ipykernel_19588/1956572983.py:2: SettingWithCopyWarning: \n",
            "A value is trying to be set on a copy of a slice from a DataFrame\n",
            "\n",
            "See the caveats in the documentation: https://pandas.pydata.org/pandas-docs/stable/user_guide/indexing.html#returning-a-view-versus-a-copy\n",
            "  df.drop(columns=['popularity_log'], inplace=True)\n"
          ]
        },
        {
          "data": {
            "text/html": [
              "<div>\n",
              "<style scoped>\n",
              "    .dataframe tbody tr th:only-of-type {\n",
              "        vertical-align: middle;\n",
              "    }\n",
              "\n",
              "    .dataframe tbody tr th {\n",
              "        vertical-align: top;\n",
              "    }\n",
              "\n",
              "    .dataframe thead th {\n",
              "        text-align: right;\n",
              "    }\n",
              "</style>\n",
              "<table border=\"1\" class=\"dataframe\">\n",
              "  <thead>\n",
              "    <tr style=\"text-align: right;\">\n",
              "      <th></th>\n",
              "      <th>popularity</th>\n",
              "      <th>vote_count</th>\n",
              "      <th>vote_average</th>\n",
              "      <th>release_year_0</th>\n",
              "      <th>release_year_1</th>\n",
              "      <th>release_year_2</th>\n",
              "      <th>release_year_3</th>\n",
              "      <th>release_year_4</th>\n",
              "      <th>release_year_5</th>\n",
              "      <th>release_year_6</th>\n",
              "      <th>...</th>\n",
              "      <th>History</th>\n",
              "      <th>Horror</th>\n",
              "      <th>Music</th>\n",
              "      <th>Mystery</th>\n",
              "      <th>Romance</th>\n",
              "      <th>Science Fiction</th>\n",
              "      <th>TV Movie</th>\n",
              "      <th>Thriller</th>\n",
              "      <th>War</th>\n",
              "      <th>Western</th>\n",
              "    </tr>\n",
              "  </thead>\n",
              "  <tbody>\n",
              "    <tr>\n",
              "      <th>27</th>\n",
              "      <td>4.503789</td>\n",
              "      <td>3833</td>\n",
              "      <td>7.6</td>\n",
              "      <td>0</td>\n",
              "      <td>0</td>\n",
              "      <td>0</td>\n",
              "      <td>0</td>\n",
              "      <td>0</td>\n",
              "      <td>0</td>\n",
              "      <td>0</td>\n",
              "      <td>...</td>\n",
              "      <td>0</td>\n",
              "      <td>0</td>\n",
              "      <td>0</td>\n",
              "      <td>0</td>\n",
              "      <td>0</td>\n",
              "      <td>0</td>\n",
              "      <td>0</td>\n",
              "      <td>0</td>\n",
              "      <td>0</td>\n",
              "      <td>0</td>\n",
              "    </tr>\n",
              "    <tr>\n",
              "      <th>28</th>\n",
              "      <td>4.062293</td>\n",
              "      <td>1559</td>\n",
              "      <td>7.8</td>\n",
              "      <td>0</td>\n",
              "      <td>0</td>\n",
              "      <td>0</td>\n",
              "      <td>0</td>\n",
              "      <td>0</td>\n",
              "      <td>0</td>\n",
              "      <td>0</td>\n",
              "      <td>...</td>\n",
              "      <td>1</td>\n",
              "      <td>0</td>\n",
              "      <td>0</td>\n",
              "      <td>0</td>\n",
              "      <td>0</td>\n",
              "      <td>0</td>\n",
              "      <td>0</td>\n",
              "      <td>1</td>\n",
              "      <td>0</td>\n",
              "      <td>0</td>\n",
              "    </tr>\n",
              "    <tr>\n",
              "      <th>29</th>\n",
              "      <td>3.968891</td>\n",
              "      <td>1849</td>\n",
              "      <td>6.4</td>\n",
              "      <td>0</td>\n",
              "      <td>0</td>\n",
              "      <td>0</td>\n",
              "      <td>0</td>\n",
              "      <td>0</td>\n",
              "      <td>0</td>\n",
              "      <td>0</td>\n",
              "      <td>...</td>\n",
              "      <td>0</td>\n",
              "      <td>0</td>\n",
              "      <td>0</td>\n",
              "      <td>0</td>\n",
              "      <td>0</td>\n",
              "      <td>1</td>\n",
              "      <td>0</td>\n",
              "      <td>1</td>\n",
              "      <td>0</td>\n",
              "      <td>0</td>\n",
              "    </tr>\n",
              "    <tr>\n",
              "      <th>30</th>\n",
              "      <td>3.927333</td>\n",
              "      <td>425</td>\n",
              "      <td>6.4</td>\n",
              "      <td>0</td>\n",
              "      <td>0</td>\n",
              "      <td>0</td>\n",
              "      <td>0</td>\n",
              "      <td>0</td>\n",
              "      <td>0</td>\n",
              "      <td>0</td>\n",
              "      <td>...</td>\n",
              "      <td>0</td>\n",
              "      <td>0</td>\n",
              "      <td>0</td>\n",
              "      <td>1</td>\n",
              "      <td>0</td>\n",
              "      <td>0</td>\n",
              "      <td>0</td>\n",
              "      <td>0</td>\n",
              "      <td>0</td>\n",
              "      <td>0</td>\n",
              "    </tr>\n",
              "    <tr>\n",
              "      <th>31</th>\n",
              "      <td>3.899557</td>\n",
              "      <td>1990</td>\n",
              "      <td>6.6</td>\n",
              "      <td>0</td>\n",
              "      <td>0</td>\n",
              "      <td>0</td>\n",
              "      <td>0</td>\n",
              "      <td>0</td>\n",
              "      <td>0</td>\n",
              "      <td>0</td>\n",
              "      <td>...</td>\n",
              "      <td>0</td>\n",
              "      <td>0</td>\n",
              "      <td>0</td>\n",
              "      <td>0</td>\n",
              "      <td>0</td>\n",
              "      <td>1</td>\n",
              "      <td>0</td>\n",
              "      <td>0</td>\n",
              "      <td>0</td>\n",
              "      <td>0</td>\n",
              "    </tr>\n",
              "  </tbody>\n",
              "</table>\n",
              "<p>5 rows × 42 columns</p>\n",
              "</div>"
            ],
            "text/plain": [
              "    popularity  vote_count  vote_average  release_year_0  release_year_1  \\\n",
              "27    4.503789        3833           7.6               0               0   \n",
              "28    4.062293        1559           7.8               0               0   \n",
              "29    3.968891        1849           6.4               0               0   \n",
              "30    3.927333         425           6.4               0               0   \n",
              "31    3.899557        1990           6.6               0               0   \n",
              "\n",
              "    release_year_2  release_year_3  release_year_4  release_year_5  \\\n",
              "27               0               0               0               0   \n",
              "28               0               0               0               0   \n",
              "29               0               0               0               0   \n",
              "30               0               0               0               0   \n",
              "31               0               0               0               0   \n",
              "\n",
              "    release_year_6  ...  History  Horror  Music  Mystery  Romance  \\\n",
              "27               0  ...        0       0      0        0        0   \n",
              "28               0  ...        1       0      0        0        0   \n",
              "29               0  ...        0       0      0        0        0   \n",
              "30               0  ...        0       0      0        1        0   \n",
              "31               0  ...        0       0      0        0        0   \n",
              "\n",
              "    Science Fiction  TV Movie  Thriller  War  Western  \n",
              "27                0         0         0    0        0  \n",
              "28                0         0         1    0        0  \n",
              "29                1         0         1    0        0  \n",
              "30                0         0         0    0        0  \n",
              "31                1         0         0    0        0  \n",
              "\n",
              "[5 rows x 42 columns]"
            ]
          },
          "execution_count": 50,
          "metadata": {},
          "output_type": "execute_result"
        }
      ],
      "source": [
        "df = df_without_outliers\n",
        "df.drop(columns=['popularity_log'], inplace=True)\n",
        "df.head()"
      ]
    },
    {
      "cell_type": "markdown",
      "metadata": {},
      "source": [
        "#### **Bivariada**"
      ]
    },
    {
      "cell_type": "markdown",
      "metadata": {},
      "source": [
        "Para realizar o tratamento de outliers bivariado, empregaremos as variáveis **popularity** e **vote_count**. Este tipo de análise é fundamental quando queremos compreender a relação entre duas variáveis e identificar pontos fora do padrão que podem afetar negativamente a interpretação dos dados."
      ]
    },
    {
      "cell_type": "code",
      "execution_count": 51,
      "metadata": {},
      "outputs": [
        {
          "data": {
            "text/plain": [
              "<Axes: xlabel='popularity', ylabel='vote_count'>"
            ]
          },
          "execution_count": 51,
          "metadata": {},
          "output_type": "execute_result"
        },
        {
          "data": {
            "image/png": "[encoded data removed]",
            "text/plain": [
              "<Figure size 720x432 with 1 Axes>"
            ]
          },
          "metadata": {
            "needs_background": "light"
          },
          "output_type": "display_data"
        }
      ],
      "source": [
        "df.plot.scatter(x='popularity', y='vote_count', figsize=(10, 6))"
      ]
    },
    {
      "cell_type": "markdown",
      "metadata": {},
      "source": [
        "As duas variáveis escolhidas apresentam uma certa covariância, então usaremos elas para fazer o tratamento de outliers bivariado. Inicialmente criaremos uma nova coluna que representa a razão da quantidade de votos pela popularidade. Em seguida será aplicado o método de Z-Score Robusto para a detecção dos outliers."
      ]
    },
    {
      "cell_type": "code",
      "execution_count": 52,
      "metadata": {},
      "outputs": [
        {
          "name": "stderr",
          "output_type": "stream",
          "text": [
            "C:\\Users\\Thiago\\AppData\\Local\\Temp/ipykernel_19588/1251690691.py:1: SettingWithCopyWarning: \n",
            "A value is trying to be set on a copy of a slice from a DataFrame.\n",
            "Try using .loc[row_indexer,col_indexer] = value instead\n",
            "\n",
            "See the caveats in the documentation: https://pandas.pydata.org/pandas-docs/stable/user_guide/indexing.html#returning-a-view-versus-a-copy\n",
            "  df['vote_count_by_popularity'] = df['vote_count'] / df['popularity']\n"
          ]
        },
        {
          "data": {
            "text/plain": [
              "count    10274.000000\n",
              "mean       226.477123\n",
              "std        527.670568\n",
              "min          4.154090\n",
              "25%         75.218340\n",
              "50%        137.473875\n",
              "75%        269.082290\n",
              "max      28733.662930\n",
              "Name: vote_count_by_popularity, dtype: float64"
            ]
          },
          "execution_count": 52,
          "metadata": {},
          "output_type": "execute_result"
        }
      ],
      "source": [
        "df['vote_count_by_popularity'] = df['vote_count'] / df['popularity']\n",
        "df['vote_count_by_popularity'].describe()"
      ]
    },
    {
      "cell_type": "code",
      "execution_count": 53,
      "metadata": {},
      "outputs": [
        {
          "data": {
            "text/plain": [
              "<Axes: >"
            ]
          },
          "execution_count": 53,
          "metadata": {},
          "output_type": "execute_result"
        },
        {
          "data": {
            "image/png": "[encoded data removed]",
            "text/plain": [
              "<Figure size 432x288 with 1 Axes>"
            ]
          },
          "metadata": {
            "needs_background": "light"
          },
          "output_type": "display_data"
        }
      ],
      "source": [
        "df['vote_count_by_popularity'].hist( color='green', bins=100)"
      ]
    },
    {
      "cell_type": "markdown",
      "metadata": {},
      "source": [
        "Novamente, o conjunto de dados se apresenta em uma distribuição exponencial, o que podemos resolver aplicando o log10 nesses dados para conseguirmos obter uma distribuição normal."
      ]
    },
    {
      "cell_type": "code",
      "execution_count": 54,
      "metadata": {},
      "outputs": [
        {
          "name": "stderr",
          "output_type": "stream",
          "text": [
            "C:\\Users\\Thiago\\AppData\\Local\\Temp/ipykernel_19588/3285804334.py:1: SettingWithCopyWarning: \n",
            "A value is trying to be set on a copy of a slice from a DataFrame.\n",
            "Try using .loc[row_indexer,col_indexer] = value instead\n",
            "\n",
            "See the caveats in the documentation: https://pandas.pydata.org/pandas-docs/stable/user_guide/indexing.html#returning-a-view-versus-a-copy\n",
            "  df['vote_count_by_popularity'] = np.log10(df['vote_count_by_popularity'])\n"
          ]
        },
        {
          "data": {
            "text/plain": [
              "<Axes: >"
            ]
          },
          "execution_count": 54,
          "metadata": {},
          "output_type": "execute_result"
        },
        {
          "data": {
            "image/png": "[encoded data removed]",
            "text/plain": [
              "<Figure size 432x288 with 1 Axes>"
            ]
          },
          "metadata": {
            "needs_background": "light"
          },
          "output_type": "display_data"
        }
      ],
      "source": [
        "df['vote_count_by_popularity'] = np.log10(df['vote_count_by_popularity'])\n",
        "df['vote_count_by_popularity'].hist( color='green', bins=100)"
      ]
    },
    {
      "cell_type": "markdown",
      "metadata": {},
      "source": [
        "Agora com a distribuição simétrica, podemos calcular o MAD (Median Absolute Deviation), que mostra a mediana da distância da diferença de todos os valores da mediana. Com isso poderemos usar o método do Z-Score Robusto para indentificar os outliers."
      ]
    },
    {
      "cell_type": "code",
      "execution_count": 55,
      "metadata": {},
      "outputs": [],
      "source": [
        "mad = abs(df['vote_count_by_popularity'] - df['vote_count_by_popularity'].median()).median()*(1/0.6745)"
      ]
    },
    {
      "cell_type": "code",
      "execution_count": 56,
      "metadata": {},
      "outputs": [
        {
          "data": {
            "text/plain": [
              "<Axes: >"
            ]
          },
          "execution_count": 56,
          "metadata": {},
          "output_type": "execute_result"
        },
        {
          "data": {
            "image/png": "[encoded data removed]",
            "text/plain": [
              "<Figure size 432x288 with 1 Axes>"
            ]
          },
          "metadata": {
            "needs_background": "light"
          },
          "output_type": "display_data"
        }
      ],
      "source": [
        "(abs(df['vote_count_by_popularity'] - df['vote_count_by_popularity'].median())/mad).hist( color='green', bins=100)"
      ]
    },
    {
      "cell_type": "markdown",
      "metadata": {},
      "source": [
        "Observando o plot gerado, definimos o nosso limiar sendo `3.5`, então todos os valores maiores que o limiar serão considerados outliers."
      ]
    },
    {
      "cell_type": "code",
      "execution_count": 57,
      "metadata": {},
      "outputs": [],
      "source": [
        "df_without_outliers = df[abs(df['vote_count_by_popularity'] - df['vote_count_by_popularity'].median())/mad <= 3.5]\n",
        "\n",
        "df = df_without_outliers"
      ]
    },
    {
      "cell_type": "markdown",
      "metadata": {},
      "source": [
        "#### **Multivariada**"
      ]
    },
    {
      "cell_type": "markdown",
      "metadata": {},
      "source": [
        "Para realizar o tratamento de outliers multivariado, será usado o método EllipticEnvelope do scikit-learn. Este método é baseado na estimativa de uma elipse que envolve a maior parte dos dados, considerando que os dados fora da elipse são considerados outliers. Como já utilizamos outros métodos de remoção de outliers anteriormente, consideraremos o nivel de contaminação baixo em 0.5%."
      ]
    },
    {
      "cell_type": "code",
      "execution_count": 58,
      "metadata": {},
      "outputs": [
        {
          "data": {
            "text/html": [
              "<style>#sk-container-id-2 {\n",
              "  /* Definition of color scheme common for light and dark mode */\n",
              "  --sklearn-color-text: black;\n",
              "  --sklearn-color-line: gray;\n",
              "  /* Definition of color scheme for unfitted estimators */\n",
              "  --sklearn-color-unfitted-level-0: #fff5e6;\n",
              "  --sklearn-color-unfitted-level-1: #f6e4d2;\n",
              "  --sklearn-color-unfitted-level-2: #ffe0b3;\n",
              "  --sklearn-color-unfitted-level-3: chocolate;\n",
              "  /* Definition of color scheme for fitted estimators */\n",
              "  --sklearn-color-fitted-level-0: #f0f8ff;\n",
              "  --sklearn-color-fitted-level-1: #d4ebff;\n",
              "  --sklearn-color-fitted-level-2: #b3dbfd;\n",
              "  --sklearn-color-fitted-level-3: cornflowerblue;\n",
              "\n",
              "  /* Specific color for light theme */\n",
              "  --sklearn-color-text-on-default-background: var(--sg-text-color, var(--theme-code-foreground, var(--jp-content-font-color1, black)));\n",
              "  --sklearn-color-background: var(--sg-background-color, var(--theme-background, var(--jp-layout-color0, white)));\n",
              "  --sklearn-color-border-box: var(--sg-text-color, var(--theme-code-foreground, var(--jp-content-font-color1, black)));\n",
              "  --sklearn-color-icon: #696969;\n",
              "\n",
              "  @media (prefers-color-scheme: dark) {\n",
              "    /* Redefinition of color scheme for dark theme */\n",
              "    --sklearn-color-text-on-default-background: var(--sg-text-color, var(--theme-code-foreground, var(--jp-content-font-color1, white)));\n",
              "    --sklearn-color-background: var(--sg-background-color, var(--theme-background, var(--jp-layout-color0, #111)));\n",
              "    --sklearn-color-border-box: var(--sg-text-color, var(--theme-code-foreground, var(--jp-content-font-color1, white)));\n",
              "    --sklearn-color-icon: #878787;\n",
              "  }\n",
              "}\n",
              "\n",
              "#sk-container-id-2 {\n",
              "  color: var(--sklearn-color-text);\n",
              "}\n",
              "\n",
              "#sk-container-id-2 pre {\n",
              "  padding: 0;\n",
              "}\n",
              "\n",
              "#sk-container-id-2 input.sk-hidden--visually {\n",
              "  border: 0;\n",
              "  clip: rect(1px 1px 1px 1px);\n",
              "  clip: rect(1px, 1px, 1px, 1px);\n",
              "  height: 1px;\n",
              "  margin: -1px;\n",
              "  overflow: hidden;\n",
              "  padding: 0;\n",
              "  position: absolute;\n",
              "  width: 1px;\n",
              "}\n",
              "\n",
              "#sk-container-id-2 div.sk-dashed-wrapped {\n",
              "  border: 1px dashed var(--sklearn-color-line);\n",
              "  margin: 0 0.4em 0.5em 0.4em;\n",
              "  box-sizing: border-box;\n",
              "  padding-bottom: 0.4em;\n",
              "  background-color: var(--sklearn-color-background);\n",
              "}\n",
              "\n",
              "#sk-container-id-2 div.sk-container {\n",
              "  /* jupyter's `normalize.less` sets `[hidden] { display: none; }`\n",
              "     but bootstrap.min.css set `[hidden] { display: none !important; }`\n",
              "     so we also need the `!important` here to be able to override the\n",
              "     default hidden behavior on the sphinx rendered scikit-learn.org.\n",
              "     See: https://github.com/scikit-learn/scikit-learn/issues/21755 */\n",
              "  display: inline-block !important;\n",
              "  position: relative;\n",
              "}\n",
              "\n",
              "#sk-container-id-2 div.sk-text-repr-fallback {\n",
              "  display: none;\n",
              "}\n",
              "\n",
              "div.sk-parallel-item,\n",
              "div.sk-serial,\n",
              "div.sk-item {\n",
              "  /* draw centered vertical line to link estimators */\n",
              "  background-image: linear-gradient(var(--sklearn-color-text-on-default-background), var(--sklearn-color-text-on-default-background));\n",
              "  background-size: 2px 100%;\n",
              "  background-repeat: no-repeat;\n",
              "  background-position: center center;\n",
              "}\n",
              "\n",
              "/* Parallel-specific style estimator block */\n",
              "\n",
              "#sk-container-id-2 div.sk-parallel-item::after {\n",
              "  content: \"\";\n",
              "  width: 100%;\n",
              "  border-bottom: 2px solid var(--sklearn-color-text-on-default-background);\n",
              "  flex-grow: 1;\n",
              "}\n",
              "\n",
              "#sk-container-id-2 div.sk-parallel {\n",
              "  display: flex;\n",
              "  align-items: stretch;\n",
              "  justify-content: center;\n",
              "  background-color: var(--sklearn-color-background);\n",
              "  position: relative;\n",
              "}\n",
              "\n",
              "#sk-container-id-2 div.sk-parallel-item {\n",
              "  display: flex;\n",
              "  flex-direction: column;\n",
              "}\n",
              "\n",
              "#sk-container-id-2 div.sk-parallel-item:first-child::after {\n",
              "  align-self: flex-end;\n",
              "  width: 50%;\n",
              "}\n",
              "\n",
              "#sk-container-id-2 div.sk-parallel-item:last-child::after {\n",
              "  align-self: flex-start;\n",
              "  width: 50%;\n",
              "}\n",
              "\n",
              "#sk-container-id-2 div.sk-parallel-item:only-child::after {\n",
              "  width: 0;\n",
              "}\n",
              "\n",
              "/* Serial-specific style estimator block */\n",
              "\n",
              "#sk-container-id-2 div.sk-serial {\n",
              "  display: flex;\n",
              "  flex-direction: column;\n",
              "  align-items: center;\n",
              "  background-color: var(--sklearn-color-background);\n",
              "  padding-right: 1em;\n",
              "  padding-left: 1em;\n",
              "}\n",
              "\n",
              "\n",
              "/* Toggleable style: style used for estimator/Pipeline/ColumnTransformer box that is\n",
              "clickable and can be expanded/collapsed.\n",
              "- Pipeline and ColumnTransformer use this feature and define the default style\n",
              "- Estimators will overwrite some part of the style using the `sk-estimator` class\n",
              "*/\n",
              "\n",
              "/* Pipeline and ColumnTransformer style (default) */\n",
              "\n",
              "#sk-container-id-2 div.sk-toggleable {\n",
              "  /* Default theme specific background. It is overwritten whether we have a\n",
              "  specific estimator or a Pipeline/ColumnTransformer */\n",
              "  background-color: var(--sklearn-color-background);\n",
              "}\n",
              "\n",
              "/* Toggleable label */\n",
              "#sk-container-id-2 label.sk-toggleable__label {\n",
              "  cursor: pointer;\n",
              "  display: block;\n",
              "  width: 100%;\n",
              "  margin-bottom: 0;\n",
              "  padding: 0.5em;\n",
              "  box-sizing: border-box;\n",
              "  text-align: center;\n",
              "}\n",
              "\n",
              "#sk-container-id-2 label.sk-toggleable__label-arrow:before {\n",
              "  /* Arrow on the left of the label */\n",
              "  content: \"▸\";\n",
              "  float: left;\n",
              "  margin-right: 0.25em;\n",
              "  color: var(--sklearn-color-icon);\n",
              "}\n",
              "\n",
              "#sk-container-id-2 label.sk-toggleable__label-arrow:hover:before {\n",
              "  color: var(--sklearn-color-text);\n",
              "}\n",
              "\n",
              "/* Toggleable content - dropdown */\n",
              "\n",
              "#sk-container-id-2 div.sk-toggleable__content {\n",
              "  max-height: 0;\n",
              "  max-width: 0;\n",
              "  overflow: hidden;\n",
              "  text-align: left;\n",
              "  /* unfitted */\n",
              "  background-color: var(--sklearn-color-unfitted-level-0);\n",
              "}\n",
              "\n",
              "#sk-container-id-2 div.sk-toggleable__content.fitted {\n",
              "  /* fitted */\n",
              "  background-color: var(--sklearn-color-fitted-level-0);\n",
              "}\n",
              "\n",
              "#sk-container-id-2 div.sk-toggleable__content pre {\n",
              "  margin: 0.2em;\n",
              "  border-radius: 0.25em;\n",
              "  color: var(--sklearn-color-text);\n",
              "  /* unfitted */\n",
              "  background-color: var(--sklearn-color-unfitted-level-0);\n",
              "}\n",
              "\n",
              "#sk-container-id-2 div.sk-toggleable__content.fitted pre {\n",
              "  /* unfitted */\n",
              "  background-color: var(--sklearn-color-fitted-level-0);\n",
              "}\n",
              "\n",
              "#sk-container-id-2 input.sk-toggleable__control:checked~div.sk-toggleable__content {\n",
              "  /* Expand drop-down */\n",
              "  max-height: 200px;\n",
              "  max-width: 100%;\n",
              "  overflow: auto;\n",
              "}\n",
              "\n",
              "#sk-container-id-2 input.sk-toggleable__control:checked~label.sk-toggleable__label-arrow:before {\n",
              "  content: \"▾\";\n",
              "}\n",
              "\n",
              "/* Pipeline/ColumnTransformer-specific style */\n",
              "\n",
              "#sk-container-id-2 div.sk-label input.sk-toggleable__control:checked~label.sk-toggleable__label {\n",
              "  color: var(--sklearn-color-text);\n",
              "  background-color: var(--sklearn-color-unfitted-level-2);\n",
              "}\n",
              "\n",
              "#sk-container-id-2 div.sk-label.fitted input.sk-toggleable__control:checked~label.sk-toggleable__label {\n",
              "  background-color: var(--sklearn-color-fitted-level-2);\n",
              "}\n",
              "\n",
              "/* Estimator-specific style */\n",
              "\n",
              "/* Colorize estimator box */\n",
              "#sk-container-id-2 div.sk-estimator input.sk-toggleable__control:checked~label.sk-toggleable__label {\n",
              "  /* unfitted */\n",
              "  background-color: var(--sklearn-color-unfitted-level-2);\n",
              "}\n",
              "\n",
              "#sk-container-id-2 div.sk-estimator.fitted input.sk-toggleable__control:checked~label.sk-toggleable__label {\n",
              "  /* fitted */\n",
              "  background-color: var(--sklearn-color-fitted-level-2);\n",
              "}\n",
              "\n",
              "#sk-container-id-2 div.sk-label label.sk-toggleable__label,\n",
              "#sk-container-id-2 div.sk-label label {\n",
              "  /* The background is the default theme color */\n",
              "  color: var(--sklearn-color-text-on-default-background);\n",
              "}\n",
              "\n",
              "/* On hover, darken the color of the background */\n",
              "#sk-container-id-2 div.sk-label:hover label.sk-toggleable__label {\n",
              "  color: var(--sklearn-color-text);\n",
              "  background-color: var(--sklearn-color-unfitted-level-2);\n",
              "}\n",
              "\n",
              "/* Label box, darken color on hover, fitted */\n",
              "#sk-container-id-2 div.sk-label.fitted:hover label.sk-toggleable__label.fitted {\n",
              "  color: var(--sklearn-color-text);\n",
              "  background-color: var(--sklearn-color-fitted-level-2);\n",
              "}\n",
              "\n",
              "/* Estimator label */\n",
              "\n",
              "#sk-container-id-2 div.sk-label label {\n",
              "  font-family: monospace;\n",
              "  font-weight: bold;\n",
              "  display: inline-block;\n",
              "  line-height: 1.2em;\n",
              "}\n",
              "\n",
              "#sk-container-id-2 div.sk-label-container {\n",
              "  text-align: center;\n",
              "}\n",
              "\n",
              "/* Estimator-specific */\n",
              "#sk-container-id-2 div.sk-estimator {\n",
              "  font-family: monospace;\n",
              "  border: 1px dotted var(--sklearn-color-border-box);\n",
              "  border-radius: 0.25em;\n",
              "  box-sizing: border-box;\n",
              "  margin-bottom: 0.5em;\n",
              "  /* unfitted */\n",
              "  background-color: var(--sklearn-color-unfitted-level-0);\n",
              "}\n",
              "\n",
              "#sk-container-id-2 div.sk-estimator.fitted {\n",
              "  /* fitted */\n",
              "  background-color: var(--sklearn-color-fitted-level-0);\n",
              "}\n",
              "\n",
              "/* on hover */\n",
              "#sk-container-id-2 div.sk-estimator:hover {\n",
              "  /* unfitted */\n",
              "  background-color: var(--sklearn-color-unfitted-level-2);\n",
              "}\n",
              "\n",
              "#sk-container-id-2 div.sk-estimator.fitted:hover {\n",
              "  /* fitted */\n",
              "  background-color: var(--sklearn-color-fitted-level-2);\n",
              "}\n",
              "\n",
              "/* Specification for estimator info (e.g. \"i\" and \"?\") */\n",
              "\n",
              "/* Common style for \"i\" and \"?\" */\n",
              "\n",
              ".sk-estimator-doc-link,\n",
              "a:link.sk-estimator-doc-link,\n",
              "a:visited.sk-estimator-doc-link {\n",
              "  float: right;\n",
              "  font-size: smaller;\n",
              "  line-height: 1em;\n",
              "  font-family: monospace;\n",
              "  background-color: var(--sklearn-color-background);\n",
              "  border-radius: 1em;\n",
              "  height: 1em;\n",
              "  width: 1em;\n",
              "  text-decoration: none !important;\n",
              "  margin-left: 1ex;\n",
              "  /* unfitted */\n",
              "  border: var(--sklearn-color-unfitted-level-1) 1pt solid;\n",
              "  color: var(--sklearn-color-unfitted-level-1);\n",
              "}\n",
              "\n",
              ".sk-estimator-doc-link.fitted,\n",
              "a:link.sk-estimator-doc-link.fitted,\n",
              "a:visited.sk-estimator-doc-link.fitted {\n",
              "  /* fitted */\n",
              "  border: var(--sklearn-color-fitted-level-1) 1pt solid;\n",
              "  color: var(--sklearn-color-fitted-level-1);\n",
              "}\n",
              "\n",
              "/* On hover */\n",
              "div.sk-estimator:hover .sk-estimator-doc-link:hover,\n",
              ".sk-estimator-doc-link:hover,\n",
              "div.sk-label-container:hover .sk-estimator-doc-link:hover,\n",
              ".sk-estimator-doc-link:hover {\n",
              "  /* unfitted */\n",
              "  background-color: var(--sklearn-color-unfitted-level-3);\n",
              "  color: var(--sklearn-color-background);\n",
              "  text-decoration: none;\n",
              "}\n",
              "\n",
              "div.sk-estimator.fitted:hover .sk-estimator-doc-link.fitted:hover,\n",
              ".sk-estimator-doc-link.fitted:hover,\n",
              "div.sk-label-container:hover .sk-estimator-doc-link.fitted:hover,\n",
              ".sk-estimator-doc-link.fitted:hover {\n",
              "  /* fitted */\n",
              "  background-color: var(--sklearn-color-fitted-level-3);\n",
              "  color: var(--sklearn-color-background);\n",
              "  text-decoration: none;\n",
              "}\n",
              "\n",
              "/* Span, style for the box shown on hovering the info icon */\n",
              ".sk-estimator-doc-link span {\n",
              "  display: none;\n",
              "  z-index: 9999;\n",
              "  position: relative;\n",
              "  font-weight: normal;\n",
              "  right: .2ex;\n",
              "  padding: .5ex;\n",
              "  margin: .5ex;\n",
              "  width: min-content;\n",
              "  min-width: 20ex;\n",
              "  max-width: 50ex;\n",
              "  color: var(--sklearn-color-text);\n",
              "  box-shadow: 2pt 2pt 4pt #999;\n",
              "  /* unfitted */\n",
              "  background: var(--sklearn-color-unfitted-level-0);\n",
              "  border: .5pt solid var(--sklearn-color-unfitted-level-3);\n",
              "}\n",
              "\n",
              ".sk-estimator-doc-link.fitted span {\n",
              "  /* fitted */\n",
              "  background: var(--sklearn-color-fitted-level-0);\n",
              "  border: var(--sklearn-color-fitted-level-3);\n",
              "}\n",
              "\n",
              ".sk-estimator-doc-link:hover span {\n",
              "  display: block;\n",
              "}\n",
              "\n",
              "/* \"?\"-specific style due to the `<a>` HTML tag */\n",
              "\n",
              "#sk-container-id-2 a.estimator_doc_link {\n",
              "  float: right;\n",
              "  font-size: 1rem;\n",
              "  line-height: 1em;\n",
              "  font-family: monospace;\n",
              "  background-color: var(--sklearn-color-background);\n",
              "  border-radius: 1rem;\n",
              "  height: 1rem;\n",
              "  width: 1rem;\n",
              "  text-decoration: none;\n",
              "  /* unfitted */\n",
              "  color: var(--sklearn-color-unfitted-level-1);\n",
              "  border: var(--sklearn-color-unfitted-level-1) 1pt solid;\n",
              "}\n",
              "\n",
              "#sk-container-id-2 a.estimator_doc_link.fitted {\n",
              "  /* fitted */\n",
              "  border: var(--sklearn-color-fitted-level-1) 1pt solid;\n",
              "  color: var(--sklearn-color-fitted-level-1);\n",
              "}\n",
              "\n",
              "/* On hover */\n",
              "#sk-container-id-2 a.estimator_doc_link:hover {\n",
              "  /* unfitted */\n",
              "  background-color: var(--sklearn-color-unfitted-level-3);\n",
              "  color: var(--sklearn-color-background);\n",
              "  text-decoration: none;\n",
              "}\n",
              "\n",
              "#sk-container-id-2 a.estimator_doc_link.fitted:hover {\n",
              "  /* fitted */\n",
              "  background-color: var(--sklearn-color-fitted-level-3);\n",
              "}\n",
              "</style><div id=\"sk-container-id-2\" class=\"sk-top-container\"><div class=\"sk-text-repr-fallback\"><pre>EllipticEnvelope(contamination=0.005)</pre><b>In a Jupyter environment, please rerun this cell to show the HTML representation or trust the notebook. <br />On GitHub, the HTML representation is unable to render, please try loading this page with nbviewer.org.</b></div><div class=\"sk-container\" hidden><div class=\"sk-item\"><div class=\"sk-estimator fitted sk-toggleable\"><input class=\"sk-toggleable__control sk-hidden--visually\" id=\"sk-estimator-id-10\" type=\"checkbox\" checked><label for=\"sk-estimator-id-10\" class=\"sk-toggleable__label fitted sk-toggleable__label-arrow fitted\">&nbsp;&nbsp;EllipticEnvelope<a class=\"sk-estimator-doc-link fitted\" rel=\"noreferrer\" target=\"_blank\" href=\"https://scikit-learn.org/1.5/modules/generated/sklearn.covariance.EllipticEnvelope.html\">?<span>Documentation for EllipticEnvelope</span></a><span class=\"sk-estimator-doc-link fitted\">i<span>Fitted</span></span></label><div class=\"sk-toggleable__content fitted\"><pre>EllipticEnvelope(contamination=0.005)</pre></div> </div></div></div></div>"
            ],
            "text/plain": [
              "EllipticEnvelope(contamination=0.005)"
            ]
          },
          "execution_count": 58,
          "metadata": {},
          "output_type": "execute_result"
        }
      ],
      "source": [
        "from sklearn.covariance import EllipticEnvelope\n",
        "detector = EllipticEnvelope(contamination=0.005)\n",
        "detector.fit(df)"
      ]
    },
    {
      "cell_type": "code",
      "execution_count": 59,
      "metadata": {},
      "outputs": [
        {
          "name": "stdout",
          "output_type": "stream",
          "text": [
            "52 outliers detectados\n"
          ]
        }
      ],
      "source": [
        "scores = detector.predict(df)\n",
        "\n",
        "# conta quantos outliers foram detectados\n",
        "outliers = (scores == -1).sum()\n",
        "print(outliers, 'outliers detectados')"
      ]
    },
    {
      "cell_type": "code",
      "execution_count": 60,
      "metadata": {},
      "outputs": [
        {
          "name": "stderr",
          "output_type": "stream",
          "text": [
            "C:\\Users\\Thiago\\AppData\\Local\\Temp/ipykernel_19588/711857306.py:2: SettingWithCopyWarning: \n",
            "A value is trying to be set on a copy of a slice from a DataFrame.\n",
            "Try using .loc[row_indexer,col_indexer] = value instead\n",
            "\n",
            "See the caveats in the documentation: https://pandas.pydata.org/pandas-docs/stable/user_guide/indexing.html#returning-a-view-versus-a-copy\n",
            "  df['outlier'] = scores\n"
          ]
        },
        {
          "data": {
            "text/html": [
              "<div>\n",
              "<style scoped>\n",
              "    .dataframe tbody tr th:only-of-type {\n",
              "        vertical-align: middle;\n",
              "    }\n",
              "\n",
              "    .dataframe tbody tr th {\n",
              "        vertical-align: top;\n",
              "    }\n",
              "\n",
              "    .dataframe thead th {\n",
              "        text-align: right;\n",
              "    }\n",
              "</style>\n",
              "<table border=\"1\" class=\"dataframe\">\n",
              "  <thead>\n",
              "    <tr style=\"text-align: right;\">\n",
              "      <th></th>\n",
              "      <th>popularity</th>\n",
              "      <th>vote_count</th>\n",
              "      <th>vote_average</th>\n",
              "      <th>release_year_0</th>\n",
              "      <th>release_year_1</th>\n",
              "      <th>release_year_2</th>\n",
              "      <th>release_year_3</th>\n",
              "      <th>release_year_4</th>\n",
              "      <th>release_year_5</th>\n",
              "      <th>release_year_6</th>\n",
              "      <th>...</th>\n",
              "      <th>Music</th>\n",
              "      <th>Mystery</th>\n",
              "      <th>Romance</th>\n",
              "      <th>Science Fiction</th>\n",
              "      <th>TV Movie</th>\n",
              "      <th>Thriller</th>\n",
              "      <th>War</th>\n",
              "      <th>Western</th>\n",
              "      <th>vote_count_by_popularity</th>\n",
              "      <th>outlier</th>\n",
              "    </tr>\n",
              "  </thead>\n",
              "  <tbody>\n",
              "    <tr>\n",
              "      <th>27</th>\n",
              "      <td>4.503789</td>\n",
              "      <td>3833</td>\n",
              "      <td>7.6</td>\n",
              "      <td>0</td>\n",
              "      <td>0</td>\n",
              "      <td>0</td>\n",
              "      <td>0</td>\n",
              "      <td>0</td>\n",
              "      <td>0</td>\n",
              "      <td>0</td>\n",
              "      <td>...</td>\n",
              "      <td>0</td>\n",
              "      <td>0</td>\n",
              "      <td>0</td>\n",
              "      <td>0</td>\n",
              "      <td>0</td>\n",
              "      <td>0</td>\n",
              "      <td>0</td>\n",
              "      <td>0</td>\n",
              "      <td>2.929961</td>\n",
              "      <td>-1</td>\n",
              "    </tr>\n",
              "    <tr>\n",
              "      <th>28</th>\n",
              "      <td>4.062293</td>\n",
              "      <td>1559</td>\n",
              "      <td>7.8</td>\n",
              "      <td>0</td>\n",
              "      <td>0</td>\n",
              "      <td>0</td>\n",
              "      <td>0</td>\n",
              "      <td>0</td>\n",
              "      <td>0</td>\n",
              "      <td>0</td>\n",
              "      <td>...</td>\n",
              "      <td>0</td>\n",
              "      <td>0</td>\n",
              "      <td>0</td>\n",
              "      <td>0</td>\n",
              "      <td>0</td>\n",
              "      <td>1</td>\n",
              "      <td>0</td>\n",
              "      <td>0</td>\n",
              "      <td>2.584075</td>\n",
              "      <td>1</td>\n",
              "    </tr>\n",
              "    <tr>\n",
              "      <th>29</th>\n",
              "      <td>3.968891</td>\n",
              "      <td>1849</td>\n",
              "      <td>6.4</td>\n",
              "      <td>0</td>\n",
              "      <td>0</td>\n",
              "      <td>0</td>\n",
              "      <td>0</td>\n",
              "      <td>0</td>\n",
              "      <td>0</td>\n",
              "      <td>0</td>\n",
              "      <td>...</td>\n",
              "      <td>0</td>\n",
              "      <td>0</td>\n",
              "      <td>0</td>\n",
              "      <td>1</td>\n",
              "      <td>0</td>\n",
              "      <td>1</td>\n",
              "      <td>0</td>\n",
              "      <td>0</td>\n",
              "      <td>2.668268</td>\n",
              "      <td>1</td>\n",
              "    </tr>\n",
              "    <tr>\n",
              "      <th>30</th>\n",
              "      <td>3.927333</td>\n",
              "      <td>425</td>\n",
              "      <td>6.4</td>\n",
              "      <td>0</td>\n",
              "      <td>0</td>\n",
              "      <td>0</td>\n",
              "      <td>0</td>\n",
              "      <td>0</td>\n",
              "      <td>0</td>\n",
              "      <td>0</td>\n",
              "      <td>...</td>\n",
              "      <td>0</td>\n",
              "      <td>1</td>\n",
              "      <td>0</td>\n",
              "      <td>0</td>\n",
              "      <td>0</td>\n",
              "      <td>0</td>\n",
              "      <td>0</td>\n",
              "      <td>0</td>\n",
              "      <td>2.034291</td>\n",
              "      <td>1</td>\n",
              "    </tr>\n",
              "    <tr>\n",
              "      <th>31</th>\n",
              "      <td>3.899557</td>\n",
              "      <td>1990</td>\n",
              "      <td>6.6</td>\n",
              "      <td>0</td>\n",
              "      <td>0</td>\n",
              "      <td>0</td>\n",
              "      <td>0</td>\n",
              "      <td>0</td>\n",
              "      <td>0</td>\n",
              "      <td>0</td>\n",
              "      <td>...</td>\n",
              "      <td>0</td>\n",
              "      <td>0</td>\n",
              "      <td>0</td>\n",
              "      <td>1</td>\n",
              "      <td>0</td>\n",
              "      <td>0</td>\n",
              "      <td>0</td>\n",
              "      <td>0</td>\n",
              "      <td>2.707838</td>\n",
              "      <td>1</td>\n",
              "    </tr>\n",
              "  </tbody>\n",
              "</table>\n",
              "<p>5 rows × 44 columns</p>\n",
              "</div>"
            ],
            "text/plain": [
              "    popularity  vote_count  vote_average  release_year_0  release_year_1  \\\n",
              "27    4.503789        3833           7.6               0               0   \n",
              "28    4.062293        1559           7.8               0               0   \n",
              "29    3.968891        1849           6.4               0               0   \n",
              "30    3.927333         425           6.4               0               0   \n",
              "31    3.899557        1990           6.6               0               0   \n",
              "\n",
              "    release_year_2  release_year_3  release_year_4  release_year_5  \\\n",
              "27               0               0               0               0   \n",
              "28               0               0               0               0   \n",
              "29               0               0               0               0   \n",
              "30               0               0               0               0   \n",
              "31               0               0               0               0   \n",
              "\n",
              "    release_year_6  ...  Music  Mystery  Romance  Science Fiction  TV Movie  \\\n",
              "27               0  ...      0        0        0                0         0   \n",
              "28               0  ...      0        0        0                0         0   \n",
              "29               0  ...      0        0        0                1         0   \n",
              "30               0  ...      0        1        0                0         0   \n",
              "31               0  ...      0        0        0                1         0   \n",
              "\n",
              "    Thriller  War  Western  vote_count_by_popularity  outlier  \n",
              "27         0    0        0                  2.929961       -1  \n",
              "28         1    0        0                  2.584075        1  \n",
              "29         1    0        0                  2.668268        1  \n",
              "30         0    0        0                  2.034291        1  \n",
              "31         0    0        0                  2.707838        1  \n",
              "\n",
              "[5 rows x 44 columns]"
            ]
          },
          "execution_count": 60,
          "metadata": {},
          "output_type": "execute_result"
        }
      ],
      "source": [
        "# adiciona a coluna de outliers ao dataframe\n",
        "df['outlier'] = scores\n",
        "df.head()"
      ]
    },
    {
      "cell_type": "code",
      "execution_count": 61,
      "metadata": {},
      "outputs": [
        {
          "name": "stderr",
          "output_type": "stream",
          "text": [
            "C:\\Users\\Thiago\\AppData\\Local\\Temp/ipykernel_19588/4059721658.py:3: SettingWithCopyWarning: \n",
            "A value is trying to be set on a copy of a slice from a DataFrame\n",
            "\n",
            "See the caveats in the documentation: https://pandas.pydata.org/pandas-docs/stable/user_guide/indexing.html#returning-a-view-versus-a-copy\n",
            "  df.drop(columns=['outlier'], inplace=True)\n"
          ]
        },
        {
          "data": {
            "text/plain": [
              "10206"
            ]
          },
          "execution_count": 61,
          "metadata": {},
          "output_type": "execute_result"
        }
      ],
      "source": [
        "# Remove os outliers detectados\n",
        "df = df[df['outlier'] != -1]\n",
        "df.drop(columns=['outlier'], inplace=True)\n",
        "len(df)"
      ]
    },
    {
      "cell_type": "markdown",
      "metadata": {
        "id": "UjLqEQfF1cn1"
      },
      "source": [
        "### Discretização e normalização dos dados"
      ]
    },
    {
      "cell_type": "code",
      "execution_count": 62,
      "metadata": {
        "colab": {
          "base_uri": "https://localhost:8080/"
        },
        "id": "K_cklioRZfSF",
        "outputId": "0963b4e3-ce74-4043-889d-759288532823"
      },
      "outputs": [
        {
          "data": {
            "text/plain": [
              "popularity                  float64\n",
              "vote_count                    int64\n",
              "vote_average                float64\n",
              "release_year_0                int32\n",
              "release_year_1                int32\n",
              "release_year_2                int32\n",
              "release_year_3                int32\n",
              "release_year_4                int32\n",
              "release_year_5                int32\n",
              "release_year_6                int32\n",
              "release_year_7                int32\n",
              "release_year_8                int32\n",
              "release_year_9                int32\n",
              "release_year_10               int32\n",
              "release_year_11               int32\n",
              "release_year_12               int32\n",
              "release_year_13               int32\n",
              "Amazon Prime Video            int32\n",
              "Disney Plus                   int32\n",
              "Hulu                          int32\n",
              "Max                           int32\n",
              "Netflix                       int32\n",
              "Action                        int32\n",
              "Adventure                     int32\n",
              "Animation                     int32\n",
              "Comedy                        int32\n",
              "Crime                         int32\n",
              "Documentary                   int32\n",
              "Drama                         int32\n",
              "Family                        int32\n",
              "Fantasy                       int32\n",
              "Foreign                       int32\n",
              "History                       int32\n",
              "Horror                        int32\n",
              "Music                         int32\n",
              "Mystery                       int32\n",
              "Romance                       int32\n",
              "Science Fiction               int32\n",
              "TV Movie                      int32\n",
              "Thriller                      int32\n",
              "War                           int32\n",
              "Western                       int32\n",
              "vote_count_by_popularity    float64\n",
              "dtype: object"
            ]
          },
          "execution_count": 62,
          "metadata": {},
          "output_type": "execute_result"
        }
      ],
      "source": [
        "df.dtypes"
      ]
    },
    {
      "cell_type": "markdown",
      "metadata": {
        "id": "eXv1i2JoubdG"
      },
      "source": [
        "Decidimos discretizar a variável \"vote_average\" para converter seu intervalo de 0-10 para 1-5. Para isso, criaremos uma nova variável chamada \"5_star_score\", que será discretizada para se ajustar ao padrão de classificação de 1 a 5 estrelas. Por fim, normalizaremos todas as variáveis."
      ]
    },
    {
      "cell_type": "markdown",
      "metadata": {
        "id": "g1LZU6AQarjE"
      },
      "source": [
        "**Definindo a variável de votação e discretizando-a**"
      ]
    },
    {
      "cell_type": "code",
      "execution_count": 63,
      "metadata": {
        "colab": {
          "base_uri": "https://localhost:8080/",
          "height": 300
        },
        "id": "k9-1YeGSnBE8",
        "outputId": "38fa067a-c269-4775-ad49-b24944c00d8f"
      },
      "outputs": [
        {
          "data": {
            "text/html": [
              "<div>\n",
              "<style scoped>\n",
              "    .dataframe tbody tr th:only-of-type {\n",
              "        vertical-align: middle;\n",
              "    }\n",
              "\n",
              "    .dataframe tbody tr th {\n",
              "        vertical-align: top;\n",
              "    }\n",
              "\n",
              "    .dataframe thead th {\n",
              "        text-align: right;\n",
              "    }\n",
              "</style>\n",
              "<table border=\"1\" class=\"dataframe\">\n",
              "  <thead>\n",
              "    <tr style=\"text-align: right;\">\n",
              "      <th></th>\n",
              "      <th>vote_average</th>\n",
              "    </tr>\n",
              "  </thead>\n",
              "  <tbody>\n",
              "    <tr>\n",
              "      <th>count</th>\n",
              "      <td>10206.000000</td>\n",
              "    </tr>\n",
              "    <tr>\n",
              "      <th>mean</th>\n",
              "      <td>5.993896</td>\n",
              "    </tr>\n",
              "    <tr>\n",
              "      <th>std</th>\n",
              "      <td>0.850827</td>\n",
              "    </tr>\n",
              "    <tr>\n",
              "      <th>min</th>\n",
              "      <td>3.700000</td>\n",
              "    </tr>\n",
              "    <tr>\n",
              "      <th>25%</th>\n",
              "      <td>5.400000</td>\n",
              "    </tr>\n",
              "    <tr>\n",
              "      <th>50%</th>\n",
              "      <td>6.000000</td>\n",
              "    </tr>\n",
              "    <tr>\n",
              "      <th>75%</th>\n",
              "      <td>6.600000</td>\n",
              "    </tr>\n",
              "    <tr>\n",
              "      <th>max</th>\n",
              "      <td>8.300000</td>\n",
              "    </tr>\n",
              "  </tbody>\n",
              "</table>\n",
              "</div>"
            ],
            "text/plain": [
              "       vote_average\n",
              "count  10206.000000\n",
              "mean       5.993896\n",
              "std        0.850827\n",
              "min        3.700000\n",
              "25%        5.400000\n",
              "50%        6.000000\n",
              "75%        6.600000\n",
              "max        8.300000"
            ]
          },
          "execution_count": 63,
          "metadata": {},
          "output_type": "execute_result"
        }
      ],
      "source": [
        "df[['vote_average']].describe()"
      ]
    },
    {
      "cell_type": "code",
      "execution_count": 64,
      "metadata": {},
      "outputs": [
        {
          "data": {
            "text/plain": [
              "<Axes: >"
            ]
          },
          "execution_count": 64,
          "metadata": {},
          "output_type": "execute_result"
        },
        {
          "data": {
            "image/png": "[encoded data removed]",
            "text/plain": [
              "<Figure size 432x288 with 1 Axes>"
            ]
          },
          "metadata": {
            "needs_background": "light"
          },
          "output_type": "display_data"
        }
      ],
      "source": [
        "df['vote_average'].hist()"
      ]
    },
    {
      "cell_type": "code",
      "execution_count": 65,
      "metadata": {
        "colab": {
          "base_uri": "https://localhost:8080/",
          "height": 206
        },
        "id": "JE_7ymwnjU72",
        "outputId": "9abb7238-8ad9-4061-d06d-a436bd8a08bc"
      },
      "outputs": [
        {
          "name": "stderr",
          "output_type": "stream",
          "text": [
            "C:\\Users\\Thiago\\AppData\\Local\\Temp/ipykernel_19588/4255662312.py:8: SettingWithCopyWarning: \n",
            "A value is trying to be set on a copy of a slice from a DataFrame.\n",
            "Try using .loc[row_indexer,col_indexer] = value instead\n",
            "\n",
            "See the caveats in the documentation: https://pandas.pydata.org/pandas-docs/stable/user_guide/indexing.html#returning-a-view-versus-a-copy\n",
            "  df['5_star_score'] = pd.cut(df['vote_average'], bins=bin_edges, labels=bin_labels, include_lowest=True, right=False)\n"
          ]
        },
        {
          "data": {
            "text/html": [
              "<div>\n",
              "<style scoped>\n",
              "    .dataframe tbody tr th:only-of-type {\n",
              "        vertical-align: middle;\n",
              "    }\n",
              "\n",
              "    .dataframe tbody tr th {\n",
              "        vertical-align: top;\n",
              "    }\n",
              "\n",
              "    .dataframe thead th {\n",
              "        text-align: right;\n",
              "    }\n",
              "</style>\n",
              "<table border=\"1\" class=\"dataframe\">\n",
              "  <thead>\n",
              "    <tr style=\"text-align: right;\">\n",
              "      <th></th>\n",
              "      <th>vote_average</th>\n",
              "      <th>5_star_score</th>\n",
              "    </tr>\n",
              "  </thead>\n",
              "  <tbody>\n",
              "    <tr>\n",
              "      <th>28</th>\n",
              "      <td>7.8</td>\n",
              "      <td>4</td>\n",
              "    </tr>\n",
              "    <tr>\n",
              "      <th>29</th>\n",
              "      <td>6.4</td>\n",
              "      <td>4</td>\n",
              "    </tr>\n",
              "    <tr>\n",
              "      <th>30</th>\n",
              "      <td>6.4</td>\n",
              "      <td>4</td>\n",
              "    </tr>\n",
              "    <tr>\n",
              "      <th>31</th>\n",
              "      <td>6.6</td>\n",
              "      <td>4</td>\n",
              "    </tr>\n",
              "    <tr>\n",
              "      <th>32</th>\n",
              "      <td>6.8</td>\n",
              "      <td>4</td>\n",
              "    </tr>\n",
              "  </tbody>\n",
              "</table>\n",
              "</div>"
            ],
            "text/plain": [
              "    vote_average 5_star_score\n",
              "28           7.8            4\n",
              "29           6.4            4\n",
              "30           6.4            4\n",
              "31           6.6            4\n",
              "32           6.8            4"
            ]
          },
          "execution_count": 65,
          "metadata": {},
          "output_type": "execute_result"
        }
      ],
      "source": [
        "# Define os limites dos intervalos para cada categoria\n",
        "bin_edges = [0, 2, 4, 6, 8, 10]\n",
        "\n",
        "# Define os rótulos para cada categoria\n",
        "bin_labels = [1, 2, 3, 4, 5]\n",
        "\n",
        "# Discretiza a coluna 'score' com base nos limites dos intervalos e rótulos\n",
        "df['5_star_score'] = pd.cut(df['vote_average'], bins=bin_edges, labels=bin_labels, include_lowest=True, right=False)\n",
        "\n",
        "df[['vote_average', '5_star_score']].head()"
      ]
    },
    {
      "cell_type": "code",
      "execution_count": 66,
      "metadata": {},
      "outputs": [
        {
          "data": {
            "text/plain": [
              "<Axes: >"
            ]
          },
          "execution_count": 66,
          "metadata": {},
          "output_type": "execute_result"
        },
        {
          "data": {
            "image/png": "[encoded data removed]",
            "text/plain": [
              "<Figure size 432x288 with 1 Axes>"
            ]
          },
          "metadata": {
            "needs_background": "light"
          },
          "output_type": "display_data"
        }
      ],
      "source": [
        "df['5_star_score'].hist()"
      ]
    },
    {
      "cell_type": "markdown",
      "metadata": {
        "id": "cQM65U8kYbB2"
      },
      "source": [
        "**Normalização das variáveis numéricas**"
      ]
    },
    {
      "cell_type": "code",
      "execution_count": 67,
      "metadata": {
        "colab": {
          "base_uri": "https://localhost:8080/"
        },
        "id": "L2rnogStRA0h",
        "outputId": "aa905df9-d314-4602-8b41-f17d3454d465"
      },
      "outputs": [
        {
          "data": {
            "text/plain": [
              "popularity                   float64\n",
              "vote_count                     int64\n",
              "vote_average                 float64\n",
              "release_year_0                 int32\n",
              "release_year_1                 int32\n",
              "release_year_2                 int32\n",
              "release_year_3                 int32\n",
              "release_year_4                 int32\n",
              "release_year_5                 int32\n",
              "release_year_6                 int32\n",
              "release_year_7                 int32\n",
              "release_year_8                 int32\n",
              "release_year_9                 int32\n",
              "release_year_10                int32\n",
              "release_year_11                int32\n",
              "release_year_12                int32\n",
              "release_year_13                int32\n",
              "Amazon Prime Video             int32\n",
              "Disney Plus                    int32\n",
              "Hulu                           int32\n",
              "Max                            int32\n",
              "Netflix                        int32\n",
              "Action                         int32\n",
              "Adventure                      int32\n",
              "Animation                      int32\n",
              "Comedy                         int32\n",
              "Crime                          int32\n",
              "Documentary                    int32\n",
              "Drama                          int32\n",
              "Family                         int32\n",
              "Fantasy                        int32\n",
              "Foreign                        int32\n",
              "History                        int32\n",
              "Horror                         int32\n",
              "Music                          int32\n",
              "Mystery                        int32\n",
              "Romance                        int32\n",
              "Science Fiction                int32\n",
              "TV Movie                       int32\n",
              "Thriller                       int32\n",
              "War                            int32\n",
              "Western                        int32\n",
              "vote_count_by_popularity     float64\n",
              "5_star_score                category\n",
              "dtype: object"
            ]
          },
          "execution_count": 67,
          "metadata": {},
          "output_type": "execute_result"
        }
      ],
      "source": [
        "df.dtypes"
      ]
    },
    {
      "cell_type": "markdown",
      "metadata": {
        "id": "IF0SLlyvRXda"
      },
      "source": [
        "Vamos delimitar as variáveis originalmente numéricas manualmente porque após todas as etapas anteriores todas as variáveis estão definidas por um tipo numérico."
      ]
    },
    {
      "cell_type": "code",
      "execution_count": 68,
      "metadata": {
        "id": "35IXdzlAQCmm"
      },
      "outputs": [],
      "source": [
        "numerical_features = ['popularity', 'vote_average', 'vote_count']"
      ]
    },
    {
      "cell_type": "code",
      "execution_count": 69,
      "metadata": {
        "colab": {
          "base_uri": "https://localhost:8080/",
          "height": 273
        },
        "id": "drvBL-WY1f6Q",
        "outputId": "cb29350f-32ba-4a87-f19a-44a21cbbd3d2"
      },
      "outputs": [
        {
          "data": {
            "text/html": [
              "<div>\n",
              "<style scoped>\n",
              "    .dataframe tbody tr th:only-of-type {\n",
              "        vertical-align: middle;\n",
              "    }\n",
              "\n",
              "    .dataframe tbody tr th {\n",
              "        vertical-align: top;\n",
              "    }\n",
              "\n",
              "    .dataframe thead th {\n",
              "        text-align: right;\n",
              "    }\n",
              "</style>\n",
              "<table border=\"1\" class=\"dataframe\">\n",
              "  <thead>\n",
              "    <tr style=\"text-align: right;\">\n",
              "      <th></th>\n",
              "      <th>popularity</th>\n",
              "      <th>vote_average</th>\n",
              "      <th>vote_count</th>\n",
              "    </tr>\n",
              "  </thead>\n",
              "  <tbody>\n",
              "    <tr>\n",
              "      <th>28</th>\n",
              "      <td>0.894890</td>\n",
              "      <td>0.891304</td>\n",
              "      <td>0.526513</td>\n",
              "    </tr>\n",
              "    <tr>\n",
              "      <th>29</th>\n",
              "      <td>0.874147</td>\n",
              "      <td>0.586957</td>\n",
              "      <td>0.625085</td>\n",
              "    </tr>\n",
              "    <tr>\n",
              "      <th>30</th>\n",
              "      <td>0.864918</td>\n",
              "      <td>0.586957</td>\n",
              "      <td>0.141061</td>\n",
              "    </tr>\n",
              "    <tr>\n",
              "      <th>31</th>\n",
              "      <td>0.858750</td>\n",
              "      <td>0.630435</td>\n",
              "      <td>0.673012</td>\n",
              "    </tr>\n",
              "    <tr>\n",
              "      <th>32</th>\n",
              "      <td>0.853910</td>\n",
              "      <td>0.673913</td>\n",
              "      <td>0.426241</td>\n",
              "    </tr>\n",
              "    <tr>\n",
              "      <th>...</th>\n",
              "      <td>...</td>\n",
              "      <td>...</td>\n",
              "      <td>...</td>\n",
              "    </tr>\n",
              "    <tr>\n",
              "      <th>10848</th>\n",
              "      <td>0.045136</td>\n",
              "      <td>0.543478</td>\n",
              "      <td>0.000680</td>\n",
              "    </tr>\n",
              "    <tr>\n",
              "      <th>10850</th>\n",
              "      <td>0.001424</td>\n",
              "      <td>0.478261</td>\n",
              "      <td>0.000680</td>\n",
              "    </tr>\n",
              "    <tr>\n",
              "      <th>10852</th>\n",
              "      <td>0.053580</td>\n",
              "      <td>0.652174</td>\n",
              "      <td>0.001360</td>\n",
              "    </tr>\n",
              "    <tr>\n",
              "      <th>10853</th>\n",
              "      <td>0.001195</td>\n",
              "      <td>0.369565</td>\n",
              "      <td>0.002039</td>\n",
              "    </tr>\n",
              "    <tr>\n",
              "      <th>10854</th>\n",
              "      <td>0.031611</td>\n",
              "      <td>0.282609</td>\n",
              "      <td>0.000340</td>\n",
              "    </tr>\n",
              "  </tbody>\n",
              "</table>\n",
              "<p>10206 rows × 3 columns</p>\n",
              "</div>"
            ],
            "text/plain": [
              "       popularity  vote_average  vote_count\n",
              "28       0.894890      0.891304    0.526513\n",
              "29       0.874147      0.586957    0.625085\n",
              "30       0.864918      0.586957    0.141061\n",
              "31       0.858750      0.630435    0.673012\n",
              "32       0.853910      0.673913    0.426241\n",
              "...           ...           ...         ...\n",
              "10848    0.045136      0.543478    0.000680\n",
              "10850    0.001424      0.478261    0.000680\n",
              "10852    0.053580      0.652174    0.001360\n",
              "10853    0.001195      0.369565    0.002039\n",
              "10854    0.031611      0.282609    0.000340\n",
              "\n",
              "[10206 rows x 3 columns]"
            ]
          },
          "execution_count": 69,
          "metadata": {},
          "output_type": "execute_result"
        }
      ],
      "source": [
        "#Instanciando o normalizador\n",
        "scaler = MinMaxScaler()\n",
        "\n",
        "#Aplicando a normalzação usando o MinMaxScaler\n",
        "df_norm = pd.DataFrame(scaler.fit_transform(df[numerical_features]), columns=numerical_features, index=df.index)\n",
        "\n",
        "df_norm"
      ]
    },
    {
      "cell_type": "markdown",
      "metadata": {
        "id": "kPytX9euWF4B"
      },
      "source": [
        "## Análise Descritiva"
      ]
    },
    {
      "cell_type": "markdown",
      "metadata": {
        "id": "Rc0uzPOjVGwi"
      },
      "source": [
        "### Separando os dados em numéricos e categóricos"
      ]
    },
    {
      "cell_type": "code",
      "execution_count": 70,
      "metadata": {
        "colab": {
          "base_uri": "https://localhost:8080/"
        },
        "id": "VFTL0aQVVeHK",
        "outputId": "fc6adb88-2f97-443d-f6d9-b21215270929"
      },
      "outputs": [
        {
          "name": "stdout",
          "output_type": "stream",
          "text": [
            "Colunas de dados numéricos: ['popularity', 'vote_average', 'vote_count']\n",
            "Dados categóricos: 'release_year', 'streaming_services', 'genres', '5_star_score'\n"
          ]
        }
      ],
      "source": [
        "print(f'Colunas de dados numéricos: {numerical_features}')\n",
        "print(\"Dados categóricos: 'release_year', 'streaming_services', 'genres', '5_star_score'\")"
      ]
    },
    {
      "cell_type": "markdown",
      "metadata": {},
      "source": [
        "### Estatísticas univariadas"
      ]
    },
    {
      "cell_type": "code",
      "execution_count": 71,
      "metadata": {},
      "outputs": [
        {
          "data": {
            "text/html": [
              "<div>\n",
              "<style scoped>\n",
              "    .dataframe tbody tr th:only-of-type {\n",
              "        vertical-align: middle;\n",
              "    }\n",
              "\n",
              "    .dataframe tbody tr th {\n",
              "        vertical-align: top;\n",
              "    }\n",
              "\n",
              "    .dataframe thead th {\n",
              "        text-align: right;\n",
              "    }\n",
              "</style>\n",
              "<table border=\"1\" class=\"dataframe\">\n",
              "  <thead>\n",
              "    <tr style=\"text-align: right;\">\n",
              "      <th></th>\n",
              "      <th>popularity</th>\n",
              "      <th>vote_average</th>\n",
              "      <th>vote_count</th>\n",
              "    </tr>\n",
              "  </thead>\n",
              "  <tbody>\n",
              "    <tr>\n",
              "      <th>count</th>\n",
              "      <td>10206.000000</td>\n",
              "      <td>10206.000000</td>\n",
              "      <td>10206.000000</td>\n",
              "    </tr>\n",
              "    <tr>\n",
              "      <th>mean</th>\n",
              "      <td>0.587072</td>\n",
              "      <td>5.993896</td>\n",
              "      <td>169.074662</td>\n",
              "    </tr>\n",
              "    <tr>\n",
              "      <th>std</th>\n",
              "      <td>0.596881</td>\n",
              "      <td>0.850827</td>\n",
              "      <td>340.670527</td>\n",
              "    </tr>\n",
              "    <tr>\n",
              "      <th>min</th>\n",
              "      <td>0.032666</td>\n",
              "      <td>3.700000</td>\n",
              "      <td>10.000000</td>\n",
              "    </tr>\n",
              "    <tr>\n",
              "      <th>25%</th>\n",
              "      <td>0.219068</td>\n",
              "      <td>5.400000</td>\n",
              "      <td>17.000000</td>\n",
              "    </tr>\n",
              "    <tr>\n",
              "      <th>50%</th>\n",
              "      <td>0.392520</td>\n",
              "      <td>6.000000</td>\n",
              "      <td>40.000000</td>\n",
              "    </tr>\n",
              "    <tr>\n",
              "      <th>75%</th>\n",
              "      <td>0.712135</td>\n",
              "      <td>6.600000</td>\n",
              "      <td>144.000000</td>\n",
              "    </tr>\n",
              "    <tr>\n",
              "      <th>max</th>\n",
              "      <td>4.535598</td>\n",
              "      <td>8.300000</td>\n",
              "      <td>2952.000000</td>\n",
              "    </tr>\n",
              "  </tbody>\n",
              "</table>\n",
              "</div>"
            ],
            "text/plain": [
              "         popularity  vote_average    vote_count\n",
              "count  10206.000000  10206.000000  10206.000000\n",
              "mean       0.587072      5.993896    169.074662\n",
              "std        0.596881      0.850827    340.670527\n",
              "min        0.032666      3.700000     10.000000\n",
              "25%        0.219068      5.400000     17.000000\n",
              "50%        0.392520      6.000000     40.000000\n",
              "75%        0.712135      6.600000    144.000000\n",
              "max        4.535598      8.300000   2952.000000"
            ]
          },
          "execution_count": 71,
          "metadata": {},
          "output_type": "execute_result"
        }
      ],
      "source": [
        "df[numerical_features].describe()"
      ]
    },
    {
      "cell_type": "code",
      "execution_count": 72,
      "metadata": {},
      "outputs": [
        {
          "data": {
            "text/plain": [
              "popularity       0.044913\n",
              "vote_average     6.000000\n",
              "vote_count      10.000000\n",
              "Name: 0, dtype: float64"
            ]
          },
          "execution_count": 72,
          "metadata": {},
          "output_type": "execute_result"
        }
      ],
      "source": [
        "# Calcula a moda das features numéricas\n",
        "df[numerical_features].mode().iloc[0]"
      ]
    },
    {
      "cell_type": "code",
      "execution_count": 73,
      "metadata": {},
      "outputs": [
        {
          "data": {
            "text/plain": [
              "popularity           0.356267\n",
              "vote_average         0.723907\n",
              "vote_count      116056.407752\n",
              "dtype: float64"
            ]
          },
          "execution_count": 73,
          "metadata": {},
          "output_type": "execute_result"
        }
      ],
      "source": [
        "# Calcula a mediana das features numéricas\n",
        "df[numerical_features].var()"
      ]
    },
    {
      "cell_type": "code",
      "execution_count": 74,
      "metadata": {},
      "outputs": [
        {
          "data": {
            "text/plain": [
              "popularity        0.493067\n",
              "vote_average      1.200000\n",
              "vote_count      127.000000\n",
              "dtype: float64"
            ]
          },
          "execution_count": 74,
          "metadata": {},
          "output_type": "execute_result"
        }
      ],
      "source": [
        "# Intervalos interquartis para as features numéricas\n",
        "df[numerical_features].quantile(0.75) - df[numerical_features].quantile(0.25)"
      ]
    },
    {
      "cell_type": "code",
      "execution_count": 75,
      "metadata": {},
      "outputs": [
        {
          "data": {
            "image/png": "[encoded data removed]",
            "text/plain": [
              "<Figure size 1440x720 with 3 Axes>"
            ]
          },
          "metadata": {
            "needs_background": "light"
          },
          "output_type": "display_data"
        }
      ],
      "source": [
        "# box plots para cada coluna numérica\n",
        "plt.figure(figsize=(20, 10))\n",
        "for i, col in enumerate(numerical_features):\n",
        "    plt.subplot(1, 3, i+1)\n",
        "    sns.boxplot(y=df[col], color='green')\n",
        "    plt.title(f'Boxplot de {col}')\n"
      ]
    },
    {
      "cell_type": "markdown",
      "metadata": {},
      "source": [
        "### Estatísticas bivariadas"
      ]
    },
    {
      "cell_type": "markdown",
      "metadata": {},
      "source": [
        "Agora vamos analisar as correlações entre as variáveis numéricas"
      ]
    },
    {
      "cell_type": "code",
      "execution_count": 76,
      "metadata": {},
      "outputs": [
        {
          "data": {
            "text/html": [
              "<div>\n",
              "<style scoped>\n",
              "    .dataframe tbody tr th:only-of-type {\n",
              "        vertical-align: middle;\n",
              "    }\n",
              "\n",
              "    .dataframe tbody tr th {\n",
              "        vertical-align: top;\n",
              "    }\n",
              "\n",
              "    .dataframe thead th {\n",
              "        text-align: right;\n",
              "    }\n",
              "</style>\n",
              "<table border=\"1\" class=\"dataframe\">\n",
              "  <thead>\n",
              "    <tr style=\"text-align: right;\">\n",
              "      <th></th>\n",
              "      <th>popularity</th>\n",
              "      <th>vote_average</th>\n",
              "      <th>vote_count</th>\n",
              "    </tr>\n",
              "  </thead>\n",
              "  <tbody>\n",
              "    <tr>\n",
              "      <th>popularity</th>\n",
              "      <td>1.000000</td>\n",
              "      <td>0.198741</td>\n",
              "      <td>0.823638</td>\n",
              "    </tr>\n",
              "    <tr>\n",
              "      <th>vote_average</th>\n",
              "      <td>0.198741</td>\n",
              "      <td>1.000000</td>\n",
              "      <td>0.244269</td>\n",
              "    </tr>\n",
              "    <tr>\n",
              "      <th>vote_count</th>\n",
              "      <td>0.823638</td>\n",
              "      <td>0.244269</td>\n",
              "      <td>1.000000</td>\n",
              "    </tr>\n",
              "  </tbody>\n",
              "</table>\n",
              "</div>"
            ],
            "text/plain": [
              "              popularity  vote_average  vote_count\n",
              "popularity      1.000000      0.198741    0.823638\n",
              "vote_average    0.198741      1.000000    0.244269\n",
              "vote_count      0.823638      0.244269    1.000000"
            ]
          },
          "execution_count": 76,
          "metadata": {},
          "output_type": "execute_result"
        }
      ],
      "source": [
        "df[numerical_features].corr(method='pearson')"
      ]
    },
    {
      "cell_type": "markdown",
      "metadata": {},
      "source": [
        "Como já visto anteriormente, as features **vote_count** e **popularity** tem uma forte correlação. Agora faremos novamente um gráfico de dispersão para visualizar essa correlação entre essas variáveis, e comparar com a correlação entre **popularity** e **vote_average** que é baixa."
      ]
    },
    {
      "cell_type": "code",
      "execution_count": 77,
      "metadata": {},
      "outputs": [
        {
          "data": {
            "text/plain": [
              "Text(0.5, 1.0, 'Scatter Plot entre Quantidade de votos e Popularidade')"
            ]
          },
          "execution_count": 77,
          "metadata": {},
          "output_type": "execute_result"
        },
        {
          "data": {
            "image/png": "[encoded data removed]",
            "text/plain": [
              "<Figure size 720x432 with 1 Axes>"
            ]
          },
          "metadata": {
            "needs_background": "light"
          },
          "output_type": "display_data"
        }
      ],
      "source": [
        "# scatter plot entre vote_count e popularity\n",
        "df.plot.scatter(x='vote_count', y='popularity', color='green', figsize=(10, 6))\n",
        "plt.title('Scatter Plot entre Quantidade de votos e Popularidade')"
      ]
    },
    {
      "cell_type": "code",
      "execution_count": 78,
      "metadata": {},
      "outputs": [
        {
          "data": {
            "text/plain": [
              "Text(0.5, 1.0, 'Scatter Plot entre Média de votos e Popularidade')"
            ]
          },
          "execution_count": 78,
          "metadata": {},
          "output_type": "execute_result"
        },
        {
          "data": {
            "image/png": "[encoded data removed]",
            "text/plain": [
              "<Figure size 720x432 with 1 Axes>"
            ]
          },
          "metadata": {
            "needs_background": "light"
          },
          "output_type": "display_data"
        }
      ],
      "source": [
        "# scatter plot entre vote_average e popularity\n",
        "df.plot.scatter(x='vote_average', y='popularity', color='green', figsize=(10, 6))\n",
        "plt.title('Scatter Plot entre Média de votos e Popularidade')"
      ]
    },
    {
      "cell_type": "markdown",
      "metadata": {},
      "source": [
        "## Teste de Hipóteses"
      ]
    },
    {
      "cell_type": "markdown",
      "metadata": {},
      "source": [
        "Para o nosso teste de hipótese, vamos verificar se a popularidade dos filmes é influenciada pelo fato de estar disponível na Amazon Prime Video ou não. Para isso, vamos realizar um teste de hipótese de duas amostras independentes, onde a hipótese nula é que a popularidade dos filmes disponíveis na Amazon Prime Video é igual à popularidade dos filmes que não estão disponíveis na Amazon Prime Video."
      ]
    },
    {
      "cell_type": "code",
      "execution_count": 79,
      "metadata": {},
      "outputs": [
        {
          "name": "stdout",
          "output_type": "stream",
          "text": [
            "Estatísticas de Popularidade para filmes que não estão na Amazon Prime Video:\n",
            "count    8978.000000\n",
            "mean        0.600028\n",
            "std         0.610303\n",
            "min         0.032666\n",
            "25%         0.220946\n",
            "50%         0.399444\n",
            "75%         0.737258\n",
            "max         4.535598\n",
            "Name: popularity, dtype: float64\n",
            "\n",
            "Estatísticas de Popularidade para filmes que estão na Amazon Prime Video:\n",
            "count    1228.000000\n",
            "mean        0.492349\n",
            "std         0.477291\n",
            "min         0.034312\n",
            "25%         0.208358\n",
            "50%         0.351823\n",
            "75%         0.581335\n",
            "max         3.927333\n",
            "Name: popularity, dtype: float64\n"
          ]
        }
      ],
      "source": [
        "# vamos comparar a popularidade entre os filmes que estão na Amazon Prime Video e os filmes que não estão\n",
        "print('Estatísticas de Popularidade para filmes que não estão na Amazon Prime Video:')\n",
        "print(df[df['Amazon Prime Video'] == 0]['popularity'].describe())\n",
        "\n",
        "print('\\nEstatísticas de Popularidade para filmes que estão na Amazon Prime Video:')\n",
        "print(df[df['Amazon Prime Video'] == 1]['popularity'].describe())\n",
        "\n"
      ]
    },
    {
      "cell_type": "code",
      "execution_count": 80,
      "metadata": {},
      "outputs": [
        {
          "data": {
            "text/plain": [
              "([<matplotlib.axis.XTick at 0x20c11cdb850>,\n",
              "  <matplotlib.axis.XTick at 0x20c11cdb820>],\n",
              " [Text(0, 0, 'Não'), Text(1, 0, 'Sim')])"
            ]
          },
          "execution_count": 80,
          "metadata": {},
          "output_type": "execute_result"
        },
        {
          "data": {
            "image/png": "[encoded data removed]",
            "text/plain": [
              "<Figure size 720x432 with 1 Axes>"
            ]
          },
          "metadata": {
            "needs_background": "light"
          },
          "output_type": "display_data"
        }
      ],
      "source": [
        "# box plot para a popularidade\n",
        "plt.figure(figsize=(10, 6))\n",
        "sns.boxplot(x='Amazon Prime Video', y='popularity', data=df)\n",
        "plt.title('Popularidade dos Filmes na Amazon Prime Video')\n",
        "plt.xticks(ticks=[0, 1], labels=['Não', 'Sim'])"
      ]
    },
    {
      "cell_type": "markdown",
      "metadata": {},
      "source": [
        "Precisamos agora saber se os dados seguem uma distribuiçao normal ou não para saber qual método usar para testar a hipótese."
      ]
    },
    {
      "cell_type": "code",
      "execution_count": 81,
      "metadata": {},
      "outputs": [
        {
          "data": {
            "text/plain": [
              "<Axes: >"
            ]
          },
          "execution_count": 81,
          "metadata": {},
          "output_type": "execute_result"
        },
        {
          "data": {
            "image/png": "[encoded data removed]",
            "text/plain": [
              "<Figure size 432x288 with 1 Axes>"
            ]
          },
          "metadata": {
            "needs_background": "light"
          },
          "output_type": "display_data"
        }
      ],
      "source": [
        "df[df['Amazon Prime Video'] == 0]['popularity'].hist(bins=100)"
      ]
    },
    {
      "cell_type": "markdown",
      "metadata": {},
      "source": [
        "Como os dados não estão seguindo uma distribuição normal, e estamos comparando 2 grupos não pareados, iremos usar o método Mann-Whitney para realizar o nosso teste de hipótese.\n",
        "- _Hipótese nula_: as distribuições de popularidade são iguais para os filmes que estão na Amazon Prime Video.\n",
        "- Consideraremos o nível de confiança em 5%"
      ]
    },
    {
      "cell_type": "code",
      "execution_count": 82,
      "metadata": {},
      "outputs": [
        {
          "name": "stdout",
          "output_type": "stream",
          "text": [
            "Estatística de teste: 5990049.5\n",
            "p-valor: 8.160645304779653e-07\n",
            "Rejeitamos a hipótese nula\n"
          ]
        }
      ],
      "source": [
        "# teste de hipótese com Mann-Whitney\n",
        "from scipy.stats import mannwhitneyu\n",
        "\n",
        "stat, p = mannwhitneyu(df[df['Amazon Prime Video'] == 0]['popularity'], df[df['Amazon Prime Video'] == 1]['popularity'])\n",
        "print('Estatística de teste:', stat)\n",
        "print('p-valor:', p)\n",
        "\n",
        "if (p < 0.05):\n",
        "    print('Rejeitamos a hipótese nula')\n"
      ]
    },
    {
      "cell_type": "markdown",
      "metadata": {},
      "source": [
        "Como o p-value foi `8.160645304779653e-07`, menor que `0.05`, rejeitamos a hipótese nula de que as distribuições são iguais. Ou seja, os filmes que estão na Amazon Prime Video, tem uma popularidade inferior ao filmes que não estão nessa plataforma."
      ]
    }
  ],
  "metadata": {
    "colab": {
      "provenance": []
    },
    "kernelspec": {
      "display_name": "Python 3",
      "name": "python3"
    },
    "language_info": {
      "codemirror_mode": {
        "name": "ipython",
        "version": 3
      },
      "file_extension": ".py",
      "mimetype": "text/x-python",
      "name": "python",
      "nbconvert_exporter": "python",
      "pygments_lexer": "ipython3",
      "version": "3.10.0"
    }
  },
  "nbformat": 4,
  "nbformat_minor": 0
}
